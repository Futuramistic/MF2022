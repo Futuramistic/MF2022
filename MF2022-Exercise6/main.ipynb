{
 "cells": [
  {
   "cell_type": "code",
   "execution_count": 1,
   "metadata": {},
   "outputs": [],
   "source": [
    "! rm -rf ./runs/\n",
    "from dataset import SRDDataset, Dataset\n",
    "from model import BasicSRModel, BasicSRModelSkip\n",
    "from trainer import SRTrainer\n",
    "from tester import Tester\n",
    "\n",
    "import torch.utils.data\n",
    "import torch\n",
    "import torch.nn as nn\n",
    "\n",
    "import random\n",
    "from os import listdir\n",
    "from os.path import isfile, join"
   ]
  },
  {
   "cell_type": "code",
   "execution_count": 2,
   "metadata": {},
   "outputs": [
    {
     "name": "stdout",
     "output_type": "stream",
     "text": [
      "Cuda: Version 11.3; Using cuda device\n"
     ]
    }
   ],
   "source": [
    "device = 'cuda' if torch.cuda.is_available() else 'cpu'\n",
    "print(f'Cuda: Version {torch.version.cuda}; Using {device} device')"
   ]
  },
  {
   "cell_type": "code",
   "execution_count": 3,
   "metadata": {},
   "outputs": [],
   "source": [
    "#Prepare data\n",
    "train_images = [file for file in listdir(\"./train\") if isfile(join(\"./train\",file))]\n",
    "random.shuffle(train_images)\n",
    "train_split = 0.9\n",
    "\n",
    "train_paths =  train_images[:int(train_split*len(train_images))]\n",
    "valid_paths =  train_images[int(train_split*len(train_images)):]\n",
    "tests_paths = [file for file in listdir(\"./eval\") if isfile(join(\"./eval\",file))]\n",
    "\n",
    "train_dataset = SRDDataset(\"./train\", train_paths, device, type=Dataset.TRAIN)\n",
    "valid_dataset = SRDDataset(\"./train\", valid_paths, device, type=Dataset.VALID)\n",
    "tests_dataset = SRDDataset(\"./eval\",  tests_paths, 'cpu',  type=Dataset.VALID) #Run CPU\n",
    "\n",
    "train_dataloader = torch.utils.data.dataloader.DataLoader(train_dataset,batch_size=4,shuffle=True,num_workers=0,drop_last=True)\n",
    "valid_dataloader = torch.utils.data.dataloader.DataLoader(valid_dataset,batch_size=1,shuffle=False,num_workers=0)\n",
    "tests_dataloader = torch.utils.data.dataloader.DataLoader(tests_dataset,batch_size=1,shuffle=False,num_workers=0,pin_memory=True) #Run CPU"
   ]
  },
  {
   "cell_type": "code",
   "execution_count": 4,
   "metadata": {},
   "outputs": [
    {
     "name": "stderr",
     "output_type": "stream",
     "text": [
      "100%|██████████| 67/67 [00:10<00:00,  6.54it/s]\n",
      "100%|██████████| 31/31 [00:02<00:00, 10.54it/s]\n"
     ]
    },
    {
     "name": "stdout",
     "output_type": "stream",
     "text": [
      "Epoch 1/31 Training Loss: 0.218 Valid (L1): 0.094 Valid (PSNR): 18.760  Valid (SSIM): 0.565\n"
     ]
    },
    {
     "name": "stderr",
     "output_type": "stream",
     "text": [
      "100%|██████████| 67/67 [00:05<00:00, 13.15it/s]\n",
      " 58%|█████▊    | 18/31 [00:01<00:01, 10.33it/s]\n"
     ]
    },
    {
     "ename": "KeyboardInterrupt",
     "evalue": "",
     "output_type": "error",
     "traceback": [
      "\u001b[1;31m---------------------------------------------------------------------------\u001b[0m",
      "\u001b[1;31mKeyboardInterrupt\u001b[0m                         Traceback (most recent call last)",
      "\u001b[1;32m~\\AppData\\Local\\Temp/ipykernel_21664/3876738389.py\u001b[0m in \u001b[0;36m<module>\u001b[1;34m\u001b[0m\n\u001b[0;32m      1\u001b[0m \u001b[0mmodel\u001b[0m \u001b[1;33m=\u001b[0m \u001b[0mBasicSRModel\u001b[0m\u001b[1;33m(\u001b[0m\u001b[1;33m)\u001b[0m\u001b[1;33m.\u001b[0m\u001b[0mto\u001b[0m\u001b[1;33m(\u001b[0m\u001b[0mdevice\u001b[0m\u001b[1;33m)\u001b[0m\u001b[1;33m\u001b[0m\u001b[1;33m\u001b[0m\u001b[0m\n\u001b[0;32m      2\u001b[0m \u001b[0msrtrainer\u001b[0m \u001b[1;33m=\u001b[0m \u001b[0mSRTrainer\u001b[0m\u001b[1;33m(\u001b[0m\u001b[0mmodel\u001b[0m\u001b[1;33m=\u001b[0m\u001b[0mmodel\u001b[0m\u001b[1;33m,\u001b[0m\u001b[0mloss_fn\u001b[0m\u001b[1;33m=\u001b[0m\u001b[0mnn\u001b[0m\u001b[1;33m.\u001b[0m\u001b[0mL1Loss\u001b[0m\u001b[1;33m(\u001b[0m\u001b[1;33m)\u001b[0m\u001b[1;33m,\u001b[0m \u001b[0mlr\u001b[0m\u001b[1;33m=\u001b[0m\u001b[1;36m1e-4\u001b[0m\u001b[1;33m)\u001b[0m\u001b[1;33m\u001b[0m\u001b[1;33m\u001b[0m\u001b[0m\n\u001b[1;32m----> 3\u001b[1;33m \u001b[0msrtrainer\u001b[0m\u001b[1;33m.\u001b[0m\u001b[0mtrain\u001b[0m\u001b[1;33m(\u001b[0m\u001b[0mtrain_dataloader\u001b[0m\u001b[1;33m,\u001b[0m\u001b[0mvalid_dataloader\u001b[0m\u001b[1;33m,\u001b[0m\u001b[0mnum_epochs\u001b[0m\u001b[1;33m=\u001b[0m\u001b[1;36m31\u001b[0m\u001b[1;33m)\u001b[0m\u001b[1;33m\u001b[0m\u001b[1;33m\u001b[0m\u001b[0m\n\u001b[0m",
      "\u001b[1;32mc:\\Users\\werer\\Desktop\\MF2022\\MF2022-Exercise6\\trainer.py\u001b[0m in \u001b[0;36mtrain\u001b[1;34m(self, train_loader, val_loader, num_epochs, model_name)\u001b[0m\n\u001b[0;32m     39\u001b[0m                 \u001b[0mtorch\u001b[0m\u001b[1;33m.\u001b[0m\u001b[0mno_grad\u001b[0m\u001b[1;33m(\u001b[0m\u001b[1;33m)\u001b[0m\u001b[1;33m\u001b[0m\u001b[1;33m\u001b[0m\u001b[0m\n\u001b[0;32m     40\u001b[0m                 \u001b[0mhigh_res_pred\u001b[0m \u001b[1;33m=\u001b[0m \u001b[0mself\u001b[0m\u001b[1;33m.\u001b[0m\u001b[0mmodel\u001b[0m\u001b[1;33m(\u001b[0m\u001b[0mlow_res\u001b[0m\u001b[1;33m)\u001b[0m\u001b[1;33m\u001b[0m\u001b[1;33m\u001b[0m\u001b[0m\n\u001b[1;32m---> 41\u001b[1;33m                 \u001b[0mval_l1\u001b[0m \u001b[1;33m+=\u001b[0m \u001b[1;33m(\u001b[0m\u001b[0mnn\u001b[0m\u001b[1;33m.\u001b[0m\u001b[0mL1Loss\u001b[0m\u001b[1;33m(\u001b[0m\u001b[1;33m)\u001b[0m\u001b[1;33m(\u001b[0m\u001b[0mhigh_res_pred\u001b[0m\u001b[1;33m,\u001b[0m\u001b[0mhigh_res\u001b[0m\u001b[1;33m)\u001b[0m\u001b[1;33m)\u001b[0m\u001b[1;33m.\u001b[0m\u001b[0mitem\u001b[0m\u001b[1;33m(\u001b[0m\u001b[1;33m)\u001b[0m\u001b[1;33m\u001b[0m\u001b[1;33m\u001b[0m\u001b[0m\n\u001b[0m\u001b[0;32m     42\u001b[0m                 \u001b[0mval_PSNR\u001b[0m\u001b[1;33m+=\u001b[0m\u001b[1;33m(\u001b[0m\u001b[1;33m-\u001b[0m\u001b[1;36m10\u001b[0m\u001b[1;33m*\u001b[0m\u001b[0mtorch\u001b[0m\u001b[1;33m.\u001b[0m\u001b[0mlog10\u001b[0m\u001b[1;33m(\u001b[0m\u001b[1;33m(\u001b[0m\u001b[0mnn\u001b[0m\u001b[1;33m.\u001b[0m\u001b[0mMSELoss\u001b[0m\u001b[1;33m(\u001b[0m\u001b[1;33m)\u001b[0m\u001b[1;33m(\u001b[0m\u001b[0mhigh_res_pred\u001b[0m\u001b[1;33m,\u001b[0m\u001b[0mhigh_res\u001b[0m\u001b[1;33m)\u001b[0m\u001b[1;33m)\u001b[0m\u001b[1;33m)\u001b[0m\u001b[1;33m.\u001b[0m\u001b[0mitem\u001b[0m\u001b[1;33m(\u001b[0m\u001b[1;33m)\u001b[0m\u001b[1;33m)\u001b[0m\u001b[1;33m\u001b[0m\u001b[1;33m\u001b[0m\u001b[0m\n\u001b[0;32m     43\u001b[0m                 \u001b[0mval_SSIM\u001b[0m \u001b[1;33m+=\u001b[0m \u001b[0mSSIM\u001b[0m\u001b[1;33m(\u001b[0m\u001b[0mdata_range\u001b[0m\u001b[1;33m=\u001b[0m\u001b[1;36m1.0\u001b[0m\u001b[1;33m)\u001b[0m\u001b[1;33m(\u001b[0m\u001b[0mhigh_res_pred\u001b[0m\u001b[1;33m,\u001b[0m\u001b[0mhigh_res\u001b[0m\u001b[1;33m)\u001b[0m\u001b[1;33m.\u001b[0m\u001b[0mitem\u001b[0m\u001b[1;33m(\u001b[0m\u001b[1;33m)\u001b[0m\u001b[1;33m\u001b[0m\u001b[1;33m\u001b[0m\u001b[0m\n",
      "\u001b[1;31mKeyboardInterrupt\u001b[0m: "
     ]
    }
   ],
   "source": [
    "model = BasicSRModel().to(device)\n",
    "srtrainer = SRTrainer(model=model,loss_fn=nn.L1Loss(), lr=1e-4)\n",
    "srtrainer.train(train_dataloader,valid_dataloader,num_epochs=31)"
   ]
  },
  {
   "cell_type": "code",
   "execution_count": null,
   "metadata": {},
   "outputs": [],
   "source": [
    "model = BasicSRModel().to(device)\n",
    "model.load_state_dict(torch.load(\"./model/model30\"))\n",
    "model.eval()\n",
    "tester = Tester(model)\n",
    "model.to('cpu')\n",
    "tester.test(tests_dataloader)"
   ]
  },
  {
   "cell_type": "code",
   "execution_count": null,
   "metadata": {},
   "outputs": [],
   "source": [
    "model = BasicSRModelSkip().to(device)\n",
    "srtrainer = SRTrainer(model=model,loss_fn=nn.L1Loss(), lr=1e-4)\n",
    "srtrainer.train(train_dataloader,valid_dataloader,num_epochs=31,model_name=\"skip_model\")"
   ]
  },
  {
   "cell_type": "code",
   "execution_count": null,
   "metadata": {},
   "outputs": [],
   "source": [
    "model = BasicSRModelSkip().to(device)\n",
    "model.load_state_dict(torch.load(\"./model/skip_model30\"))\n",
    "model.eval()\n",
    "tester = Tester(model)\n",
    "model.to('cpu')\n",
    "tester.test(tests_dataloader,model_name=\"skip_model\")"
   ]
  }
 ],
 "metadata": {
  "interpreter": {
   "hash": "b71617f8eca5023f8e0984f242d80146587091d1823d899e7b3f0c6d197d5eae"
  },
  "kernelspec": {
   "display_name": "Python 3.9.7 ('MF2022')",
   "language": "python",
   "name": "python3"
  },
  "language_info": {
   "codemirror_mode": {
    "name": "ipython",
    "version": 3
   },
   "file_extension": ".py",
   "mimetype": "text/x-python",
   "name": "python",
   "nbconvert_exporter": "python",
   "pygments_lexer": "ipython3",
   "version": "3.9.7"
  },
  "orig_nbformat": 4
 },
 "nbformat": 4,
 "nbformat_minor": 2
}
