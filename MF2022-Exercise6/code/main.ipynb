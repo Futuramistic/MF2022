{
 "cells": [
  {
   "cell_type": "code",
   "execution_count": 1,
   "metadata": {},
   "outputs": [],
   "source": [
    "! rm -rf ./runs/\n",
    "from dataset import SRDDataset, Dataset\n",
    "from model import BasicSRModel, BasicSRModelSkip\n",
    "from trainer import SRTrainer, GANTrainer\n",
    "from tester import Tester\n",
    "from esrgan import Generator, Discriminator\n",
    "\n",
    "import torch.utils.data\n",
    "import torchvision\n",
    "import torch\n",
    "import torch.nn as nn\n",
    "\n",
    "import random\n",
    "from os import listdir\n",
    "from os.path import isfile, join"
   ]
  },
  {
   "cell_type": "code",
   "execution_count": 2,
   "metadata": {},
   "outputs": [
    {
     "name": "stdout",
     "output_type": "stream",
     "text": [
      "Cuda: Version 11.3; Using cuda device\n"
     ]
    }
   ],
   "source": [
    "device = 'cuda' if torch.cuda.is_available() else 'cpu'\n",
    "print(f'Cuda: Version {torch.version.cuda}; Using {device} device')"
   ]
  },
  {
   "cell_type": "code",
   "execution_count": 3,
   "metadata": {},
   "outputs": [],
   "source": [
    "#Prepare data\n",
    "train_images = [file for file in listdir(\"../train\") if isfile(join(\"../train\",file))]\n",
    "random.shuffle(train_images)\n",
    "train_split = 0.9\n",
    "\n",
    "train_paths =  train_images[:int(train_split*len(train_images))]\n",
    "valid_paths =  train_images[int(train_split*len(train_images)):]\n",
    "tests_paths = [file for file in listdir(\"../eval\") if isfile(join(\"../eval\",file))]\n",
    "\n",
    "train_dataset = SRDDataset(\"../train\", train_paths, device, type=Dataset.TRAIN)\n",
    "valid_dataset = SRDDataset(\"../train\", valid_paths, device, type=Dataset.VALID)\n",
    "tests_dataset = SRDDataset(\"../eval\",  tests_paths, 'cpu',  type=Dataset.VALID) #Run CPU\n",
    "\n",
    "train_dataloader = torch.utils.data.dataloader.DataLoader(train_dataset,batch_size=4,shuffle=True,num_workers=0,drop_last=True)\n",
    "valid_dataloader = torch.utils.data.dataloader.DataLoader(valid_dataset,batch_size=1,shuffle=False,num_workers=0)\n",
    "tests_dataloader = torch.utils.data.dataloader.DataLoader(tests_dataset,batch_size=1,shuffle=False,num_workers=0,pin_memory=True) #Run CPU"
   ]
  },
  {
   "cell_type": "code",
   "execution_count": 4,
   "metadata": {},
   "outputs": [
    {
     "name": "stderr",
     "output_type": "stream",
     "text": [
      "100%|██████████| 67/67 [00:06<00:00, 10.39it/s]\n",
      "100%|██████████| 31/31 [00:02<00:00, 12.13it/s]\n"
     ]
    },
    {
     "name": "stdout",
     "output_type": "stream",
     "text": [
      "Epoch 1/201 Training Loss: 0.218 Valid (L1): 0.094 Valid (PSNR): 18.392  Valid (SSIM): 0.552\n"
     ]
    },
    {
     "name": "stderr",
     "output_type": "stream",
     "text": [
      "100%|██████████| 67/67 [00:03<00:00, 21.01it/s]\n",
      "100%|██████████| 31/31 [00:02<00:00, 12.55it/s]\n"
     ]
    },
    {
     "name": "stdout",
     "output_type": "stream",
     "text": [
      "Epoch 2/201 Training Loss: 0.113 Valid (L1): 0.090 Valid (PSNR): 18.835  Valid (SSIM): 0.576\n"
     ]
    },
    {
     "name": "stderr",
     "output_type": "stream",
     "text": [
      "100%|██████████| 67/67 [00:03<00:00, 20.49it/s]\n",
      "100%|██████████| 31/31 [00:02<00:00, 12.32it/s]\n"
     ]
    },
    {
     "name": "stdout",
     "output_type": "stream",
     "text": [
      "Epoch 3/201 Training Loss: 0.105 Valid (L1): 0.096 Valid (PSNR): 18.391  Valid (SSIM): 0.582\n"
     ]
    },
    {
     "name": "stderr",
     "output_type": "stream",
     "text": [
      "100%|██████████| 67/67 [00:03<00:00, 20.34it/s]\n",
      "100%|██████████| 31/31 [00:02<00:00, 11.48it/s]\n"
     ]
    },
    {
     "name": "stdout",
     "output_type": "stream",
     "text": [
      "Epoch 4/201 Training Loss: 0.102 Valid (L1): 0.086 Valid (PSNR): 19.258  Valid (SSIM): 0.626\n"
     ]
    },
    {
     "name": "stderr",
     "output_type": "stream",
     "text": [
      "100%|██████████| 67/67 [00:03<00:00, 20.54it/s]\n",
      "100%|██████████| 31/31 [00:02<00:00, 10.93it/s]\n"
     ]
    },
    {
     "name": "stdout",
     "output_type": "stream",
     "text": [
      "Epoch 5/201 Training Loss: 0.090 Valid (L1): 0.082 Valid (PSNR): 19.521  Valid (SSIM): 0.657\n"
     ]
    },
    {
     "name": "stderr",
     "output_type": "stream",
     "text": [
      "100%|██████████| 67/67 [00:03<00:00, 20.43it/s]\n",
      "100%|██████████| 31/31 [00:02<00:00, 10.48it/s]\n"
     ]
    },
    {
     "name": "stdout",
     "output_type": "stream",
     "text": [
      "Epoch 6/201 Training Loss: 0.091 Valid (L1): 0.104 Valid (PSNR): 17.707  Valid (SSIM): 0.632\n"
     ]
    },
    {
     "name": "stderr",
     "output_type": "stream",
     "text": [
      "100%|██████████| 67/67 [00:03<00:00, 19.89it/s]\n",
      "100%|██████████| 31/31 [00:03<00:00, 10.19it/s]\n"
     ]
    },
    {
     "name": "stdout",
     "output_type": "stream",
     "text": [
      "Epoch 7/201 Training Loss: 0.091 Valid (L1): 0.076 Valid (PSNR): 20.223  Valid (SSIM): 0.688\n"
     ]
    },
    {
     "name": "stderr",
     "output_type": "stream",
     "text": [
      "100%|██████████| 67/67 [00:03<00:00, 19.40it/s]\n",
      "100%|██████████| 31/31 [00:02<00:00, 10.44it/s]\n"
     ]
    },
    {
     "name": "stdout",
     "output_type": "stream",
     "text": [
      "Epoch 8/201 Training Loss: 0.085 Valid (L1): 0.089 Valid (PSNR): 19.088  Valid (SSIM): 0.673\n"
     ]
    },
    {
     "name": "stderr",
     "output_type": "stream",
     "text": [
      "100%|██████████| 67/67 [00:03<00:00, 19.82it/s]\n",
      "100%|██████████| 31/31 [00:02<00:00, 10.43it/s]\n"
     ]
    },
    {
     "name": "stdout",
     "output_type": "stream",
     "text": [
      "Epoch 9/201 Training Loss: 0.084 Valid (L1): 0.075 Valid (PSNR): 20.483  Valid (SSIM): 0.701\n"
     ]
    },
    {
     "name": "stderr",
     "output_type": "stream",
     "text": [
      "100%|██████████| 67/67 [00:03<00:00, 19.71it/s]\n",
      "100%|██████████| 31/31 [00:03<00:00, 10.09it/s]\n"
     ]
    },
    {
     "name": "stdout",
     "output_type": "stream",
     "text": [
      "Epoch 10/201 Training Loss: 0.088 Valid (L1): 0.078 Valid (PSNR): 20.219  Valid (SSIM): 0.707\n"
     ]
    },
    {
     "name": "stderr",
     "output_type": "stream",
     "text": [
      "100%|██████████| 67/67 [00:03<00:00, 19.93it/s]\n",
      "100%|██████████| 31/31 [00:03<00:00, 10.03it/s]\n"
     ]
    },
    {
     "name": "stdout",
     "output_type": "stream",
     "text": [
      "Epoch 11/201 Training Loss: 0.076 Valid (L1): 0.080 Valid (PSNR): 19.972  Valid (SSIM): 0.713\n"
     ]
    },
    {
     "name": "stderr",
     "output_type": "stream",
     "text": [
      "100%|██████████| 67/67 [00:03<00:00, 20.38it/s]\n",
      "100%|██████████| 31/31 [00:03<00:00, 10.05it/s]\n"
     ]
    },
    {
     "name": "stdout",
     "output_type": "stream",
     "text": [
      "Epoch 12/201 Training Loss: 0.078 Valid (L1): 0.081 Valid (PSNR): 19.970  Valid (SSIM): 0.723\n"
     ]
    },
    {
     "name": "stderr",
     "output_type": "stream",
     "text": [
      "100%|██████████| 67/67 [00:03<00:00, 20.31it/s]\n",
      "100%|██████████| 31/31 [00:03<00:00, 10.18it/s]\n"
     ]
    },
    {
     "name": "stdout",
     "output_type": "stream",
     "text": [
      "Epoch 13/201 Training Loss: 0.088 Valid (L1): 0.074 Valid (PSNR): 20.488  Valid (SSIM): 0.725\n"
     ]
    },
    {
     "name": "stderr",
     "output_type": "stream",
     "text": [
      "100%|██████████| 67/67 [00:03<00:00, 20.37it/s]\n",
      "100%|██████████| 31/31 [00:02<00:00, 10.53it/s]\n"
     ]
    },
    {
     "name": "stdout",
     "output_type": "stream",
     "text": [
      "Epoch 14/201 Training Loss: 0.078 Valid (L1): 0.074 Valid (PSNR): 20.659  Valid (SSIM): 0.743\n"
     ]
    },
    {
     "name": "stderr",
     "output_type": "stream",
     "text": [
      "100%|██████████| 67/67 [00:03<00:00, 20.46it/s]\n",
      "100%|██████████| 31/31 [00:03<00:00, 10.26it/s]\n"
     ]
    },
    {
     "name": "stdout",
     "output_type": "stream",
     "text": [
      "Epoch 15/201 Training Loss: 0.075 Valid (L1): 0.073 Valid (PSNR): 20.701  Valid (SSIM): 0.751\n"
     ]
    },
    {
     "name": "stderr",
     "output_type": "stream",
     "text": [
      "100%|██████████| 67/67 [00:03<00:00, 20.31it/s]\n",
      "100%|██████████| 31/31 [00:03<00:00, 10.30it/s]\n"
     ]
    },
    {
     "name": "stdout",
     "output_type": "stream",
     "text": [
      "Epoch 16/201 Training Loss: 0.073 Valid (L1): 0.073 Valid (PSNR): 20.733  Valid (SSIM): 0.766\n"
     ]
    },
    {
     "name": "stderr",
     "output_type": "stream",
     "text": [
      "100%|██████████| 67/67 [00:03<00:00, 19.83it/s]\n",
      "100%|██████████| 31/31 [00:02<00:00, 10.75it/s]\n"
     ]
    },
    {
     "name": "stdout",
     "output_type": "stream",
     "text": [
      "Epoch 17/201 Training Loss: 0.071 Valid (L1): 0.074 Valid (PSNR): 20.348  Valid (SSIM): 0.773\n"
     ]
    },
    {
     "name": "stderr",
     "output_type": "stream",
     "text": [
      "100%|██████████| 67/67 [00:03<00:00, 20.17it/s]\n",
      "100%|██████████| 31/31 [00:02<00:00, 10.86it/s]\n"
     ]
    },
    {
     "name": "stdout",
     "output_type": "stream",
     "text": [
      "Epoch 18/201 Training Loss: 0.072 Valid (L1): 0.072 Valid (PSNR): 20.949  Valid (SSIM): 0.755\n"
     ]
    },
    {
     "name": "stderr",
     "output_type": "stream",
     "text": [
      "100%|██████████| 67/67 [00:03<00:00, 20.14it/s]\n",
      "100%|██████████| 31/31 [00:02<00:00, 10.71it/s]\n"
     ]
    },
    {
     "name": "stdout",
     "output_type": "stream",
     "text": [
      "Epoch 19/201 Training Loss: 0.077 Valid (L1): 0.092 Valid (PSNR): 18.794  Valid (SSIM): 0.767\n"
     ]
    },
    {
     "name": "stderr",
     "output_type": "stream",
     "text": [
      "100%|██████████| 67/67 [00:03<00:00, 19.50it/s]\n",
      "100%|██████████| 31/31 [00:02<00:00, 11.00it/s]\n"
     ]
    },
    {
     "name": "stdout",
     "output_type": "stream",
     "text": [
      "Epoch 20/201 Training Loss: 0.075 Valid (L1): 0.077 Valid (PSNR): 20.246  Valid (SSIM): 0.701\n"
     ]
    },
    {
     "name": "stderr",
     "output_type": "stream",
     "text": [
      "100%|██████████| 67/67 [00:03<00:00, 20.20it/s]\n",
      "100%|██████████| 31/31 [00:02<00:00, 10.75it/s]\n"
     ]
    },
    {
     "name": "stdout",
     "output_type": "stream",
     "text": [
      "Epoch 21/201 Training Loss: 0.079 Valid (L1): 0.071 Valid (PSNR): 21.029  Valid (SSIM): 0.784\n"
     ]
    },
    {
     "name": "stderr",
     "output_type": "stream",
     "text": [
      "100%|██████████| 67/67 [00:03<00:00, 20.09it/s]\n",
      "100%|██████████| 31/31 [00:02<00:00, 10.72it/s]\n"
     ]
    },
    {
     "name": "stdout",
     "output_type": "stream",
     "text": [
      "Epoch 22/201 Training Loss: 0.067 Valid (L1): 0.059 Valid (PSNR): 22.620  Valid (SSIM): 0.787\n"
     ]
    },
    {
     "name": "stderr",
     "output_type": "stream",
     "text": [
      "100%|██████████| 67/67 [00:03<00:00, 17.53it/s]\n",
      "100%|██████████| 31/31 [00:02<00:00, 11.74it/s]\n"
     ]
    },
    {
     "name": "stdout",
     "output_type": "stream",
     "text": [
      "Epoch 23/201 Training Loss: 0.067 Valid (L1): 0.057 Valid (PSNR): 22.889  Valid (SSIM): 0.792\n"
     ]
    },
    {
     "name": "stderr",
     "output_type": "stream",
     "text": [
      "100%|██████████| 67/67 [00:03<00:00, 17.41it/s]\n",
      "100%|██████████| 31/31 [00:02<00:00, 12.04it/s]\n"
     ]
    },
    {
     "name": "stdout",
     "output_type": "stream",
     "text": [
      "Epoch 24/201 Training Loss: 0.060 Valid (L1): 0.051 Valid (PSNR): 23.713  Valid (SSIM): 0.804\n"
     ]
    },
    {
     "name": "stderr",
     "output_type": "stream",
     "text": [
      "100%|██████████| 67/67 [00:03<00:00, 17.23it/s]\n",
      "100%|██████████| 31/31 [00:02<00:00, 12.25it/s]\n"
     ]
    },
    {
     "name": "stdout",
     "output_type": "stream",
     "text": [
      "Epoch 25/201 Training Loss: 0.055 Valid (L1): 0.071 Valid (PSNR): 20.827  Valid (SSIM): 0.802\n"
     ]
    },
    {
     "name": "stderr",
     "output_type": "stream",
     "text": [
      "100%|██████████| 67/67 [00:03<00:00, 17.62it/s]\n",
      "100%|██████████| 31/31 [00:02<00:00, 12.31it/s]\n"
     ]
    },
    {
     "name": "stdout",
     "output_type": "stream",
     "text": [
      "Epoch 26/201 Training Loss: 0.061 Valid (L1): 0.051 Valid (PSNR): 23.730  Valid (SSIM): 0.813\n"
     ]
    },
    {
     "name": "stderr",
     "output_type": "stream",
     "text": [
      "100%|██████████| 67/67 [00:03<00:00, 17.53it/s]\n",
      "100%|██████████| 31/31 [00:02<00:00, 12.30it/s]\n"
     ]
    },
    {
     "name": "stdout",
     "output_type": "stream",
     "text": [
      "Epoch 27/201 Training Loss: 0.054 Valid (L1): 0.047 Valid (PSNR): 24.339  Valid (SSIM): 0.812\n"
     ]
    },
    {
     "name": "stderr",
     "output_type": "stream",
     "text": [
      "100%|██████████| 67/67 [00:03<00:00, 16.96it/s]\n",
      "100%|██████████| 31/31 [00:02<00:00, 12.29it/s]\n"
     ]
    },
    {
     "name": "stdout",
     "output_type": "stream",
     "text": [
      "Epoch 28/201 Training Loss: 0.055 Valid (L1): 0.051 Valid (PSNR): 23.684  Valid (SSIM): 0.814\n"
     ]
    },
    {
     "name": "stderr",
     "output_type": "stream",
     "text": [
      "100%|██████████| 67/67 [00:03<00:00, 17.76it/s]\n",
      "100%|██████████| 31/31 [00:02<00:00, 12.29it/s]\n"
     ]
    },
    {
     "name": "stdout",
     "output_type": "stream",
     "text": [
      "Epoch 29/201 Training Loss: 0.055 Valid (L1): 0.058 Valid (PSNR): 22.507  Valid (SSIM): 0.818\n"
     ]
    },
    {
     "name": "stderr",
     "output_type": "stream",
     "text": [
      "100%|██████████| 67/67 [00:03<00:00, 17.97it/s]\n",
      "100%|██████████| 31/31 [00:02<00:00, 12.28it/s]\n"
     ]
    },
    {
     "name": "stdout",
     "output_type": "stream",
     "text": [
      "Epoch 30/201 Training Loss: 0.053 Valid (L1): 0.048 Valid (PSNR): 24.135  Valid (SSIM): 0.822\n"
     ]
    },
    {
     "name": "stderr",
     "output_type": "stream",
     "text": [
      "100%|██████████| 67/67 [00:03<00:00, 17.37it/s]\n",
      "100%|██████████| 31/31 [00:02<00:00, 12.31it/s]\n"
     ]
    },
    {
     "name": "stdout",
     "output_type": "stream",
     "text": [
      "Epoch 31/201 Training Loss: 0.058 Valid (L1): 0.059 Valid (PSNR): 22.704  Valid (SSIM): 0.814\n"
     ]
    },
    {
     "name": "stderr",
     "output_type": "stream",
     "text": [
      "100%|██████████| 67/67 [00:03<00:00, 17.32it/s]\n",
      "100%|██████████| 31/31 [00:02<00:00, 12.31it/s]\n"
     ]
    },
    {
     "name": "stdout",
     "output_type": "stream",
     "text": [
      "Epoch 32/201 Training Loss: 0.055 Valid (L1): 0.045 Valid (PSNR): 24.558  Valid (SSIM): 0.833\n"
     ]
    },
    {
     "name": "stderr",
     "output_type": "stream",
     "text": [
      "100%|██████████| 67/67 [00:03<00:00, 17.20it/s]\n",
      "100%|██████████| 31/31 [00:02<00:00, 12.28it/s]\n"
     ]
    },
    {
     "name": "stdout",
     "output_type": "stream",
     "text": [
      "Epoch 33/201 Training Loss: 0.051 Valid (L1): 0.045 Valid (PSNR): 24.768  Valid (SSIM): 0.829\n"
     ]
    },
    {
     "name": "stderr",
     "output_type": "stream",
     "text": [
      "100%|██████████| 67/67 [00:03<00:00, 17.60it/s]\n",
      "100%|██████████| 31/31 [00:02<00:00, 12.35it/s]\n"
     ]
    },
    {
     "name": "stdout",
     "output_type": "stream",
     "text": [
      "Epoch 34/201 Training Loss: 0.059 Valid (L1): 0.048 Valid (PSNR): 24.118  Valid (SSIM): 0.826\n"
     ]
    },
    {
     "name": "stderr",
     "output_type": "stream",
     "text": [
      "100%|██████████| 67/67 [00:03<00:00, 18.18it/s]\n",
      "100%|██████████| 31/31 [00:02<00:00, 12.39it/s]\n"
     ]
    },
    {
     "name": "stdout",
     "output_type": "stream",
     "text": [
      "Epoch 35/201 Training Loss: 0.055 Valid (L1): 0.052 Valid (PSNR): 24.025  Valid (SSIM): 0.814\n"
     ]
    },
    {
     "name": "stderr",
     "output_type": "stream",
     "text": [
      "100%|██████████| 67/67 [00:03<00:00, 17.62it/s]\n",
      "100%|██████████| 31/31 [00:02<00:00, 12.33it/s]\n"
     ]
    },
    {
     "name": "stdout",
     "output_type": "stream",
     "text": [
      "Epoch 36/201 Training Loss: 0.058 Valid (L1): 0.042 Valid (PSNR): 25.169  Valid (SSIM): 0.832\n"
     ]
    },
    {
     "name": "stderr",
     "output_type": "stream",
     "text": [
      "100%|██████████| 67/67 [00:03<00:00, 17.85it/s]\n",
      "100%|██████████| 31/31 [00:02<00:00, 12.34it/s]\n"
     ]
    },
    {
     "name": "stdout",
     "output_type": "stream",
     "text": [
      "Epoch 37/201 Training Loss: 0.057 Valid (L1): 0.042 Valid (PSNR): 25.194  Valid (SSIM): 0.828\n"
     ]
    },
    {
     "name": "stderr",
     "output_type": "stream",
     "text": [
      "100%|██████████| 67/67 [00:03<00:00, 17.75it/s]\n",
      "100%|██████████| 31/31 [00:02<00:00, 12.36it/s]\n"
     ]
    },
    {
     "name": "stdout",
     "output_type": "stream",
     "text": [
      "Epoch 38/201 Training Loss: 0.050 Valid (L1): 0.050 Valid (PSNR): 23.746  Valid (SSIM): 0.840\n"
     ]
    },
    {
     "name": "stderr",
     "output_type": "stream",
     "text": [
      "100%|██████████| 67/67 [00:03<00:00, 18.06it/s]\n",
      "100%|██████████| 31/31 [00:02<00:00, 12.35it/s]\n"
     ]
    },
    {
     "name": "stdout",
     "output_type": "stream",
     "text": [
      "Epoch 39/201 Training Loss: 0.053 Valid (L1): 0.039 Valid (PSNR): 25.848  Valid (SSIM): 0.840\n"
     ]
    },
    {
     "name": "stderr",
     "output_type": "stream",
     "text": [
      "100%|██████████| 67/67 [00:03<00:00, 16.90it/s]\n",
      "100%|██████████| 31/31 [00:02<00:00, 12.33it/s]\n"
     ]
    },
    {
     "name": "stdout",
     "output_type": "stream",
     "text": [
      "Epoch 40/201 Training Loss: 0.049 Valid (L1): 0.046 Valid (PSNR): 24.553  Valid (SSIM): 0.837\n"
     ]
    },
    {
     "name": "stderr",
     "output_type": "stream",
     "text": [
      "100%|██████████| 67/67 [00:03<00:00, 17.88it/s]\n",
      "100%|██████████| 31/31 [00:02<00:00, 12.34it/s]\n"
     ]
    },
    {
     "name": "stdout",
     "output_type": "stream",
     "text": [
      "Epoch 41/201 Training Loss: 0.056 Valid (L1): 0.039 Valid (PSNR): 25.835  Valid (SSIM): 0.835\n"
     ]
    },
    {
     "name": "stderr",
     "output_type": "stream",
     "text": [
      "100%|██████████| 67/67 [00:03<00:00, 18.13it/s]\n",
      "100%|██████████| 31/31 [00:02<00:00, 12.35it/s]\n"
     ]
    },
    {
     "name": "stdout",
     "output_type": "stream",
     "text": [
      "Epoch 42/201 Training Loss: 0.053 Valid (L1): 0.041 Valid (PSNR): 25.335  Valid (SSIM): 0.836\n"
     ]
    },
    {
     "name": "stderr",
     "output_type": "stream",
     "text": [
      "100%|██████████| 67/67 [00:03<00:00, 18.41it/s]\n",
      "100%|██████████| 31/31 [00:02<00:00, 12.35it/s]\n"
     ]
    },
    {
     "name": "stdout",
     "output_type": "stream",
     "text": [
      "Epoch 43/201 Training Loss: 0.050 Valid (L1): 0.038 Valid (PSNR): 25.857  Valid (SSIM): 0.843\n"
     ]
    },
    {
     "name": "stderr",
     "output_type": "stream",
     "text": [
      "100%|██████████| 67/67 [00:03<00:00, 18.26it/s]\n",
      "100%|██████████| 31/31 [00:02<00:00, 12.37it/s]\n"
     ]
    },
    {
     "name": "stdout",
     "output_type": "stream",
     "text": [
      "Epoch 44/201 Training Loss: 0.054 Valid (L1): 0.043 Valid (PSNR): 25.091  Valid (SSIM): 0.835\n"
     ]
    },
    {
     "name": "stderr",
     "output_type": "stream",
     "text": [
      "100%|██████████| 67/67 [00:03<00:00, 18.22it/s]\n",
      "100%|██████████| 31/31 [00:02<00:00, 12.40it/s]\n"
     ]
    },
    {
     "name": "stdout",
     "output_type": "stream",
     "text": [
      "Epoch 45/201 Training Loss: 0.053 Valid (L1): 0.043 Valid (PSNR): 24.948  Valid (SSIM): 0.841\n"
     ]
    },
    {
     "name": "stderr",
     "output_type": "stream",
     "text": [
      "100%|██████████| 67/67 [00:03<00:00, 18.05it/s]\n",
      "100%|██████████| 31/31 [00:02<00:00, 12.40it/s]\n"
     ]
    },
    {
     "name": "stdout",
     "output_type": "stream",
     "text": [
      "Epoch 46/201 Training Loss: 0.049 Valid (L1): 0.038 Valid (PSNR): 26.103  Valid (SSIM): 0.844\n"
     ]
    },
    {
     "name": "stderr",
     "output_type": "stream",
     "text": [
      "100%|██████████| 67/67 [00:03<00:00, 17.95it/s]\n",
      "100%|██████████| 31/31 [00:02<00:00, 12.38it/s]\n"
     ]
    },
    {
     "name": "stdout",
     "output_type": "stream",
     "text": [
      "Epoch 47/201 Training Loss: 0.053 Valid (L1): 0.041 Valid (PSNR): 25.588  Valid (SSIM): 0.847\n"
     ]
    },
    {
     "name": "stderr",
     "output_type": "stream",
     "text": [
      "100%|██████████| 67/67 [00:03<00:00, 17.80it/s]\n",
      "100%|██████████| 31/31 [00:02<00:00, 12.35it/s]\n"
     ]
    },
    {
     "name": "stdout",
     "output_type": "stream",
     "text": [
      "Epoch 48/201 Training Loss: 0.049 Valid (L1): 0.036 Valid (PSNR): 26.415  Valid (SSIM): 0.849\n"
     ]
    },
    {
     "name": "stderr",
     "output_type": "stream",
     "text": [
      "100%|██████████| 67/67 [00:03<00:00, 17.83it/s]\n",
      "100%|██████████| 31/31 [00:02<00:00, 12.36it/s]\n"
     ]
    },
    {
     "name": "stdout",
     "output_type": "stream",
     "text": [
      "Epoch 49/201 Training Loss: 0.050 Valid (L1): 0.040 Valid (PSNR): 25.491  Valid (SSIM): 0.843\n"
     ]
    },
    {
     "name": "stderr",
     "output_type": "stream",
     "text": [
      "100%|██████████| 67/67 [00:03<00:00, 17.55it/s]\n",
      "100%|██████████| 31/31 [00:02<00:00, 12.32it/s]\n"
     ]
    },
    {
     "name": "stdout",
     "output_type": "stream",
     "text": [
      "Epoch 50/201 Training Loss: 0.054 Valid (L1): 0.049 Valid (PSNR): 23.801  Valid (SSIM): 0.840\n"
     ]
    },
    {
     "name": "stderr",
     "output_type": "stream",
     "text": [
      "100%|██████████| 67/67 [00:03<00:00, 17.90it/s]\n",
      "100%|██████████| 31/31 [00:02<00:00, 12.36it/s]\n"
     ]
    },
    {
     "name": "stdout",
     "output_type": "stream",
     "text": [
      "Epoch 51/201 Training Loss: 0.049 Valid (L1): 0.040 Valid (PSNR): 25.649  Valid (SSIM): 0.825\n"
     ]
    },
    {
     "name": "stderr",
     "output_type": "stream",
     "text": [
      "100%|██████████| 67/67 [00:03<00:00, 17.70it/s]\n",
      "100%|██████████| 31/31 [00:02<00:00, 12.36it/s]\n"
     ]
    },
    {
     "name": "stdout",
     "output_type": "stream",
     "text": [
      "Epoch 52/201 Training Loss: 0.052 Valid (L1): 0.043 Valid (PSNR): 24.855  Valid (SSIM): 0.818\n"
     ]
    },
    {
     "name": "stderr",
     "output_type": "stream",
     "text": [
      "100%|██████████| 67/67 [00:03<00:00, 17.72it/s]\n",
      "100%|██████████| 31/31 [00:02<00:00, 12.38it/s]\n"
     ]
    },
    {
     "name": "stdout",
     "output_type": "stream",
     "text": [
      "Epoch 53/201 Training Loss: 0.052 Valid (L1): 0.038 Valid (PSNR): 26.015  Valid (SSIM): 0.842\n"
     ]
    },
    {
     "name": "stderr",
     "output_type": "stream",
     "text": [
      "100%|██████████| 67/67 [00:03<00:00, 17.64it/s]\n",
      "100%|██████████| 31/31 [00:02<00:00, 12.40it/s]\n"
     ]
    },
    {
     "name": "stdout",
     "output_type": "stream",
     "text": [
      "Epoch 54/201 Training Loss: 0.047 Valid (L1): 0.040 Valid (PSNR): 25.551  Valid (SSIM): 0.827\n"
     ]
    },
    {
     "name": "stderr",
     "output_type": "stream",
     "text": [
      "100%|██████████| 67/67 [00:03<00:00, 18.18it/s]\n",
      "100%|██████████| 31/31 [00:02<00:00, 12.38it/s]\n"
     ]
    },
    {
     "name": "stdout",
     "output_type": "stream",
     "text": [
      "Epoch 55/201 Training Loss: 0.050 Valid (L1): 0.040 Valid (PSNR): 25.525  Valid (SSIM): 0.846\n"
     ]
    },
    {
     "name": "stderr",
     "output_type": "stream",
     "text": [
      "100%|██████████| 67/67 [00:03<00:00, 17.14it/s]\n",
      "100%|██████████| 31/31 [00:02<00:00, 12.38it/s]\n"
     ]
    },
    {
     "name": "stdout",
     "output_type": "stream",
     "text": [
      "Epoch 56/201 Training Loss: 0.050 Valid (L1): 0.041 Valid (PSNR): 25.411  Valid (SSIM): 0.847\n"
     ]
    },
    {
     "name": "stderr",
     "output_type": "stream",
     "text": [
      "100%|██████████| 67/67 [00:03<00:00, 18.20it/s]\n",
      "100%|██████████| 31/31 [00:02<00:00, 12.44it/s]\n"
     ]
    },
    {
     "name": "stdout",
     "output_type": "stream",
     "text": [
      "Epoch 57/201 Training Loss: 0.050 Valid (L1): 0.049 Valid (PSNR): 23.900  Valid (SSIM): 0.851\n"
     ]
    },
    {
     "name": "stderr",
     "output_type": "stream",
     "text": [
      "100%|██████████| 67/67 [00:03<00:00, 18.00it/s]\n",
      "100%|██████████| 31/31 [00:02<00:00, 12.41it/s]\n"
     ]
    },
    {
     "name": "stdout",
     "output_type": "stream",
     "text": [
      "Epoch 58/201 Training Loss: 0.055 Valid (L1): 0.044 Valid (PSNR): 24.796  Valid (SSIM): 0.844\n"
     ]
    },
    {
     "name": "stderr",
     "output_type": "stream",
     "text": [
      "100%|██████████| 67/67 [00:03<00:00, 18.54it/s]\n",
      "100%|██████████| 31/31 [00:02<00:00, 12.38it/s]\n"
     ]
    },
    {
     "name": "stdout",
     "output_type": "stream",
     "text": [
      "Epoch 59/201 Training Loss: 0.049 Valid (L1): 0.040 Valid (PSNR): 25.606  Valid (SSIM): 0.852\n"
     ]
    },
    {
     "name": "stderr",
     "output_type": "stream",
     "text": [
      "100%|██████████| 67/67 [00:03<00:00, 18.24it/s]\n",
      "100%|██████████| 31/31 [00:02<00:00, 12.39it/s]\n"
     ]
    },
    {
     "name": "stdout",
     "output_type": "stream",
     "text": [
      "Epoch 60/201 Training Loss: 0.048 Valid (L1): 0.038 Valid (PSNR): 25.970  Valid (SSIM): 0.850\n"
     ]
    },
    {
     "name": "stderr",
     "output_type": "stream",
     "text": [
      "100%|██████████| 67/67 [00:03<00:00, 18.27it/s]\n",
      "100%|██████████| 31/31 [00:02<00:00, 12.37it/s]\n"
     ]
    },
    {
     "name": "stdout",
     "output_type": "stream",
     "text": [
      "Epoch 61/201 Training Loss: 0.049 Valid (L1): 0.038 Valid (PSNR): 25.897  Valid (SSIM): 0.850\n"
     ]
    },
    {
     "name": "stderr",
     "output_type": "stream",
     "text": [
      "100%|██████████| 67/67 [00:03<00:00, 18.12it/s]\n",
      "100%|██████████| 31/31 [00:02<00:00, 12.38it/s]\n"
     ]
    },
    {
     "name": "stdout",
     "output_type": "stream",
     "text": [
      "Epoch 62/201 Training Loss: 0.046 Valid (L1): 0.039 Valid (PSNR): 25.701  Valid (SSIM): 0.851\n"
     ]
    },
    {
     "name": "stderr",
     "output_type": "stream",
     "text": [
      "100%|██████████| 67/67 [00:03<00:00, 17.92it/s]\n",
      "100%|██████████| 31/31 [00:02<00:00, 12.35it/s]\n"
     ]
    },
    {
     "name": "stdout",
     "output_type": "stream",
     "text": [
      "Epoch 63/201 Training Loss: 0.047 Valid (L1): 0.036 Valid (PSNR): 26.364  Valid (SSIM): 0.853\n"
     ]
    },
    {
     "name": "stderr",
     "output_type": "stream",
     "text": [
      "100%|██████████| 67/67 [00:03<00:00, 17.87it/s]\n",
      "100%|██████████| 31/31 [00:02<00:00, 12.39it/s]\n"
     ]
    },
    {
     "name": "stdout",
     "output_type": "stream",
     "text": [
      "Epoch 64/201 Training Loss: 0.050 Valid (L1): 0.037 Valid (PSNR): 26.173  Valid (SSIM): 0.852\n"
     ]
    },
    {
     "name": "stderr",
     "output_type": "stream",
     "text": [
      "100%|██████████| 67/67 [00:03<00:00, 17.93it/s]\n",
      "100%|██████████| 31/31 [00:02<00:00, 12.37it/s]\n"
     ]
    },
    {
     "name": "stdout",
     "output_type": "stream",
     "text": [
      "Epoch 65/201 Training Loss: 0.051 Valid (L1): 0.056 Valid (PSNR): 23.035  Valid (SSIM): 0.839\n"
     ]
    },
    {
     "name": "stderr",
     "output_type": "stream",
     "text": [
      "100%|██████████| 67/67 [00:03<00:00, 18.11it/s]\n",
      "100%|██████████| 31/31 [00:02<00:00, 12.35it/s]\n"
     ]
    },
    {
     "name": "stdout",
     "output_type": "stream",
     "text": [
      "Epoch 66/201 Training Loss: 0.048 Valid (L1): 0.043 Valid (PSNR): 24.901  Valid (SSIM): 0.849\n"
     ]
    },
    {
     "name": "stderr",
     "output_type": "stream",
     "text": [
      "100%|██████████| 67/67 [00:03<00:00, 18.04it/s]\n",
      "100%|██████████| 31/31 [00:02<00:00, 12.38it/s]\n"
     ]
    },
    {
     "name": "stdout",
     "output_type": "stream",
     "text": [
      "Epoch 67/201 Training Loss: 0.051 Valid (L1): 0.049 Valid (PSNR): 24.165  Valid (SSIM): 0.848\n"
     ]
    },
    {
     "name": "stderr",
     "output_type": "stream",
     "text": [
      "100%|██████████| 67/67 [00:03<00:00, 18.22it/s]\n",
      "100%|██████████| 31/31 [00:02<00:00, 12.36it/s]\n"
     ]
    },
    {
     "name": "stdout",
     "output_type": "stream",
     "text": [
      "Epoch 68/201 Training Loss: 0.050 Valid (L1): 0.043 Valid (PSNR): 25.115  Valid (SSIM): 0.850\n"
     ]
    },
    {
     "name": "stderr",
     "output_type": "stream",
     "text": [
      "100%|██████████| 67/67 [00:03<00:00, 18.20it/s]\n",
      "100%|██████████| 31/31 [00:02<00:00, 12.35it/s]\n"
     ]
    },
    {
     "name": "stdout",
     "output_type": "stream",
     "text": [
      "Epoch 69/201 Training Loss: 0.051 Valid (L1): 0.043 Valid (PSNR): 25.068  Valid (SSIM): 0.851\n"
     ]
    },
    {
     "name": "stderr",
     "output_type": "stream",
     "text": [
      "100%|██████████| 67/67 [00:03<00:00, 18.08it/s]\n",
      "100%|██████████| 31/31 [00:02<00:00, 12.41it/s]\n"
     ]
    },
    {
     "name": "stdout",
     "output_type": "stream",
     "text": [
      "Epoch 70/201 Training Loss: 0.050 Valid (L1): 0.041 Valid (PSNR): 25.490  Valid (SSIM): 0.843\n"
     ]
    },
    {
     "name": "stderr",
     "output_type": "stream",
     "text": [
      "100%|██████████| 67/67 [00:03<00:00, 18.65it/s]\n",
      "100%|██████████| 31/31 [00:02<00:00, 12.38it/s]\n"
     ]
    },
    {
     "name": "stdout",
     "output_type": "stream",
     "text": [
      "Epoch 71/201 Training Loss: 0.050 Valid (L1): 0.036 Valid (PSNR): 26.517  Valid (SSIM): 0.855\n"
     ]
    },
    {
     "name": "stderr",
     "output_type": "stream",
     "text": [
      "100%|██████████| 67/67 [00:03<00:00, 18.02it/s]\n",
      "100%|██████████| 31/31 [00:02<00:00, 12.37it/s]\n"
     ]
    },
    {
     "name": "stdout",
     "output_type": "stream",
     "text": [
      "Epoch 72/201 Training Loss: 0.047 Valid (L1): 0.036 Valid (PSNR): 26.486  Valid (SSIM): 0.851\n"
     ]
    },
    {
     "name": "stderr",
     "output_type": "stream",
     "text": [
      "100%|██████████| 67/67 [00:03<00:00, 18.43it/s]\n",
      "100%|██████████| 31/31 [00:02<00:00, 12.39it/s]\n"
     ]
    },
    {
     "name": "stdout",
     "output_type": "stream",
     "text": [
      "Epoch 73/201 Training Loss: 0.050 Valid (L1): 0.041 Valid (PSNR): 25.431  Valid (SSIM): 0.843\n"
     ]
    },
    {
     "name": "stderr",
     "output_type": "stream",
     "text": [
      "100%|██████████| 67/67 [00:03<00:00, 18.24it/s]\n",
      "100%|██████████| 31/31 [00:02<00:00, 12.37it/s]\n"
     ]
    },
    {
     "name": "stdout",
     "output_type": "stream",
     "text": [
      "Epoch 74/201 Training Loss: 0.047 Valid (L1): 0.036 Valid (PSNR): 26.535  Valid (SSIM): 0.855\n"
     ]
    },
    {
     "name": "stderr",
     "output_type": "stream",
     "text": [
      "100%|██████████| 67/67 [00:03<00:00, 18.44it/s]\n",
      "100%|██████████| 31/31 [00:02<00:00, 12.38it/s]\n"
     ]
    },
    {
     "name": "stdout",
     "output_type": "stream",
     "text": [
      "Epoch 75/201 Training Loss: 0.051 Valid (L1): 0.039 Valid (PSNR): 26.004  Valid (SSIM): 0.837\n"
     ]
    },
    {
     "name": "stderr",
     "output_type": "stream",
     "text": [
      "100%|██████████| 67/67 [00:03<00:00, 18.19it/s]\n",
      "100%|██████████| 31/31 [00:02<00:00, 12.38it/s]\n"
     ]
    },
    {
     "name": "stdout",
     "output_type": "stream",
     "text": [
      "Epoch 76/201 Training Loss: 0.052 Valid (L1): 0.052 Valid (PSNR): 23.730  Valid (SSIM): 0.850\n"
     ]
    },
    {
     "name": "stderr",
     "output_type": "stream",
     "text": [
      "100%|██████████| 67/67 [00:03<00:00, 18.13it/s]\n",
      "100%|██████████| 31/31 [00:02<00:00, 12.39it/s]\n"
     ]
    },
    {
     "name": "stdout",
     "output_type": "stream",
     "text": [
      "Epoch 77/201 Training Loss: 0.050 Valid (L1): 0.038 Valid (PSNR): 26.228  Valid (SSIM): 0.851\n"
     ]
    },
    {
     "name": "stderr",
     "output_type": "stream",
     "text": [
      "100%|██████████| 67/67 [00:03<00:00, 17.62it/s]\n",
      "100%|██████████| 31/31 [00:02<00:00, 12.36it/s]\n"
     ]
    },
    {
     "name": "stdout",
     "output_type": "stream",
     "text": [
      "Epoch 78/201 Training Loss: 0.054 Valid (L1): 0.036 Valid (PSNR): 26.624  Valid (SSIM): 0.853\n"
     ]
    },
    {
     "name": "stderr",
     "output_type": "stream",
     "text": [
      "100%|██████████| 67/67 [00:03<00:00, 17.98it/s]\n",
      "100%|██████████| 31/31 [00:02<00:00, 12.36it/s]\n"
     ]
    },
    {
     "name": "stdout",
     "output_type": "stream",
     "text": [
      "Epoch 79/201 Training Loss: 0.051 Valid (L1): 0.042 Valid (PSNR): 24.996  Valid (SSIM): 0.849\n"
     ]
    },
    {
     "name": "stderr",
     "output_type": "stream",
     "text": [
      "100%|██████████| 67/67 [00:03<00:00, 17.68it/s]\n",
      "100%|██████████| 31/31 [00:02<00:00, 12.36it/s]\n"
     ]
    },
    {
     "name": "stdout",
     "output_type": "stream",
     "text": [
      "Epoch 80/201 Training Loss: 0.055 Valid (L1): 0.050 Valid (PSNR): 23.788  Valid (SSIM): 0.842\n"
     ]
    },
    {
     "name": "stderr",
     "output_type": "stream",
     "text": [
      "100%|██████████| 67/67 [00:03<00:00, 18.15it/s]\n",
      "100%|██████████| 31/31 [00:02<00:00, 12.38it/s]\n"
     ]
    },
    {
     "name": "stdout",
     "output_type": "stream",
     "text": [
      "Epoch 81/201 Training Loss: 0.049 Valid (L1): 0.039 Valid (PSNR): 25.942  Valid (SSIM): 0.845\n"
     ]
    },
    {
     "name": "stderr",
     "output_type": "stream",
     "text": [
      "100%|██████████| 67/67 [00:03<00:00, 17.63it/s]\n",
      "100%|██████████| 31/31 [00:02<00:00, 12.44it/s]\n"
     ]
    },
    {
     "name": "stdout",
     "output_type": "stream",
     "text": [
      "Epoch 82/201 Training Loss: 0.046 Valid (L1): 0.037 Valid (PSNR): 26.014  Valid (SSIM): 0.852\n"
     ]
    },
    {
     "name": "stderr",
     "output_type": "stream",
     "text": [
      "100%|██████████| 67/67 [00:03<00:00, 18.25it/s]\n",
      "100%|██████████| 31/31 [00:02<00:00, 12.42it/s]\n"
     ]
    },
    {
     "name": "stdout",
     "output_type": "stream",
     "text": [
      "Epoch 83/201 Training Loss: 0.048 Valid (L1): 0.036 Valid (PSNR): 26.532  Valid (SSIM): 0.855\n"
     ]
    },
    {
     "name": "stderr",
     "output_type": "stream",
     "text": [
      "100%|██████████| 67/67 [00:03<00:00, 18.41it/s]\n",
      "100%|██████████| 31/31 [00:02<00:00, 12.40it/s]\n"
     ]
    },
    {
     "name": "stdout",
     "output_type": "stream",
     "text": [
      "Epoch 84/201 Training Loss: 0.046 Valid (L1): 0.035 Valid (PSNR): 26.686  Valid (SSIM): 0.858\n"
     ]
    },
    {
     "name": "stderr",
     "output_type": "stream",
     "text": [
      "100%|██████████| 67/67 [00:03<00:00, 18.68it/s]\n",
      "100%|██████████| 31/31 [00:02<00:00, 12.44it/s]\n"
     ]
    },
    {
     "name": "stdout",
     "output_type": "stream",
     "text": [
      "Epoch 85/201 Training Loss: 0.046 Valid (L1): 0.040 Valid (PSNR): 25.340  Valid (SSIM): 0.854\n"
     ]
    },
    {
     "name": "stderr",
     "output_type": "stream",
     "text": [
      "100%|██████████| 67/67 [00:03<00:00, 18.46it/s]\n",
      "100%|██████████| 31/31 [00:02<00:00, 12.41it/s]\n"
     ]
    },
    {
     "name": "stdout",
     "output_type": "stream",
     "text": [
      "Epoch 86/201 Training Loss: 0.050 Valid (L1): 0.038 Valid (PSNR): 25.900  Valid (SSIM): 0.857\n"
     ]
    },
    {
     "name": "stderr",
     "output_type": "stream",
     "text": [
      "100%|██████████| 67/67 [00:03<00:00, 18.79it/s]\n",
      "100%|██████████| 31/31 [00:02<00:00, 12.40it/s]\n"
     ]
    },
    {
     "name": "stdout",
     "output_type": "stream",
     "text": [
      "Epoch 87/201 Training Loss: 0.058 Valid (L1): 0.042 Valid (PSNR): 25.193  Valid (SSIM): 0.847\n"
     ]
    },
    {
     "name": "stderr",
     "output_type": "stream",
     "text": [
      "100%|██████████| 67/67 [00:03<00:00, 18.35it/s]\n",
      "100%|██████████| 31/31 [00:02<00:00, 12.42it/s]\n"
     ]
    },
    {
     "name": "stdout",
     "output_type": "stream",
     "text": [
      "Epoch 88/201 Training Loss: 0.046 Valid (L1): 0.036 Valid (PSNR): 26.512  Valid (SSIM): 0.856\n"
     ]
    },
    {
     "name": "stderr",
     "output_type": "stream",
     "text": [
      "100%|██████████| 67/67 [00:03<00:00, 18.25it/s]\n",
      "100%|██████████| 31/31 [00:02<00:00, 12.38it/s]\n"
     ]
    },
    {
     "name": "stdout",
     "output_type": "stream",
     "text": [
      "Epoch 89/201 Training Loss: 0.054 Valid (L1): 0.064 Valid (PSNR): 22.067  Valid (SSIM): 0.833\n"
     ]
    },
    {
     "name": "stderr",
     "output_type": "stream",
     "text": [
      "100%|██████████| 67/67 [00:03<00:00, 17.48it/s]\n",
      "100%|██████████| 31/31 [00:02<00:00, 12.39it/s]\n"
     ]
    },
    {
     "name": "stdout",
     "output_type": "stream",
     "text": [
      "Epoch 90/201 Training Loss: 0.052 Valid (L1): 0.038 Valid (PSNR): 26.145  Valid (SSIM): 0.852\n"
     ]
    },
    {
     "name": "stderr",
     "output_type": "stream",
     "text": [
      "100%|██████████| 67/67 [00:03<00:00, 17.69it/s]\n",
      "100%|██████████| 31/31 [00:02<00:00, 12.38it/s]\n"
     ]
    },
    {
     "name": "stdout",
     "output_type": "stream",
     "text": [
      "Epoch 91/201 Training Loss: 0.045 Valid (L1): 0.037 Valid (PSNR): 26.322  Valid (SSIM): 0.852\n"
     ]
    },
    {
     "name": "stderr",
     "output_type": "stream",
     "text": [
      "100%|██████████| 67/67 [00:03<00:00, 18.08it/s]\n",
      "100%|██████████| 31/31 [00:02<00:00, 12.36it/s]\n"
     ]
    },
    {
     "name": "stdout",
     "output_type": "stream",
     "text": [
      "Epoch 92/201 Training Loss: 0.044 Valid (L1): 0.035 Valid (PSNR): 26.483  Valid (SSIM): 0.857\n"
     ]
    },
    {
     "name": "stderr",
     "output_type": "stream",
     "text": [
      "100%|██████████| 67/67 [00:03<00:00, 18.28it/s]\n",
      "100%|██████████| 31/31 [00:02<00:00, 12.37it/s]\n"
     ]
    },
    {
     "name": "stdout",
     "output_type": "stream",
     "text": [
      "Epoch 93/201 Training Loss: 0.047 Valid (L1): 0.037 Valid (PSNR): 26.325  Valid (SSIM): 0.860\n"
     ]
    },
    {
     "name": "stderr",
     "output_type": "stream",
     "text": [
      "100%|██████████| 67/67 [00:03<00:00, 18.34it/s]\n",
      "100%|██████████| 31/31 [00:02<00:00, 12.40it/s]\n"
     ]
    },
    {
     "name": "stdout",
     "output_type": "stream",
     "text": [
      "Epoch 94/201 Training Loss: 0.046 Valid (L1): 0.037 Valid (PSNR): 26.134  Valid (SSIM): 0.856\n"
     ]
    },
    {
     "name": "stderr",
     "output_type": "stream",
     "text": [
      "100%|██████████| 67/67 [00:03<00:00, 18.04it/s]\n",
      "100%|██████████| 31/31 [00:02<00:00, 12.34it/s]\n"
     ]
    },
    {
     "name": "stdout",
     "output_type": "stream",
     "text": [
      "Epoch 95/201 Training Loss: 0.053 Valid (L1): 0.050 Valid (PSNR): 24.080  Valid (SSIM): 0.849\n"
     ]
    },
    {
     "name": "stderr",
     "output_type": "stream",
     "text": [
      "100%|██████████| 67/67 [00:03<00:00, 17.78it/s]\n",
      "100%|██████████| 31/31 [00:02<00:00, 12.35it/s]\n"
     ]
    },
    {
     "name": "stdout",
     "output_type": "stream",
     "text": [
      "Epoch 96/201 Training Loss: 0.051 Valid (L1): 0.037 Valid (PSNR): 26.126  Valid (SSIM): 0.857\n"
     ]
    },
    {
     "name": "stderr",
     "output_type": "stream",
     "text": [
      "100%|██████████| 67/67 [00:03<00:00, 17.94it/s]\n",
      "100%|██████████| 31/31 [00:02<00:00, 12.41it/s]\n"
     ]
    },
    {
     "name": "stdout",
     "output_type": "stream",
     "text": [
      "Epoch 97/201 Training Loss: 0.050 Valid (L1): 0.039 Valid (PSNR): 25.718  Valid (SSIM): 0.854\n"
     ]
    },
    {
     "name": "stderr",
     "output_type": "stream",
     "text": [
      "100%|██████████| 67/67 [00:03<00:00, 18.53it/s]\n",
      "100%|██████████| 31/31 [00:02<00:00, 12.39it/s]\n"
     ]
    },
    {
     "name": "stdout",
     "output_type": "stream",
     "text": [
      "Epoch 98/201 Training Loss: 0.047 Valid (L1): 0.037 Valid (PSNR): 26.150  Valid (SSIM): 0.854\n"
     ]
    },
    {
     "name": "stderr",
     "output_type": "stream",
     "text": [
      "100%|██████████| 67/67 [00:03<00:00, 18.24it/s]\n",
      "100%|██████████| 31/31 [00:02<00:00, 12.42it/s]\n"
     ]
    },
    {
     "name": "stdout",
     "output_type": "stream",
     "text": [
      "Epoch 99/201 Training Loss: 0.049 Valid (L1): 0.038 Valid (PSNR): 26.199  Valid (SSIM): 0.847\n"
     ]
    },
    {
     "name": "stderr",
     "output_type": "stream",
     "text": [
      "100%|██████████| 67/67 [00:03<00:00, 18.47it/s]\n",
      "100%|██████████| 31/31 [00:02<00:00, 12.43it/s]\n"
     ]
    },
    {
     "name": "stdout",
     "output_type": "stream",
     "text": [
      "Epoch 100/201 Training Loss: 0.048 Valid (L1): 0.036 Valid (PSNR): 26.427  Valid (SSIM): 0.856\n"
     ]
    },
    {
     "name": "stderr",
     "output_type": "stream",
     "text": [
      "100%|██████████| 67/67 [00:03<00:00, 18.16it/s]\n",
      "100%|██████████| 31/31 [00:02<00:00, 12.39it/s]\n"
     ]
    },
    {
     "name": "stdout",
     "output_type": "stream",
     "text": [
      "Epoch 101/201 Training Loss: 0.050 Valid (L1): 0.039 Valid (PSNR): 25.663  Valid (SSIM): 0.850\n"
     ]
    },
    {
     "name": "stderr",
     "output_type": "stream",
     "text": [
      "100%|██████████| 67/67 [00:03<00:00, 18.33it/s]\n",
      "100%|██████████| 31/31 [00:02<00:00, 12.40it/s]\n"
     ]
    },
    {
     "name": "stdout",
     "output_type": "stream",
     "text": [
      "Epoch 102/201 Training Loss: 0.047 Valid (L1): 0.038 Valid (PSNR): 26.099  Valid (SSIM): 0.853\n"
     ]
    },
    {
     "name": "stderr",
     "output_type": "stream",
     "text": [
      "100%|██████████| 67/67 [00:03<00:00, 18.06it/s]\n",
      "100%|██████████| 31/31 [00:02<00:00, 12.39it/s]\n"
     ]
    },
    {
     "name": "stdout",
     "output_type": "stream",
     "text": [
      "Epoch 103/201 Training Loss: 0.047 Valid (L1): 0.037 Valid (PSNR): 26.193  Valid (SSIM): 0.845\n"
     ]
    },
    {
     "name": "stderr",
     "output_type": "stream",
     "text": [
      "100%|██████████| 67/67 [00:03<00:00, 17.82it/s]\n",
      "100%|██████████| 31/31 [00:02<00:00, 12.39it/s]\n"
     ]
    },
    {
     "name": "stdout",
     "output_type": "stream",
     "text": [
      "Epoch 104/201 Training Loss: 0.046 Valid (L1): 0.041 Valid (PSNR): 25.317  Valid (SSIM): 0.853\n"
     ]
    },
    {
     "name": "stderr",
     "output_type": "stream",
     "text": [
      "100%|██████████| 67/67 [00:03<00:00, 18.07it/s]\n",
      "100%|██████████| 31/31 [00:02<00:00, 12.34it/s]\n"
     ]
    },
    {
     "name": "stdout",
     "output_type": "stream",
     "text": [
      "Epoch 105/201 Training Loss: 0.049 Valid (L1): 0.035 Valid (PSNR): 26.608  Valid (SSIM): 0.855\n"
     ]
    },
    {
     "name": "stderr",
     "output_type": "stream",
     "text": [
      "100%|██████████| 67/67 [00:03<00:00, 18.25it/s]\n",
      "100%|██████████| 31/31 [00:02<00:00, 12.41it/s]\n"
     ]
    },
    {
     "name": "stdout",
     "output_type": "stream",
     "text": [
      "Epoch 106/201 Training Loss: 0.043 Valid (L1): 0.040 Valid (PSNR): 25.483  Valid (SSIM): 0.853\n"
     ]
    },
    {
     "name": "stderr",
     "output_type": "stream",
     "text": [
      "100%|██████████| 67/67 [00:03<00:00, 17.62it/s]\n",
      "100%|██████████| 31/31 [00:02<00:00, 12.40it/s]\n"
     ]
    },
    {
     "name": "stdout",
     "output_type": "stream",
     "text": [
      "Epoch 107/201 Training Loss: 0.050 Valid (L1): 0.040 Valid (PSNR): 25.690  Valid (SSIM): 0.854\n"
     ]
    },
    {
     "name": "stderr",
     "output_type": "stream",
     "text": [
      "100%|██████████| 67/67 [00:03<00:00, 18.74it/s]\n",
      "100%|██████████| 31/31 [00:02<00:00, 12.40it/s]\n"
     ]
    },
    {
     "name": "stdout",
     "output_type": "stream",
     "text": [
      "Epoch 108/201 Training Loss: 0.047 Valid (L1): 0.037 Valid (PSNR): 26.239  Valid (SSIM): 0.855\n"
     ]
    },
    {
     "name": "stderr",
     "output_type": "stream",
     "text": [
      "100%|██████████| 67/67 [00:03<00:00, 18.56it/s]\n",
      "100%|██████████| 31/31 [00:02<00:00, 12.39it/s]\n"
     ]
    },
    {
     "name": "stdout",
     "output_type": "stream",
     "text": [
      "Epoch 109/201 Training Loss: 0.049 Valid (L1): 0.038 Valid (PSNR): 26.064  Valid (SSIM): 0.850\n"
     ]
    },
    {
     "name": "stderr",
     "output_type": "stream",
     "text": [
      "100%|██████████| 67/67 [00:03<00:00, 18.70it/s]\n",
      "100%|██████████| 31/31 [00:02<00:00, 12.40it/s]\n"
     ]
    },
    {
     "name": "stdout",
     "output_type": "stream",
     "text": [
      "Epoch 110/201 Training Loss: 0.045 Valid (L1): 0.038 Valid (PSNR): 26.138  Valid (SSIM): 0.852\n"
     ]
    },
    {
     "name": "stderr",
     "output_type": "stream",
     "text": [
      "100%|██████████| 67/67 [00:03<00:00, 18.49it/s]\n",
      "100%|██████████| 31/31 [00:02<00:00, 12.39it/s]\n"
     ]
    },
    {
     "name": "stdout",
     "output_type": "stream",
     "text": [
      "Epoch 111/201 Training Loss: 0.045 Valid (L1): 0.035 Valid (PSNR): 26.484  Valid (SSIM): 0.857\n"
     ]
    },
    {
     "name": "stderr",
     "output_type": "stream",
     "text": [
      "100%|██████████| 67/67 [00:03<00:00, 18.07it/s]\n",
      "100%|██████████| 31/31 [00:02<00:00, 12.38it/s]\n"
     ]
    },
    {
     "name": "stdout",
     "output_type": "stream",
     "text": [
      "Epoch 112/201 Training Loss: 0.044 Valid (L1): 0.034 Valid (PSNR): 26.874  Valid (SSIM): 0.859\n"
     ]
    },
    {
     "name": "stderr",
     "output_type": "stream",
     "text": [
      "100%|██████████| 67/67 [00:03<00:00, 18.59it/s]\n",
      "100%|██████████| 31/31 [00:02<00:00, 12.40it/s]\n"
     ]
    },
    {
     "name": "stdout",
     "output_type": "stream",
     "text": [
      "Epoch 113/201 Training Loss: 0.047 Valid (L1): 0.035 Valid (PSNR): 26.526  Valid (SSIM): 0.857\n"
     ]
    },
    {
     "name": "stderr",
     "output_type": "stream",
     "text": [
      "100%|██████████| 67/67 [00:03<00:00, 18.39it/s]\n",
      "100%|██████████| 31/31 [00:02<00:00, 12.42it/s]\n"
     ]
    },
    {
     "name": "stdout",
     "output_type": "stream",
     "text": [
      "Epoch 114/201 Training Loss: 0.046 Valid (L1): 0.041 Valid (PSNR): 25.456  Valid (SSIM): 0.856\n"
     ]
    },
    {
     "name": "stderr",
     "output_type": "stream",
     "text": [
      "100%|██████████| 67/67 [00:03<00:00, 18.54it/s]\n",
      "100%|██████████| 31/31 [00:02<00:00, 12.36it/s]\n"
     ]
    },
    {
     "name": "stdout",
     "output_type": "stream",
     "text": [
      "Epoch 115/201 Training Loss: 0.053 Valid (L1): 0.049 Valid (PSNR): 23.959  Valid (SSIM): 0.849\n"
     ]
    },
    {
     "name": "stderr",
     "output_type": "stream",
     "text": [
      "100%|██████████| 67/67 [00:03<00:00, 18.16it/s]\n",
      "100%|██████████| 31/31 [00:02<00:00, 12.36it/s]\n"
     ]
    },
    {
     "name": "stdout",
     "output_type": "stream",
     "text": [
      "Epoch 116/201 Training Loss: 0.052 Valid (L1): 0.040 Valid (PSNR): 25.622  Valid (SSIM): 0.843\n"
     ]
    },
    {
     "name": "stderr",
     "output_type": "stream",
     "text": [
      "100%|██████████| 67/67 [00:03<00:00, 17.81it/s]\n",
      "100%|██████████| 31/31 [00:02<00:00, 12.35it/s]\n"
     ]
    },
    {
     "name": "stdout",
     "output_type": "stream",
     "text": [
      "Epoch 117/201 Training Loss: 0.046 Valid (L1): 0.037 Valid (PSNR): 26.007  Valid (SSIM): 0.856\n"
     ]
    },
    {
     "name": "stderr",
     "output_type": "stream",
     "text": [
      "100%|██████████| 67/67 [00:03<00:00, 17.96it/s]\n",
      "100%|██████████| 31/31 [00:02<00:00, 12.34it/s]\n"
     ]
    },
    {
     "name": "stdout",
     "output_type": "stream",
     "text": [
      "Epoch 118/201 Training Loss: 0.044 Valid (L1): 0.037 Valid (PSNR): 26.292  Valid (SSIM): 0.859\n"
     ]
    },
    {
     "name": "stderr",
     "output_type": "stream",
     "text": [
      "100%|██████████| 67/67 [00:03<00:00, 17.88it/s]\n",
      "100%|██████████| 31/31 [00:02<00:00, 12.37it/s]\n"
     ]
    },
    {
     "name": "stdout",
     "output_type": "stream",
     "text": [
      "Epoch 119/201 Training Loss: 0.047 Valid (L1): 0.040 Valid (PSNR): 25.725  Valid (SSIM): 0.855\n"
     ]
    },
    {
     "name": "stderr",
     "output_type": "stream",
     "text": [
      "100%|██████████| 67/67 [00:03<00:00, 18.74it/s]\n",
      "100%|██████████| 31/31 [00:02<00:00, 12.38it/s]\n"
     ]
    },
    {
     "name": "stdout",
     "output_type": "stream",
     "text": [
      "Epoch 120/201 Training Loss: 0.044 Valid (L1): 0.045 Valid (PSNR): 24.779  Valid (SSIM): 0.847\n"
     ]
    },
    {
     "name": "stderr",
     "output_type": "stream",
     "text": [
      "100%|██████████| 67/67 [00:03<00:00, 18.29it/s]\n",
      "100%|██████████| 31/31 [00:02<00:00, 12.45it/s]\n"
     ]
    },
    {
     "name": "stdout",
     "output_type": "stream",
     "text": [
      "Epoch 121/201 Training Loss: 0.047 Valid (L1): 0.039 Valid (PSNR): 25.743  Valid (SSIM): 0.851\n"
     ]
    },
    {
     "name": "stderr",
     "output_type": "stream",
     "text": [
      "100%|██████████| 67/67 [00:03<00:00, 18.45it/s]\n",
      "100%|██████████| 31/31 [00:02<00:00, 12.41it/s]\n"
     ]
    },
    {
     "name": "stdout",
     "output_type": "stream",
     "text": [
      "Epoch 122/201 Training Loss: 0.048 Valid (L1): 0.048 Valid (PSNR): 24.215  Valid (SSIM): 0.850\n"
     ]
    },
    {
     "name": "stderr",
     "output_type": "stream",
     "text": [
      "100%|██████████| 67/67 [00:03<00:00, 18.83it/s]\n",
      "100%|██████████| 31/31 [00:02<00:00, 12.37it/s]\n"
     ]
    },
    {
     "name": "stdout",
     "output_type": "stream",
     "text": [
      "Epoch 123/201 Training Loss: 0.047 Valid (L1): 0.041 Valid (PSNR): 25.363  Valid (SSIM): 0.851\n"
     ]
    },
    {
     "name": "stderr",
     "output_type": "stream",
     "text": [
      "100%|██████████| 67/67 [00:03<00:00, 18.02it/s]\n",
      "100%|██████████| 31/31 [00:02<00:00, 12.42it/s]\n"
     ]
    },
    {
     "name": "stdout",
     "output_type": "stream",
     "text": [
      "Epoch 124/201 Training Loss: 0.046 Valid (L1): 0.036 Valid (PSNR): 26.392  Valid (SSIM): 0.859\n"
     ]
    },
    {
     "name": "stderr",
     "output_type": "stream",
     "text": [
      "100%|██████████| 67/67 [00:03<00:00, 18.60it/s]\n",
      "100%|██████████| 31/31 [00:02<00:00, 12.42it/s]\n"
     ]
    },
    {
     "name": "stdout",
     "output_type": "stream",
     "text": [
      "Epoch 125/201 Training Loss: 0.043 Valid (L1): 0.042 Valid (PSNR): 25.056  Valid (SSIM): 0.851\n"
     ]
    },
    {
     "name": "stderr",
     "output_type": "stream",
     "text": [
      "100%|██████████| 67/67 [00:03<00:00, 18.46it/s]\n",
      "100%|██████████| 31/31 [00:02<00:00, 12.40it/s]\n"
     ]
    },
    {
     "name": "stdout",
     "output_type": "stream",
     "text": [
      "Epoch 126/201 Training Loss: 0.041 Valid (L1): 0.041 Valid (PSNR): 25.343  Valid (SSIM): 0.852\n"
     ]
    },
    {
     "name": "stderr",
     "output_type": "stream",
     "text": [
      "100%|██████████| 67/67 [00:03<00:00, 18.37it/s]\n",
      "100%|██████████| 31/31 [00:02<00:00, 12.43it/s]\n"
     ]
    },
    {
     "name": "stdout",
     "output_type": "stream",
     "text": [
      "Epoch 127/201 Training Loss: 0.044 Valid (L1): 0.037 Valid (PSNR): 26.299  Valid (SSIM): 0.854\n"
     ]
    },
    {
     "name": "stderr",
     "output_type": "stream",
     "text": [
      "100%|██████████| 67/67 [00:03<00:00, 17.90it/s]\n",
      "100%|██████████| 31/31 [00:02<00:00, 12.35it/s]\n"
     ]
    },
    {
     "name": "stdout",
     "output_type": "stream",
     "text": [
      "Epoch 128/201 Training Loss: 0.043 Valid (L1): 0.038 Valid (PSNR): 26.002  Valid (SSIM): 0.840\n"
     ]
    },
    {
     "name": "stderr",
     "output_type": "stream",
     "text": [
      "100%|██████████| 67/67 [00:03<00:00, 17.75it/s]\n",
      "100%|██████████| 31/31 [00:02<00:00, 12.39it/s]\n"
     ]
    },
    {
     "name": "stdout",
     "output_type": "stream",
     "text": [
      "Epoch 129/201 Training Loss: 0.044 Valid (L1): 0.046 Valid (PSNR): 24.716  Valid (SSIM): 0.852\n"
     ]
    },
    {
     "name": "stderr",
     "output_type": "stream",
     "text": [
      "100%|██████████| 67/67 [00:03<00:00, 18.37it/s]\n",
      "100%|██████████| 31/31 [00:02<00:00, 12.32it/s]\n"
     ]
    },
    {
     "name": "stdout",
     "output_type": "stream",
     "text": [
      "Epoch 130/201 Training Loss: 0.039 Valid (L1): 0.036 Valid (PSNR): 26.779  Valid (SSIM): 0.862\n"
     ]
    },
    {
     "name": "stderr",
     "output_type": "stream",
     "text": [
      "100%|██████████| 67/67 [00:03<00:00, 18.20it/s]\n",
      "100%|██████████| 31/31 [00:02<00:00, 12.39it/s]\n"
     ]
    },
    {
     "name": "stdout",
     "output_type": "stream",
     "text": [
      "Epoch 131/201 Training Loss: 0.039 Valid (L1): 0.037 Valid (PSNR): 26.501  Valid (SSIM): 0.850\n"
     ]
    },
    {
     "name": "stderr",
     "output_type": "stream",
     "text": [
      "100%|██████████| 67/67 [00:03<00:00, 18.05it/s]\n",
      "100%|██████████| 31/31 [00:02<00:00, 12.39it/s]\n"
     ]
    },
    {
     "name": "stdout",
     "output_type": "stream",
     "text": [
      "Epoch 132/201 Training Loss: 0.033 Valid (L1): 0.032 Valid (PSNR): 27.821  Valid (SSIM): 0.862\n"
     ]
    },
    {
     "name": "stderr",
     "output_type": "stream",
     "text": [
      "100%|██████████| 67/67 [00:03<00:00, 18.56it/s]\n",
      "100%|██████████| 31/31 [00:02<00:00, 12.41it/s]\n"
     ]
    },
    {
     "name": "stdout",
     "output_type": "stream",
     "text": [
      "Epoch 133/201 Training Loss: 0.033 Valid (L1): 0.032 Valid (PSNR): 27.741  Valid (SSIM): 0.867\n"
     ]
    },
    {
     "name": "stderr",
     "output_type": "stream",
     "text": [
      "100%|██████████| 67/67 [00:03<00:00, 18.68it/s]\n",
      "100%|██████████| 31/31 [00:02<00:00, 12.39it/s]\n"
     ]
    },
    {
     "name": "stdout",
     "output_type": "stream",
     "text": [
      "Epoch 134/201 Training Loss: 0.032 Valid (L1): 0.041 Valid (PSNR): 25.343  Valid (SSIM): 0.860\n"
     ]
    },
    {
     "name": "stderr",
     "output_type": "stream",
     "text": [
      "100%|██████████| 67/67 [00:03<00:00, 18.76it/s]\n",
      "100%|██████████| 31/31 [00:02<00:00, 12.42it/s]\n"
     ]
    },
    {
     "name": "stdout",
     "output_type": "stream",
     "text": [
      "Epoch 135/201 Training Loss: 0.033 Valid (L1): 0.034 Valid (PSNR): 27.333  Valid (SSIM): 0.868\n"
     ]
    },
    {
     "name": "stderr",
     "output_type": "stream",
     "text": [
      "100%|██████████| 67/67 [00:03<00:00, 18.28it/s]\n",
      "100%|██████████| 31/31 [00:02<00:00, 12.44it/s]\n"
     ]
    },
    {
     "name": "stdout",
     "output_type": "stream",
     "text": [
      "Epoch 136/201 Training Loss: 0.031 Valid (L1): 0.033 Valid (PSNR): 27.645  Valid (SSIM): 0.855\n"
     ]
    },
    {
     "name": "stderr",
     "output_type": "stream",
     "text": [
      "100%|██████████| 67/67 [00:03<00:00, 18.08it/s]\n",
      "100%|██████████| 31/31 [00:02<00:00, 12.44it/s]\n"
     ]
    },
    {
     "name": "stdout",
     "output_type": "stream",
     "text": [
      "Epoch 137/201 Training Loss: 0.030 Valid (L1): 0.031 Valid (PSNR): 27.953  Valid (SSIM): 0.872\n"
     ]
    },
    {
     "name": "stderr",
     "output_type": "stream",
     "text": [
      "100%|██████████| 67/67 [00:03<00:00, 17.64it/s]\n",
      "100%|██████████| 31/31 [00:02<00:00, 12.41it/s]\n"
     ]
    },
    {
     "name": "stdout",
     "output_type": "stream",
     "text": [
      "Epoch 138/201 Training Loss: 0.032 Valid (L1): 0.029 Valid (PSNR): 28.564  Valid (SSIM): 0.868\n"
     ]
    },
    {
     "name": "stderr",
     "output_type": "stream",
     "text": [
      "100%|██████████| 67/67 [00:03<00:00, 17.98it/s]\n",
      "100%|██████████| 31/31 [00:02<00:00, 12.38it/s]\n"
     ]
    },
    {
     "name": "stdout",
     "output_type": "stream",
     "text": [
      "Epoch 139/201 Training Loss: 0.035 Valid (L1): 0.037 Valid (PSNR): 26.424  Valid (SSIM): 0.860\n"
     ]
    },
    {
     "name": "stderr",
     "output_type": "stream",
     "text": [
      "100%|██████████| 67/67 [00:03<00:00, 18.16it/s]\n",
      "100%|██████████| 31/31 [00:02<00:00, 12.38it/s]\n"
     ]
    },
    {
     "name": "stdout",
     "output_type": "stream",
     "text": [
      "Epoch 140/201 Training Loss: 0.032 Valid (L1): 0.037 Valid (PSNR): 26.554  Valid (SSIM): 0.868\n"
     ]
    },
    {
     "name": "stderr",
     "output_type": "stream",
     "text": [
      "100%|██████████| 67/67 [00:03<00:00, 18.43it/s]\n",
      "100%|██████████| 31/31 [00:02<00:00, 12.46it/s]\n"
     ]
    },
    {
     "name": "stdout",
     "output_type": "stream",
     "text": [
      "Epoch 141/201 Training Loss: 0.032 Valid (L1): 0.028 Valid (PSNR): 28.818  Valid (SSIM): 0.864\n"
     ]
    },
    {
     "name": "stderr",
     "output_type": "stream",
     "text": [
      "100%|██████████| 67/67 [00:03<00:00, 18.96it/s]\n",
      "100%|██████████| 31/31 [00:02<00:00, 12.41it/s]\n"
     ]
    },
    {
     "name": "stdout",
     "output_type": "stream",
     "text": [
      "Epoch 142/201 Training Loss: 0.029 Valid (L1): 0.029 Valid (PSNR): 28.609  Valid (SSIM): 0.865\n"
     ]
    },
    {
     "name": "stderr",
     "output_type": "stream",
     "text": [
      "100%|██████████| 67/67 [00:03<00:00, 18.73it/s]\n",
      "100%|██████████| 31/31 [00:02<00:00, 12.38it/s]\n"
     ]
    },
    {
     "name": "stdout",
     "output_type": "stream",
     "text": [
      "Epoch 143/201 Training Loss: 0.029 Valid (L1): 0.028 Valid (PSNR): 28.732  Valid (SSIM): 0.869\n"
     ]
    },
    {
     "name": "stderr",
     "output_type": "stream",
     "text": [
      "100%|██████████| 67/67 [00:03<00:00, 18.58it/s]\n",
      "100%|██████████| 31/31 [00:02<00:00, 12.39it/s]\n"
     ]
    },
    {
     "name": "stdout",
     "output_type": "stream",
     "text": [
      "Epoch 144/201 Training Loss: 0.029 Valid (L1): 0.031 Valid (PSNR): 28.020  Valid (SSIM): 0.864\n"
     ]
    },
    {
     "name": "stderr",
     "output_type": "stream",
     "text": [
      "100%|██████████| 67/67 [00:03<00:00, 18.68it/s]\n",
      "100%|██████████| 31/31 [00:02<00:00, 12.39it/s]\n"
     ]
    },
    {
     "name": "stdout",
     "output_type": "stream",
     "text": [
      "Epoch 145/201 Training Loss: 0.035 Valid (L1): 0.037 Valid (PSNR): 26.651  Valid (SSIM): 0.857\n"
     ]
    },
    {
     "name": "stderr",
     "output_type": "stream",
     "text": [
      "100%|██████████| 67/67 [00:03<00:00, 18.33it/s]\n",
      "100%|██████████| 31/31 [00:02<00:00, 12.39it/s]\n"
     ]
    },
    {
     "name": "stdout",
     "output_type": "stream",
     "text": [
      "Epoch 146/201 Training Loss: 0.029 Valid (L1): 0.031 Valid (PSNR): 28.029  Valid (SSIM): 0.868\n"
     ]
    },
    {
     "name": "stderr",
     "output_type": "stream",
     "text": [
      "100%|██████████| 67/67 [00:03<00:00, 18.67it/s]\n",
      "100%|██████████| 31/31 [00:02<00:00, 12.40it/s]\n"
     ]
    },
    {
     "name": "stdout",
     "output_type": "stream",
     "text": [
      "Epoch 147/201 Training Loss: 0.029 Valid (L1): 0.032 Valid (PSNR): 27.742  Valid (SSIM): 0.873\n"
     ]
    },
    {
     "name": "stderr",
     "output_type": "stream",
     "text": [
      "100%|██████████| 67/67 [00:03<00:00, 18.39it/s]\n",
      "100%|██████████| 31/31 [00:02<00:00, 12.38it/s]\n"
     ]
    },
    {
     "name": "stdout",
     "output_type": "stream",
     "text": [
      "Epoch 148/201 Training Loss: 0.028 Valid (L1): 0.032 Valid (PSNR): 27.592  Valid (SSIM): 0.864\n"
     ]
    },
    {
     "name": "stderr",
     "output_type": "stream",
     "text": [
      "100%|██████████| 67/67 [00:03<00:00, 17.98it/s]\n",
      "100%|██████████| 31/31 [00:02<00:00, 12.35it/s]\n"
     ]
    },
    {
     "name": "stdout",
     "output_type": "stream",
     "text": [
      "Epoch 149/201 Training Loss: 0.029 Valid (L1): 0.030 Valid (PSNR): 28.319  Valid (SSIM): 0.870\n"
     ]
    },
    {
     "name": "stderr",
     "output_type": "stream",
     "text": [
      "100%|██████████| 67/67 [00:03<00:00, 17.91it/s]\n",
      "100%|██████████| 31/31 [00:02<00:00, 12.34it/s]\n"
     ]
    },
    {
     "name": "stdout",
     "output_type": "stream",
     "text": [
      "Epoch 150/201 Training Loss: 0.031 Valid (L1): 0.052 Valid (PSNR): 24.070  Valid (SSIM): 0.858\n"
     ]
    },
    {
     "name": "stderr",
     "output_type": "stream",
     "text": [
      "100%|██████████| 67/67 [00:03<00:00, 18.28it/s]\n",
      "100%|██████████| 31/31 [00:02<00:00, 12.38it/s]\n"
     ]
    },
    {
     "name": "stdout",
     "output_type": "stream",
     "text": [
      "Epoch 151/201 Training Loss: 0.037 Valid (L1): 0.027 Valid (PSNR): 29.360  Valid (SSIM): 0.875\n"
     ]
    },
    {
     "name": "stderr",
     "output_type": "stream",
     "text": [
      "100%|██████████| 67/67 [00:03<00:00, 18.40it/s]\n",
      "100%|██████████| 31/31 [00:02<00:00, 12.38it/s]\n"
     ]
    },
    {
     "name": "stdout",
     "output_type": "stream",
     "text": [
      "Epoch 152/201 Training Loss: 0.028 Valid (L1): 0.028 Valid (PSNR): 29.128  Valid (SSIM): 0.876\n"
     ]
    },
    {
     "name": "stderr",
     "output_type": "stream",
     "text": [
      "100%|██████████| 67/67 [00:03<00:00, 18.10it/s]\n",
      "100%|██████████| 31/31 [00:02<00:00, 12.42it/s]\n"
     ]
    },
    {
     "name": "stdout",
     "output_type": "stream",
     "text": [
      "Epoch 153/201 Training Loss: 0.028 Valid (L1): 0.029 Valid (PSNR): 28.722  Valid (SSIM): 0.873\n"
     ]
    },
    {
     "name": "stderr",
     "output_type": "stream",
     "text": [
      "100%|██████████| 67/67 [00:03<00:00, 18.40it/s]\n",
      "100%|██████████| 31/31 [00:02<00:00, 12.42it/s]\n"
     ]
    },
    {
     "name": "stdout",
     "output_type": "stream",
     "text": [
      "Epoch 154/201 Training Loss: 0.027 Valid (L1): 0.029 Valid (PSNR): 28.852  Valid (SSIM): 0.874\n"
     ]
    },
    {
     "name": "stderr",
     "output_type": "stream",
     "text": [
      "100%|██████████| 67/67 [00:03<00:00, 18.43it/s]\n",
      "100%|██████████| 31/31 [00:02<00:00, 12.45it/s]\n"
     ]
    },
    {
     "name": "stdout",
     "output_type": "stream",
     "text": [
      "Epoch 155/201 Training Loss: 0.025 Valid (L1): 0.029 Valid (PSNR): 28.602  Valid (SSIM): 0.869\n"
     ]
    },
    {
     "name": "stderr",
     "output_type": "stream",
     "text": [
      "100%|██████████| 67/67 [00:03<00:00, 18.38it/s]\n",
      "100%|██████████| 31/31 [00:02<00:00, 12.42it/s]\n"
     ]
    },
    {
     "name": "stdout",
     "output_type": "stream",
     "text": [
      "Epoch 156/201 Training Loss: 0.027 Valid (L1): 0.031 Valid (PSNR): 27.749  Valid (SSIM): 0.867\n"
     ]
    },
    {
     "name": "stderr",
     "output_type": "stream",
     "text": [
      "100%|██████████| 67/67 [00:03<00:00, 17.95it/s]\n",
      "100%|██████████| 31/31 [00:02<00:00, 12.40it/s]\n"
     ]
    },
    {
     "name": "stdout",
     "output_type": "stream",
     "text": [
      "Epoch 157/201 Training Loss: 0.029 Valid (L1): 0.030 Valid (PSNR): 28.376  Valid (SSIM): 0.872\n"
     ]
    },
    {
     "name": "stderr",
     "output_type": "stream",
     "text": [
      "100%|██████████| 67/67 [00:03<00:00, 18.76it/s]\n",
      "100%|██████████| 31/31 [00:02<00:00, 12.39it/s]\n"
     ]
    },
    {
     "name": "stdout",
     "output_type": "stream",
     "text": [
      "Epoch 158/201 Training Loss: 0.028 Valid (L1): 0.029 Valid (PSNR): 28.703  Valid (SSIM): 0.869\n"
     ]
    },
    {
     "name": "stderr",
     "output_type": "stream",
     "text": [
      "100%|██████████| 67/67 [00:03<00:00, 18.69it/s]\n",
      "100%|██████████| 31/31 [00:02<00:00, 12.41it/s]\n"
     ]
    },
    {
     "name": "stdout",
     "output_type": "stream",
     "text": [
      "Epoch 159/201 Training Loss: 0.028 Valid (L1): 0.028 Valid (PSNR): 28.950  Valid (SSIM): 0.875\n"
     ]
    },
    {
     "name": "stderr",
     "output_type": "stream",
     "text": [
      "100%|██████████| 67/67 [00:03<00:00, 18.30it/s]\n",
      "100%|██████████| 31/31 [00:02<00:00, 12.36it/s]\n"
     ]
    },
    {
     "name": "stdout",
     "output_type": "stream",
     "text": [
      "Epoch 160/201 Training Loss: 0.031 Valid (L1): 0.034 Valid (PSNR): 27.518  Valid (SSIM): 0.875\n"
     ]
    },
    {
     "name": "stderr",
     "output_type": "stream",
     "text": [
      "100%|██████████| 67/67 [00:03<00:00, 18.37it/s]\n",
      "100%|██████████| 31/31 [00:02<00:00, 12.35it/s]\n"
     ]
    },
    {
     "name": "stdout",
     "output_type": "stream",
     "text": [
      "Epoch 161/201 Training Loss: 0.028 Valid (L1): 0.029 Valid (PSNR): 28.749  Valid (SSIM): 0.874\n"
     ]
    },
    {
     "name": "stderr",
     "output_type": "stream",
     "text": [
      "100%|██████████| 67/67 [00:03<00:00, 18.19it/s]\n",
      "100%|██████████| 31/31 [00:02<00:00, 12.39it/s]\n"
     ]
    },
    {
     "name": "stdout",
     "output_type": "stream",
     "text": [
      "Epoch 162/201 Training Loss: 0.028 Valid (L1): 0.027 Valid (PSNR): 29.086  Valid (SSIM): 0.871\n"
     ]
    },
    {
     "name": "stderr",
     "output_type": "stream",
     "text": [
      "100%|██████████| 67/67 [00:03<00:00, 18.18it/s]\n",
      "100%|██████████| 31/31 [00:02<00:00, 12.40it/s]\n"
     ]
    },
    {
     "name": "stdout",
     "output_type": "stream",
     "text": [
      "Epoch 163/201 Training Loss: 0.026 Valid (L1): 0.030 Valid (PSNR): 28.456  Valid (SSIM): 0.878\n"
     ]
    },
    {
     "name": "stderr",
     "output_type": "stream",
     "text": [
      "100%|██████████| 67/67 [00:03<00:00, 18.30it/s]\n",
      "100%|██████████| 31/31 [00:02<00:00, 12.38it/s]\n"
     ]
    },
    {
     "name": "stdout",
     "output_type": "stream",
     "text": [
      "Epoch 164/201 Training Loss: 0.030 Valid (L1): 0.039 Valid (PSNR): 26.396  Valid (SSIM): 0.868\n"
     ]
    },
    {
     "name": "stderr",
     "output_type": "stream",
     "text": [
      "100%|██████████| 67/67 [00:03<00:00, 18.23it/s]\n",
      "100%|██████████| 31/31 [00:02<00:00, 12.35it/s]\n"
     ]
    },
    {
     "name": "stdout",
     "output_type": "stream",
     "text": [
      "Epoch 165/201 Training Loss: 0.031 Valid (L1): 0.036 Valid (PSNR): 26.619  Valid (SSIM): 0.875\n"
     ]
    },
    {
     "name": "stderr",
     "output_type": "stream",
     "text": [
      "100%|██████████| 67/67 [00:03<00:00, 18.09it/s]\n",
      "100%|██████████| 31/31 [00:02<00:00, 12.40it/s]\n"
     ]
    },
    {
     "name": "stdout",
     "output_type": "stream",
     "text": [
      "Epoch 166/201 Training Loss: 0.028 Valid (L1): 0.034 Valid (PSNR): 27.115  Valid (SSIM): 0.871\n"
     ]
    },
    {
     "name": "stderr",
     "output_type": "stream",
     "text": [
      "100%|██████████| 67/67 [00:03<00:00, 18.38it/s]\n",
      "100%|██████████| 31/31 [00:02<00:00, 12.43it/s]\n"
     ]
    },
    {
     "name": "stdout",
     "output_type": "stream",
     "text": [
      "Epoch 167/201 Training Loss: 0.028 Valid (L1): 0.026 Valid (PSNR): 29.410  Valid (SSIM): 0.876\n"
     ]
    },
    {
     "name": "stderr",
     "output_type": "stream",
     "text": [
      "100%|██████████| 67/67 [00:03<00:00, 17.41it/s]\n",
      "100%|██████████| 31/31 [00:02<00:00, 12.47it/s]\n"
     ]
    },
    {
     "name": "stdout",
     "output_type": "stream",
     "text": [
      "Epoch 168/201 Training Loss: 0.028 Valid (L1): 0.026 Valid (PSNR): 29.767  Valid (SSIM): 0.878\n"
     ]
    },
    {
     "name": "stderr",
     "output_type": "stream",
     "text": [
      "100%|██████████| 67/67 [00:03<00:00, 18.49it/s]\n",
      "100%|██████████| 31/31 [00:02<00:00, 12.41it/s]\n"
     ]
    },
    {
     "name": "stdout",
     "output_type": "stream",
     "text": [
      "Epoch 169/201 Training Loss: 0.026 Valid (L1): 0.030 Valid (PSNR): 28.409  Valid (SSIM): 0.878\n"
     ]
    },
    {
     "name": "stderr",
     "output_type": "stream",
     "text": [
      "100%|██████████| 67/67 [00:03<00:00, 18.23it/s]\n",
      "100%|██████████| 31/31 [00:02<00:00, 12.40it/s]\n"
     ]
    },
    {
     "name": "stdout",
     "output_type": "stream",
     "text": [
      "Epoch 170/201 Training Loss: 0.028 Valid (L1): 0.030 Valid (PSNR): 28.230  Valid (SSIM): 0.879\n"
     ]
    },
    {
     "name": "stderr",
     "output_type": "stream",
     "text": [
      "100%|██████████| 67/67 [00:03<00:00, 18.25it/s]\n",
      "100%|██████████| 31/31 [00:02<00:00, 12.42it/s]\n"
     ]
    },
    {
     "name": "stdout",
     "output_type": "stream",
     "text": [
      "Epoch 171/201 Training Loss: 0.031 Valid (L1): 0.028 Valid (PSNR): 29.025  Valid (SSIM): 0.877\n"
     ]
    },
    {
     "name": "stderr",
     "output_type": "stream",
     "text": [
      "100%|██████████| 67/67 [00:03<00:00, 18.48it/s]\n",
      "100%|██████████| 31/31 [00:02<00:00, 12.41it/s]\n"
     ]
    },
    {
     "name": "stdout",
     "output_type": "stream",
     "text": [
      "Epoch 172/201 Training Loss: 0.025 Valid (L1): 0.027 Valid (PSNR): 29.184  Valid (SSIM): 0.877\n"
     ]
    },
    {
     "name": "stderr",
     "output_type": "stream",
     "text": [
      "100%|██████████| 67/67 [00:03<00:00, 18.53it/s]\n",
      "100%|██████████| 31/31 [00:02<00:00, 12.43it/s]\n"
     ]
    },
    {
     "name": "stdout",
     "output_type": "stream",
     "text": [
      "Epoch 173/201 Training Loss: 0.028 Valid (L1): 0.027 Valid (PSNR): 29.136  Valid (SSIM): 0.875\n"
     ]
    },
    {
     "name": "stderr",
     "output_type": "stream",
     "text": [
      "100%|██████████| 67/67 [00:03<00:00, 18.24it/s]\n",
      "100%|██████████| 31/31 [00:02<00:00, 12.38it/s]\n"
     ]
    },
    {
     "name": "stdout",
     "output_type": "stream",
     "text": [
      "Epoch 174/201 Training Loss: 0.028 Valid (L1): 0.032 Valid (PSNR): 28.000  Valid (SSIM): 0.875\n"
     ]
    },
    {
     "name": "stderr",
     "output_type": "stream",
     "text": [
      "100%|██████████| 67/67 [00:03<00:00, 18.42it/s]\n",
      "100%|██████████| 31/31 [00:02<00:00, 12.39it/s]\n"
     ]
    },
    {
     "name": "stdout",
     "output_type": "stream",
     "text": [
      "Epoch 175/201 Training Loss: 0.028 Valid (L1): 0.036 Valid (PSNR): 26.787  Valid (SSIM): 0.868\n"
     ]
    },
    {
     "name": "stderr",
     "output_type": "stream",
     "text": [
      "100%|██████████| 67/67 [00:03<00:00, 18.36it/s]\n",
      "100%|██████████| 31/31 [00:02<00:00, 12.40it/s]\n"
     ]
    },
    {
     "name": "stdout",
     "output_type": "stream",
     "text": [
      "Epoch 176/201 Training Loss: 0.026 Valid (L1): 0.034 Valid (PSNR): 27.404  Valid (SSIM): 0.878\n"
     ]
    },
    {
     "name": "stderr",
     "output_type": "stream",
     "text": [
      "100%|██████████| 67/67 [00:03<00:00, 18.31it/s]\n",
      "100%|██████████| 31/31 [00:02<00:00, 12.40it/s]\n"
     ]
    },
    {
     "name": "stdout",
     "output_type": "stream",
     "text": [
      "Epoch 177/201 Training Loss: 0.025 Valid (L1): 0.027 Valid (PSNR): 29.240  Valid (SSIM): 0.874\n"
     ]
    },
    {
     "name": "stderr",
     "output_type": "stream",
     "text": [
      "100%|██████████| 67/67 [00:03<00:00, 18.52it/s]\n",
      "100%|██████████| 31/31 [00:02<00:00, 12.37it/s]\n"
     ]
    },
    {
     "name": "stdout",
     "output_type": "stream",
     "text": [
      "Epoch 178/201 Training Loss: 0.028 Valid (L1): 0.031 Valid (PSNR): 28.041  Valid (SSIM): 0.873\n"
     ]
    },
    {
     "name": "stderr",
     "output_type": "stream",
     "text": [
      "100%|██████████| 67/67 [00:03<00:00, 18.74it/s]\n",
      "100%|██████████| 31/31 [00:02<00:00, 12.38it/s]\n"
     ]
    },
    {
     "name": "stdout",
     "output_type": "stream",
     "text": [
      "Epoch 179/201 Training Loss: 0.029 Valid (L1): 0.035 Valid (PSNR): 26.987  Valid (SSIM): 0.870\n"
     ]
    },
    {
     "name": "stderr",
     "output_type": "stream",
     "text": [
      "100%|██████████| 67/67 [00:03<00:00, 18.14it/s]\n",
      "100%|██████████| 31/31 [00:02<00:00, 12.38it/s]\n"
     ]
    },
    {
     "name": "stdout",
     "output_type": "stream",
     "text": [
      "Epoch 180/201 Training Loss: 0.028 Valid (L1): 0.030 Valid (PSNR): 28.353  Valid (SSIM): 0.876\n"
     ]
    },
    {
     "name": "stderr",
     "output_type": "stream",
     "text": [
      "100%|██████████| 67/67 [00:03<00:00, 17.97it/s]\n",
      "100%|██████████| 31/31 [00:02<00:00, 12.40it/s]\n"
     ]
    },
    {
     "name": "stdout",
     "output_type": "stream",
     "text": [
      "Epoch 181/201 Training Loss: 0.034 Valid (L1): 0.029 Valid (PSNR): 28.946  Valid (SSIM): 0.873\n"
     ]
    },
    {
     "name": "stderr",
     "output_type": "stream",
     "text": [
      "100%|██████████| 67/67 [00:03<00:00, 18.38it/s]\n",
      "100%|██████████| 31/31 [00:02<00:00, 12.40it/s]\n"
     ]
    },
    {
     "name": "stdout",
     "output_type": "stream",
     "text": [
      "Epoch 182/201 Training Loss: 0.026 Valid (L1): 0.026 Valid (PSNR): 29.622  Valid (SSIM): 0.877\n"
     ]
    },
    {
     "name": "stderr",
     "output_type": "stream",
     "text": [
      "100%|██████████| 67/67 [00:03<00:00, 18.59it/s]\n",
      "100%|██████████| 31/31 [00:02<00:00, 12.38it/s]\n"
     ]
    },
    {
     "name": "stdout",
     "output_type": "stream",
     "text": [
      "Epoch 183/201 Training Loss: 0.024 Valid (L1): 0.027 Valid (PSNR): 29.378  Valid (SSIM): 0.878\n"
     ]
    },
    {
     "name": "stderr",
     "output_type": "stream",
     "text": [
      "100%|██████████| 67/67 [00:03<00:00, 18.58it/s]\n",
      "100%|██████████| 31/31 [00:02<00:00, 12.38it/s]\n"
     ]
    },
    {
     "name": "stdout",
     "output_type": "stream",
     "text": [
      "Epoch 184/201 Training Loss: 0.026 Valid (L1): 0.030 Valid (PSNR): 28.353  Valid (SSIM): 0.875\n"
     ]
    },
    {
     "name": "stderr",
     "output_type": "stream",
     "text": [
      "100%|██████████| 67/67 [00:03<00:00, 18.46it/s]\n",
      "100%|██████████| 31/31 [00:02<00:00, 12.41it/s]\n"
     ]
    },
    {
     "name": "stdout",
     "output_type": "stream",
     "text": [
      "Epoch 185/201 Training Loss: 0.026 Valid (L1): 0.031 Valid (PSNR): 28.116  Valid (SSIM): 0.875\n"
     ]
    },
    {
     "name": "stderr",
     "output_type": "stream",
     "text": [
      "100%|██████████| 67/67 [00:03<00:00, 18.17it/s]\n",
      "100%|██████████| 31/31 [00:02<00:00, 12.39it/s]\n"
     ]
    },
    {
     "name": "stdout",
     "output_type": "stream",
     "text": [
      "Epoch 186/201 Training Loss: 0.027 Valid (L1): 0.030 Valid (PSNR): 28.493  Valid (SSIM): 0.874\n"
     ]
    },
    {
     "name": "stderr",
     "output_type": "stream",
     "text": [
      "100%|██████████| 67/67 [00:03<00:00, 18.53it/s]\n",
      "100%|██████████| 31/31 [00:02<00:00, 12.46it/s]\n"
     ]
    },
    {
     "name": "stdout",
     "output_type": "stream",
     "text": [
      "Epoch 187/201 Training Loss: 0.027 Valid (L1): 0.027 Valid (PSNR): 29.401  Valid (SSIM): 0.880\n"
     ]
    },
    {
     "name": "stderr",
     "output_type": "stream",
     "text": [
      "100%|██████████| 67/67 [00:03<00:00, 18.19it/s]\n",
      "100%|██████████| 31/31 [00:02<00:00, 12.42it/s]\n"
     ]
    },
    {
     "name": "stdout",
     "output_type": "stream",
     "text": [
      "Epoch 188/201 Training Loss: 0.024 Valid (L1): 0.030 Valid (PSNR): 28.280  Valid (SSIM): 0.870\n"
     ]
    },
    {
     "name": "stderr",
     "output_type": "stream",
     "text": [
      "100%|██████████| 67/67 [00:03<00:00, 17.81it/s]\n",
      "100%|██████████| 31/31 [00:02<00:00, 12.35it/s]\n"
     ]
    },
    {
     "name": "stdout",
     "output_type": "stream",
     "text": [
      "Epoch 189/201 Training Loss: 0.029 Valid (L1): 0.027 Valid (PSNR): 29.317  Valid (SSIM): 0.872\n"
     ]
    },
    {
     "name": "stderr",
     "output_type": "stream",
     "text": [
      "100%|██████████| 67/67 [00:03<00:00, 18.46it/s]\n",
      "100%|██████████| 31/31 [00:02<00:00, 12.43it/s]\n"
     ]
    },
    {
     "name": "stdout",
     "output_type": "stream",
     "text": [
      "Epoch 190/201 Training Loss: 0.027 Valid (L1): 0.027 Valid (PSNR): 29.266  Valid (SSIM): 0.876\n"
     ]
    },
    {
     "name": "stderr",
     "output_type": "stream",
     "text": [
      "100%|██████████| 67/67 [00:03<00:00, 18.21it/s]\n",
      "100%|██████████| 31/31 [00:02<00:00, 12.42it/s]\n"
     ]
    },
    {
     "name": "stdout",
     "output_type": "stream",
     "text": [
      "Epoch 191/201 Training Loss: 0.027 Valid (L1): 0.031 Valid (PSNR): 27.807  Valid (SSIM): 0.877\n"
     ]
    },
    {
     "name": "stderr",
     "output_type": "stream",
     "text": [
      "100%|██████████| 67/67 [00:03<00:00, 18.47it/s]\n",
      "100%|██████████| 31/31 [00:02<00:00, 12.39it/s]\n"
     ]
    },
    {
     "name": "stdout",
     "output_type": "stream",
     "text": [
      "Epoch 192/201 Training Loss: 0.027 Valid (L1): 0.038 Valid (PSNR): 26.690  Valid (SSIM): 0.878\n"
     ]
    },
    {
     "name": "stderr",
     "output_type": "stream",
     "text": [
      "100%|██████████| 67/67 [00:03<00:00, 17.98it/s]\n",
      "100%|██████████| 31/31 [00:02<00:00, 12.43it/s]\n"
     ]
    },
    {
     "name": "stdout",
     "output_type": "stream",
     "text": [
      "Epoch 193/201 Training Loss: 0.031 Valid (L1): 0.028 Valid (PSNR): 28.757  Valid (SSIM): 0.877\n"
     ]
    },
    {
     "name": "stderr",
     "output_type": "stream",
     "text": [
      "100%|██████████| 67/67 [00:03<00:00, 18.34it/s]\n",
      "100%|██████████| 31/31 [00:02<00:00, 12.40it/s]\n"
     ]
    },
    {
     "name": "stdout",
     "output_type": "stream",
     "text": [
      "Epoch 194/201 Training Loss: 0.025 Valid (L1): 0.028 Valid (PSNR): 29.007  Valid (SSIM): 0.875\n"
     ]
    },
    {
     "name": "stderr",
     "output_type": "stream",
     "text": [
      "100%|██████████| 67/67 [00:03<00:00, 18.62it/s]\n",
      "100%|██████████| 31/31 [00:02<00:00, 12.40it/s]\n"
     ]
    },
    {
     "name": "stdout",
     "output_type": "stream",
     "text": [
      "Epoch 195/201 Training Loss: 0.028 Valid (L1): 0.029 Valid (PSNR): 28.564  Valid (SSIM): 0.880\n"
     ]
    },
    {
     "name": "stderr",
     "output_type": "stream",
     "text": [
      "100%|██████████| 67/67 [00:03<00:00, 18.51it/s]\n",
      "100%|██████████| 31/31 [00:02<00:00, 12.38it/s]\n"
     ]
    },
    {
     "name": "stdout",
     "output_type": "stream",
     "text": [
      "Epoch 196/201 Training Loss: 0.024 Valid (L1): 0.028 Valid (PSNR): 29.120  Valid (SSIM): 0.877\n"
     ]
    },
    {
     "name": "stderr",
     "output_type": "stream",
     "text": [
      "100%|██████████| 67/67 [00:03<00:00, 18.41it/s]\n",
      "100%|██████████| 31/31 [00:02<00:00, 12.40it/s]\n"
     ]
    },
    {
     "name": "stdout",
     "output_type": "stream",
     "text": [
      "Epoch 197/201 Training Loss: 0.028 Valid (L1): 0.028 Valid (PSNR): 28.955  Valid (SSIM): 0.866\n"
     ]
    },
    {
     "name": "stderr",
     "output_type": "stream",
     "text": [
      "100%|██████████| 67/67 [00:03<00:00, 18.14it/s]\n",
      "100%|██████████| 31/31 [00:02<00:00, 12.43it/s]\n"
     ]
    },
    {
     "name": "stdout",
     "output_type": "stream",
     "text": [
      "Epoch 198/201 Training Loss: 0.027 Valid (L1): 0.029 Valid (PSNR): 28.322  Valid (SSIM): 0.879\n"
     ]
    },
    {
     "name": "stderr",
     "output_type": "stream",
     "text": [
      "100%|██████████| 67/67 [00:03<00:00, 18.49it/s]\n",
      "100%|██████████| 31/31 [00:02<00:00, 12.39it/s]\n"
     ]
    },
    {
     "name": "stdout",
     "output_type": "stream",
     "text": [
      "Epoch 199/201 Training Loss: 0.027 Valid (L1): 0.027 Valid (PSNR): 29.563  Valid (SSIM): 0.883\n"
     ]
    },
    {
     "name": "stderr",
     "output_type": "stream",
     "text": [
      "100%|██████████| 67/67 [00:03<00:00, 18.20it/s]\n",
      "100%|██████████| 31/31 [00:02<00:00, 12.39it/s]\n"
     ]
    },
    {
     "name": "stdout",
     "output_type": "stream",
     "text": [
      "Epoch 200/201 Training Loss: 0.026 Valid (L1): 0.026 Valid (PSNR): 29.549  Valid (SSIM): 0.884\n"
     ]
    },
    {
     "name": "stderr",
     "output_type": "stream",
     "text": [
      "100%|██████████| 67/67 [00:03<00:00, 17.95it/s]\n",
      "100%|██████████| 31/31 [00:02<00:00, 12.40it/s]"
     ]
    },
    {
     "name": "stdout",
     "output_type": "stream",
     "text": [
      "Epoch 201/201 Training Loss: 0.027 Valid (L1): 0.030 Valid (PSNR): 28.306  Valid (SSIM): 0.874\n"
     ]
    },
    {
     "name": "stderr",
     "output_type": "stream",
     "text": [
      "\n"
     ]
    }
   ],
   "source": [
    "if torch.cuda.is_available():\n",
    "    torch.cuda.empty_cache()\n",
    "model = BasicSRModel().to(device)\n",
    "srtrainer = SRTrainer(model=model,loss_fn=nn.L1Loss(), lr=1e-4)\n",
    "srtrainer.train(train_dataloader,valid_dataloader,num_epochs=201)\n",
    "\n",
    "del model\n",
    "del srtrainer"
   ]
  },
  {
   "cell_type": "code",
   "execution_count": 5,
   "metadata": {},
   "outputs": [
    {
     "name": "stderr",
     "output_type": "stream",
     "text": [
      "100%|██████████| 10/10 [00:16<00:00,  1.60s/it]"
     ]
    },
    {
     "name": "stdout",
     "output_type": "stream",
     "text": [
      "Test:       (L1):   0.038   (PSNR): 25.863 (SSIM): 0.819\n",
      "Bilinear:   (L1):   0.036   (PSNR): 25.813 (SSIM): 0.791\n",
      "Bicubic:    (L1):   0.033    (PSNR): 26.952  (SSIM): 0.829\n"
     ]
    },
    {
     "name": "stderr",
     "output_type": "stream",
     "text": [
      "\n"
     ]
    }
   ],
   "source": [
    "if torch.cuda.is_available():\n",
    "    torch.cuda.empty_cache()\n",
    "model = BasicSRModel().to(device)\n",
    "model.load_state_dict(torch.load(\"../model/model200_0.0001\"))\n",
    "model.eval()\n",
    "\n",
    "tester = Tester(model)\n",
    "tester.test(tests_dataloader)\n",
    "\n",
    "del model\n",
    "del tester"
   ]
  },
  {
   "cell_type": "code",
   "execution_count": 6,
   "metadata": {},
   "outputs": [
    {
     "name": "stderr",
     "output_type": "stream",
     "text": [
      "100%|██████████| 67/67 [00:04<00:00, 16.04it/s]\n",
      "100%|██████████| 31/31 [00:02<00:00, 12.02it/s]\n"
     ]
    },
    {
     "name": "stdout",
     "output_type": "stream",
     "text": [
      "Epoch 1/201 Training Loss: 0.187 Valid (L1): 0.096 Valid (PSNR): 18.748  Valid (SSIM): 0.623\n"
     ]
    },
    {
     "name": "stderr",
     "output_type": "stream",
     "text": [
      "100%|██████████| 67/67 [00:03<00:00, 19.85it/s]\n",
      "100%|██████████| 31/31 [00:02<00:00, 12.41it/s]\n"
     ]
    },
    {
     "name": "stdout",
     "output_type": "stream",
     "text": [
      "Epoch 2/201 Training Loss: 0.085 Valid (L1): 0.061 Valid (PSNR): 21.801  Valid (SSIM): 0.704\n"
     ]
    },
    {
     "name": "stderr",
     "output_type": "stream",
     "text": [
      "100%|██████████| 67/67 [00:03<00:00, 20.22it/s]\n",
      "100%|██████████| 31/31 [00:02<00:00, 12.39it/s]\n"
     ]
    },
    {
     "name": "stdout",
     "output_type": "stream",
     "text": [
      "Epoch 3/201 Training Loss: 0.057 Valid (L1): 0.042 Valid (PSNR): 24.428  Valid (SSIM): 0.736\n"
     ]
    },
    {
     "name": "stderr",
     "output_type": "stream",
     "text": [
      "100%|██████████| 67/67 [00:03<00:00, 20.50it/s]\n",
      "100%|██████████| 31/31 [00:02<00:00, 12.39it/s]\n"
     ]
    },
    {
     "name": "stdout",
     "output_type": "stream",
     "text": [
      "Epoch 4/201 Training Loss: 0.044 Valid (L1): 0.037 Valid (PSNR): 25.705  Valid (SSIM): 0.753\n"
     ]
    },
    {
     "name": "stderr",
     "output_type": "stream",
     "text": [
      "100%|██████████| 67/67 [00:03<00:00, 20.66it/s]\n",
      "100%|██████████| 31/31 [00:02<00:00, 12.38it/s]\n"
     ]
    },
    {
     "name": "stdout",
     "output_type": "stream",
     "text": [
      "Epoch 5/201 Training Loss: 0.040 Valid (L1): 0.036 Valid (PSNR): 26.002  Valid (SSIM): 0.764\n"
     ]
    },
    {
     "name": "stderr",
     "output_type": "stream",
     "text": [
      "100%|██████████| 67/67 [00:03<00:00, 20.03it/s]\n",
      "100%|██████████| 31/31 [00:02<00:00, 12.33it/s]\n"
     ]
    },
    {
     "name": "stdout",
     "output_type": "stream",
     "text": [
      "Epoch 6/201 Training Loss: 0.040 Valid (L1): 0.036 Valid (PSNR): 26.081  Valid (SSIM): 0.774\n"
     ]
    },
    {
     "name": "stderr",
     "output_type": "stream",
     "text": [
      "100%|██████████| 67/67 [00:03<00:00, 19.91it/s]\n",
      "100%|██████████| 31/31 [00:02<00:00, 12.29it/s]\n"
     ]
    },
    {
     "name": "stdout",
     "output_type": "stream",
     "text": [
      "Epoch 7/201 Training Loss: 0.037 Valid (L1): 0.033 Valid (PSNR): 26.617  Valid (SSIM): 0.782\n"
     ]
    },
    {
     "name": "stderr",
     "output_type": "stream",
     "text": [
      "100%|██████████| 67/67 [00:03<00:00, 19.49it/s]\n",
      "100%|██████████| 31/31 [00:02<00:00, 12.28it/s]\n"
     ]
    },
    {
     "name": "stdout",
     "output_type": "stream",
     "text": [
      "Epoch 8/201 Training Loss: 0.035 Valid (L1): 0.033 Valid (PSNR): 26.936  Valid (SSIM): 0.790\n"
     ]
    },
    {
     "name": "stderr",
     "output_type": "stream",
     "text": [
      "100%|██████████| 67/67 [00:03<00:00, 18.99it/s]\n",
      "100%|██████████| 31/31 [00:02<00:00, 12.28it/s]\n"
     ]
    },
    {
     "name": "stdout",
     "output_type": "stream",
     "text": [
      "Epoch 9/201 Training Loss: 0.034 Valid (L1): 0.032 Valid (PSNR): 27.513  Valid (SSIM): 0.798\n"
     ]
    },
    {
     "name": "stderr",
     "output_type": "stream",
     "text": [
      "100%|██████████| 67/67 [00:03<00:00, 18.40it/s]\n",
      "100%|██████████| 31/31 [00:02<00:00, 12.24it/s]\n"
     ]
    },
    {
     "name": "stdout",
     "output_type": "stream",
     "text": [
      "Epoch 10/201 Training Loss: 0.031 Valid (L1): 0.031 Valid (PSNR): 28.113  Valid (SSIM): 0.806\n"
     ]
    },
    {
     "name": "stderr",
     "output_type": "stream",
     "text": [
      "100%|██████████| 67/67 [00:03<00:00, 18.48it/s]\n",
      "100%|██████████| 31/31 [00:02<00:00, 12.17it/s]\n"
     ]
    },
    {
     "name": "stdout",
     "output_type": "stream",
     "text": [
      "Epoch 11/201 Training Loss: 0.031 Valid (L1): 0.032 Valid (PSNR): 27.600  Valid (SSIM): 0.808\n"
     ]
    },
    {
     "name": "stderr",
     "output_type": "stream",
     "text": [
      "100%|██████████| 67/67 [00:03<00:00, 18.52it/s]\n",
      "100%|██████████| 31/31 [00:02<00:00, 12.23it/s]\n"
     ]
    },
    {
     "name": "stdout",
     "output_type": "stream",
     "text": [
      "Epoch 12/201 Training Loss: 0.030 Valid (L1): 0.031 Valid (PSNR): 28.038  Valid (SSIM): 0.808\n"
     ]
    },
    {
     "name": "stderr",
     "output_type": "stream",
     "text": [
      "100%|██████████| 67/67 [00:03<00:00, 18.51it/s]\n",
      "100%|██████████| 31/31 [00:02<00:00, 12.23it/s]\n"
     ]
    },
    {
     "name": "stdout",
     "output_type": "stream",
     "text": [
      "Epoch 13/201 Training Loss: 0.028 Valid (L1): 0.030 Valid (PSNR): 28.128  Valid (SSIM): 0.817\n"
     ]
    },
    {
     "name": "stderr",
     "output_type": "stream",
     "text": [
      "100%|██████████| 67/67 [00:03<00:00, 18.48it/s]\n",
      "100%|██████████| 31/31 [00:02<00:00, 12.24it/s]\n"
     ]
    },
    {
     "name": "stdout",
     "output_type": "stream",
     "text": [
      "Epoch 14/201 Training Loss: 0.028 Valid (L1): 0.030 Valid (PSNR): 28.289  Valid (SSIM): 0.822\n"
     ]
    },
    {
     "name": "stderr",
     "output_type": "stream",
     "text": [
      "100%|██████████| 67/67 [00:03<00:00, 18.60it/s]\n",
      "100%|██████████| 31/31 [00:02<00:00, 12.23it/s]\n"
     ]
    },
    {
     "name": "stdout",
     "output_type": "stream",
     "text": [
      "Epoch 15/201 Training Loss: 0.027 Valid (L1): 0.029 Valid (PSNR): 28.664  Valid (SSIM): 0.823\n"
     ]
    },
    {
     "name": "stderr",
     "output_type": "stream",
     "text": [
      "100%|██████████| 67/67 [00:03<00:00, 18.56it/s]\n",
      "100%|██████████| 31/31 [00:02<00:00, 12.26it/s]\n"
     ]
    },
    {
     "name": "stdout",
     "output_type": "stream",
     "text": [
      "Epoch 16/201 Training Loss: 0.029 Valid (L1): 0.036 Valid (PSNR): 26.768  Valid (SSIM): 0.811\n"
     ]
    },
    {
     "name": "stderr",
     "output_type": "stream",
     "text": [
      "100%|██████████| 67/67 [00:03<00:00, 18.57it/s]\n",
      "100%|██████████| 31/31 [00:02<00:00, 12.22it/s]\n"
     ]
    },
    {
     "name": "stdout",
     "output_type": "stream",
     "text": [
      "Epoch 17/201 Training Loss: 0.028 Valid (L1): 0.029 Valid (PSNR): 28.639  Valid (SSIM): 0.827\n"
     ]
    },
    {
     "name": "stderr",
     "output_type": "stream",
     "text": [
      "100%|██████████| 67/67 [00:03<00:00, 18.11it/s]\n",
      "100%|██████████| 31/31 [00:02<00:00, 12.20it/s]\n"
     ]
    },
    {
     "name": "stdout",
     "output_type": "stream",
     "text": [
      "Epoch 18/201 Training Loss: 0.026 Valid (L1): 0.028 Valid (PSNR): 28.863  Valid (SSIM): 0.832\n"
     ]
    },
    {
     "name": "stderr",
     "output_type": "stream",
     "text": [
      "100%|██████████| 67/67 [00:03<00:00, 18.31it/s]\n",
      "100%|██████████| 31/31 [00:02<00:00, 12.18it/s]\n"
     ]
    },
    {
     "name": "stdout",
     "output_type": "stream",
     "text": [
      "Epoch 19/201 Training Loss: 0.025 Valid (L1): 0.028 Valid (PSNR): 28.932  Valid (SSIM): 0.835\n"
     ]
    },
    {
     "name": "stderr",
     "output_type": "stream",
     "text": [
      "100%|██████████| 67/67 [00:03<00:00, 17.89it/s]\n",
      "100%|██████████| 31/31 [00:02<00:00, 12.26it/s]\n"
     ]
    },
    {
     "name": "stdout",
     "output_type": "stream",
     "text": [
      "Epoch 20/201 Training Loss: 0.026 Valid (L1): 0.029 Valid (PSNR): 28.703  Valid (SSIM): 0.839\n"
     ]
    },
    {
     "name": "stderr",
     "output_type": "stream",
     "text": [
      "100%|██████████| 67/67 [00:03<00:00, 18.24it/s]\n",
      "100%|██████████| 31/31 [00:02<00:00, 12.22it/s]\n"
     ]
    },
    {
     "name": "stdout",
     "output_type": "stream",
     "text": [
      "Epoch 21/201 Training Loss: 0.025 Valid (L1): 0.028 Valid (PSNR): 29.028  Valid (SSIM): 0.839\n"
     ]
    },
    {
     "name": "stderr",
     "output_type": "stream",
     "text": [
      "100%|██████████| 67/67 [00:03<00:00, 18.32it/s]\n",
      "100%|██████████| 31/31 [00:02<00:00, 12.21it/s]\n"
     ]
    },
    {
     "name": "stdout",
     "output_type": "stream",
     "text": [
      "Epoch 22/201 Training Loss: 0.025 Valid (L1): 0.028 Valid (PSNR): 28.978  Valid (SSIM): 0.841\n"
     ]
    },
    {
     "name": "stderr",
     "output_type": "stream",
     "text": [
      "100%|██████████| 67/67 [00:03<00:00, 18.50it/s]\n",
      "100%|██████████| 31/31 [00:02<00:00, 12.23it/s]\n"
     ]
    },
    {
     "name": "stdout",
     "output_type": "stream",
     "text": [
      "Epoch 23/201 Training Loss: 0.025 Valid (L1): 0.027 Valid (PSNR): 29.101  Valid (SSIM): 0.844\n"
     ]
    },
    {
     "name": "stderr",
     "output_type": "stream",
     "text": [
      "100%|██████████| 67/67 [00:03<00:00, 18.04it/s]\n",
      "100%|██████████| 31/31 [00:02<00:00, 12.25it/s]\n"
     ]
    },
    {
     "name": "stdout",
     "output_type": "stream",
     "text": [
      "Epoch 24/201 Training Loss: 0.024 Valid (L1): 0.027 Valid (PSNR): 29.311  Valid (SSIM): 0.846\n"
     ]
    },
    {
     "name": "stderr",
     "output_type": "stream",
     "text": [
      "100%|██████████| 67/67 [00:03<00:00, 18.42it/s]\n",
      "100%|██████████| 31/31 [00:02<00:00, 12.24it/s]\n"
     ]
    },
    {
     "name": "stdout",
     "output_type": "stream",
     "text": [
      "Epoch 25/201 Training Loss: 0.024 Valid (L1): 0.027 Valid (PSNR): 29.309  Valid (SSIM): 0.848\n"
     ]
    },
    {
     "name": "stderr",
     "output_type": "stream",
     "text": [
      "100%|██████████| 67/67 [00:03<00:00, 18.27it/s]\n",
      "100%|██████████| 31/31 [00:02<00:00, 12.22it/s]\n"
     ]
    },
    {
     "name": "stdout",
     "output_type": "stream",
     "text": [
      "Epoch 26/201 Training Loss: 0.025 Valid (L1): 0.029 Valid (PSNR): 28.733  Valid (SSIM): 0.849\n"
     ]
    },
    {
     "name": "stderr",
     "output_type": "stream",
     "text": [
      "100%|██████████| 67/67 [00:03<00:00, 18.37it/s]\n",
      "100%|██████████| 31/31 [00:02<00:00, 12.22it/s]\n"
     ]
    },
    {
     "name": "stdout",
     "output_type": "stream",
     "text": [
      "Epoch 27/201 Training Loss: 0.025 Valid (L1): 0.026 Valid (PSNR): 29.498  Valid (SSIM): 0.853\n"
     ]
    },
    {
     "name": "stderr",
     "output_type": "stream",
     "text": [
      "100%|██████████| 67/67 [00:03<00:00, 18.58it/s]\n",
      "100%|██████████| 31/31 [00:02<00:00, 12.25it/s]\n"
     ]
    },
    {
     "name": "stdout",
     "output_type": "stream",
     "text": [
      "Epoch 28/201 Training Loss: 0.025 Valid (L1): 0.026 Valid (PSNR): 29.557  Valid (SSIM): 0.854\n"
     ]
    },
    {
     "name": "stderr",
     "output_type": "stream",
     "text": [
      "100%|██████████| 67/67 [00:03<00:00, 18.67it/s]\n",
      "100%|██████████| 31/31 [00:02<00:00, 12.23it/s]\n"
     ]
    },
    {
     "name": "stdout",
     "output_type": "stream",
     "text": [
      "Epoch 29/201 Training Loss: 0.023 Valid (L1): 0.026 Valid (PSNR): 29.573  Valid (SSIM): 0.857\n"
     ]
    },
    {
     "name": "stderr",
     "output_type": "stream",
     "text": [
      "100%|██████████| 67/67 [00:03<00:00, 18.65it/s]\n",
      "100%|██████████| 31/31 [00:02<00:00, 12.25it/s]\n"
     ]
    },
    {
     "name": "stdout",
     "output_type": "stream",
     "text": [
      "Epoch 30/201 Training Loss: 0.026 Valid (L1): 0.027 Valid (PSNR): 29.423  Valid (SSIM): 0.858\n"
     ]
    },
    {
     "name": "stderr",
     "output_type": "stream",
     "text": [
      "100%|██████████| 67/67 [00:03<00:00, 18.59it/s]\n",
      "100%|██████████| 31/31 [00:02<00:00, 12.26it/s]\n"
     ]
    },
    {
     "name": "stdout",
     "output_type": "stream",
     "text": [
      "Epoch 31/201 Training Loss: 0.025 Valid (L1): 0.026 Valid (PSNR): 29.686  Valid (SSIM): 0.860\n"
     ]
    },
    {
     "name": "stderr",
     "output_type": "stream",
     "text": [
      "100%|██████████| 67/67 [00:03<00:00, 18.70it/s]\n",
      "100%|██████████| 31/31 [00:02<00:00, 12.24it/s]\n"
     ]
    },
    {
     "name": "stdout",
     "output_type": "stream",
     "text": [
      "Epoch 32/201 Training Loss: 0.025 Valid (L1): 0.026 Valid (PSNR): 29.725  Valid (SSIM): 0.862\n"
     ]
    },
    {
     "name": "stderr",
     "output_type": "stream",
     "text": [
      "100%|██████████| 67/67 [00:03<00:00, 18.21it/s]\n",
      "100%|██████████| 31/31 [00:02<00:00, 12.25it/s]\n"
     ]
    },
    {
     "name": "stdout",
     "output_type": "stream",
     "text": [
      "Epoch 33/201 Training Loss: 0.022 Valid (L1): 0.026 Valid (PSNR): 29.847  Valid (SSIM): 0.864\n"
     ]
    },
    {
     "name": "stderr",
     "output_type": "stream",
     "text": [
      "100%|██████████| 67/67 [00:03<00:00, 17.97it/s]\n",
      "100%|██████████| 31/31 [00:02<00:00, 12.20it/s]\n"
     ]
    },
    {
     "name": "stdout",
     "output_type": "stream",
     "text": [
      "Epoch 34/201 Training Loss: 0.023 Valid (L1): 0.025 Valid (PSNR): 29.914  Valid (SSIM): 0.867\n"
     ]
    },
    {
     "name": "stderr",
     "output_type": "stream",
     "text": [
      "100%|██████████| 67/67 [00:03<00:00, 18.25it/s]\n",
      "100%|██████████| 31/31 [00:02<00:00, 12.27it/s]\n"
     ]
    },
    {
     "name": "stdout",
     "output_type": "stream",
     "text": [
      "Epoch 35/201 Training Loss: 0.023 Valid (L1): 0.026 Valid (PSNR): 29.833  Valid (SSIM): 0.867\n"
     ]
    },
    {
     "name": "stderr",
     "output_type": "stream",
     "text": [
      "100%|██████████| 67/67 [00:03<00:00, 18.61it/s]\n",
      "100%|██████████| 31/31 [00:02<00:00, 12.28it/s]\n"
     ]
    },
    {
     "name": "stdout",
     "output_type": "stream",
     "text": [
      "Epoch 36/201 Training Loss: 0.024 Valid (L1): 0.025 Valid (PSNR): 30.071  Valid (SSIM): 0.872\n"
     ]
    },
    {
     "name": "stderr",
     "output_type": "stream",
     "text": [
      "100%|██████████| 67/67 [00:03<00:00, 18.42it/s]\n",
      "100%|██████████| 31/31 [00:02<00:00, 12.26it/s]\n"
     ]
    },
    {
     "name": "stdout",
     "output_type": "stream",
     "text": [
      "Epoch 37/201 Training Loss: 0.022 Valid (L1): 0.025 Valid (PSNR): 30.158  Valid (SSIM): 0.873\n"
     ]
    },
    {
     "name": "stderr",
     "output_type": "stream",
     "text": [
      "100%|██████████| 67/67 [00:03<00:00, 18.31it/s]\n",
      "100%|██████████| 31/31 [00:02<00:00, 12.25it/s]\n"
     ]
    },
    {
     "name": "stdout",
     "output_type": "stream",
     "text": [
      "Epoch 38/201 Training Loss: 0.024 Valid (L1): 0.025 Valid (PSNR): 30.145  Valid (SSIM): 0.876\n"
     ]
    },
    {
     "name": "stderr",
     "output_type": "stream",
     "text": [
      "100%|██████████| 67/67 [00:03<00:00, 18.05it/s]\n",
      "100%|██████████| 31/31 [00:02<00:00, 12.18it/s]\n"
     ]
    },
    {
     "name": "stdout",
     "output_type": "stream",
     "text": [
      "Epoch 39/201 Training Loss: 0.024 Valid (L1): 0.024 Valid (PSNR): 30.298  Valid (SSIM): 0.877\n"
     ]
    },
    {
     "name": "stderr",
     "output_type": "stream",
     "text": [
      "100%|██████████| 67/67 [00:03<00:00, 18.40it/s]\n",
      "100%|██████████| 31/31 [00:02<00:00, 12.24it/s]\n"
     ]
    },
    {
     "name": "stdout",
     "output_type": "stream",
     "text": [
      "Epoch 40/201 Training Loss: 0.022 Valid (L1): 0.025 Valid (PSNR): 30.208  Valid (SSIM): 0.879\n"
     ]
    },
    {
     "name": "stderr",
     "output_type": "stream",
     "text": [
      "100%|██████████| 67/67 [00:03<00:00, 17.95it/s]\n",
      "100%|██████████| 31/31 [00:02<00:00, 12.08it/s]\n"
     ]
    },
    {
     "name": "stdout",
     "output_type": "stream",
     "text": [
      "Epoch 41/201 Training Loss: 0.022 Valid (L1): 0.025 Valid (PSNR): 30.055  Valid (SSIM): 0.880\n"
     ]
    },
    {
     "name": "stderr",
     "output_type": "stream",
     "text": [
      "100%|██████████| 67/67 [00:03<00:00, 18.71it/s]\n",
      "100%|██████████| 31/31 [00:02<00:00, 12.28it/s]\n"
     ]
    },
    {
     "name": "stdout",
     "output_type": "stream",
     "text": [
      "Epoch 42/201 Training Loss: 0.024 Valid (L1): 0.024 Valid (PSNR): 30.356  Valid (SSIM): 0.882\n"
     ]
    },
    {
     "name": "stderr",
     "output_type": "stream",
     "text": [
      "100%|██████████| 67/67 [00:03<00:00, 17.74it/s]\n",
      "100%|██████████| 31/31 [00:02<00:00, 12.25it/s]\n"
     ]
    },
    {
     "name": "stdout",
     "output_type": "stream",
     "text": [
      "Epoch 43/201 Training Loss: 0.023 Valid (L1): 0.024 Valid (PSNR): 30.579  Valid (SSIM): 0.883\n"
     ]
    },
    {
     "name": "stderr",
     "output_type": "stream",
     "text": [
      "100%|██████████| 67/67 [00:03<00:00, 18.34it/s]\n",
      "100%|██████████| 31/31 [00:02<00:00, 12.28it/s]\n"
     ]
    },
    {
     "name": "stdout",
     "output_type": "stream",
     "text": [
      "Epoch 44/201 Training Loss: 0.020 Valid (L1): 0.024 Valid (PSNR): 30.551  Valid (SSIM): 0.885\n"
     ]
    },
    {
     "name": "stderr",
     "output_type": "stream",
     "text": [
      "100%|██████████| 67/67 [00:03<00:00, 18.46it/s]\n",
      "100%|██████████| 31/31 [00:02<00:00, 12.27it/s]\n"
     ]
    },
    {
     "name": "stdout",
     "output_type": "stream",
     "text": [
      "Epoch 45/201 Training Loss: 0.021 Valid (L1): 0.024 Valid (PSNR): 30.667  Valid (SSIM): 0.885\n"
     ]
    },
    {
     "name": "stderr",
     "output_type": "stream",
     "text": [
      "100%|██████████| 67/67 [00:03<00:00, 18.45it/s]\n",
      "100%|██████████| 31/31 [00:02<00:00, 12.25it/s]\n"
     ]
    },
    {
     "name": "stdout",
     "output_type": "stream",
     "text": [
      "Epoch 46/201 Training Loss: 0.021 Valid (L1): 0.023 Valid (PSNR): 30.779  Valid (SSIM): 0.886\n"
     ]
    },
    {
     "name": "stderr",
     "output_type": "stream",
     "text": [
      "100%|██████████| 67/67 [00:03<00:00, 18.47it/s]\n",
      "100%|██████████| 31/31 [00:02<00:00, 12.25it/s]\n"
     ]
    },
    {
     "name": "stdout",
     "output_type": "stream",
     "text": [
      "Epoch 47/201 Training Loss: 0.021 Valid (L1): 0.024 Valid (PSNR): 30.746  Valid (SSIM): 0.886\n"
     ]
    },
    {
     "name": "stderr",
     "output_type": "stream",
     "text": [
      "100%|██████████| 67/67 [00:03<00:00, 18.47it/s]\n",
      "100%|██████████| 31/31 [00:02<00:00, 12.22it/s]\n"
     ]
    },
    {
     "name": "stdout",
     "output_type": "stream",
     "text": [
      "Epoch 48/201 Training Loss: 0.022 Valid (L1): 0.024 Valid (PSNR): 30.266  Valid (SSIM): 0.887\n"
     ]
    },
    {
     "name": "stderr",
     "output_type": "stream",
     "text": [
      "100%|██████████| 67/67 [00:03<00:00, 18.42it/s]\n",
      "100%|██████████| 31/31 [00:02<00:00, 12.26it/s]\n"
     ]
    },
    {
     "name": "stdout",
     "output_type": "stream",
     "text": [
      "Epoch 49/201 Training Loss: 0.022 Valid (L1): 0.024 Valid (PSNR): 30.629  Valid (SSIM): 0.888\n"
     ]
    },
    {
     "name": "stderr",
     "output_type": "stream",
     "text": [
      "100%|██████████| 67/67 [00:03<00:00, 18.29it/s]\n",
      "100%|██████████| 31/31 [00:02<00:00, 12.26it/s]\n"
     ]
    },
    {
     "name": "stdout",
     "output_type": "stream",
     "text": [
      "Epoch 50/201 Training Loss: 0.022 Valid (L1): 0.024 Valid (PSNR): 30.493  Valid (SSIM): 0.889\n"
     ]
    },
    {
     "name": "stderr",
     "output_type": "stream",
     "text": [
      "100%|██████████| 67/67 [00:03<00:00, 18.51it/s]\n",
      "100%|██████████| 31/31 [00:02<00:00, 12.23it/s]\n"
     ]
    },
    {
     "name": "stdout",
     "output_type": "stream",
     "text": [
      "Epoch 51/201 Training Loss: 0.022 Valid (L1): 0.023 Valid (PSNR): 30.888  Valid (SSIM): 0.889\n"
     ]
    },
    {
     "name": "stderr",
     "output_type": "stream",
     "text": [
      "100%|██████████| 67/67 [00:03<00:00, 18.37it/s]\n",
      "100%|██████████| 31/31 [00:02<00:00, 12.25it/s]\n"
     ]
    },
    {
     "name": "stdout",
     "output_type": "stream",
     "text": [
      "Epoch 52/201 Training Loss: 0.021 Valid (L1): 0.023 Valid (PSNR): 30.866  Valid (SSIM): 0.889\n"
     ]
    },
    {
     "name": "stderr",
     "output_type": "stream",
     "text": [
      "100%|██████████| 67/67 [00:03<00:00, 18.39it/s]\n",
      "100%|██████████| 31/31 [00:02<00:00, 12.23it/s]\n"
     ]
    },
    {
     "name": "stdout",
     "output_type": "stream",
     "text": [
      "Epoch 53/201 Training Loss: 0.021 Valid (L1): 0.023 Valid (PSNR): 30.892  Valid (SSIM): 0.889\n"
     ]
    },
    {
     "name": "stderr",
     "output_type": "stream",
     "text": [
      "100%|██████████| 67/67 [00:03<00:00, 18.42it/s]\n",
      "100%|██████████| 31/31 [00:02<00:00, 12.27it/s]\n"
     ]
    },
    {
     "name": "stdout",
     "output_type": "stream",
     "text": [
      "Epoch 54/201 Training Loss: 0.022 Valid (L1): 0.023 Valid (PSNR): 31.010  Valid (SSIM): 0.891\n"
     ]
    },
    {
     "name": "stderr",
     "output_type": "stream",
     "text": [
      "100%|██████████| 67/67 [00:03<00:00, 18.00it/s]\n",
      "100%|██████████| 31/31 [00:02<00:00, 12.26it/s]\n"
     ]
    },
    {
     "name": "stdout",
     "output_type": "stream",
     "text": [
      "Epoch 55/201 Training Loss: 0.020 Valid (L1): 0.023 Valid (PSNR): 30.919  Valid (SSIM): 0.890\n"
     ]
    },
    {
     "name": "stderr",
     "output_type": "stream",
     "text": [
      "100%|██████████| 67/67 [00:03<00:00, 17.81it/s]\n",
      "100%|██████████| 31/31 [00:02<00:00, 12.26it/s]\n"
     ]
    },
    {
     "name": "stdout",
     "output_type": "stream",
     "text": [
      "Epoch 56/201 Training Loss: 0.022 Valid (L1): 0.023 Valid (PSNR): 31.036  Valid (SSIM): 0.890\n"
     ]
    },
    {
     "name": "stderr",
     "output_type": "stream",
     "text": [
      "100%|██████████| 67/67 [00:03<00:00, 18.17it/s]\n",
      "100%|██████████| 31/31 [00:02<00:00, 12.19it/s]\n"
     ]
    },
    {
     "name": "stdout",
     "output_type": "stream",
     "text": [
      "Epoch 57/201 Training Loss: 0.020 Valid (L1): 0.023 Valid (PSNR): 31.023  Valid (SSIM): 0.892\n"
     ]
    },
    {
     "name": "stderr",
     "output_type": "stream",
     "text": [
      "100%|██████████| 67/67 [00:03<00:00, 18.47it/s]\n",
      "100%|██████████| 31/31 [00:02<00:00, 12.24it/s]\n"
     ]
    },
    {
     "name": "stdout",
     "output_type": "stream",
     "text": [
      "Epoch 58/201 Training Loss: 0.022 Valid (L1): 0.023 Valid (PSNR): 31.122  Valid (SSIM): 0.892\n"
     ]
    },
    {
     "name": "stderr",
     "output_type": "stream",
     "text": [
      "100%|██████████| 67/67 [00:03<00:00, 18.48it/s]\n",
      "100%|██████████| 31/31 [00:02<00:00, 12.27it/s]\n"
     ]
    },
    {
     "name": "stdout",
     "output_type": "stream",
     "text": [
      "Epoch 59/201 Training Loss: 0.021 Valid (L1): 0.023 Valid (PSNR): 31.116  Valid (SSIM): 0.892\n"
     ]
    },
    {
     "name": "stderr",
     "output_type": "stream",
     "text": [
      "100%|██████████| 67/67 [00:03<00:00, 18.42it/s]\n",
      "100%|██████████| 31/31 [00:02<00:00, 12.23it/s]\n"
     ]
    },
    {
     "name": "stdout",
     "output_type": "stream",
     "text": [
      "Epoch 60/201 Training Loss: 0.021 Valid (L1): 0.023 Valid (PSNR): 31.190  Valid (SSIM): 0.892\n"
     ]
    },
    {
     "name": "stderr",
     "output_type": "stream",
     "text": [
      "100%|██████████| 67/67 [00:03<00:00, 18.25it/s]\n",
      "100%|██████████| 31/31 [00:02<00:00, 12.22it/s]\n"
     ]
    },
    {
     "name": "stdout",
     "output_type": "stream",
     "text": [
      "Epoch 61/201 Training Loss: 0.020 Valid (L1): 0.023 Valid (PSNR): 31.164  Valid (SSIM): 0.891\n"
     ]
    },
    {
     "name": "stderr",
     "output_type": "stream",
     "text": [
      "100%|██████████| 67/67 [00:03<00:00, 18.51it/s]\n",
      "100%|██████████| 31/31 [00:02<00:00, 12.22it/s]\n"
     ]
    },
    {
     "name": "stdout",
     "output_type": "stream",
     "text": [
      "Epoch 62/201 Training Loss: 0.020 Valid (L1): 0.023 Valid (PSNR): 31.245  Valid (SSIM): 0.893\n"
     ]
    },
    {
     "name": "stderr",
     "output_type": "stream",
     "text": [
      "100%|██████████| 67/67 [00:03<00:00, 18.37it/s]\n",
      "100%|██████████| 31/31 [00:02<00:00, 12.26it/s]\n"
     ]
    },
    {
     "name": "stdout",
     "output_type": "stream",
     "text": [
      "Epoch 63/201 Training Loss: 0.020 Valid (L1): 0.023 Valid (PSNR): 31.186  Valid (SSIM): 0.892\n"
     ]
    },
    {
     "name": "stderr",
     "output_type": "stream",
     "text": [
      "100%|██████████| 67/67 [00:03<00:00, 18.37it/s]\n",
      "100%|██████████| 31/31 [00:02<00:00, 12.22it/s]\n"
     ]
    },
    {
     "name": "stdout",
     "output_type": "stream",
     "text": [
      "Epoch 64/201 Training Loss: 0.020 Valid (L1): 0.023 Valid (PSNR): 31.125  Valid (SSIM): 0.893\n"
     ]
    },
    {
     "name": "stderr",
     "output_type": "stream",
     "text": [
      "100%|██████████| 67/67 [00:03<00:00, 18.21it/s]\n",
      "100%|██████████| 31/31 [00:02<00:00, 12.27it/s]\n"
     ]
    },
    {
     "name": "stdout",
     "output_type": "stream",
     "text": [
      "Epoch 65/201 Training Loss: 0.020 Valid (L1): 0.023 Valid (PSNR): 31.278  Valid (SSIM): 0.894\n"
     ]
    },
    {
     "name": "stderr",
     "output_type": "stream",
     "text": [
      "100%|██████████| 67/67 [00:03<00:00, 18.48it/s]\n",
      "100%|██████████| 31/31 [00:02<00:00, 12.24it/s]\n"
     ]
    },
    {
     "name": "stdout",
     "output_type": "stream",
     "text": [
      "Epoch 66/201 Training Loss: 0.020 Valid (L1): 0.023 Valid (PSNR): 31.219  Valid (SSIM): 0.893\n"
     ]
    },
    {
     "name": "stderr",
     "output_type": "stream",
     "text": [
      "100%|██████████| 67/67 [00:03<00:00, 18.40it/s]\n",
      "100%|██████████| 31/31 [00:02<00:00, 12.21it/s]\n"
     ]
    },
    {
     "name": "stdout",
     "output_type": "stream",
     "text": [
      "Epoch 67/201 Training Loss: 0.020 Valid (L1): 0.023 Valid (PSNR): 31.235  Valid (SSIM): 0.894\n"
     ]
    },
    {
     "name": "stderr",
     "output_type": "stream",
     "text": [
      "100%|██████████| 67/67 [00:03<00:00, 18.45it/s]\n",
      "100%|██████████| 31/31 [00:02<00:00, 12.24it/s]\n"
     ]
    },
    {
     "name": "stdout",
     "output_type": "stream",
     "text": [
      "Epoch 68/201 Training Loss: 0.019 Valid (L1): 0.023 Valid (PSNR): 31.293  Valid (SSIM): 0.892\n"
     ]
    },
    {
     "name": "stderr",
     "output_type": "stream",
     "text": [
      "100%|██████████| 67/67 [00:03<00:00, 18.16it/s]\n",
      "100%|██████████| 31/31 [00:02<00:00, 12.25it/s]\n"
     ]
    },
    {
     "name": "stdout",
     "output_type": "stream",
     "text": [
      "Epoch 69/201 Training Loss: 0.021 Valid (L1): 0.023 Valid (PSNR): 31.011  Valid (SSIM): 0.894\n"
     ]
    },
    {
     "name": "stderr",
     "output_type": "stream",
     "text": [
      "100%|██████████| 67/67 [00:03<00:00, 18.02it/s]\n",
      "100%|██████████| 31/31 [00:02<00:00, 12.25it/s]\n"
     ]
    },
    {
     "name": "stdout",
     "output_type": "stream",
     "text": [
      "Epoch 70/201 Training Loss: 0.021 Valid (L1): 0.023 Valid (PSNR): 30.685  Valid (SSIM): 0.894\n"
     ]
    },
    {
     "name": "stderr",
     "output_type": "stream",
     "text": [
      "100%|██████████| 67/67 [00:03<00:00, 18.09it/s]\n",
      "100%|██████████| 31/31 [00:02<00:00, 12.22it/s]\n"
     ]
    },
    {
     "name": "stdout",
     "output_type": "stream",
     "text": [
      "Epoch 71/201 Training Loss: 0.018 Valid (L1): 0.023 Valid (PSNR): 31.278  Valid (SSIM): 0.894\n"
     ]
    },
    {
     "name": "stderr",
     "output_type": "stream",
     "text": [
      "100%|██████████| 67/67 [00:03<00:00, 17.68it/s]\n",
      "100%|██████████| 31/31 [00:02<00:00, 12.23it/s]\n"
     ]
    },
    {
     "name": "stdout",
     "output_type": "stream",
     "text": [
      "Epoch 72/201 Training Loss: 0.019 Valid (L1): 0.023 Valid (PSNR): 31.279  Valid (SSIM): 0.894\n"
     ]
    },
    {
     "name": "stderr",
     "output_type": "stream",
     "text": [
      "100%|██████████| 67/67 [00:03<00:00, 18.52it/s]\n",
      "100%|██████████| 31/31 [00:02<00:00, 12.27it/s]\n"
     ]
    },
    {
     "name": "stdout",
     "output_type": "stream",
     "text": [
      "Epoch 73/201 Training Loss: 0.020 Valid (L1): 0.023 Valid (PSNR): 31.309  Valid (SSIM): 0.895\n"
     ]
    },
    {
     "name": "stderr",
     "output_type": "stream",
     "text": [
      "100%|██████████| 67/67 [00:03<00:00, 18.59it/s]\n",
      "100%|██████████| 31/31 [00:02<00:00, 12.25it/s]\n"
     ]
    },
    {
     "name": "stdout",
     "output_type": "stream",
     "text": [
      "Epoch 74/201 Training Loss: 0.020 Valid (L1): 0.023 Valid (PSNR): 31.183  Valid (SSIM): 0.894\n"
     ]
    },
    {
     "name": "stderr",
     "output_type": "stream",
     "text": [
      "100%|██████████| 67/67 [00:03<00:00, 18.86it/s]\n",
      "100%|██████████| 31/31 [00:02<00:00, 12.29it/s]\n"
     ]
    },
    {
     "name": "stdout",
     "output_type": "stream",
     "text": [
      "Epoch 75/201 Training Loss: 0.020 Valid (L1): 0.023 Valid (PSNR): 31.285  Valid (SSIM): 0.895\n"
     ]
    },
    {
     "name": "stderr",
     "output_type": "stream",
     "text": [
      "100%|██████████| 67/67 [00:03<00:00, 17.97it/s]\n",
      "100%|██████████| 31/31 [00:02<00:00, 12.28it/s]\n"
     ]
    },
    {
     "name": "stdout",
     "output_type": "stream",
     "text": [
      "Epoch 76/201 Training Loss: 0.021 Valid (L1): 0.022 Valid (PSNR): 31.357  Valid (SSIM): 0.895\n"
     ]
    },
    {
     "name": "stderr",
     "output_type": "stream",
     "text": [
      "100%|██████████| 67/67 [00:03<00:00, 18.31it/s]\n",
      "100%|██████████| 31/31 [00:02<00:00, 12.20it/s]\n"
     ]
    },
    {
     "name": "stdout",
     "output_type": "stream",
     "text": [
      "Epoch 77/201 Training Loss: 0.021 Valid (L1): 0.023 Valid (PSNR): 31.116  Valid (SSIM): 0.894\n"
     ]
    },
    {
     "name": "stderr",
     "output_type": "stream",
     "text": [
      "100%|██████████| 67/67 [00:03<00:00, 18.43it/s]\n",
      "100%|██████████| 31/31 [00:02<00:00, 12.24it/s]\n"
     ]
    },
    {
     "name": "stdout",
     "output_type": "stream",
     "text": [
      "Epoch 78/201 Training Loss: 0.019 Valid (L1): 0.022 Valid (PSNR): 31.514  Valid (SSIM): 0.896\n"
     ]
    },
    {
     "name": "stderr",
     "output_type": "stream",
     "text": [
      "100%|██████████| 67/67 [00:03<00:00, 18.64it/s]\n",
      "100%|██████████| 31/31 [00:02<00:00, 12.26it/s]\n"
     ]
    },
    {
     "name": "stdout",
     "output_type": "stream",
     "text": [
      "Epoch 79/201 Training Loss: 0.019 Valid (L1): 0.023 Valid (PSNR): 31.243  Valid (SSIM): 0.895\n"
     ]
    },
    {
     "name": "stderr",
     "output_type": "stream",
     "text": [
      "100%|██████████| 67/67 [00:03<00:00, 18.43it/s]\n",
      "100%|██████████| 31/31 [00:02<00:00, 12.26it/s]\n"
     ]
    },
    {
     "name": "stdout",
     "output_type": "stream",
     "text": [
      "Epoch 80/201 Training Loss: 0.020 Valid (L1): 0.022 Valid (PSNR): 31.443  Valid (SSIM): 0.896\n"
     ]
    },
    {
     "name": "stderr",
     "output_type": "stream",
     "text": [
      "100%|██████████| 67/67 [00:03<00:00, 17.82it/s]\n",
      "100%|██████████| 31/31 [00:02<00:00, 12.27it/s]\n"
     ]
    },
    {
     "name": "stdout",
     "output_type": "stream",
     "text": [
      "Epoch 81/201 Training Loss: 0.020 Valid (L1): 0.022 Valid (PSNR): 31.403  Valid (SSIM): 0.895\n"
     ]
    },
    {
     "name": "stderr",
     "output_type": "stream",
     "text": [
      "100%|██████████| 67/67 [00:03<00:00, 18.39it/s]\n",
      "100%|██████████| 31/31 [00:02<00:00, 12.28it/s]\n"
     ]
    },
    {
     "name": "stdout",
     "output_type": "stream",
     "text": [
      "Epoch 82/201 Training Loss: 0.020 Valid (L1): 0.023 Valid (PSNR): 31.357  Valid (SSIM): 0.896\n"
     ]
    },
    {
     "name": "stderr",
     "output_type": "stream",
     "text": [
      "100%|██████████| 67/67 [00:03<00:00, 18.05it/s]\n",
      "100%|██████████| 31/31 [00:02<00:00, 12.25it/s]\n"
     ]
    },
    {
     "name": "stdout",
     "output_type": "stream",
     "text": [
      "Epoch 83/201 Training Loss: 0.019 Valid (L1): 0.023 Valid (PSNR): 31.223  Valid (SSIM): 0.895\n"
     ]
    },
    {
     "name": "stderr",
     "output_type": "stream",
     "text": [
      "100%|██████████| 67/67 [00:03<00:00, 18.76it/s]\n",
      "100%|██████████| 31/31 [00:02<00:00, 12.22it/s]\n"
     ]
    },
    {
     "name": "stdout",
     "output_type": "stream",
     "text": [
      "Epoch 84/201 Training Loss: 0.019 Valid (L1): 0.022 Valid (PSNR): 31.391  Valid (SSIM): 0.896\n"
     ]
    },
    {
     "name": "stderr",
     "output_type": "stream",
     "text": [
      "100%|██████████| 67/67 [00:03<00:00, 18.25it/s]\n",
      "100%|██████████| 31/31 [00:02<00:00, 12.24it/s]\n"
     ]
    },
    {
     "name": "stdout",
     "output_type": "stream",
     "text": [
      "Epoch 85/201 Training Loss: 0.020 Valid (L1): 0.022 Valid (PSNR): 31.527  Valid (SSIM): 0.896\n"
     ]
    },
    {
     "name": "stderr",
     "output_type": "stream",
     "text": [
      "100%|██████████| 67/67 [00:03<00:00, 18.44it/s]\n",
      "100%|██████████| 31/31 [00:02<00:00, 12.24it/s]\n"
     ]
    },
    {
     "name": "stdout",
     "output_type": "stream",
     "text": [
      "Epoch 86/201 Training Loss: 0.019 Valid (L1): 0.022 Valid (PSNR): 31.554  Valid (SSIM): 0.896\n"
     ]
    },
    {
     "name": "stderr",
     "output_type": "stream",
     "text": [
      "100%|██████████| 67/67 [00:03<00:00, 18.47it/s]\n",
      "100%|██████████| 31/31 [00:02<00:00, 12.24it/s]\n"
     ]
    },
    {
     "name": "stdout",
     "output_type": "stream",
     "text": [
      "Epoch 87/201 Training Loss: 0.019 Valid (L1): 0.022 Valid (PSNR): 31.596  Valid (SSIM): 0.897\n"
     ]
    },
    {
     "name": "stderr",
     "output_type": "stream",
     "text": [
      "100%|██████████| 67/67 [00:03<00:00, 18.58it/s]\n",
      "100%|██████████| 31/31 [00:02<00:00, 12.24it/s]\n"
     ]
    },
    {
     "name": "stdout",
     "output_type": "stream",
     "text": [
      "Epoch 88/201 Training Loss: 0.019 Valid (L1): 0.022 Valid (PSNR): 31.483  Valid (SSIM): 0.896\n"
     ]
    },
    {
     "name": "stderr",
     "output_type": "stream",
     "text": [
      "100%|██████████| 67/67 [00:03<00:00, 18.53it/s]\n",
      "100%|██████████| 31/31 [00:02<00:00, 12.24it/s]\n"
     ]
    },
    {
     "name": "stdout",
     "output_type": "stream",
     "text": [
      "Epoch 89/201 Training Loss: 0.019 Valid (L1): 0.022 Valid (PSNR): 31.472  Valid (SSIM): 0.897\n"
     ]
    },
    {
     "name": "stderr",
     "output_type": "stream",
     "text": [
      "100%|██████████| 67/67 [00:03<00:00, 18.55it/s]\n",
      "100%|██████████| 31/31 [00:02<00:00, 12.21it/s]\n"
     ]
    },
    {
     "name": "stdout",
     "output_type": "stream",
     "text": [
      "Epoch 90/201 Training Loss: 0.020 Valid (L1): 0.022 Valid (PSNR): 31.370  Valid (SSIM): 0.896\n"
     ]
    },
    {
     "name": "stderr",
     "output_type": "stream",
     "text": [
      "100%|██████████| 67/67 [00:03<00:00, 18.59it/s]\n",
      "100%|██████████| 31/31 [00:02<00:00, 12.24it/s]\n"
     ]
    },
    {
     "name": "stdout",
     "output_type": "stream",
     "text": [
      "Epoch 91/201 Training Loss: 0.021 Valid (L1): 0.022 Valid (PSNR): 31.501  Valid (SSIM): 0.895\n"
     ]
    },
    {
     "name": "stderr",
     "output_type": "stream",
     "text": [
      "100%|██████████| 67/67 [00:03<00:00, 18.35it/s]\n",
      "100%|██████████| 31/31 [00:02<00:00, 12.29it/s]\n"
     ]
    },
    {
     "name": "stdout",
     "output_type": "stream",
     "text": [
      "Epoch 92/201 Training Loss: 0.019 Valid (L1): 0.022 Valid (PSNR): 31.398  Valid (SSIM): 0.897\n"
     ]
    },
    {
     "name": "stderr",
     "output_type": "stream",
     "text": [
      "100%|██████████| 67/67 [00:03<00:00, 18.02it/s]\n",
      "100%|██████████| 31/31 [00:02<00:00, 12.24it/s]\n"
     ]
    },
    {
     "name": "stdout",
     "output_type": "stream",
     "text": [
      "Epoch 93/201 Training Loss: 0.019 Valid (L1): 0.022 Valid (PSNR): 31.560  Valid (SSIM): 0.896\n"
     ]
    },
    {
     "name": "stderr",
     "output_type": "stream",
     "text": [
      "100%|██████████| 67/67 [00:03<00:00, 17.90it/s]\n",
      "100%|██████████| 31/31 [00:02<00:00, 12.25it/s]\n"
     ]
    },
    {
     "name": "stdout",
     "output_type": "stream",
     "text": [
      "Epoch 94/201 Training Loss: 0.019 Valid (L1): 0.022 Valid (PSNR): 31.464  Valid (SSIM): 0.897\n"
     ]
    },
    {
     "name": "stderr",
     "output_type": "stream",
     "text": [
      "100%|██████████| 67/67 [00:03<00:00, 17.93it/s]\n",
      "100%|██████████| 31/31 [00:02<00:00, 12.23it/s]\n"
     ]
    },
    {
     "name": "stdout",
     "output_type": "stream",
     "text": [
      "Epoch 95/201 Training Loss: 0.020 Valid (L1): 0.023 Valid (PSNR): 31.066  Valid (SSIM): 0.897\n"
     ]
    },
    {
     "name": "stderr",
     "output_type": "stream",
     "text": [
      "100%|██████████| 67/67 [00:03<00:00, 17.72it/s]\n",
      "100%|██████████| 31/31 [00:02<00:00, 12.23it/s]\n"
     ]
    },
    {
     "name": "stdout",
     "output_type": "stream",
     "text": [
      "Epoch 96/201 Training Loss: 0.020 Valid (L1): 0.022 Valid (PSNR): 31.553  Valid (SSIM): 0.896\n"
     ]
    },
    {
     "name": "stderr",
     "output_type": "stream",
     "text": [
      "100%|██████████| 67/67 [00:03<00:00, 18.10it/s]\n",
      "100%|██████████| 31/31 [00:02<00:00, 12.22it/s]\n"
     ]
    },
    {
     "name": "stdout",
     "output_type": "stream",
     "text": [
      "Epoch 97/201 Training Loss: 0.019 Valid (L1): 0.024 Valid (PSNR): 30.548  Valid (SSIM): 0.897\n"
     ]
    },
    {
     "name": "stderr",
     "output_type": "stream",
     "text": [
      "100%|██████████| 67/67 [00:03<00:00, 18.18it/s]\n",
      "100%|██████████| 31/31 [00:02<00:00, 12.26it/s]\n"
     ]
    },
    {
     "name": "stdout",
     "output_type": "stream",
     "text": [
      "Epoch 98/201 Training Loss: 0.019 Valid (L1): 0.022 Valid (PSNR): 31.563  Valid (SSIM): 0.897\n"
     ]
    },
    {
     "name": "stderr",
     "output_type": "stream",
     "text": [
      "100%|██████████| 67/67 [00:03<00:00, 18.84it/s]\n",
      "100%|██████████| 31/31 [00:02<00:00, 12.23it/s]\n"
     ]
    },
    {
     "name": "stdout",
     "output_type": "stream",
     "text": [
      "Epoch 99/201 Training Loss: 0.020 Valid (L1): 0.022 Valid (PSNR): 31.633  Valid (SSIM): 0.898\n"
     ]
    },
    {
     "name": "stderr",
     "output_type": "stream",
     "text": [
      "100%|██████████| 67/67 [00:03<00:00, 18.34it/s]\n",
      "100%|██████████| 31/31 [00:02<00:00, 12.27it/s]\n"
     ]
    },
    {
     "name": "stdout",
     "output_type": "stream",
     "text": [
      "Epoch 100/201 Training Loss: 0.019 Valid (L1): 0.022 Valid (PSNR): 31.537  Valid (SSIM): 0.897\n"
     ]
    },
    {
     "name": "stderr",
     "output_type": "stream",
     "text": [
      "100%|██████████| 67/67 [00:03<00:00, 18.44it/s]\n",
      "100%|██████████| 31/31 [00:02<00:00, 12.22it/s]\n"
     ]
    },
    {
     "name": "stdout",
     "output_type": "stream",
     "text": [
      "Epoch 101/201 Training Loss: 0.019 Valid (L1): 0.022 Valid (PSNR): 31.545  Valid (SSIM): 0.897\n"
     ]
    },
    {
     "name": "stderr",
     "output_type": "stream",
     "text": [
      "100%|██████████| 67/67 [00:03<00:00, 17.96it/s]\n",
      "100%|██████████| 31/31 [00:02<00:00, 12.29it/s]\n"
     ]
    },
    {
     "name": "stdout",
     "output_type": "stream",
     "text": [
      "Epoch 102/201 Training Loss: 0.020 Valid (L1): 0.022 Valid (PSNR): 31.471  Valid (SSIM): 0.898\n"
     ]
    },
    {
     "name": "stderr",
     "output_type": "stream",
     "text": [
      "100%|██████████| 67/67 [00:03<00:00, 18.81it/s]\n",
      "100%|██████████| 31/31 [00:02<00:00, 12.26it/s]\n"
     ]
    },
    {
     "name": "stdout",
     "output_type": "stream",
     "text": [
      "Epoch 103/201 Training Loss: 0.020 Valid (L1): 0.022 Valid (PSNR): 31.300  Valid (SSIM): 0.897\n"
     ]
    },
    {
     "name": "stderr",
     "output_type": "stream",
     "text": [
      "100%|██████████| 67/67 [00:03<00:00, 18.64it/s]\n",
      "100%|██████████| 31/31 [00:02<00:00, 12.24it/s]\n"
     ]
    },
    {
     "name": "stdout",
     "output_type": "stream",
     "text": [
      "Epoch 104/201 Training Loss: 0.021 Valid (L1): 0.023 Valid (PSNR): 31.415  Valid (SSIM): 0.897\n"
     ]
    },
    {
     "name": "stderr",
     "output_type": "stream",
     "text": [
      "100%|██████████| 67/67 [00:03<00:00, 18.28it/s]\n",
      "100%|██████████| 31/31 [00:02<00:00, 12.29it/s]\n"
     ]
    },
    {
     "name": "stdout",
     "output_type": "stream",
     "text": [
      "Epoch 105/201 Training Loss: 0.020 Valid (L1): 0.022 Valid (PSNR): 31.688  Valid (SSIM): 0.899\n"
     ]
    },
    {
     "name": "stderr",
     "output_type": "stream",
     "text": [
      "100%|██████████| 67/67 [00:03<00:00, 18.59it/s]\n",
      "100%|██████████| 31/31 [00:02<00:00, 12.22it/s]\n"
     ]
    },
    {
     "name": "stdout",
     "output_type": "stream",
     "text": [
      "Epoch 106/201 Training Loss: 0.020 Valid (L1): 0.022 Valid (PSNR): 31.432  Valid (SSIM): 0.897\n"
     ]
    },
    {
     "name": "stderr",
     "output_type": "stream",
     "text": [
      "100%|██████████| 67/67 [00:03<00:00, 18.51it/s]\n",
      "100%|██████████| 31/31 [00:02<00:00, 12.26it/s]\n"
     ]
    },
    {
     "name": "stdout",
     "output_type": "stream",
     "text": [
      "Epoch 107/201 Training Loss: 0.019 Valid (L1): 0.022 Valid (PSNR): 31.238  Valid (SSIM): 0.896\n"
     ]
    },
    {
     "name": "stderr",
     "output_type": "stream",
     "text": [
      "100%|██████████| 67/67 [00:03<00:00, 18.38it/s]\n",
      "100%|██████████| 31/31 [00:02<00:00, 12.27it/s]\n"
     ]
    },
    {
     "name": "stdout",
     "output_type": "stream",
     "text": [
      "Epoch 108/201 Training Loss: 0.019 Valid (L1): 0.022 Valid (PSNR): 31.456  Valid (SSIM): 0.898\n"
     ]
    },
    {
     "name": "stderr",
     "output_type": "stream",
     "text": [
      "100%|██████████| 67/67 [00:03<00:00, 18.18it/s]\n",
      "100%|██████████| 31/31 [00:02<00:00, 12.29it/s]\n"
     ]
    },
    {
     "name": "stdout",
     "output_type": "stream",
     "text": [
      "Epoch 109/201 Training Loss: 0.019 Valid (L1): 0.022 Valid (PSNR): 31.570  Valid (SSIM): 0.897\n"
     ]
    },
    {
     "name": "stderr",
     "output_type": "stream",
     "text": [
      "100%|██████████| 67/67 [00:03<00:00, 18.66it/s]\n",
      "100%|██████████| 31/31 [00:02<00:00, 12.22it/s]\n"
     ]
    },
    {
     "name": "stdout",
     "output_type": "stream",
     "text": [
      "Epoch 110/201 Training Loss: 0.019 Valid (L1): 0.022 Valid (PSNR): 31.612  Valid (SSIM): 0.899\n"
     ]
    },
    {
     "name": "stderr",
     "output_type": "stream",
     "text": [
      "100%|██████████| 67/67 [00:03<00:00, 18.60it/s]\n",
      "100%|██████████| 31/31 [00:02<00:00, 12.25it/s]\n"
     ]
    },
    {
     "name": "stdout",
     "output_type": "stream",
     "text": [
      "Epoch 111/201 Training Loss: 0.019 Valid (L1): 0.023 Valid (PSNR): 31.343  Valid (SSIM): 0.897\n"
     ]
    },
    {
     "name": "stderr",
     "output_type": "stream",
     "text": [
      "100%|██████████| 67/67 [00:03<00:00, 18.34it/s]\n",
      "100%|██████████| 31/31 [00:02<00:00, 12.22it/s]\n"
     ]
    },
    {
     "name": "stdout",
     "output_type": "stream",
     "text": [
      "Epoch 112/201 Training Loss: 0.019 Valid (L1): 0.022 Valid (PSNR): 31.538  Valid (SSIM): 0.898\n"
     ]
    },
    {
     "name": "stderr",
     "output_type": "stream",
     "text": [
      "100%|██████████| 67/67 [00:03<00:00, 18.38it/s]\n",
      "100%|██████████| 31/31 [00:02<00:00, 12.23it/s]\n"
     ]
    },
    {
     "name": "stdout",
     "output_type": "stream",
     "text": [
      "Epoch 113/201 Training Loss: 0.019 Valid (L1): 0.022 Valid (PSNR): 31.726  Valid (SSIM): 0.899\n"
     ]
    },
    {
     "name": "stderr",
     "output_type": "stream",
     "text": [
      "100%|██████████| 67/67 [00:03<00:00, 18.23it/s]\n",
      "100%|██████████| 31/31 [00:02<00:00, 12.26it/s]\n"
     ]
    },
    {
     "name": "stdout",
     "output_type": "stream",
     "text": [
      "Epoch 114/201 Training Loss: 0.018 Valid (L1): 0.022 Valid (PSNR): 31.683  Valid (SSIM): 0.899\n"
     ]
    },
    {
     "name": "stderr",
     "output_type": "stream",
     "text": [
      "100%|██████████| 67/67 [00:03<00:00, 18.11it/s]\n",
      "100%|██████████| 31/31 [00:02<00:00, 12.23it/s]\n"
     ]
    },
    {
     "name": "stdout",
     "output_type": "stream",
     "text": [
      "Epoch 115/201 Training Loss: 0.020 Valid (L1): 0.023 Valid (PSNR): 31.057  Valid (SSIM): 0.897\n"
     ]
    },
    {
     "name": "stderr",
     "output_type": "stream",
     "text": [
      "100%|██████████| 67/67 [00:03<00:00, 18.67it/s]\n",
      "100%|██████████| 31/31 [00:02<00:00, 12.19it/s]\n"
     ]
    },
    {
     "name": "stdout",
     "output_type": "stream",
     "text": [
      "Epoch 116/201 Training Loss: 0.019 Valid (L1): 0.022 Valid (PSNR): 31.731  Valid (SSIM): 0.899\n"
     ]
    },
    {
     "name": "stderr",
     "output_type": "stream",
     "text": [
      "100%|██████████| 67/67 [00:03<00:00, 17.97it/s]\n",
      "100%|██████████| 31/31 [00:02<00:00, 12.26it/s]\n"
     ]
    },
    {
     "name": "stdout",
     "output_type": "stream",
     "text": [
      "Epoch 117/201 Training Loss: 0.019 Valid (L1): 0.022 Valid (PSNR): 31.707  Valid (SSIM): 0.898\n"
     ]
    },
    {
     "name": "stderr",
     "output_type": "stream",
     "text": [
      "100%|██████████| 67/67 [00:03<00:00, 17.59it/s]\n",
      "100%|██████████| 31/31 [00:02<00:00, 12.26it/s]\n"
     ]
    },
    {
     "name": "stdout",
     "output_type": "stream",
     "text": [
      "Epoch 118/201 Training Loss: 0.019 Valid (L1): 0.022 Valid (PSNR): 31.758  Valid (SSIM): 0.898\n"
     ]
    },
    {
     "name": "stderr",
     "output_type": "stream",
     "text": [
      "100%|██████████| 67/67 [00:03<00:00, 18.68it/s]\n",
      "100%|██████████| 31/31 [00:02<00:00, 12.26it/s]\n"
     ]
    },
    {
     "name": "stdout",
     "output_type": "stream",
     "text": [
      "Epoch 119/201 Training Loss: 0.020 Valid (L1): 0.022 Valid (PSNR): 31.523  Valid (SSIM): 0.899\n"
     ]
    },
    {
     "name": "stderr",
     "output_type": "stream",
     "text": [
      "100%|██████████| 67/67 [00:03<00:00, 18.46it/s]\n",
      "100%|██████████| 31/31 [00:02<00:00, 12.24it/s]\n"
     ]
    },
    {
     "name": "stdout",
     "output_type": "stream",
     "text": [
      "Epoch 120/201 Training Loss: 0.019 Valid (L1): 0.022 Valid (PSNR): 31.609  Valid (SSIM): 0.899\n"
     ]
    },
    {
     "name": "stderr",
     "output_type": "stream",
     "text": [
      "100%|██████████| 67/67 [00:03<00:00, 18.59it/s]\n",
      "100%|██████████| 31/31 [00:02<00:00, 12.25it/s]\n"
     ]
    },
    {
     "name": "stdout",
     "output_type": "stream",
     "text": [
      "Epoch 121/201 Training Loss: 0.019 Valid (L1): 0.022 Valid (PSNR): 31.674  Valid (SSIM): 0.899\n"
     ]
    },
    {
     "name": "stderr",
     "output_type": "stream",
     "text": [
      "100%|██████████| 67/67 [00:03<00:00, 18.58it/s]\n",
      "100%|██████████| 31/31 [00:02<00:00, 12.24it/s]\n"
     ]
    },
    {
     "name": "stdout",
     "output_type": "stream",
     "text": [
      "Epoch 122/201 Training Loss: 0.018 Valid (L1): 0.023 Valid (PSNR): 31.103  Valid (SSIM): 0.898\n"
     ]
    },
    {
     "name": "stderr",
     "output_type": "stream",
     "text": [
      "100%|██████████| 67/67 [00:03<00:00, 18.50it/s]\n",
      "100%|██████████| 31/31 [00:02<00:00, 12.26it/s]\n"
     ]
    },
    {
     "name": "stdout",
     "output_type": "stream",
     "text": [
      "Epoch 123/201 Training Loss: 0.020 Valid (L1): 0.022 Valid (PSNR): 31.788  Valid (SSIM): 0.899\n"
     ]
    },
    {
     "name": "stderr",
     "output_type": "stream",
     "text": [
      "100%|██████████| 67/67 [00:03<00:00, 18.76it/s]\n",
      "100%|██████████| 31/31 [00:02<00:00, 12.26it/s]\n"
     ]
    },
    {
     "name": "stdout",
     "output_type": "stream",
     "text": [
      "Epoch 124/201 Training Loss: 0.019 Valid (L1): 0.022 Valid (PSNR): 31.369  Valid (SSIM): 0.897\n"
     ]
    },
    {
     "name": "stderr",
     "output_type": "stream",
     "text": [
      "100%|██████████| 67/67 [00:03<00:00, 18.81it/s]\n",
      "100%|██████████| 31/31 [00:02<00:00, 12.21it/s]\n"
     ]
    },
    {
     "name": "stdout",
     "output_type": "stream",
     "text": [
      "Epoch 125/201 Training Loss: 0.020 Valid (L1): 0.022 Valid (PSNR): 31.680  Valid (SSIM): 0.899\n"
     ]
    },
    {
     "name": "stderr",
     "output_type": "stream",
     "text": [
      "100%|██████████| 67/67 [00:03<00:00, 18.78it/s]\n",
      "100%|██████████| 31/31 [00:02<00:00, 12.24it/s]\n"
     ]
    },
    {
     "name": "stdout",
     "output_type": "stream",
     "text": [
      "Epoch 126/201 Training Loss: 0.019 Valid (L1): 0.022 Valid (PSNR): 31.248  Valid (SSIM): 0.898\n"
     ]
    },
    {
     "name": "stderr",
     "output_type": "stream",
     "text": [
      "100%|██████████| 67/67 [00:03<00:00, 18.40it/s]\n",
      "100%|██████████| 31/31 [00:02<00:00, 12.22it/s]\n"
     ]
    },
    {
     "name": "stdout",
     "output_type": "stream",
     "text": [
      "Epoch 127/201 Training Loss: 0.019 Valid (L1): 0.022 Valid (PSNR): 31.624  Valid (SSIM): 0.899\n"
     ]
    },
    {
     "name": "stderr",
     "output_type": "stream",
     "text": [
      "100%|██████████| 67/67 [00:03<00:00, 18.36it/s]\n",
      "100%|██████████| 31/31 [00:02<00:00, 12.19it/s]\n"
     ]
    },
    {
     "name": "stdout",
     "output_type": "stream",
     "text": [
      "Epoch 128/201 Training Loss: 0.018 Valid (L1): 0.022 Valid (PSNR): 31.680  Valid (SSIM): 0.898\n"
     ]
    },
    {
     "name": "stderr",
     "output_type": "stream",
     "text": [
      "100%|██████████| 67/67 [00:03<00:00, 18.00it/s]\n",
      "100%|██████████| 31/31 [00:02<00:00, 12.17it/s]\n"
     ]
    },
    {
     "name": "stdout",
     "output_type": "stream",
     "text": [
      "Epoch 129/201 Training Loss: 0.019 Valid (L1): 0.022 Valid (PSNR): 31.641  Valid (SSIM): 0.899\n"
     ]
    },
    {
     "name": "stderr",
     "output_type": "stream",
     "text": [
      "100%|██████████| 67/67 [00:03<00:00, 17.84it/s]\n",
      "100%|██████████| 31/31 [00:02<00:00, 12.18it/s]\n"
     ]
    },
    {
     "name": "stdout",
     "output_type": "stream",
     "text": [
      "Epoch 130/201 Training Loss: 0.019 Valid (L1): 0.022 Valid (PSNR): 31.247  Valid (SSIM): 0.897\n"
     ]
    },
    {
     "name": "stderr",
     "output_type": "stream",
     "text": [
      "100%|██████████| 67/67 [00:03<00:00, 17.52it/s]\n",
      "100%|██████████| 31/31 [00:02<00:00, 12.29it/s]\n"
     ]
    },
    {
     "name": "stdout",
     "output_type": "stream",
     "text": [
      "Epoch 131/201 Training Loss: 0.020 Valid (L1): 0.022 Valid (PSNR): 31.540  Valid (SSIM): 0.899\n"
     ]
    },
    {
     "name": "stderr",
     "output_type": "stream",
     "text": [
      "100%|██████████| 67/67 [00:03<00:00, 18.47it/s]\n",
      "100%|██████████| 31/31 [00:02<00:00, 12.29it/s]\n"
     ]
    },
    {
     "name": "stdout",
     "output_type": "stream",
     "text": [
      "Epoch 132/201 Training Loss: 0.018 Valid (L1): 0.022 Valid (PSNR): 31.703  Valid (SSIM): 0.899\n"
     ]
    },
    {
     "name": "stderr",
     "output_type": "stream",
     "text": [
      "100%|██████████| 67/67 [00:03<00:00, 18.45it/s]\n",
      "100%|██████████| 31/31 [00:02<00:00, 12.28it/s]\n"
     ]
    },
    {
     "name": "stdout",
     "output_type": "stream",
     "text": [
      "Epoch 133/201 Training Loss: 0.019 Valid (L1): 0.022 Valid (PSNR): 31.605  Valid (SSIM): 0.898\n"
     ]
    },
    {
     "name": "stderr",
     "output_type": "stream",
     "text": [
      "100%|██████████| 67/67 [00:03<00:00, 17.83it/s]\n",
      "100%|██████████| 31/31 [00:02<00:00, 11.96it/s]\n"
     ]
    },
    {
     "name": "stdout",
     "output_type": "stream",
     "text": [
      "Epoch 134/201 Training Loss: 0.018 Valid (L1): 0.023 Valid (PSNR): 30.900  Valid (SSIM): 0.897\n"
     ]
    },
    {
     "name": "stderr",
     "output_type": "stream",
     "text": [
      "100%|██████████| 67/67 [00:04<00:00, 14.99it/s]\n",
      "100%|██████████| 31/31 [00:02<00:00, 11.97it/s]\n"
     ]
    },
    {
     "name": "stdout",
     "output_type": "stream",
     "text": [
      "Epoch 135/201 Training Loss: 0.020 Valid (L1): 0.022 Valid (PSNR): 31.558  Valid (SSIM): 0.898\n"
     ]
    },
    {
     "name": "stderr",
     "output_type": "stream",
     "text": [
      "100%|██████████| 67/67 [00:04<00:00, 15.59it/s]\n",
      "100%|██████████| 31/31 [00:02<00:00, 11.87it/s]\n"
     ]
    },
    {
     "name": "stdout",
     "output_type": "stream",
     "text": [
      "Epoch 136/201 Training Loss: 0.019 Valid (L1): 0.022 Valid (PSNR): 31.595  Valid (SSIM): 0.899\n"
     ]
    },
    {
     "name": "stderr",
     "output_type": "stream",
     "text": [
      "100%|██████████| 67/67 [00:04<00:00, 15.04it/s]\n",
      "100%|██████████| 31/31 [00:02<00:00, 11.93it/s]\n"
     ]
    },
    {
     "name": "stdout",
     "output_type": "stream",
     "text": [
      "Epoch 137/201 Training Loss: 0.020 Valid (L1): 0.022 Valid (PSNR): 31.665  Valid (SSIM): 0.898\n"
     ]
    },
    {
     "name": "stderr",
     "output_type": "stream",
     "text": [
      "100%|██████████| 67/67 [00:04<00:00, 14.37it/s]\n",
      "100%|██████████| 31/31 [00:02<00:00, 11.86it/s]\n"
     ]
    },
    {
     "name": "stdout",
     "output_type": "stream",
     "text": [
      "Epoch 138/201 Training Loss: 0.019 Valid (L1): 0.022 Valid (PSNR): 31.750  Valid (SSIM): 0.900\n"
     ]
    },
    {
     "name": "stderr",
     "output_type": "stream",
     "text": [
      "100%|██████████| 67/67 [00:04<00:00, 16.02it/s]\n",
      "100%|██████████| 31/31 [00:02<00:00, 11.91it/s]\n"
     ]
    },
    {
     "name": "stdout",
     "output_type": "stream",
     "text": [
      "Epoch 139/201 Training Loss: 0.020 Valid (L1): 0.022 Valid (PSNR): 31.642  Valid (SSIM): 0.899\n"
     ]
    },
    {
     "name": "stderr",
     "output_type": "stream",
     "text": [
      "100%|██████████| 67/67 [00:04<00:00, 15.81it/s]\n",
      "100%|██████████| 31/31 [00:02<00:00, 11.96it/s]\n"
     ]
    },
    {
     "name": "stdout",
     "output_type": "stream",
     "text": [
      "Epoch 140/201 Training Loss: 0.019 Valid (L1): 0.022 Valid (PSNR): 31.783  Valid (SSIM): 0.900\n"
     ]
    },
    {
     "name": "stderr",
     "output_type": "stream",
     "text": [
      "100%|██████████| 67/67 [00:04<00:00, 16.14it/s]\n",
      "100%|██████████| 31/31 [00:02<00:00, 11.93it/s]\n"
     ]
    },
    {
     "name": "stdout",
     "output_type": "stream",
     "text": [
      "Epoch 141/201 Training Loss: 0.019 Valid (L1): 0.022 Valid (PSNR): 31.697  Valid (SSIM): 0.900\n"
     ]
    },
    {
     "name": "stderr",
     "output_type": "stream",
     "text": [
      "100%|██████████| 67/67 [00:04<00:00, 16.10it/s]\n",
      "100%|██████████| 31/31 [00:02<00:00, 12.15it/s]\n"
     ]
    },
    {
     "name": "stdout",
     "output_type": "stream",
     "text": [
      "Epoch 142/201 Training Loss: 0.019 Valid (L1): 0.022 Valid (PSNR): 31.735  Valid (SSIM): 0.899\n"
     ]
    },
    {
     "name": "stderr",
     "output_type": "stream",
     "text": [
      "100%|██████████| 67/67 [00:04<00:00, 16.60it/s]\n",
      "100%|██████████| 31/31 [00:02<00:00, 12.10it/s]\n"
     ]
    },
    {
     "name": "stdout",
     "output_type": "stream",
     "text": [
      "Epoch 143/201 Training Loss: 0.017 Valid (L1): 0.022 Valid (PSNR): 31.830  Valid (SSIM): 0.900\n"
     ]
    },
    {
     "name": "stderr",
     "output_type": "stream",
     "text": [
      "100%|██████████| 67/67 [00:04<00:00, 16.56it/s]\n",
      "100%|██████████| 31/31 [00:02<00:00, 12.00it/s]\n"
     ]
    },
    {
     "name": "stdout",
     "output_type": "stream",
     "text": [
      "Epoch 144/201 Training Loss: 0.018 Valid (L1): 0.022 Valid (PSNR): 31.566  Valid (SSIM): 0.897\n"
     ]
    },
    {
     "name": "stderr",
     "output_type": "stream",
     "text": [
      "100%|██████████| 67/67 [00:04<00:00, 16.24it/s]\n",
      "100%|██████████| 31/31 [00:02<00:00, 11.91it/s]\n"
     ]
    },
    {
     "name": "stdout",
     "output_type": "stream",
     "text": [
      "Epoch 145/201 Training Loss: 0.018 Valid (L1): 0.022 Valid (PSNR): 31.848  Valid (SSIM): 0.900\n"
     ]
    },
    {
     "name": "stderr",
     "output_type": "stream",
     "text": [
      "100%|██████████| 67/67 [00:04<00:00, 15.70it/s]\n",
      "100%|██████████| 31/31 [00:02<00:00, 11.94it/s]\n"
     ]
    },
    {
     "name": "stdout",
     "output_type": "stream",
     "text": [
      "Epoch 146/201 Training Loss: 0.019 Valid (L1): 0.022 Valid (PSNR): 31.715  Valid (SSIM): 0.899\n"
     ]
    },
    {
     "name": "stderr",
     "output_type": "stream",
     "text": [
      "100%|██████████| 67/67 [00:04<00:00, 15.43it/s]\n",
      "100%|██████████| 31/31 [00:02<00:00, 11.73it/s]\n"
     ]
    },
    {
     "name": "stdout",
     "output_type": "stream",
     "text": [
      "Epoch 147/201 Training Loss: 0.018 Valid (L1): 0.022 Valid (PSNR): 31.699  Valid (SSIM): 0.900\n"
     ]
    },
    {
     "name": "stderr",
     "output_type": "stream",
     "text": [
      "100%|██████████| 67/67 [00:04<00:00, 13.79it/s]\n",
      "100%|██████████| 31/31 [00:02<00:00, 11.71it/s]\n"
     ]
    },
    {
     "name": "stdout",
     "output_type": "stream",
     "text": [
      "Epoch 148/201 Training Loss: 0.019 Valid (L1): 0.022 Valid (PSNR): 31.598  Valid (SSIM): 0.899\n"
     ]
    },
    {
     "name": "stderr",
     "output_type": "stream",
     "text": [
      "100%|██████████| 67/67 [00:04<00:00, 15.63it/s]\n",
      "100%|██████████| 31/31 [00:02<00:00, 11.99it/s]\n"
     ]
    },
    {
     "name": "stdout",
     "output_type": "stream",
     "text": [
      "Epoch 149/201 Training Loss: 0.018 Valid (L1): 0.022 Valid (PSNR): 31.814  Valid (SSIM): 0.900\n"
     ]
    },
    {
     "name": "stderr",
     "output_type": "stream",
     "text": [
      "100%|██████████| 67/67 [00:04<00:00, 15.74it/s]\n",
      "100%|██████████| 31/31 [00:02<00:00, 11.67it/s]\n"
     ]
    },
    {
     "name": "stdout",
     "output_type": "stream",
     "text": [
      "Epoch 150/201 Training Loss: 0.018 Valid (L1): 0.021 Valid (PSNR): 31.864  Valid (SSIM): 0.900\n"
     ]
    },
    {
     "name": "stderr",
     "output_type": "stream",
     "text": [
      "100%|██████████| 67/67 [00:04<00:00, 15.87it/s]\n",
      "100%|██████████| 31/31 [00:02<00:00, 11.98it/s]\n"
     ]
    },
    {
     "name": "stdout",
     "output_type": "stream",
     "text": [
      "Epoch 151/201 Training Loss: 0.019 Valid (L1): 0.022 Valid (PSNR): 31.572  Valid (SSIM): 0.900\n"
     ]
    },
    {
     "name": "stderr",
     "output_type": "stream",
     "text": [
      "100%|██████████| 67/67 [00:03<00:00, 17.55it/s]\n",
      "100%|██████████| 31/31 [00:02<00:00, 12.31it/s]\n"
     ]
    },
    {
     "name": "stdout",
     "output_type": "stream",
     "text": [
      "Epoch 152/201 Training Loss: 0.018 Valid (L1): 0.021 Valid (PSNR): 31.837  Valid (SSIM): 0.900\n"
     ]
    },
    {
     "name": "stderr",
     "output_type": "stream",
     "text": [
      "100%|██████████| 67/67 [00:03<00:00, 19.21it/s]\n",
      "100%|██████████| 31/31 [00:02<00:00, 12.33it/s]\n"
     ]
    },
    {
     "name": "stdout",
     "output_type": "stream",
     "text": [
      "Epoch 153/201 Training Loss: 0.018 Valid (L1): 0.022 Valid (PSNR): 31.670  Valid (SSIM): 0.898\n"
     ]
    },
    {
     "name": "stderr",
     "output_type": "stream",
     "text": [
      "100%|██████████| 67/67 [00:03<00:00, 19.56it/s]\n",
      "100%|██████████| 31/31 [00:02<00:00, 12.31it/s]\n"
     ]
    },
    {
     "name": "stdout",
     "output_type": "stream",
     "text": [
      "Epoch 154/201 Training Loss: 0.019 Valid (L1): 0.022 Valid (PSNR): 31.842  Valid (SSIM): 0.900\n"
     ]
    },
    {
     "name": "stderr",
     "output_type": "stream",
     "text": [
      "100%|██████████| 67/67 [00:03<00:00, 19.06it/s]\n",
      "100%|██████████| 31/31 [00:02<00:00, 12.36it/s]\n"
     ]
    },
    {
     "name": "stdout",
     "output_type": "stream",
     "text": [
      "Epoch 155/201 Training Loss: 0.019 Valid (L1): 0.022 Valid (PSNR): 31.658  Valid (SSIM): 0.900\n"
     ]
    },
    {
     "name": "stderr",
     "output_type": "stream",
     "text": [
      "100%|██████████| 67/67 [00:03<00:00, 19.14it/s]\n",
      "100%|██████████| 31/31 [00:02<00:00, 12.32it/s]\n"
     ]
    },
    {
     "name": "stdout",
     "output_type": "stream",
     "text": [
      "Epoch 156/201 Training Loss: 0.020 Valid (L1): 0.024 Valid (PSNR): 30.375  Valid (SSIM): 0.900\n"
     ]
    },
    {
     "name": "stderr",
     "output_type": "stream",
     "text": [
      "100%|██████████| 67/67 [00:03<00:00, 18.86it/s]\n",
      "100%|██████████| 31/31 [00:02<00:00, 12.29it/s]\n"
     ]
    },
    {
     "name": "stdout",
     "output_type": "stream",
     "text": [
      "Epoch 157/201 Training Loss: 0.020 Valid (L1): 0.022 Valid (PSNR): 31.309  Valid (SSIM): 0.900\n"
     ]
    },
    {
     "name": "stderr",
     "output_type": "stream",
     "text": [
      "100%|██████████| 67/67 [00:03<00:00, 18.49it/s]\n",
      "100%|██████████| 31/31 [00:02<00:00, 12.14it/s]\n"
     ]
    },
    {
     "name": "stdout",
     "output_type": "stream",
     "text": [
      "Epoch 158/201 Training Loss: 0.018 Valid (L1): 0.022 Valid (PSNR): 31.747  Valid (SSIM): 0.900\n"
     ]
    },
    {
     "name": "stderr",
     "output_type": "stream",
     "text": [
      "100%|██████████| 67/67 [00:03<00:00, 18.36it/s]\n",
      "100%|██████████| 31/31 [00:02<00:00, 12.27it/s]\n"
     ]
    },
    {
     "name": "stdout",
     "output_type": "stream",
     "text": [
      "Epoch 159/201 Training Loss: 0.018 Valid (L1): 0.022 Valid (PSNR): 31.541  Valid (SSIM): 0.899\n"
     ]
    },
    {
     "name": "stderr",
     "output_type": "stream",
     "text": [
      "100%|██████████| 67/67 [00:03<00:00, 18.43it/s]\n",
      "100%|██████████| 31/31 [00:02<00:00, 12.27it/s]\n"
     ]
    },
    {
     "name": "stdout",
     "output_type": "stream",
     "text": [
      "Epoch 160/201 Training Loss: 0.018 Valid (L1): 0.022 Valid (PSNR): 31.806  Valid (SSIM): 0.900\n"
     ]
    },
    {
     "name": "stderr",
     "output_type": "stream",
     "text": [
      "100%|██████████| 67/67 [00:03<00:00, 18.75it/s]\n",
      "100%|██████████| 31/31 [00:02<00:00, 12.27it/s]\n"
     ]
    },
    {
     "name": "stdout",
     "output_type": "stream",
     "text": [
      "Epoch 161/201 Training Loss: 0.018 Valid (L1): 0.022 Valid (PSNR): 31.703  Valid (SSIM): 0.900\n"
     ]
    },
    {
     "name": "stderr",
     "output_type": "stream",
     "text": [
      "100%|██████████| 67/67 [00:03<00:00, 18.68it/s]\n",
      "100%|██████████| 31/31 [00:02<00:00, 12.29it/s]\n"
     ]
    },
    {
     "name": "stdout",
     "output_type": "stream",
     "text": [
      "Epoch 162/201 Training Loss: 0.019 Valid (L1): 0.022 Valid (PSNR): 31.515  Valid (SSIM): 0.900\n"
     ]
    },
    {
     "name": "stderr",
     "output_type": "stream",
     "text": [
      "100%|██████████| 67/67 [00:03<00:00, 18.56it/s]\n",
      "100%|██████████| 31/31 [00:02<00:00, 12.26it/s]\n"
     ]
    },
    {
     "name": "stdout",
     "output_type": "stream",
     "text": [
      "Epoch 163/201 Training Loss: 0.018 Valid (L1): 0.022 Valid (PSNR): 31.846  Valid (SSIM): 0.900\n"
     ]
    },
    {
     "name": "stderr",
     "output_type": "stream",
     "text": [
      "100%|██████████| 67/67 [00:03<00:00, 18.54it/s]\n",
      "100%|██████████| 31/31 [00:02<00:00, 12.28it/s]\n"
     ]
    },
    {
     "name": "stdout",
     "output_type": "stream",
     "text": [
      "Epoch 164/201 Training Loss: 0.019 Valid (L1): 0.021 Valid (PSNR): 31.817  Valid (SSIM): 0.900\n"
     ]
    },
    {
     "name": "stderr",
     "output_type": "stream",
     "text": [
      "100%|██████████| 67/67 [00:03<00:00, 18.50it/s]\n",
      "100%|██████████| 31/31 [00:02<00:00, 12.26it/s]\n"
     ]
    },
    {
     "name": "stdout",
     "output_type": "stream",
     "text": [
      "Epoch 165/201 Training Loss: 0.019 Valid (L1): 0.021 Valid (PSNR): 31.845  Valid (SSIM): 0.900\n"
     ]
    },
    {
     "name": "stderr",
     "output_type": "stream",
     "text": [
      "100%|██████████| 67/67 [00:03<00:00, 18.56it/s]\n",
      "100%|██████████| 31/31 [00:02<00:00, 12.30it/s]\n"
     ]
    },
    {
     "name": "stdout",
     "output_type": "stream",
     "text": [
      "Epoch 166/201 Training Loss: 0.018 Valid (L1): 0.022 Valid (PSNR): 31.808  Valid (SSIM): 0.901\n"
     ]
    },
    {
     "name": "stderr",
     "output_type": "stream",
     "text": [
      "100%|██████████| 67/67 [00:03<00:00, 18.70it/s]\n",
      "100%|██████████| 31/31 [00:02<00:00, 12.28it/s]\n"
     ]
    },
    {
     "name": "stdout",
     "output_type": "stream",
     "text": [
      "Epoch 167/201 Training Loss: 0.019 Valid (L1): 0.021 Valid (PSNR): 31.788  Valid (SSIM): 0.900\n"
     ]
    },
    {
     "name": "stderr",
     "output_type": "stream",
     "text": [
      "100%|██████████| 67/67 [00:03<00:00, 18.98it/s]\n",
      "100%|██████████| 31/31 [00:02<00:00, 12.25it/s]\n"
     ]
    },
    {
     "name": "stdout",
     "output_type": "stream",
     "text": [
      "Epoch 168/201 Training Loss: 0.018 Valid (L1): 0.022 Valid (PSNR): 31.373  Valid (SSIM): 0.901\n"
     ]
    },
    {
     "name": "stderr",
     "output_type": "stream",
     "text": [
      "100%|██████████| 67/67 [00:03<00:00, 18.67it/s]\n",
      "100%|██████████| 31/31 [00:02<00:00, 12.23it/s]\n"
     ]
    },
    {
     "name": "stdout",
     "output_type": "stream",
     "text": [
      "Epoch 169/201 Training Loss: 0.019 Valid (L1): 0.022 Valid (PSNR): 31.816  Valid (SSIM): 0.901\n"
     ]
    },
    {
     "name": "stderr",
     "output_type": "stream",
     "text": [
      "100%|██████████| 67/67 [00:03<00:00, 18.60it/s]\n",
      "100%|██████████| 31/31 [00:02<00:00, 12.26it/s]\n"
     ]
    },
    {
     "name": "stdout",
     "output_type": "stream",
     "text": [
      "Epoch 170/201 Training Loss: 0.018 Valid (L1): 0.023 Valid (PSNR): 31.097  Valid (SSIM): 0.897\n"
     ]
    },
    {
     "name": "stderr",
     "output_type": "stream",
     "text": [
      "100%|██████████| 67/67 [00:03<00:00, 18.73it/s]\n",
      "100%|██████████| 31/31 [00:02<00:00, 12.24it/s]\n"
     ]
    },
    {
     "name": "stdout",
     "output_type": "stream",
     "text": [
      "Epoch 171/201 Training Loss: 0.018 Valid (L1): 0.022 Valid (PSNR): 31.777  Valid (SSIM): 0.900\n"
     ]
    },
    {
     "name": "stderr",
     "output_type": "stream",
     "text": [
      "100%|██████████| 67/67 [00:03<00:00, 18.33it/s]\n",
      "100%|██████████| 31/31 [00:02<00:00, 12.25it/s]\n"
     ]
    },
    {
     "name": "stdout",
     "output_type": "stream",
     "text": [
      "Epoch 172/201 Training Loss: 0.018 Valid (L1): 0.022 Valid (PSNR): 31.479  Valid (SSIM): 0.900\n"
     ]
    },
    {
     "name": "stderr",
     "output_type": "stream",
     "text": [
      "100%|██████████| 67/67 [00:03<00:00, 18.60it/s]\n",
      "100%|██████████| 31/31 [00:02<00:00, 12.24it/s]\n"
     ]
    },
    {
     "name": "stdout",
     "output_type": "stream",
     "text": [
      "Epoch 173/201 Training Loss: 0.018 Valid (L1): 0.022 Valid (PSNR): 31.616  Valid (SSIM): 0.899\n"
     ]
    },
    {
     "name": "stderr",
     "output_type": "stream",
     "text": [
      "100%|██████████| 67/67 [00:03<00:00, 18.34it/s]\n",
      "100%|██████████| 31/31 [00:02<00:00, 12.28it/s]\n"
     ]
    },
    {
     "name": "stdout",
     "output_type": "stream",
     "text": [
      "Epoch 174/201 Training Loss: 0.019 Valid (L1): 0.022 Valid (PSNR): 31.834  Valid (SSIM): 0.901\n"
     ]
    },
    {
     "name": "stderr",
     "output_type": "stream",
     "text": [
      "100%|██████████| 67/67 [00:03<00:00, 18.97it/s]\n",
      "100%|██████████| 31/31 [00:02<00:00, 12.27it/s]\n"
     ]
    },
    {
     "name": "stdout",
     "output_type": "stream",
     "text": [
      "Epoch 175/201 Training Loss: 0.018 Valid (L1): 0.022 Valid (PSNR): 31.689  Valid (SSIM): 0.901\n"
     ]
    },
    {
     "name": "stderr",
     "output_type": "stream",
     "text": [
      "100%|██████████| 67/67 [00:03<00:00, 18.59it/s]\n",
      "100%|██████████| 31/31 [1:02:51<00:00, 121.66s/it]  \n"
     ]
    },
    {
     "name": "stdout",
     "output_type": "stream",
     "text": [
      "Epoch 176/201 Training Loss: 0.019 Valid (L1): 0.021 Valid (PSNR): 31.860  Valid (SSIM): 0.899\n"
     ]
    },
    {
     "name": "stderr",
     "output_type": "stream",
     "text": [
      "100%|██████████| 67/67 [00:04<00:00, 16.44it/s]\n",
      "100%|██████████| 31/31 [00:02<00:00, 12.27it/s]\n"
     ]
    },
    {
     "name": "stdout",
     "output_type": "stream",
     "text": [
      "Epoch 177/201 Training Loss: 0.019 Valid (L1): 0.021 Valid (PSNR): 31.797  Valid (SSIM): 0.901\n"
     ]
    },
    {
     "name": "stderr",
     "output_type": "stream",
     "text": [
      "100%|██████████| 67/67 [00:03<00:00, 18.26it/s]\n",
      "100%|██████████| 31/31 [00:02<00:00, 12.24it/s]\n"
     ]
    },
    {
     "name": "stdout",
     "output_type": "stream",
     "text": [
      "Epoch 178/201 Training Loss: 0.020 Valid (L1): 0.022 Valid (PSNR): 31.492  Valid (SSIM): 0.900\n"
     ]
    },
    {
     "name": "stderr",
     "output_type": "stream",
     "text": [
      "100%|██████████| 67/67 [00:03<00:00, 18.54it/s]\n",
      "100%|██████████| 31/31 [00:02<00:00, 12.29it/s]\n"
     ]
    },
    {
     "name": "stdout",
     "output_type": "stream",
     "text": [
      "Epoch 179/201 Training Loss: 0.019 Valid (L1): 0.021 Valid (PSNR): 31.902  Valid (SSIM): 0.901\n"
     ]
    },
    {
     "name": "stderr",
     "output_type": "stream",
     "text": [
      "100%|██████████| 67/67 [00:03<00:00, 18.77it/s]\n",
      "100%|██████████| 31/31 [00:02<00:00, 12.26it/s]\n"
     ]
    },
    {
     "name": "stdout",
     "output_type": "stream",
     "text": [
      "Epoch 180/201 Training Loss: 0.018 Valid (L1): 0.022 Valid (PSNR): 31.779  Valid (SSIM): 0.900\n"
     ]
    },
    {
     "name": "stderr",
     "output_type": "stream",
     "text": [
      "100%|██████████| 67/67 [00:03<00:00, 18.81it/s]\n",
      "100%|██████████| 31/31 [00:02<00:00, 12.24it/s]\n"
     ]
    },
    {
     "name": "stdout",
     "output_type": "stream",
     "text": [
      "Epoch 181/201 Training Loss: 0.020 Valid (L1): 0.021 Valid (PSNR): 31.861  Valid (SSIM): 0.902\n"
     ]
    },
    {
     "name": "stderr",
     "output_type": "stream",
     "text": [
      "100%|██████████| 67/67 [00:03<00:00, 18.88it/s]\n",
      "100%|██████████| 31/31 [00:02<00:00, 12.23it/s]\n"
     ]
    },
    {
     "name": "stdout",
     "output_type": "stream",
     "text": [
      "Epoch 182/201 Training Loss: 0.017 Valid (L1): 0.021 Valid (PSNR): 31.797  Valid (SSIM): 0.902\n"
     ]
    },
    {
     "name": "stderr",
     "output_type": "stream",
     "text": [
      "100%|██████████| 67/67 [00:03<00:00, 18.72it/s]\n",
      "100%|██████████| 31/31 [00:02<00:00, 12.20it/s]\n"
     ]
    },
    {
     "name": "stdout",
     "output_type": "stream",
     "text": [
      "Epoch 183/201 Training Loss: 0.020 Valid (L1): 0.021 Valid (PSNR): 31.812  Valid (SSIM): 0.900\n"
     ]
    },
    {
     "name": "stderr",
     "output_type": "stream",
     "text": [
      "100%|██████████| 67/67 [00:03<00:00, 18.61it/s]\n",
      "100%|██████████| 31/31 [00:02<00:00, 12.25it/s]\n"
     ]
    },
    {
     "name": "stdout",
     "output_type": "stream",
     "text": [
      "Epoch 184/201 Training Loss: 0.019 Valid (L1): 0.021 Valid (PSNR): 31.864  Valid (SSIM): 0.900\n"
     ]
    },
    {
     "name": "stderr",
     "output_type": "stream",
     "text": [
      "100%|██████████| 67/67 [00:03<00:00, 17.96it/s]\n",
      "100%|██████████| 31/31 [00:02<00:00, 12.23it/s]\n"
     ]
    },
    {
     "name": "stdout",
     "output_type": "stream",
     "text": [
      "Epoch 185/201 Training Loss: 0.017 Valid (L1): 0.021 Valid (PSNR): 31.911  Valid (SSIM): 0.901\n"
     ]
    },
    {
     "name": "stderr",
     "output_type": "stream",
     "text": [
      "100%|██████████| 67/67 [00:03<00:00, 18.11it/s]\n",
      "100%|██████████| 31/31 [00:02<00:00, 12.25it/s]\n"
     ]
    },
    {
     "name": "stdout",
     "output_type": "stream",
     "text": [
      "Epoch 186/201 Training Loss: 0.018 Valid (L1): 0.022 Valid (PSNR): 31.608  Valid (SSIM): 0.900\n"
     ]
    },
    {
     "name": "stderr",
     "output_type": "stream",
     "text": [
      "100%|██████████| 67/67 [00:03<00:00, 18.93it/s]\n",
      "100%|██████████| 31/31 [00:02<00:00, 12.28it/s]\n"
     ]
    },
    {
     "name": "stdout",
     "output_type": "stream",
     "text": [
      "Epoch 187/201 Training Loss: 0.019 Valid (L1): 0.021 Valid (PSNR): 31.853  Valid (SSIM): 0.901\n"
     ]
    },
    {
     "name": "stderr",
     "output_type": "stream",
     "text": [
      "100%|██████████| 67/67 [00:03<00:00, 18.95it/s]\n",
      "100%|██████████| 31/31 [00:02<00:00, 12.28it/s]\n"
     ]
    },
    {
     "name": "stdout",
     "output_type": "stream",
     "text": [
      "Epoch 188/201 Training Loss: 0.018 Valid (L1): 0.021 Valid (PSNR): 31.873  Valid (SSIM): 0.902\n"
     ]
    },
    {
     "name": "stderr",
     "output_type": "stream",
     "text": [
      "100%|██████████| 67/67 [00:03<00:00, 18.47it/s]\n",
      "100%|██████████| 31/31 [00:02<00:00, 12.26it/s]\n"
     ]
    },
    {
     "name": "stdout",
     "output_type": "stream",
     "text": [
      "Epoch 189/201 Training Loss: 0.018 Valid (L1): 0.021 Valid (PSNR): 31.775  Valid (SSIM): 0.902\n"
     ]
    },
    {
     "name": "stderr",
     "output_type": "stream",
     "text": [
      "100%|██████████| 67/67 [00:03<00:00, 18.83it/s]\n",
      "100%|██████████| 31/31 [00:02<00:00, 12.25it/s]\n"
     ]
    },
    {
     "name": "stdout",
     "output_type": "stream",
     "text": [
      "Epoch 190/201 Training Loss: 0.018 Valid (L1): 0.021 Valid (PSNR): 31.934  Valid (SSIM): 0.902\n"
     ]
    },
    {
     "name": "stderr",
     "output_type": "stream",
     "text": [
      "100%|██████████| 67/67 [00:03<00:00, 18.80it/s]\n",
      "100%|██████████| 31/31 [00:02<00:00, 12.22it/s]\n"
     ]
    },
    {
     "name": "stdout",
     "output_type": "stream",
     "text": [
      "Epoch 191/201 Training Loss: 0.017 Valid (L1): 0.023 Valid (PSNR): 30.928  Valid (SSIM): 0.900\n"
     ]
    },
    {
     "name": "stderr",
     "output_type": "stream",
     "text": [
      "100%|██████████| 67/67 [00:03<00:00, 18.52it/s]\n",
      "100%|██████████| 31/31 [00:02<00:00, 12.24it/s]\n"
     ]
    },
    {
     "name": "stdout",
     "output_type": "stream",
     "text": [
      "Epoch 192/201 Training Loss: 0.019 Valid (L1): 0.022 Valid (PSNR): 31.675  Valid (SSIM): 0.901\n"
     ]
    },
    {
     "name": "stderr",
     "output_type": "stream",
     "text": [
      "100%|██████████| 67/67 [00:03<00:00, 18.38it/s]\n",
      "100%|██████████| 31/31 [00:02<00:00, 12.25it/s]\n"
     ]
    },
    {
     "name": "stdout",
     "output_type": "stream",
     "text": [
      "Epoch 193/201 Training Loss: 0.019 Valid (L1): 0.021 Valid (PSNR): 31.932  Valid (SSIM): 0.902\n"
     ]
    },
    {
     "name": "stderr",
     "output_type": "stream",
     "text": [
      "100%|██████████| 67/67 [00:03<00:00, 18.15it/s]\n",
      "100%|██████████| 31/31 [00:02<00:00, 12.26it/s]\n"
     ]
    },
    {
     "name": "stdout",
     "output_type": "stream",
     "text": [
      "Epoch 194/201 Training Loss: 0.018 Valid (L1): 0.022 Valid (PSNR): 31.327  Valid (SSIM): 0.901\n"
     ]
    },
    {
     "name": "stderr",
     "output_type": "stream",
     "text": [
      "100%|██████████| 67/67 [00:03<00:00, 17.91it/s]\n",
      "100%|██████████| 31/31 [00:02<00:00, 12.25it/s]\n"
     ]
    },
    {
     "name": "stdout",
     "output_type": "stream",
     "text": [
      "Epoch 195/201 Training Loss: 0.020 Valid (L1): 0.022 Valid (PSNR): 31.760  Valid (SSIM): 0.901\n"
     ]
    },
    {
     "name": "stderr",
     "output_type": "stream",
     "text": [
      "100%|██████████| 67/67 [00:03<00:00, 18.28it/s]\n",
      "100%|██████████| 31/31 [00:02<00:00, 12.25it/s]\n"
     ]
    },
    {
     "name": "stdout",
     "output_type": "stream",
     "text": [
      "Epoch 196/201 Training Loss: 0.018 Valid (L1): 0.023 Valid (PSNR): 30.804  Valid (SSIM): 0.900\n"
     ]
    },
    {
     "name": "stderr",
     "output_type": "stream",
     "text": [
      "100%|██████████| 67/67 [00:03<00:00, 18.82it/s]\n",
      "100%|██████████| 31/31 [00:02<00:00, 12.25it/s]\n"
     ]
    },
    {
     "name": "stdout",
     "output_type": "stream",
     "text": [
      "Epoch 197/201 Training Loss: 0.020 Valid (L1): 0.022 Valid (PSNR): 31.462  Valid (SSIM): 0.900\n"
     ]
    },
    {
     "name": "stderr",
     "output_type": "stream",
     "text": [
      "100%|██████████| 67/67 [00:03<00:00, 18.83it/s]\n",
      "100%|██████████| 31/31 [00:02<00:00, 12.24it/s]\n"
     ]
    },
    {
     "name": "stdout",
     "output_type": "stream",
     "text": [
      "Epoch 198/201 Training Loss: 0.019 Valid (L1): 0.022 Valid (PSNR): 31.241  Valid (SSIM): 0.901\n"
     ]
    },
    {
     "name": "stderr",
     "output_type": "stream",
     "text": [
      "100%|██████████| 67/67 [00:03<00:00, 18.82it/s]\n",
      "100%|██████████| 31/31 [00:02<00:00, 12.26it/s]\n"
     ]
    },
    {
     "name": "stdout",
     "output_type": "stream",
     "text": [
      "Epoch 199/201 Training Loss: 0.019 Valid (L1): 0.021 Valid (PSNR): 31.892  Valid (SSIM): 0.900\n"
     ]
    },
    {
     "name": "stderr",
     "output_type": "stream",
     "text": [
      "100%|██████████| 67/67 [00:03<00:00, 18.71it/s]\n",
      "100%|██████████| 31/31 [00:02<00:00, 12.26it/s]\n"
     ]
    },
    {
     "name": "stdout",
     "output_type": "stream",
     "text": [
      "Epoch 200/201 Training Loss: 0.018 Valid (L1): 0.022 Valid (PSNR): 31.721  Valid (SSIM): 0.902\n"
     ]
    },
    {
     "name": "stderr",
     "output_type": "stream",
     "text": [
      "100%|██████████| 67/67 [00:03<00:00, 18.49it/s]\n",
      "100%|██████████| 31/31 [00:02<00:00, 12.28it/s]"
     ]
    },
    {
     "name": "stdout",
     "output_type": "stream",
     "text": [
      "Epoch 201/201 Training Loss: 0.018 Valid (L1): 0.022 Valid (PSNR): 31.254  Valid (SSIM): 0.901\n"
     ]
    },
    {
     "name": "stderr",
     "output_type": "stream",
     "text": [
      "\n"
     ]
    }
   ],
   "source": [
    "if torch.cuda.is_available():\n",
    "    torch.cuda.empty_cache()\n",
    "model = BasicSRModelSkip().to(device)\n",
    "srtrainer = SRTrainer(model=model,loss_fn=nn.L1Loss(), lr=1e-4)\n",
    "srtrainer.train(train_dataloader,valid_dataloader,num_epochs=201,model_name=\"skip_model\")\n",
    "\n",
    "del model\n",
    "del srtrainer"
   ]
  },
  {
   "cell_type": "code",
   "execution_count": 7,
   "metadata": {},
   "outputs": [
    {
     "name": "stderr",
     "output_type": "stream",
     "text": [
      "100%|██████████| 10/10 [00:15<00:00,  1.58s/it]\n"
     ]
    },
    {
     "name": "stdout",
     "output_type": "stream",
     "text": [
      "Test:       (L1):   0.031   (PSNR): 27.605 (SSIM): 0.856\n",
      "Bilinear:   (L1):   0.036   (PSNR): 25.813 (SSIM): 0.791\n",
      "Bicubic:    (L1):   0.033    (PSNR): 26.952  (SSIM): 0.829\n"
     ]
    }
   ],
   "source": [
    "if torch.cuda.is_available():\n",
    "    torch.cuda.empty_cache()\n",
    "model = BasicSRModelSkip().to(device)\n",
    "model.load_state_dict(torch.load(\"../model/skip_model200_0.0001\"))\n",
    "model.eval()\n",
    "\n",
    "tester = Tester(model)\n",
    "tester.test(tests_dataloader,model_name=\"skip_model\")\n",
    "\n",
    "del model\n",
    "del tester"
   ]
  },
  {
   "cell_type": "code",
   "execution_count": 8,
   "metadata": {},
   "outputs": [
    {
     "name": "stderr",
     "output_type": "stream",
     "text": [
      "100%|██████████| 67/67 [00:04<00:00, 15.19it/s]\n",
      "100%|██████████| 31/31 [00:02<00:00, 12.36it/s]\n"
     ]
    },
    {
     "name": "stdout",
     "output_type": "stream",
     "text": [
      "Epoch 1/201 Training Loss: 451.712 Valid (L1): 9210570.016 Valid (PSNR): -139.580  Valid (SSIM): 0.000\n"
     ]
    },
    {
     "name": "stderr",
     "output_type": "stream",
     "text": [
      "100%|██████████| 67/67 [00:03<00:00, 20.34it/s]\n",
      "100%|██████████| 31/31 [00:02<00:00, 12.57it/s]\n"
     ]
    },
    {
     "name": "stdout",
     "output_type": "stream",
     "text": [
      "Epoch 2/201 Training Loss: 283168.840 Valid (L1): 1014.744 Valid (PSNR): -60.507  Valid (SSIM): 0.000\n"
     ]
    },
    {
     "name": "stderr",
     "output_type": "stream",
     "text": [
      "100%|██████████| 67/67 [00:03<00:00, 20.69it/s]\n",
      "100%|██████████| 31/31 [00:02<00:00, 12.48it/s]\n"
     ]
    },
    {
     "name": "stdout",
     "output_type": "stream",
     "text": [
      "Epoch 3/201 Training Loss: 406.097 Valid (L1): 38.628 Valid (PSNR): -33.998  Valid (SSIM): -0.000\n"
     ]
    },
    {
     "name": "stderr",
     "output_type": "stream",
     "text": [
      "100%|██████████| 67/67 [00:03<00:00, 17.76it/s]\n",
      "100%|██████████| 31/31 [00:02<00:00, 12.53it/s]\n"
     ]
    },
    {
     "name": "stdout",
     "output_type": "stream",
     "text": [
      "Epoch 4/201 Training Loss: 51.795 Valid (L1): 110.257 Valid (PSNR): -41.374  Valid (SSIM): 0.000\n"
     ]
    },
    {
     "name": "stderr",
     "output_type": "stream",
     "text": [
      "100%|██████████| 67/67 [00:03<00:00, 20.77it/s]\n",
      "100%|██████████| 31/31 [00:02<00:00, 12.54it/s]\n"
     ]
    },
    {
     "name": "stdout",
     "output_type": "stream",
     "text": [
      "Epoch 5/201 Training Loss: 61.145 Valid (L1): 50.227 Valid (PSNR): -35.332  Valid (SSIM): 0.001\n"
     ]
    },
    {
     "name": "stderr",
     "output_type": "stream",
     "text": [
      "100%|██████████| 67/67 [00:03<00:00, 20.79it/s]\n",
      "100%|██████████| 31/31 [00:02<00:00, 12.51it/s]\n"
     ]
    },
    {
     "name": "stdout",
     "output_type": "stream",
     "text": [
      "Epoch 6/201 Training Loss: 30.019 Valid (L1): 29.749 Valid (PSNR): -30.897  Valid (SSIM): 0.001\n"
     ]
    },
    {
     "name": "stderr",
     "output_type": "stream",
     "text": [
      "100%|██████████| 67/67 [00:03<00:00, 20.23it/s]\n",
      "100%|██████████| 31/31 [00:02<00:00, 12.51it/s]\n"
     ]
    },
    {
     "name": "stdout",
     "output_type": "stream",
     "text": [
      "Epoch 7/201 Training Loss: 39.045 Valid (L1): 13.127 Valid (PSNR): -23.827  Valid (SSIM): 0.003\n"
     ]
    },
    {
     "name": "stderr",
     "output_type": "stream",
     "text": [
      "100%|██████████| 67/67 [00:03<00:00, 19.72it/s]\n",
      "100%|██████████| 31/31 [00:02<00:00, 12.48it/s]\n"
     ]
    },
    {
     "name": "stdout",
     "output_type": "stream",
     "text": [
      "Epoch 8/201 Training Loss: 21.004 Valid (L1): 18.069 Valid (PSNR): -27.694  Valid (SSIM): 0.000\n"
     ]
    },
    {
     "name": "stderr",
     "output_type": "stream",
     "text": [
      "100%|██████████| 67/67 [00:03<00:00, 19.23it/s]\n",
      "100%|██████████| 31/31 [00:02<00:00, 12.43it/s]\n"
     ]
    },
    {
     "name": "stdout",
     "output_type": "stream",
     "text": [
      "Epoch 9/201 Training Loss: 23.988 Valid (L1): 37.452 Valid (PSNR): -33.832  Valid (SSIM): 0.002\n"
     ]
    },
    {
     "name": "stderr",
     "output_type": "stream",
     "text": [
      "100%|██████████| 67/67 [00:03<00:00, 18.89it/s]\n",
      "100%|██████████| 31/31 [00:02<00:00, 12.46it/s]\n"
     ]
    },
    {
     "name": "stdout",
     "output_type": "stream",
     "text": [
      "Epoch 10/201 Training Loss: 22.831 Valid (L1): 11.849 Valid (PSNR): -22.728  Valid (SSIM): 0.002\n"
     ]
    },
    {
     "name": "stderr",
     "output_type": "stream",
     "text": [
      "100%|██████████| 67/67 [00:03<00:00, 18.65it/s]\n",
      "100%|██████████| 31/31 [00:02<00:00, 12.42it/s]\n"
     ]
    },
    {
     "name": "stdout",
     "output_type": "stream",
     "text": [
      "Epoch 11/201 Training Loss: 12.109 Valid (L1): 16.093 Valid (PSNR): -26.682  Valid (SSIM): 0.001\n"
     ]
    },
    {
     "name": "stderr",
     "output_type": "stream",
     "text": [
      "100%|██████████| 67/67 [00:03<00:00, 18.95it/s]\n",
      "100%|██████████| 31/31 [00:02<00:00, 12.39it/s]\n"
     ]
    },
    {
     "name": "stdout",
     "output_type": "stream",
     "text": [
      "Epoch 12/201 Training Loss: 13.591 Valid (L1): 9.371 Valid (PSNR): -20.281  Valid (SSIM): 0.000\n"
     ]
    },
    {
     "name": "stderr",
     "output_type": "stream",
     "text": [
      "100%|██████████| 67/67 [00:03<00:00, 18.94it/s]\n",
      "100%|██████████| 31/31 [00:02<00:00, 12.41it/s]\n"
     ]
    },
    {
     "name": "stdout",
     "output_type": "stream",
     "text": [
      "Epoch 13/201 Training Loss: 11.296 Valid (L1): 12.566 Valid (PSNR): -22.714  Valid (SSIM): 0.001\n"
     ]
    },
    {
     "name": "stderr",
     "output_type": "stream",
     "text": [
      "100%|██████████| 67/67 [00:03<00:00, 19.00it/s]\n",
      "100%|██████████| 31/31 [00:02<00:00, 12.41it/s]\n"
     ]
    },
    {
     "name": "stdout",
     "output_type": "stream",
     "text": [
      "Epoch 14/201 Training Loss: 15.112 Valid (L1): 25.506 Valid (PSNR): -30.396  Valid (SSIM): 0.002\n"
     ]
    },
    {
     "name": "stderr",
     "output_type": "stream",
     "text": [
      "100%|██████████| 67/67 [00:03<00:00, 18.84it/s]\n",
      "100%|██████████| 31/31 [00:02<00:00, 12.43it/s]\n"
     ]
    },
    {
     "name": "stdout",
     "output_type": "stream",
     "text": [
      "Epoch 15/201 Training Loss: 11.620 Valid (L1): 7.270 Valid (PSNR): -18.522  Valid (SSIM): 0.008\n"
     ]
    },
    {
     "name": "stderr",
     "output_type": "stream",
     "text": [
      "100%|██████████| 67/67 [00:03<00:00, 18.74it/s]\n",
      "100%|██████████| 31/31 [00:02<00:00, 12.40it/s]\n"
     ]
    },
    {
     "name": "stdout",
     "output_type": "stream",
     "text": [
      "Epoch 16/201 Training Loss: 23.579 Valid (L1): 53.052 Valid (PSNR): -35.585  Valid (SSIM): 0.001\n"
     ]
    },
    {
     "name": "stderr",
     "output_type": "stream",
     "text": [
      "100%|██████████| 67/67 [00:03<00:00, 18.78it/s]\n",
      "100%|██████████| 31/31 [00:02<00:00, 12.44it/s]\n"
     ]
    },
    {
     "name": "stdout",
     "output_type": "stream",
     "text": [
      "Epoch 17/201 Training Loss: 43.757 Valid (L1): 37.981 Valid (PSNR): -32.513  Valid (SSIM): 0.001\n"
     ]
    },
    {
     "name": "stderr",
     "output_type": "stream",
     "text": [
      "100%|██████████| 67/67 [00:03<00:00, 18.75it/s]\n",
      "100%|██████████| 31/31 [00:02<00:00, 12.42it/s]\n"
     ]
    },
    {
     "name": "stdout",
     "output_type": "stream",
     "text": [
      "Epoch 18/201 Training Loss: 20.935 Valid (L1): 14.229 Valid (PSNR): -25.295  Valid (SSIM): -0.009\n"
     ]
    },
    {
     "name": "stderr",
     "output_type": "stream",
     "text": [
      "100%|██████████| 67/67 [00:03<00:00, 18.74it/s]\n",
      "100%|██████████| 31/31 [00:02<00:00, 12.41it/s]\n"
     ]
    },
    {
     "name": "stdout",
     "output_type": "stream",
     "text": [
      "Epoch 19/201 Training Loss: 12.456 Valid (L1): 3.696 Valid (PSNR): -12.206  Valid (SSIM): -0.002\n"
     ]
    },
    {
     "name": "stderr",
     "output_type": "stream",
     "text": [
      "100%|██████████| 67/67 [00:03<00:00, 18.43it/s]\n",
      "100%|██████████| 31/31 [00:02<00:00, 12.39it/s]\n"
     ]
    },
    {
     "name": "stdout",
     "output_type": "stream",
     "text": [
      "Epoch 20/201 Training Loss: 8.872 Valid (L1): 8.302 Valid (PSNR): -19.503  Valid (SSIM): 0.001\n"
     ]
    },
    {
     "name": "stderr",
     "output_type": "stream",
     "text": [
      "100%|██████████| 67/67 [00:03<00:00, 18.58it/s]\n",
      "100%|██████████| 31/31 [00:02<00:00, 12.42it/s]\n"
     ]
    },
    {
     "name": "stdout",
     "output_type": "stream",
     "text": [
      "Epoch 21/201 Training Loss: 4.893 Valid (L1): 6.197 Valid (PSNR): -16.495  Valid (SSIM): 0.013\n"
     ]
    },
    {
     "name": "stderr",
     "output_type": "stream",
     "text": [
      "100%|██████████| 67/67 [00:03<00:00, 18.09it/s]\n",
      "100%|██████████| 31/31 [00:02<00:00, 12.36it/s]\n"
     ]
    },
    {
     "name": "stdout",
     "output_type": "stream",
     "text": [
      "Epoch 22/201 Training Loss: 4.702 Valid (L1): 6.385 Valid (PSNR): -16.640  Valid (SSIM): -0.001\n"
     ]
    },
    {
     "name": "stderr",
     "output_type": "stream",
     "text": [
      "100%|██████████| 67/67 [00:03<00:00, 18.46it/s]\n",
      "100%|██████████| 31/31 [00:02<00:00, 12.44it/s]\n"
     ]
    },
    {
     "name": "stdout",
     "output_type": "stream",
     "text": [
      "Epoch 23/201 Training Loss: 4.582 Valid (L1): 7.548 Valid (PSNR): -18.792  Valid (SSIM): 0.001\n"
     ]
    },
    {
     "name": "stderr",
     "output_type": "stream",
     "text": [
      "100%|██████████| 67/67 [00:03<00:00, 18.74it/s]\n",
      "100%|██████████| 31/31 [00:02<00:00, 12.45it/s]\n"
     ]
    },
    {
     "name": "stdout",
     "output_type": "stream",
     "text": [
      "Epoch 24/201 Training Loss: 4.202 Valid (L1): 1.143 Valid (PSNR): -2.941  Valid (SSIM): 0.141\n"
     ]
    },
    {
     "name": "stderr",
     "output_type": "stream",
     "text": [
      "100%|██████████| 67/67 [00:03<00:00, 18.72it/s]\n",
      "100%|██████████| 31/31 [00:02<00:00, 12.42it/s]\n"
     ]
    },
    {
     "name": "stdout",
     "output_type": "stream",
     "text": [
      "Epoch 25/201 Training Loss: 1.554 Valid (L1): 1.009 Valid (PSNR): -3.155  Valid (SSIM): 0.141\n"
     ]
    },
    {
     "name": "stderr",
     "output_type": "stream",
     "text": [
      "100%|██████████| 67/67 [00:03<00:00, 18.61it/s]\n",
      "100%|██████████| 31/31 [00:02<00:00, 12.45it/s]\n"
     ]
    },
    {
     "name": "stdout",
     "output_type": "stream",
     "text": [
      "Epoch 26/201 Training Loss: 5.659 Valid (L1): 2.088 Valid (PSNR): -8.084  Valid (SSIM): 0.024\n"
     ]
    },
    {
     "name": "stderr",
     "output_type": "stream",
     "text": [
      "100%|██████████| 67/67 [00:03<00:00, 18.91it/s]\n",
      "100%|██████████| 31/31 [00:02<00:00, 12.43it/s]\n"
     ]
    },
    {
     "name": "stdout",
     "output_type": "stream",
     "text": [
      "Epoch 27/201 Training Loss: 2.959 Valid (L1): 3.306 Valid (PSNR): -12.155  Valid (SSIM): 0.018\n"
     ]
    },
    {
     "name": "stderr",
     "output_type": "stream",
     "text": [
      "100%|██████████| 67/67 [00:03<00:00, 18.73it/s]\n",
      "100%|██████████| 31/31 [00:02<00:00, 12.43it/s]\n"
     ]
    },
    {
     "name": "stdout",
     "output_type": "stream",
     "text": [
      "Epoch 28/201 Training Loss: 2.122 Valid (L1): 3.597 Valid (PSNR): -12.342  Valid (SSIM): 0.032\n"
     ]
    },
    {
     "name": "stderr",
     "output_type": "stream",
     "text": [
      "100%|██████████| 67/67 [00:03<00:00, 18.76it/s]\n",
      "100%|██████████| 31/31 [00:02<00:00, 12.42it/s]\n"
     ]
    },
    {
     "name": "stdout",
     "output_type": "stream",
     "text": [
      "Epoch 29/201 Training Loss: 3.218 Valid (L1): 1.862 Valid (PSNR): -6.136  Valid (SSIM): -0.034\n"
     ]
    },
    {
     "name": "stderr",
     "output_type": "stream",
     "text": [
      "100%|██████████| 67/67 [00:03<00:00, 18.40it/s]\n",
      "100%|██████████| 31/31 [00:02<00:00, 12.42it/s]\n"
     ]
    },
    {
     "name": "stdout",
     "output_type": "stream",
     "text": [
      "Epoch 30/201 Training Loss: 3.803 Valid (L1): 1.284 Valid (PSNR): -3.721  Valid (SSIM): 0.094\n"
     ]
    },
    {
     "name": "stderr",
     "output_type": "stream",
     "text": [
      "100%|██████████| 67/67 [00:03<00:00, 18.89it/s]\n",
      "100%|██████████| 31/31 [00:02<00:00, 12.40it/s]\n"
     ]
    },
    {
     "name": "stdout",
     "output_type": "stream",
     "text": [
      "Epoch 31/201 Training Loss: 1.701 Valid (L1): 2.311 Valid (PSNR): -7.964  Valid (SSIM): 0.120\n"
     ]
    },
    {
     "name": "stderr",
     "output_type": "stream",
     "text": [
      "100%|██████████| 67/67 [00:03<00:00, 18.91it/s]\n",
      "100%|██████████| 31/31 [00:02<00:00, 12.42it/s]\n"
     ]
    },
    {
     "name": "stdout",
     "output_type": "stream",
     "text": [
      "Epoch 32/201 Training Loss: 1.361 Valid (L1): 0.597 Valid (PSNR): 2.524  Valid (SSIM): 0.136\n"
     ]
    },
    {
     "name": "stderr",
     "output_type": "stream",
     "text": [
      "100%|██████████| 67/67 [00:03<00:00, 18.39it/s]\n",
      "100%|██████████| 31/31 [00:02<00:00, 12.43it/s]\n"
     ]
    },
    {
     "name": "stdout",
     "output_type": "stream",
     "text": [
      "Epoch 33/201 Training Loss: 0.945 Valid (L1): 1.123 Valid (PSNR): -2.358  Valid (SSIM): 0.113\n"
     ]
    },
    {
     "name": "stderr",
     "output_type": "stream",
     "text": [
      "100%|██████████| 67/67 [00:03<00:00, 18.58it/s]\n",
      "100%|██████████| 31/31 [00:02<00:00, 12.45it/s]\n"
     ]
    },
    {
     "name": "stdout",
     "output_type": "stream",
     "text": [
      "Epoch 34/201 Training Loss: 1.350 Valid (L1): 1.606 Valid (PSNR): -7.358  Valid (SSIM): 0.159\n"
     ]
    },
    {
     "name": "stderr",
     "output_type": "stream",
     "text": [
      "100%|██████████| 67/67 [00:03<00:00, 18.83it/s]\n",
      "100%|██████████| 31/31 [00:02<00:00, 12.45it/s]\n"
     ]
    },
    {
     "name": "stdout",
     "output_type": "stream",
     "text": [
      "Epoch 35/201 Training Loss: 1.784 Valid (L1): 2.548 Valid (PSNR): -9.169  Valid (SSIM): -0.016\n"
     ]
    },
    {
     "name": "stderr",
     "output_type": "stream",
     "text": [
      "100%|██████████| 67/67 [00:03<00:00, 18.47it/s]\n",
      "100%|██████████| 31/31 [00:02<00:00, 12.47it/s]\n"
     ]
    },
    {
     "name": "stdout",
     "output_type": "stream",
     "text": [
      "Epoch 36/201 Training Loss: 1.547 Valid (L1): 1.441 Valid (PSNR): -3.964  Valid (SSIM): 0.003\n"
     ]
    },
    {
     "name": "stderr",
     "output_type": "stream",
     "text": [
      "100%|██████████| 67/67 [00:03<00:00, 18.54it/s]\n",
      "100%|██████████| 31/31 [00:02<00:00, 12.44it/s]\n"
     ]
    },
    {
     "name": "stdout",
     "output_type": "stream",
     "text": [
      "Epoch 37/201 Training Loss: 1.546 Valid (L1): 0.706 Valid (PSNR): 1.615  Valid (SSIM): 0.265\n"
     ]
    },
    {
     "name": "stderr",
     "output_type": "stream",
     "text": [
      "100%|██████████| 67/67 [00:03<00:00, 18.40it/s]\n",
      "100%|██████████| 31/31 [00:02<00:00, 12.40it/s]\n"
     ]
    },
    {
     "name": "stdout",
     "output_type": "stream",
     "text": [
      "Epoch 38/201 Training Loss: 0.743 Valid (L1): 0.774 Valid (PSNR): 0.836  Valid (SSIM): -0.034\n"
     ]
    },
    {
     "name": "stderr",
     "output_type": "stream",
     "text": [
      "100%|██████████| 67/67 [00:03<00:00, 18.35it/s]\n",
      "100%|██████████| 31/31 [00:02<00:00, 12.42it/s]\n"
     ]
    },
    {
     "name": "stdout",
     "output_type": "stream",
     "text": [
      "Epoch 39/201 Training Loss: 0.647 Valid (L1): 0.864 Valid (PSNR): 0.148  Valid (SSIM): 0.140\n"
     ]
    },
    {
     "name": "stderr",
     "output_type": "stream",
     "text": [
      "100%|██████████| 67/67 [00:03<00:00, 18.80it/s]\n",
      "100%|██████████| 31/31 [00:02<00:00, 12.42it/s]\n"
     ]
    },
    {
     "name": "stdout",
     "output_type": "stream",
     "text": [
      "Epoch 40/201 Training Loss: 0.951 Valid (L1): 0.863 Valid (PSNR): -1.067  Valid (SSIM): -0.019\n"
     ]
    },
    {
     "name": "stderr",
     "output_type": "stream",
     "text": [
      "100%|██████████| 67/67 [00:03<00:00, 18.61it/s]\n",
      "100%|██████████| 31/31 [00:02<00:00, 12.45it/s]\n"
     ]
    },
    {
     "name": "stdout",
     "output_type": "stream",
     "text": [
      "Epoch 41/201 Training Loss: 1.041 Valid (L1): 0.375 Valid (PSNR): 6.864  Valid (SSIM): 0.089\n"
     ]
    },
    {
     "name": "stderr",
     "output_type": "stream",
     "text": [
      "100%|██████████| 67/67 [00:03<00:00, 18.27it/s]\n",
      "100%|██████████| 31/31 [00:02<00:00, 12.44it/s]\n"
     ]
    },
    {
     "name": "stdout",
     "output_type": "stream",
     "text": [
      "Epoch 42/201 Training Loss: 0.472 Valid (L1): 0.325 Valid (PSNR): 7.774  Valid (SSIM): 0.165\n"
     ]
    },
    {
     "name": "stderr",
     "output_type": "stream",
     "text": [
      "100%|██████████| 67/67 [00:03<00:00, 18.81it/s]\n",
      "100%|██████████| 31/31 [00:02<00:00, 12.41it/s]\n"
     ]
    },
    {
     "name": "stdout",
     "output_type": "stream",
     "text": [
      "Epoch 43/201 Training Loss: 0.536 Valid (L1): 0.755 Valid (PSNR): 1.579  Valid (SSIM): 0.166\n"
     ]
    },
    {
     "name": "stderr",
     "output_type": "stream",
     "text": [
      "100%|██████████| 67/67 [00:03<00:00, 18.73it/s]\n",
      "100%|██████████| 31/31 [00:02<00:00, 12.38it/s]\n"
     ]
    },
    {
     "name": "stdout",
     "output_type": "stream",
     "text": [
      "Epoch 44/201 Training Loss: 0.883 Valid (L1): 0.679 Valid (PSNR): 1.749  Valid (SSIM): 0.246\n"
     ]
    },
    {
     "name": "stderr",
     "output_type": "stream",
     "text": [
      "100%|██████████| 67/67 [00:03<00:00, 18.50it/s]\n",
      "100%|██████████| 31/31 [00:02<00:00, 12.41it/s]\n"
     ]
    },
    {
     "name": "stdout",
     "output_type": "stream",
     "text": [
      "Epoch 45/201 Training Loss: 0.876 Valid (L1): 0.781 Valid (PSNR): 0.388  Valid (SSIM): 0.079\n"
     ]
    },
    {
     "name": "stderr",
     "output_type": "stream",
     "text": [
      "100%|██████████| 67/67 [00:03<00:00, 18.39it/s]\n",
      "100%|██████████| 31/31 [00:02<00:00, 12.42it/s]\n"
     ]
    },
    {
     "name": "stdout",
     "output_type": "stream",
     "text": [
      "Epoch 46/201 Training Loss: 0.512 Valid (L1): 1.154 Valid (PSNR): -3.289  Valid (SSIM): 0.201\n"
     ]
    },
    {
     "name": "stderr",
     "output_type": "stream",
     "text": [
      "100%|██████████| 67/67 [00:03<00:00, 18.49it/s]\n",
      "100%|██████████| 31/31 [00:02<00:00, 12.39it/s]\n"
     ]
    },
    {
     "name": "stdout",
     "output_type": "stream",
     "text": [
      "Epoch 47/201 Training Loss: 0.466 Valid (L1): 1.007 Valid (PSNR): -0.723  Valid (SSIM): 0.250\n"
     ]
    },
    {
     "name": "stderr",
     "output_type": "stream",
     "text": [
      "100%|██████████| 67/67 [00:03<00:00, 18.58it/s]\n",
      "100%|██████████| 31/31 [00:02<00:00, 12.43it/s]\n"
     ]
    },
    {
     "name": "stdout",
     "output_type": "stream",
     "text": [
      "Epoch 48/201 Training Loss: 0.685 Valid (L1): 0.786 Valid (PSNR): 1.167  Valid (SSIM): 0.115\n"
     ]
    },
    {
     "name": "stderr",
     "output_type": "stream",
     "text": [
      "100%|██████████| 67/67 [00:03<00:00, 18.64it/s]\n",
      "100%|██████████| 31/31 [00:02<00:00, 12.41it/s]\n"
     ]
    },
    {
     "name": "stdout",
     "output_type": "stream",
     "text": [
      "Epoch 49/201 Training Loss: 0.475 Valid (L1): 0.313 Valid (PSNR): 8.912  Valid (SSIM): 0.353\n"
     ]
    },
    {
     "name": "stderr",
     "output_type": "stream",
     "text": [
      "100%|██████████| 67/67 [00:03<00:00, 17.79it/s]\n",
      "100%|██████████| 31/31 [00:02<00:00, 12.41it/s]\n"
     ]
    },
    {
     "name": "stdout",
     "output_type": "stream",
     "text": [
      "Epoch 50/201 Training Loss: 0.424 Valid (L1): 0.233 Valid (PSNR): 11.721  Valid (SSIM): 0.404\n"
     ]
    },
    {
     "name": "stderr",
     "output_type": "stream",
     "text": [
      "100%|██████████| 67/67 [00:03<00:00, 18.74it/s]\n",
      "100%|██████████| 31/31 [00:02<00:00, 12.44it/s]\n"
     ]
    },
    {
     "name": "stdout",
     "output_type": "stream",
     "text": [
      "Epoch 51/201 Training Loss: 0.318 Valid (L1): 0.317 Valid (PSNR): 8.234  Valid (SSIM): 0.171\n"
     ]
    },
    {
     "name": "stderr",
     "output_type": "stream",
     "text": [
      "100%|██████████| 67/67 [00:03<00:00, 18.56it/s]\n",
      "100%|██████████| 31/31 [00:02<00:00, 12.40it/s]\n"
     ]
    },
    {
     "name": "stdout",
     "output_type": "stream",
     "text": [
      "Epoch 52/201 Training Loss: 0.458 Valid (L1): 0.956 Valid (PSNR): -0.150  Valid (SSIM): -0.044\n"
     ]
    },
    {
     "name": "stderr",
     "output_type": "stream",
     "text": [
      "100%|██████████| 67/67 [00:03<00:00, 18.68it/s]\n",
      "100%|██████████| 31/31 [00:02<00:00, 12.42it/s]\n"
     ]
    },
    {
     "name": "stdout",
     "output_type": "stream",
     "text": [
      "Epoch 53/201 Training Loss: 0.434 Valid (L1): 0.565 Valid (PSNR): 3.859  Valid (SSIM): 0.163\n"
     ]
    },
    {
     "name": "stderr",
     "output_type": "stream",
     "text": [
      "100%|██████████| 67/67 [00:03<00:00, 18.80it/s]\n",
      "100%|██████████| 31/31 [00:02<00:00, 12.42it/s]\n"
     ]
    },
    {
     "name": "stdout",
     "output_type": "stream",
     "text": [
      "Epoch 54/201 Training Loss: 0.343 Valid (L1): 0.302 Valid (PSNR): 9.037  Valid (SSIM): 0.405\n"
     ]
    },
    {
     "name": "stderr",
     "output_type": "stream",
     "text": [
      "100%|██████████| 67/67 [00:03<00:00, 18.72it/s]\n",
      "100%|██████████| 31/31 [00:02<00:00, 12.40it/s]\n"
     ]
    },
    {
     "name": "stdout",
     "output_type": "stream",
     "text": [
      "Epoch 55/201 Training Loss: 0.796 Valid (L1): 0.588 Valid (PSNR): 4.017  Valid (SSIM): 0.181\n"
     ]
    },
    {
     "name": "stderr",
     "output_type": "stream",
     "text": [
      "100%|██████████| 67/67 [00:03<00:00, 18.63it/s]\n",
      "100%|██████████| 31/31 [00:02<00:00, 12.42it/s]\n"
     ]
    },
    {
     "name": "stdout",
     "output_type": "stream",
     "text": [
      "Epoch 56/201 Training Loss: 0.489 Valid (L1): 0.145 Valid (PSNR): 14.740  Valid (SSIM): 0.404\n"
     ]
    },
    {
     "name": "stderr",
     "output_type": "stream",
     "text": [
      "100%|██████████| 67/67 [00:03<00:00, 18.88it/s]\n",
      "100%|██████████| 31/31 [00:02<00:00, 12.40it/s]\n"
     ]
    },
    {
     "name": "stdout",
     "output_type": "stream",
     "text": [
      "Epoch 57/201 Training Loss: 0.353 Valid (L1): 0.147 Valid (PSNR): 15.020  Valid (SSIM): 0.457\n"
     ]
    },
    {
     "name": "stderr",
     "output_type": "stream",
     "text": [
      "100%|██████████| 67/67 [00:03<00:00, 18.72it/s]\n",
      "100%|██████████| 31/31 [00:02<00:00, 12.42it/s]\n"
     ]
    },
    {
     "name": "stdout",
     "output_type": "stream",
     "text": [
      "Epoch 58/201 Training Loss: 0.208 Valid (L1): 0.295 Valid (PSNR): 8.389  Valid (SSIM): 0.245\n"
     ]
    },
    {
     "name": "stderr",
     "output_type": "stream",
     "text": [
      "100%|██████████| 67/67 [00:03<00:00, 18.42it/s]\n",
      "100%|██████████| 31/31 [00:02<00:00, 12.43it/s]\n"
     ]
    },
    {
     "name": "stdout",
     "output_type": "stream",
     "text": [
      "Epoch 59/201 Training Loss: 0.250 Valid (L1): 0.280 Valid (PSNR): 9.499  Valid (SSIM): 0.384\n"
     ]
    },
    {
     "name": "stderr",
     "output_type": "stream",
     "text": [
      "100%|██████████| 67/67 [00:03<00:00, 18.37it/s]\n",
      "100%|██████████| 31/31 [00:02<00:00, 12.43it/s]\n"
     ]
    },
    {
     "name": "stdout",
     "output_type": "stream",
     "text": [
      "Epoch 60/201 Training Loss: 0.288 Valid (L1): 0.319 Valid (PSNR): 7.956  Valid (SSIM): 0.429\n"
     ]
    },
    {
     "name": "stderr",
     "output_type": "stream",
     "text": [
      "100%|██████████| 67/67 [00:03<00:00, 18.77it/s]\n",
      "100%|██████████| 31/31 [00:02<00:00, 12.40it/s]\n"
     ]
    },
    {
     "name": "stdout",
     "output_type": "stream",
     "text": [
      "Epoch 61/201 Training Loss: 0.316 Valid (L1): 0.297 Valid (PSNR): 8.500  Valid (SSIM): 0.439\n"
     ]
    },
    {
     "name": "stderr",
     "output_type": "stream",
     "text": [
      "100%|██████████| 67/67 [00:03<00:00, 18.26it/s]\n",
      "100%|██████████| 31/31 [00:02<00:00, 12.45it/s]\n"
     ]
    },
    {
     "name": "stdout",
     "output_type": "stream",
     "text": [
      "Epoch 62/201 Training Loss: 0.262 Valid (L1): 0.161 Valid (PSNR): 14.108  Valid (SSIM): 0.479\n"
     ]
    },
    {
     "name": "stderr",
     "output_type": "stream",
     "text": [
      "100%|██████████| 67/67 [00:03<00:00, 18.31it/s]\n",
      "100%|██████████| 31/31 [00:02<00:00, 12.42it/s]\n"
     ]
    },
    {
     "name": "stdout",
     "output_type": "stream",
     "text": [
      "Epoch 63/201 Training Loss: 0.346 Valid (L1): 0.165 Valid (PSNR): 13.693  Valid (SSIM): 0.427\n"
     ]
    },
    {
     "name": "stderr",
     "output_type": "stream",
     "text": [
      "100%|██████████| 67/67 [00:03<00:00, 18.65it/s]\n",
      "100%|██████████| 31/31 [00:02<00:00, 12.39it/s]\n"
     ]
    },
    {
     "name": "stdout",
     "output_type": "stream",
     "text": [
      "Epoch 64/201 Training Loss: 0.229 Valid (L1): 0.403 Valid (PSNR): 6.883  Valid (SSIM): 0.232\n"
     ]
    },
    {
     "name": "stderr",
     "output_type": "stream",
     "text": [
      "100%|██████████| 67/67 [00:03<00:00, 18.47it/s]\n",
      "100%|██████████| 31/31 [00:02<00:00, 12.44it/s]\n"
     ]
    },
    {
     "name": "stdout",
     "output_type": "stream",
     "text": [
      "Epoch 65/201 Training Loss: 0.268 Valid (L1): 0.107 Valid (PSNR): 17.517  Valid (SSIM): 0.504\n"
     ]
    },
    {
     "name": "stderr",
     "output_type": "stream",
     "text": [
      "100%|██████████| 67/67 [00:03<00:00, 18.66it/s]\n",
      "100%|██████████| 31/31 [00:02<00:00, 12.40it/s]\n"
     ]
    },
    {
     "name": "stdout",
     "output_type": "stream",
     "text": [
      "Epoch 66/201 Training Loss: 0.203 Valid (L1): 0.425 Valid (PSNR): 6.267  Valid (SSIM): 0.180\n"
     ]
    },
    {
     "name": "stderr",
     "output_type": "stream",
     "text": [
      "100%|██████████| 67/67 [00:03<00:00, 18.88it/s]\n",
      "100%|██████████| 31/31 [00:02<00:00, 12.38it/s]\n"
     ]
    },
    {
     "name": "stdout",
     "output_type": "stream",
     "text": [
      "Epoch 67/201 Training Loss: 0.384 Valid (L1): 0.457 Valid (PSNR): 5.986  Valid (SSIM): 0.228\n"
     ]
    },
    {
     "name": "stderr",
     "output_type": "stream",
     "text": [
      "100%|██████████| 67/67 [00:03<00:00, 18.45it/s]\n",
      "100%|██████████| 31/31 [00:02<00:00, 12.45it/s]\n"
     ]
    },
    {
     "name": "stdout",
     "output_type": "stream",
     "text": [
      "Epoch 68/201 Training Loss: 0.497 Valid (L1): 0.630 Valid (PSNR): 2.417  Valid (SSIM): 0.344\n"
     ]
    },
    {
     "name": "stderr",
     "output_type": "stream",
     "text": [
      "100%|██████████| 67/67 [00:03<00:00, 18.64it/s]\n",
      "100%|██████████| 31/31 [00:02<00:00, 12.43it/s]\n"
     ]
    },
    {
     "name": "stdout",
     "output_type": "stream",
     "text": [
      "Epoch 69/201 Training Loss: 10.656 Valid (L1): 7.648 Valid (PSNR): -18.334  Valid (SSIM): 0.023\n"
     ]
    },
    {
     "name": "stderr",
     "output_type": "stream",
     "text": [
      "100%|██████████| 67/67 [00:03<00:00, 18.66it/s]\n",
      "100%|██████████| 31/31 [00:02<00:00, 12.43it/s]\n"
     ]
    },
    {
     "name": "stdout",
     "output_type": "stream",
     "text": [
      "Epoch 70/201 Training Loss: 589406.650 Valid (L1): 68678271.290 Valid (PSNR): -157.184  Valid (SSIM): 0.000\n"
     ]
    },
    {
     "name": "stderr",
     "output_type": "stream",
     "text": [
      "100%|██████████| 67/67 [00:03<00:00, 18.42it/s]\n",
      "100%|██████████| 31/31 [00:02<00:00, 12.43it/s]\n"
     ]
    },
    {
     "name": "stdout",
     "output_type": "stream",
     "text": [
      "Epoch 71/201 Training Loss: 142659087103300.250 Valid (L1): 3097917162529.032 Valid (PSNR): -251.834  Valid (SSIM): 0.000\n"
     ]
    },
    {
     "name": "stderr",
     "output_type": "stream",
     "text": [
      "100%|██████████| 67/67 [00:03<00:00, 18.39it/s]\n",
      "100%|██████████| 31/31 [00:02<00:00, 12.46it/s]\n"
     ]
    },
    {
     "name": "stdout",
     "output_type": "stream",
     "text": [
      "Epoch 72/201 Training Loss: 6158117599603452.000 Valid (L1): 1512174743952615.250 Valid (PSNR): -307.994  Valid (SSIM): 0.000\n"
     ]
    },
    {
     "name": "stderr",
     "output_type": "stream",
     "text": [
      "100%|██████████| 67/67 [00:03<00:00, 17.96it/s]\n",
      "100%|██████████| 31/31 [00:02<00:00, 12.41it/s]\n"
     ]
    },
    {
     "name": "stdout",
     "output_type": "stream",
     "text": [
      "Epoch 73/201 Training Loss: 122989799983256.828 Valid (L1): 1912195556649.290 Valid (PSNR): -247.326  Valid (SSIM): 0.000\n"
     ]
    },
    {
     "name": "stderr",
     "output_type": "stream",
     "text": [
      "100%|██████████| 67/67 [00:03<00:00, 18.59it/s]\n",
      "100%|██████████| 31/31 [00:02<00:00, 12.43it/s]\n"
     ]
    },
    {
     "name": "stdout",
     "output_type": "stream",
     "text": [
      "Epoch 74/201 Training Loss: 1020998490815.045 Valid (L1): 648990076267.355 Valid (PSNR): -236.940  Valid (SSIM): 0.000\n"
     ]
    },
    {
     "name": "stderr",
     "output_type": "stream",
     "text": [
      "100%|██████████| 67/67 [00:03<00:00, 18.21it/s]\n",
      "100%|██████████| 31/31 [00:02<00:00, 12.39it/s]\n"
     ]
    },
    {
     "name": "stdout",
     "output_type": "stream",
     "text": [
      "Epoch 75/201 Training Loss: 1273103545970.627 Valid (L1): 2469959421555.613 Valid (PSNR): -249.279  Valid (SSIM): 0.000\n"
     ]
    },
    {
     "name": "stderr",
     "output_type": "stream",
     "text": [
      "100%|██████████| 67/67 [00:03<00:00, 18.79it/s]\n",
      "100%|██████████| 31/31 [00:02<00:00, 12.42it/s]\n"
     ]
    },
    {
     "name": "stdout",
     "output_type": "stream",
     "text": [
      "Epoch 76/201 Training Loss: 1015830192494.806 Valid (L1): 867444315829.677 Valid (PSNR): -240.764  Valid (SSIM): 0.000\n"
     ]
    },
    {
     "name": "stderr",
     "output_type": "stream",
     "text": [
      "100%|██████████| 67/67 [00:03<00:00, 18.63it/s]\n",
      "100%|██████████| 31/31 [00:02<00:00, 12.44it/s]\n"
     ]
    },
    {
     "name": "stdout",
     "output_type": "stream",
     "text": [
      "Epoch 77/201 Training Loss: 652797152362.985 Valid (L1): 267566472687.484 Valid (PSNR): -230.045  Valid (SSIM): 0.000\n"
     ]
    },
    {
     "name": "stderr",
     "output_type": "stream",
     "text": [
      "100%|██████████| 67/67 [00:03<00:00, 18.64it/s]\n",
      "100%|██████████| 31/31 [00:02<00:00, 12.46it/s]\n"
     ]
    },
    {
     "name": "stdout",
     "output_type": "stream",
     "text": [
      "Epoch 78/201 Training Loss: 766773653198.328 Valid (L1): 963008126711.742 Valid (PSNR): -240.772  Valid (SSIM): 0.000\n"
     ]
    },
    {
     "name": "stderr",
     "output_type": "stream",
     "text": [
      "100%|██████████| 67/67 [00:03<00:00, 18.14it/s]\n",
      "100%|██████████| 31/31 [00:02<00:00, 12.42it/s]\n"
     ]
    },
    {
     "name": "stdout",
     "output_type": "stream",
     "text": [
      "Epoch 79/201 Training Loss: 694849479756.418 Valid (L1): 614201663752.258 Valid (PSNR): -237.914  Valid (SSIM): 0.000\n"
     ]
    },
    {
     "name": "stderr",
     "output_type": "stream",
     "text": [
      "100%|██████████| 67/67 [00:03<00:00, 18.37it/s]\n",
      "100%|██████████| 31/31 [00:02<00:00, 12.44it/s]\n"
     ]
    },
    {
     "name": "stdout",
     "output_type": "stream",
     "text": [
      "Epoch 80/201 Training Loss: 559086604838.209 Valid (L1): 160250976982.710 Valid (PSNR): -225.364  Valid (SSIM): -0.000\n"
     ]
    },
    {
     "name": "stderr",
     "output_type": "stream",
     "text": [
      "100%|██████████| 67/67 [00:03<00:00, 18.73it/s]\n",
      "100%|██████████| 31/31 [00:02<00:00, 12.41it/s]\n"
     ]
    },
    {
     "name": "stdout",
     "output_type": "stream",
     "text": [
      "Epoch 81/201 Training Loss: 323659428879.284 Valid (L1): 326716782525.935 Valid (PSNR): -231.855  Valid (SSIM): 0.000\n"
     ]
    },
    {
     "name": "stderr",
     "output_type": "stream",
     "text": [
      "100%|██████████| 67/67 [00:03<00:00, 18.83it/s]\n",
      "100%|██████████| 31/31 [00:02<00:00, 12.44it/s]\n"
     ]
    },
    {
     "name": "stdout",
     "output_type": "stream",
     "text": [
      "Epoch 82/201 Training Loss: 355376641650.627 Valid (L1): 192038396432.516 Valid (PSNR): -229.128  Valid (SSIM): 0.000\n"
     ]
    },
    {
     "name": "stderr",
     "output_type": "stream",
     "text": [
      "100%|██████████| 67/67 [00:03<00:00, 18.55it/s]\n",
      "100%|██████████| 31/31 [00:02<00:00, 12.44it/s]\n"
     ]
    },
    {
     "name": "stdout",
     "output_type": "stream",
     "text": [
      "Epoch 83/201 Training Loss: 367368090944.955 Valid (L1): 586474955016.258 Valid (PSNR): -235.995  Valid (SSIM): 0.000\n"
     ]
    },
    {
     "name": "stderr",
     "output_type": "stream",
     "text": [
      "100%|██████████| 67/67 [00:03<00:00, 18.47it/s]\n",
      "100%|██████████| 31/31 [00:02<00:00, 12.42it/s]\n"
     ]
    },
    {
     "name": "stdout",
     "output_type": "stream",
     "text": [
      "Epoch 84/201 Training Loss: 428012538864.716 Valid (L1): 292422412618.323 Valid (PSNR): -231.192  Valid (SSIM): 0.000\n"
     ]
    },
    {
     "name": "stderr",
     "output_type": "stream",
     "text": [
      "100%|██████████| 67/67 [00:03<00:00, 18.67it/s]\n",
      "100%|██████████| 31/31 [00:02<00:00, 12.45it/s]\n"
     ]
    },
    {
     "name": "stdout",
     "output_type": "stream",
     "text": [
      "Epoch 85/201 Training Loss: 346793628320.478 Valid (L1): 218545083821.419 Valid (PSNR): -227.678  Valid (SSIM): 0.000\n"
     ]
    },
    {
     "name": "stderr",
     "output_type": "stream",
     "text": [
      "100%|██████████| 67/67 [00:03<00:00, 18.58it/s]\n",
      "100%|██████████| 31/31 [00:02<00:00, 12.43it/s]\n"
     ]
    },
    {
     "name": "stdout",
     "output_type": "stream",
     "text": [
      "Epoch 86/201 Training Loss: 265372124236.418 Valid (L1): 464419341873.548 Valid (PSNR): -234.066  Valid (SSIM): 0.000\n"
     ]
    },
    {
     "name": "stderr",
     "output_type": "stream",
     "text": [
      "100%|██████████| 67/67 [00:03<00:00, 18.89it/s]\n",
      "100%|██████████| 31/31 [00:02<00:00, 12.45it/s]\n"
     ]
    },
    {
     "name": "stdout",
     "output_type": "stream",
     "text": [
      "Epoch 87/201 Training Loss: 295108785962.030 Valid (L1): 227219275511.742 Valid (PSNR): -228.224  Valid (SSIM): 0.000\n"
     ]
    },
    {
     "name": "stderr",
     "output_type": "stream",
     "text": [
      "100%|██████████| 67/67 [00:03<00:00, 18.67it/s]\n",
      "100%|██████████| 31/31 [00:02<00:00, 12.38it/s]\n"
     ]
    },
    {
     "name": "stdout",
     "output_type": "stream",
     "text": [
      "Epoch 88/201 Training Loss: 202495005527.881 Valid (L1): 78320513156.129 Valid (PSNR): -220.656  Valid (SSIM): -0.000\n"
     ]
    },
    {
     "name": "stderr",
     "output_type": "stream",
     "text": [
      "100%|██████████| 67/67 [00:03<00:00, 18.68it/s]\n",
      "100%|██████████| 31/31 [00:02<00:00, 12.39it/s]\n"
     ]
    },
    {
     "name": "stdout",
     "output_type": "stream",
     "text": [
      "Epoch 89/201 Training Loss: 147014234142.567 Valid (L1): 122030964075.355 Valid (PSNR): -222.114  Valid (SSIM): 0.000\n"
     ]
    },
    {
     "name": "stderr",
     "output_type": "stream",
     "text": [
      "100%|██████████| 67/67 [00:03<00:00, 18.72it/s]\n",
      "100%|██████████| 31/31 [00:02<00:00, 12.40it/s]\n"
     ]
    },
    {
     "name": "stdout",
     "output_type": "stream",
     "text": [
      "Epoch 90/201 Training Loss: 164511869248.955 Valid (L1): 82996450072.774 Valid (PSNR): -219.652  Valid (SSIM): -0.000\n"
     ]
    },
    {
     "name": "stderr",
     "output_type": "stream",
     "text": [
      "100%|██████████| 67/67 [00:03<00:00, 18.54it/s]\n",
      "100%|██████████| 31/31 [00:02<00:00, 12.40it/s]\n"
     ]
    },
    {
     "name": "stdout",
     "output_type": "stream",
     "text": [
      "Epoch 91/201 Training Loss: 201260030777.313 Valid (L1): 277410487262.968 Valid (PSNR): -230.553  Valid (SSIM): 0.000\n"
     ]
    },
    {
     "name": "stderr",
     "output_type": "stream",
     "text": [
      "100%|██████████| 67/67 [00:03<00:00, 18.75it/s]\n",
      "100%|██████████| 31/31 [00:02<00:00, 12.42it/s]\n"
     ]
    },
    {
     "name": "stdout",
     "output_type": "stream",
     "text": [
      "Epoch 92/201 Training Loss: 105009905052.657 Valid (L1): 139185577719.742 Valid (PSNR): -223.439  Valid (SSIM): -0.000\n"
     ]
    },
    {
     "name": "stderr",
     "output_type": "stream",
     "text": [
      "100%|██████████| 67/67 [00:03<00:00, 18.90it/s]\n",
      "100%|██████████| 31/31 [00:02<00:00, 12.42it/s]\n"
     ]
    },
    {
     "name": "stdout",
     "output_type": "stream",
     "text": [
      "Epoch 93/201 Training Loss: 158721527624.597 Valid (L1): 271870484215.742 Valid (PSNR): -231.198  Valid (SSIM): -0.000\n"
     ]
    },
    {
     "name": "stderr",
     "output_type": "stream",
     "text": [
      "100%|██████████| 67/67 [00:03<00:00, 18.39it/s]\n",
      "100%|██████████| 31/31 [00:02<00:00, 12.40it/s]\n"
     ]
    },
    {
     "name": "stdout",
     "output_type": "stream",
     "text": [
      "Epoch 94/201 Training Loss: 178864663475.582 Valid (L1): 174902595980.387 Valid (PSNR): -225.230  Valid (SSIM): -0.000\n"
     ]
    },
    {
     "name": "stderr",
     "output_type": "stream",
     "text": [
      "100%|██████████| 67/67 [00:03<00:00, 18.32it/s]\n",
      "100%|██████████| 31/31 [00:02<00:00, 12.43it/s]\n"
     ]
    },
    {
     "name": "stdout",
     "output_type": "stream",
     "text": [
      "Epoch 95/201 Training Loss: 117564306569.552 Valid (L1): 290044595563.355 Valid (PSNR): -229.736  Valid (SSIM): 0.000\n"
     ]
    },
    {
     "name": "stderr",
     "output_type": "stream",
     "text": [
      "100%|██████████| 67/67 [00:03<00:00, 18.65it/s]\n",
      "100%|██████████| 31/31 [00:02<00:00, 12.44it/s]\n"
     ]
    },
    {
     "name": "stdout",
     "output_type": "stream",
     "text": [
      "Epoch 96/201 Training Loss: 103735939698.627 Valid (L1): 215683305604.129 Valid (PSNR): -227.566  Valid (SSIM): 0.000\n"
     ]
    },
    {
     "name": "stderr",
     "output_type": "stream",
     "text": [
      "100%|██████████| 67/67 [00:03<00:00, 18.72it/s]\n",
      "100%|██████████| 31/31 [00:02<00:00, 12.42it/s]\n"
     ]
    },
    {
     "name": "stdout",
     "output_type": "stream",
     "text": [
      "Epoch 97/201 Training Loss: 205229396395.940 Valid (L1): 361159731001.806 Valid (PSNR): -232.466  Valid (SSIM): 0.000\n"
     ]
    },
    {
     "name": "stderr",
     "output_type": "stream",
     "text": [
      "100%|██████████| 67/67 [00:03<00:00, 18.66it/s]\n",
      "100%|██████████| 31/31 [00:02<00:00, 12.40it/s]\n"
     ]
    },
    {
     "name": "stdout",
     "output_type": "stream",
     "text": [
      "Epoch 98/201 Training Loss: 154280226082.388 Valid (L1): 245548246049.032 Valid (PSNR): -229.726  Valid (SSIM): -0.000\n"
     ]
    },
    {
     "name": "stderr",
     "output_type": "stream",
     "text": [
      "100%|██████████| 67/67 [00:03<00:00, 18.68it/s]\n",
      "100%|██████████| 31/31 [00:02<00:00, 12.41it/s]\n"
     ]
    },
    {
     "name": "stdout",
     "output_type": "stream",
     "text": [
      "Epoch 99/201 Training Loss: 213152559807.045 Valid (L1): 229598175232.000 Valid (PSNR): -228.875  Valid (SSIM): 0.000\n"
     ]
    },
    {
     "name": "stderr",
     "output_type": "stream",
     "text": [
      "100%|██████████| 67/67 [00:03<00:00, 18.94it/s]\n",
      "100%|██████████| 31/31 [00:02<00:00, 12.44it/s]\n"
     ]
    },
    {
     "name": "stdout",
     "output_type": "stream",
     "text": [
      "Epoch 100/201 Training Loss: 123243787401.552 Valid (L1): 125910672681.290 Valid (PSNR): -224.107  Valid (SSIM): -0.000\n"
     ]
    },
    {
     "name": "stderr",
     "output_type": "stream",
     "text": [
      "100%|██████████| 67/67 [00:03<00:00, 18.71it/s]\n",
      "100%|██████████| 31/31 [00:02<00:00, 12.41it/s]\n"
     ]
    },
    {
     "name": "stdout",
     "output_type": "stream",
     "text": [
      "Epoch 101/201 Training Loss: 243026497169.194 Valid (L1): 170112491520.000 Valid (PSNR): -226.660  Valid (SSIM): 0.000\n"
     ]
    },
    {
     "name": "stderr",
     "output_type": "stream",
     "text": [
      "100%|██████████| 67/67 [00:03<00:00, 18.66it/s]\n",
      "100%|██████████| 31/31 [00:02<00:00, 12.43it/s]\n"
     ]
    },
    {
     "name": "stdout",
     "output_type": "stream",
     "text": [
      "Epoch 102/201 Training Loss: 140108877090.388 Valid (L1): 72547458741.677 Valid (PSNR): -218.992  Valid (SSIM): 0.000\n"
     ]
    },
    {
     "name": "stderr",
     "output_type": "stream",
     "text": [
      "100%|██████████| 67/67 [00:03<00:00, 18.63it/s]\n",
      "100%|██████████| 31/31 [00:02<00:00, 12.44it/s]\n"
     ]
    },
    {
     "name": "stdout",
     "output_type": "stream",
     "text": [
      "Epoch 103/201 Training Loss: 131979286711.403 Valid (L1): 159339081331.613 Valid (PSNR): -224.916  Valid (SSIM): 0.000\n"
     ]
    },
    {
     "name": "stderr",
     "output_type": "stream",
     "text": [
      "100%|██████████| 67/67 [00:03<00:00, 18.22it/s]\n",
      "100%|██████████| 31/31 [00:02<00:00, 12.44it/s]\n"
     ]
    },
    {
     "name": "stdout",
     "output_type": "stream",
     "text": [
      "Epoch 104/201 Training Loss: 139620237831.642 Valid (L1): 90153516659.613 Valid (PSNR): -220.490  Valid (SSIM): -0.000\n"
     ]
    },
    {
     "name": "stderr",
     "output_type": "stream",
     "text": [
      "100%|██████████| 67/67 [00:03<00:00, 18.76it/s]\n",
      "100%|██████████| 31/31 [00:02<00:00, 12.43it/s]\n"
     ]
    },
    {
     "name": "stdout",
     "output_type": "stream",
     "text": [
      "Epoch 105/201 Training Loss: 168318299915.463 Valid (L1): 76042783843.097 Valid (PSNR): -218.408  Valid (SSIM): 0.000\n"
     ]
    },
    {
     "name": "stderr",
     "output_type": "stream",
     "text": [
      "100%|██████████| 67/67 [00:03<00:00, 17.96it/s]\n",
      "100%|██████████| 31/31 [00:02<00:00, 12.41it/s]\n"
     ]
    },
    {
     "name": "stdout",
     "output_type": "stream",
     "text": [
      "Epoch 106/201 Training Loss: 135799164561.194 Valid (L1): 73045880964.129 Valid (PSNR): -217.654  Valid (SSIM): 0.000\n"
     ]
    },
    {
     "name": "stderr",
     "output_type": "stream",
     "text": [
      "100%|██████████| 67/67 [00:03<00:00, 18.26it/s]\n",
      "100%|██████████| 31/31 [00:02<00:00, 12.44it/s]\n"
     ]
    },
    {
     "name": "stdout",
     "output_type": "stream",
     "text": [
      "Epoch 107/201 Training Loss: 124061532236.418 Valid (L1): 118233408280.774 Valid (PSNR): -222.193  Valid (SSIM): 0.000\n"
     ]
    },
    {
     "name": "stderr",
     "output_type": "stream",
     "text": [
      "100%|██████████| 67/67 [00:03<00:00, 18.14it/s]\n",
      "100%|██████████| 31/31 [00:02<00:00, 12.42it/s]\n"
     ]
    },
    {
     "name": "stdout",
     "output_type": "stream",
     "text": [
      "Epoch 108/201 Training Loss: 129974754441.552 Valid (L1): 57610190715.871 Valid (PSNR): -216.745  Valid (SSIM): -0.000\n"
     ]
    },
    {
     "name": "stderr",
     "output_type": "stream",
     "text": [
      "100%|██████████| 67/67 [00:03<00:00, 18.59it/s]\n",
      "100%|██████████| 31/31 [00:02<00:00, 12.45it/s]\n"
     ]
    },
    {
     "name": "stdout",
     "output_type": "stream",
     "text": [
      "Epoch 109/201 Training Loss: 100106688588.418 Valid (L1): 175814667363.097 Valid (PSNR): -226.177  Valid (SSIM): 0.000\n"
     ]
    },
    {
     "name": "stderr",
     "output_type": "stream",
     "text": [
      "100%|██████████| 67/67 [00:03<00:00, 18.88it/s]\n",
      "100%|██████████| 31/31 [00:02<00:00, 12.39it/s]\n"
     ]
    },
    {
     "name": "stdout",
     "output_type": "stream",
     "text": [
      "Epoch 110/201 Training Loss: 132451833061.254 Valid (L1): 94927197084.903 Valid (PSNR): -220.595  Valid (SSIM): 0.000\n"
     ]
    },
    {
     "name": "stderr",
     "output_type": "stream",
     "text": [
      "100%|██████████| 67/67 [00:03<00:00, 18.25it/s]\n",
      "100%|██████████| 31/31 [00:02<00:00, 12.41it/s]\n"
     ]
    },
    {
     "name": "stdout",
     "output_type": "stream",
     "text": [
      "Epoch 111/201 Training Loss: 72000722561.910 Valid (L1): 42812712167.226 Valid (PSNR): -214.096  Valid (SSIM): 0.000\n"
     ]
    },
    {
     "name": "stderr",
     "output_type": "stream",
     "text": [
      "100%|██████████| 67/67 [00:03<00:00, 18.88it/s]\n",
      "100%|██████████| 31/31 [00:02<00:00, 12.43it/s]\n"
     ]
    },
    {
     "name": "stdout",
     "output_type": "stream",
     "text": [
      "Epoch 112/201 Training Loss: 150639522372.776 Valid (L1): 262350366521.806 Valid (PSNR): -232.289  Valid (SSIM): -0.000\n"
     ]
    },
    {
     "name": "stderr",
     "output_type": "stream",
     "text": [
      "100%|██████████| 67/67 [00:03<00:00, 18.56it/s]\n",
      "100%|██████████| 31/31 [00:02<00:00, 12.46it/s]\n"
     ]
    },
    {
     "name": "stdout",
     "output_type": "stream",
     "text": [
      "Epoch 113/201 Training Loss: 163486700437.015 Valid (L1): 179080600807.226 Valid (PSNR): -226.117  Valid (SSIM): 0.000\n"
     ]
    },
    {
     "name": "stderr",
     "output_type": "stream",
     "text": [
      "100%|██████████| 67/67 [00:03<00:00, 18.36it/s]\n",
      "100%|██████████| 31/31 [00:02<00:00, 12.46it/s]\n"
     ]
    },
    {
     "name": "stdout",
     "output_type": "stream",
     "text": [
      "Epoch 114/201 Training Loss: 61861125104.716 Valid (L1): 52830022953.290 Valid (PSNR): -215.224  Valid (SSIM): 0.000\n"
     ]
    },
    {
     "name": "stderr",
     "output_type": "stream",
     "text": [
      "100%|██████████| 67/67 [00:03<00:00, 18.46it/s]\n",
      "100%|██████████| 31/31 [00:02<00:00, 12.47it/s]\n"
     ]
    },
    {
     "name": "stdout",
     "output_type": "stream",
     "text": [
      "Epoch 115/201 Training Loss: 72636580298.507 Valid (L1): 33168922921.290 Valid (PSNR): -212.107  Valid (SSIM): 0.000\n"
     ]
    },
    {
     "name": "stderr",
     "output_type": "stream",
     "text": [
      "100%|██████████| 67/67 [00:03<00:00, 18.58it/s]\n",
      "100%|██████████| 31/31 [00:02<00:00, 12.42it/s]\n"
     ]
    },
    {
     "name": "stdout",
     "output_type": "stream",
     "text": [
      "Epoch 116/201 Training Loss: 101481572917.493 Valid (L1): 73875647322.839 Valid (PSNR): -218.039  Valid (SSIM): 0.000\n"
     ]
    },
    {
     "name": "stderr",
     "output_type": "stream",
     "text": [
      "100%|██████████| 67/67 [00:03<00:00, 18.72it/s]\n",
      "100%|██████████| 31/31 [00:02<00:00, 12.42it/s]\n"
     ]
    },
    {
     "name": "stdout",
     "output_type": "stream",
     "text": [
      "Epoch 117/201 Training Loss: 53433031802.269 Valid (L1): 55437842498.065 Valid (PSNR): -215.370  Valid (SSIM): -0.000\n"
     ]
    },
    {
     "name": "stderr",
     "output_type": "stream",
     "text": [
      "100%|██████████| 67/67 [00:03<00:00, 18.57it/s]\n",
      "100%|██████████| 31/31 [00:02<00:00, 12.41it/s]\n"
     ]
    },
    {
     "name": "stdout",
     "output_type": "stream",
     "text": [
      "Epoch 118/201 Training Loss: 37175979680.478 Valid (L1): 36997812290.065 Valid (PSNR): -213.078  Valid (SSIM): -0.000\n"
     ]
    },
    {
     "name": "stderr",
     "output_type": "stream",
     "text": [
      "100%|██████████| 67/67 [00:03<00:00, 18.46it/s]\n",
      "100%|██████████| 31/31 [00:02<00:00, 12.40it/s]\n"
     ]
    },
    {
     "name": "stdout",
     "output_type": "stream",
     "text": [
      "Epoch 119/201 Training Loss: 24367744573.134 Valid (L1): 67268556337.548 Valid (PSNR): -217.345  Valid (SSIM): -0.000\n"
     ]
    },
    {
     "name": "stderr",
     "output_type": "stream",
     "text": [
      "100%|██████████| 67/67 [00:03<00:00, 18.47it/s]\n",
      "100%|██████████| 31/31 [00:02<00:00, 12.42it/s]\n"
     ]
    },
    {
     "name": "stdout",
     "output_type": "stream",
     "text": [
      "Epoch 120/201 Training Loss: 49393563021.373 Valid (L1): 73762456212.645 Valid (PSNR): -217.836  Valid (SSIM): -0.000\n"
     ]
    },
    {
     "name": "stderr",
     "output_type": "stream",
     "text": [
      "100%|██████████| 67/67 [00:03<00:00, 18.49it/s]\n",
      "100%|██████████| 31/31 [00:02<00:00, 12.46it/s]\n"
     ]
    },
    {
     "name": "stdout",
     "output_type": "stream",
     "text": [
      "Epoch 121/201 Training Loss: 33403125255.642 Valid (L1): 27380715553.032 Valid (PSNR): -211.025  Valid (SSIM): 0.000\n"
     ]
    },
    {
     "name": "stderr",
     "output_type": "stream",
     "text": [
      "100%|██████████| 67/67 [00:03<00:00, 18.82it/s]\n",
      "100%|██████████| 31/31 [00:02<00:00, 12.43it/s]\n"
     ]
    },
    {
     "name": "stdout",
     "output_type": "stream",
     "text": [
      "Epoch 122/201 Training Loss: 43978125006.328 Valid (L1): 30661523422.968 Valid (PSNR): -210.180  Valid (SSIM): -0.000\n"
     ]
    },
    {
     "name": "stderr",
     "output_type": "stream",
     "text": [
      "100%|██████████| 67/67 [00:03<00:00, 18.56it/s]\n",
      "100%|██████████| 31/31 [00:02<00:00, 12.43it/s]\n"
     ]
    },
    {
     "name": "stdout",
     "output_type": "stream",
     "text": [
      "Epoch 123/201 Training Loss: 30145799114.507 Valid (L1): 50878258076.903 Valid (PSNR): -216.513  Valid (SSIM): -0.000\n"
     ]
    },
    {
     "name": "stderr",
     "output_type": "stream",
     "text": [
      "100%|██████████| 67/67 [00:03<00:00, 18.77it/s]\n",
      "100%|██████████| 31/31 [00:02<00:00, 12.36it/s]\n"
     ]
    },
    {
     "name": "stdout",
     "output_type": "stream",
     "text": [
      "Epoch 124/201 Training Loss: 41341831779.343 Valid (L1): 38930966329.806 Valid (PSNR): -213.222  Valid (SSIM): -0.000\n"
     ]
    },
    {
     "name": "stderr",
     "output_type": "stream",
     "text": [
      "100%|██████████| 67/67 [00:03<00:00, 18.84it/s]\n",
      "100%|██████████| 31/31 [00:02<00:00, 12.41it/s]\n"
     ]
    },
    {
     "name": "stdout",
     "output_type": "stream",
     "text": [
      "Epoch 125/201 Training Loss: 42646494865.194 Valid (L1): 40923447626.323 Valid (PSNR): -213.530  Valid (SSIM): 0.000\n"
     ]
    },
    {
     "name": "stderr",
     "output_type": "stream",
     "text": [
      "100%|██████████| 67/67 [00:03<00:00, 18.55it/s]\n",
      "100%|██████████| 31/31 [00:02<00:00, 12.40it/s]\n"
     ]
    },
    {
     "name": "stdout",
     "output_type": "stream",
     "text": [
      "Epoch 126/201 Training Loss: 39749522294.448 Valid (L1): 119938708248.774 Valid (PSNR): -222.528  Valid (SSIM): 0.000\n"
     ]
    },
    {
     "name": "stderr",
     "output_type": "stream",
     "text": [
      "100%|██████████| 67/67 [00:03<00:00, 18.74it/s]\n",
      "100%|██████████| 31/31 [00:02<00:00, 12.39it/s]\n"
     ]
    },
    {
     "name": "stdout",
     "output_type": "stream",
     "text": [
      "Epoch 127/201 Training Loss: 37749831595.940 Valid (L1): 39580553017.806 Valid (PSNR): -213.222  Valid (SSIM): 0.000\n"
     ]
    },
    {
     "name": "stderr",
     "output_type": "stream",
     "text": [
      "100%|██████████| 67/67 [00:03<00:00, 18.41it/s]\n",
      "100%|██████████| 31/31 [00:02<00:00, 12.39it/s]\n"
     ]
    },
    {
     "name": "stdout",
     "output_type": "stream",
     "text": [
      "Epoch 128/201 Training Loss: 26630054656.000 Valid (L1): 23366310416.516 Valid (PSNR): -208.569  Valid (SSIM): -0.000\n"
     ]
    },
    {
     "name": "stderr",
     "output_type": "stream",
     "text": [
      "100%|██████████| 67/67 [00:03<00:00, 18.80it/s]\n",
      "100%|██████████| 31/31 [00:02<00:00, 12.39it/s]\n"
     ]
    },
    {
     "name": "stdout",
     "output_type": "stream",
     "text": [
      "Epoch 129/201 Training Loss: 22442169890.388 Valid (L1): 14306105889.032 Valid (PSNR): -205.269  Valid (SSIM): 0.000\n"
     ]
    },
    {
     "name": "stderr",
     "output_type": "stream",
     "text": [
      "100%|██████████| 67/67 [00:03<00:00, 18.36it/s]\n",
      "100%|██████████| 31/31 [00:02<00:00, 12.41it/s]\n"
     ]
    },
    {
     "name": "stdout",
     "output_type": "stream",
     "text": [
      "Epoch 130/201 Training Loss: 29774098004.060 Valid (L1): 59018698818.065 Valid (PSNR): -216.091  Valid (SSIM): 0.000\n"
     ]
    },
    {
     "name": "stderr",
     "output_type": "stream",
     "text": [
      "100%|██████████| 67/67 [00:03<00:00, 18.54it/s]\n",
      "100%|██████████| 31/31 [00:02<00:00, 12.41it/s]\n"
     ]
    },
    {
     "name": "stdout",
     "output_type": "stream",
     "text": [
      "Epoch 131/201 Training Loss: 21445002087.164 Valid (L1): 23922402304.000 Valid (PSNR): -209.595  Valid (SSIM): 0.000\n"
     ]
    },
    {
     "name": "stderr",
     "output_type": "stream",
     "text": [
      "100%|██████████| 67/67 [00:03<00:00, 17.99it/s]\n",
      "100%|██████████| 31/31 [00:02<00:00, 12.45it/s]\n"
     ]
    },
    {
     "name": "stdout",
     "output_type": "stream",
     "text": [
      "Epoch 132/201 Training Loss: 22989586210.388 Valid (L1): 34406047744.000 Valid (PSNR): -211.234  Valid (SSIM): -0.000\n"
     ]
    },
    {
     "name": "stderr",
     "output_type": "stream",
     "text": [
      "100%|██████████| 67/67 [00:03<00:00, 18.84it/s]\n",
      "100%|██████████| 31/31 [00:02<00:00, 12.41it/s]\n"
     ]
    },
    {
     "name": "stdout",
     "output_type": "stream",
     "text": [
      "Epoch 133/201 Training Loss: 24895520064.955 Valid (L1): 29046368421.161 Valid (PSNR): -210.384  Valid (SSIM): -0.000\n"
     ]
    },
    {
     "name": "stderr",
     "output_type": "stream",
     "text": [
      "100%|██████████| 67/67 [00:03<00:00, 18.60it/s]\n",
      "100%|██████████| 31/31 [00:02<00:00, 12.40it/s]\n"
     ]
    },
    {
     "name": "stdout",
     "output_type": "stream",
     "text": [
      "Epoch 134/201 Training Loss: 19322357301.493 Valid (L1): 23217025783.742 Valid (PSNR): -208.611  Valid (SSIM): 0.000\n"
     ]
    },
    {
     "name": "stderr",
     "output_type": "stream",
     "text": [
      "100%|██████████| 67/67 [00:03<00:00, 18.56it/s]\n",
      "100%|██████████| 31/31 [00:02<00:00, 12.35it/s]\n"
     ]
    },
    {
     "name": "stdout",
     "output_type": "stream",
     "text": [
      "Epoch 135/201 Training Loss: 16377760221.612 Valid (L1): 27386950722.065 Valid (PSNR): -210.280  Valid (SSIM): -0.000\n"
     ]
    },
    {
     "name": "stderr",
     "output_type": "stream",
     "text": [
      "100%|██████████| 67/67 [00:03<00:00, 17.90it/s]\n",
      "100%|██████████| 31/31 [00:02<00:00, 12.40it/s]\n"
     ]
    },
    {
     "name": "stdout",
     "output_type": "stream",
     "text": [
      "Epoch 136/201 Training Loss: 33551673366.925 Valid (L1): 63511701702.194 Valid (PSNR): -216.547  Valid (SSIM): -0.000\n"
     ]
    },
    {
     "name": "stderr",
     "output_type": "stream",
     "text": [
      "100%|██████████| 67/67 [00:03<00:00, 18.63it/s]\n",
      "100%|██████████| 31/31 [00:02<00:00, 12.45it/s]\n"
     ]
    },
    {
     "name": "stdout",
     "output_type": "stream",
     "text": [
      "Epoch 137/201 Training Loss: 21057837827.821 Valid (L1): 34446642010.839 Valid (PSNR): -212.626  Valid (SSIM): -0.000\n"
     ]
    },
    {
     "name": "stderr",
     "output_type": "stream",
     "text": [
      "100%|██████████| 67/67 [00:03<00:00, 18.48it/s]\n",
      "100%|██████████| 31/31 [00:02<00:00, 12.41it/s]\n"
     ]
    },
    {
     "name": "stdout",
     "output_type": "stream",
     "text": [
      "Epoch 138/201 Training Loss: 44854194833.194 Valid (L1): 41929199153.548 Valid (PSNR): -214.009  Valid (SSIM): -0.000\n"
     ]
    },
    {
     "name": "stderr",
     "output_type": "stream",
     "text": [
      "100%|██████████| 67/67 [00:03<00:00, 18.21it/s]\n",
      "100%|██████████| 31/31 [00:02<00:00, 12.43it/s]\n"
     ]
    },
    {
     "name": "stdout",
     "output_type": "stream",
     "text": [
      "Epoch 139/201 Training Loss: 21820103832.836 Valid (L1): 12864326870.710 Valid (PSNR): -203.147  Valid (SSIM): 0.000\n"
     ]
    },
    {
     "name": "stderr",
     "output_type": "stream",
     "text": [
      "100%|██████████| 67/67 [00:03<00:00, 18.93it/s]\n",
      "100%|██████████| 31/31 [00:02<00:00, 12.40it/s]\n"
     ]
    },
    {
     "name": "stdout",
     "output_type": "stream",
     "text": [
      "Epoch 140/201 Training Loss: 11443447655.164 Valid (L1): 12475391174.194 Valid (PSNR): -202.981  Valid (SSIM): 0.000\n"
     ]
    },
    {
     "name": "stderr",
     "output_type": "stream",
     "text": [
      "100%|██████████| 67/67 [00:03<00:00, 18.28it/s]\n",
      "100%|██████████| 31/31 [00:02<00:00, 12.42it/s]\n"
     ]
    },
    {
     "name": "stdout",
     "output_type": "stream",
     "text": [
      "Epoch 141/201 Training Loss: 20987411016.597 Valid (L1): 12631652963.097 Valid (PSNR): -202.975  Valid (SSIM): -0.000\n"
     ]
    },
    {
     "name": "stderr",
     "output_type": "stream",
     "text": [
      "100%|██████████| 67/67 [00:03<00:00, 18.85it/s]\n",
      "100%|██████████| 31/31 [00:02<00:00, 12.40it/s]\n"
     ]
    },
    {
     "name": "stdout",
     "output_type": "stream",
     "text": [
      "Epoch 142/201 Training Loss: 14914746024.119 Valid (L1): 6563164581.161 Valid (PSNR): -196.721  Valid (SSIM): -0.000\n"
     ]
    },
    {
     "name": "stderr",
     "output_type": "stream",
     "text": [
      "100%|██████████| 67/67 [00:03<00:00, 18.32it/s]\n",
      "100%|██████████| 31/31 [00:02<00:00, 12.42it/s]\n"
     ]
    },
    {
     "name": "stdout",
     "output_type": "stream",
     "text": [
      "Epoch 143/201 Training Loss: 11693056527.284 Valid (L1): 11731797537.032 Valid (PSNR): -202.908  Valid (SSIM): 0.000\n"
     ]
    },
    {
     "name": "stderr",
     "output_type": "stream",
     "text": [
      "100%|██████████| 67/67 [00:03<00:00, 18.76it/s]\n",
      "100%|██████████| 31/31 [00:02<00:00, 12.40it/s]\n"
     ]
    },
    {
     "name": "stdout",
     "output_type": "stream",
     "text": [
      "Epoch 144/201 Training Loss: 8084145344.955 Valid (L1): 12272934515.613 Valid (PSNR): -202.202  Valid (SSIM): 0.000\n"
     ]
    },
    {
     "name": "stderr",
     "output_type": "stream",
     "text": [
      "100%|██████████| 67/67 [00:03<00:00, 18.80it/s]\n",
      "100%|██████████| 31/31 [00:02<00:00, 12.40it/s]\n"
     ]
    },
    {
     "name": "stdout",
     "output_type": "stream",
     "text": [
      "Epoch 145/201 Training Loss: 15552775916.896 Valid (L1): 27014930861.419 Valid (PSNR): -209.655  Valid (SSIM): -0.000\n"
     ]
    },
    {
     "name": "stderr",
     "output_type": "stream",
     "text": [
      "100%|██████████| 67/67 [00:03<00:00, 18.59it/s]\n",
      "100%|██████████| 31/31 [00:02<00:00, 12.44it/s]\n"
     ]
    },
    {
     "name": "stdout",
     "output_type": "stream",
     "text": [
      "Epoch 146/201 Training Loss: 11258504807.164 Valid (L1): 24853554076.903 Valid (PSNR): -210.179  Valid (SSIM): 0.000\n"
     ]
    },
    {
     "name": "stderr",
     "output_type": "stream",
     "text": [
      "100%|██████████| 67/67 [00:03<00:00, 18.35it/s]\n",
      "100%|██████████| 31/31 [00:02<00:00, 12.40it/s]\n"
     ]
    },
    {
     "name": "stdout",
     "output_type": "stream",
     "text": [
      "Epoch 147/201 Training Loss: 11221211311.761 Valid (L1): 9549074778.839 Valid (PSNR): -201.399  Valid (SSIM): 0.000\n"
     ]
    },
    {
     "name": "stderr",
     "output_type": "stream",
     "text": [
      "100%|██████████| 67/67 [00:03<00:00, 18.72it/s]\n",
      "100%|██████████| 31/31 [00:02<00:00, 12.42it/s]\n"
     ]
    },
    {
     "name": "stdout",
     "output_type": "stream",
     "text": [
      "Epoch 148/201 Training Loss: 9891673206.448 Valid (L1): 2521547879.226 Valid (PSNR): -190.049  Valid (SSIM): 0.000\n"
     ]
    },
    {
     "name": "stderr",
     "output_type": "stream",
     "text": [
      "100%|██████████| 67/67 [00:03<00:00, 18.58it/s]\n",
      "100%|██████████| 31/31 [00:02<00:00, 12.45it/s]\n"
     ]
    },
    {
     "name": "stdout",
     "output_type": "stream",
     "text": [
      "Epoch 149/201 Training Loss: 9413720820.537 Valid (L1): 22677061830.194 Valid (PSNR): -207.714  Valid (SSIM): 0.000\n"
     ]
    },
    {
     "name": "stderr",
     "output_type": "stream",
     "text": [
      "100%|██████████| 67/67 [00:03<00:00, 18.85it/s]\n",
      "100%|██████████| 31/31 [00:02<00:00, 12.41it/s]\n"
     ]
    },
    {
     "name": "stdout",
     "output_type": "stream",
     "text": [
      "Epoch 150/201 Training Loss: 10253647518.567 Valid (L1): 16297617573.161 Valid (PSNR): -206.263  Valid (SSIM): -0.000\n"
     ]
    },
    {
     "name": "stderr",
     "output_type": "stream",
     "text": [
      "100%|██████████| 67/67 [00:03<00:00, 18.49it/s]\n",
      "100%|██████████| 31/31 [00:02<00:00, 12.42it/s]\n"
     ]
    },
    {
     "name": "stdout",
     "output_type": "stream",
     "text": [
      "Epoch 151/201 Training Loss: 8870533519.284 Valid (L1): 2462700915.613 Valid (PSNR): -189.586  Valid (SSIM): -0.000\n"
     ]
    },
    {
     "name": "stderr",
     "output_type": "stream",
     "text": [
      "100%|██████████| 67/67 [00:03<00:00, 18.38it/s]\n",
      "100%|██████████| 31/31 [00:02<00:00, 12.45it/s]\n"
     ]
    },
    {
     "name": "stdout",
     "output_type": "stream",
     "text": [
      "Epoch 152/201 Training Loss: 6815305720.358 Valid (L1): 5944708632.774 Valid (PSNR): -199.156  Valid (SSIM): -0.000\n"
     ]
    },
    {
     "name": "stderr",
     "output_type": "stream",
     "text": [
      "100%|██████████| 67/67 [00:03<00:00, 18.37it/s]\n",
      "100%|██████████| 31/31 [00:02<00:00, 12.42it/s]\n"
     ]
    },
    {
     "name": "stdout",
     "output_type": "stream",
     "text": [
      "Epoch 153/201 Training Loss: 10431575395.343 Valid (L1): 14481371895.742 Valid (PSNR): -204.566  Valid (SSIM): 0.000\n"
     ]
    },
    {
     "name": "stderr",
     "output_type": "stream",
     "text": [
      "100%|██████████| 67/67 [00:03<00:00, 18.56it/s]\n",
      "100%|██████████| 31/31 [00:02<00:00, 12.43it/s]\n"
     ]
    },
    {
     "name": "stdout",
     "output_type": "stream",
     "text": [
      "Epoch 154/201 Training Loss: 8173913904.716 Valid (L1): 3491201775.484 Valid (PSNR): -192.273  Valid (SSIM): 0.000\n"
     ]
    },
    {
     "name": "stderr",
     "output_type": "stream",
     "text": [
      "100%|██████████| 67/67 [00:03<00:00, 18.21it/s]\n",
      "100%|██████████| 31/31 [00:02<00:00, 12.40it/s]\n"
     ]
    },
    {
     "name": "stdout",
     "output_type": "stream",
     "text": [
      "Epoch 155/201 Training Loss: 7427583925.493 Valid (L1): 1726794126.452 Valid (PSNR): -185.484  Valid (SSIM): -0.000\n"
     ]
    },
    {
     "name": "stderr",
     "output_type": "stream",
     "text": [
      "100%|██████████| 67/67 [00:03<00:00, 18.67it/s]\n",
      "100%|██████████| 31/31 [00:02<00:00, 12.42it/s]\n"
     ]
    },
    {
     "name": "stdout",
     "output_type": "stream",
     "text": [
      "Epoch 156/201 Training Loss: 15231972699.701 Valid (L1): 19184298974.968 Valid (PSNR): -206.207  Valid (SSIM): -0.000\n"
     ]
    },
    {
     "name": "stderr",
     "output_type": "stream",
     "text": [
      "100%|██████████| 67/67 [00:03<00:00, 18.72it/s]\n",
      "100%|██████████| 31/31 [00:02<00:00, 12.41it/s]\n"
     ]
    },
    {
     "name": "stdout",
     "output_type": "stream",
     "text": [
      "Epoch 157/201 Training Loss: 14094116630.925 Valid (L1): 5763033633.032 Valid (PSNR): -196.411  Valid (SSIM): 0.000\n"
     ]
    },
    {
     "name": "stderr",
     "output_type": "stream",
     "text": [
      "100%|██████████| 67/67 [00:03<00:00, 18.69it/s]\n",
      "100%|██████████| 31/31 [00:02<00:00, 12.37it/s]\n"
     ]
    },
    {
     "name": "stdout",
     "output_type": "stream",
     "text": [
      "Epoch 158/201 Training Loss: 19498348649563.703 Valid (L1): 3372026202947584.000 Valid (PSNR): -311.015  Valid (SSIM): 0.000\n"
     ]
    },
    {
     "name": "stderr",
     "output_type": "stream",
     "text": [
      "100%|██████████| 67/67 [00:03<00:00, 18.94it/s]\n",
      "100%|██████████| 31/31 [00:02<00:00, 12.41it/s]\n"
     ]
    },
    {
     "name": "stdout",
     "output_type": "stream",
     "text": [
      "Epoch 159/201 Training Loss: 72498089078722.859 Valid (L1): 1487263910482.581 Valid (PSNR): -245.397  Valid (SSIM): 0.000\n"
     ]
    },
    {
     "name": "stderr",
     "output_type": "stream",
     "text": [
      "100%|██████████| 67/67 [00:03<00:00, 18.55it/s]\n",
      "100%|██████████| 31/31 [00:02<00:00, 12.38it/s]\n"
     ]
    },
    {
     "name": "stdout",
     "output_type": "stream",
     "text": [
      "Epoch 160/201 Training Loss: 1559918946334.567 Valid (L1): 853847471004.903 Valid (PSNR): -239.158  Valid (SSIM): 0.000\n"
     ]
    },
    {
     "name": "stderr",
     "output_type": "stream",
     "text": [
      "100%|██████████| 67/67 [00:03<00:00, 18.70it/s]\n",
      "100%|██████████| 31/31 [00:02<00:00, 12.45it/s]\n"
     ]
    },
    {
     "name": "stdout",
     "output_type": "stream",
     "text": [
      "Epoch 161/201 Training Loss: 1463848182860.418 Valid (L1): 1240897985767.226 Valid (PSNR): -243.815  Valid (SSIM): 0.000\n"
     ]
    },
    {
     "name": "stderr",
     "output_type": "stream",
     "text": [
      "100%|██████████| 67/67 [00:03<00:00, 18.33it/s]\n",
      "100%|██████████| 31/31 [00:02<00:00, 12.39it/s]\n"
     ]
    },
    {
     "name": "stdout",
     "output_type": "stream",
     "text": [
      "Epoch 162/201 Training Loss: 1005584903641.791 Valid (L1): 400464387831.742 Valid (PSNR): -232.672  Valid (SSIM): 0.000\n"
     ]
    },
    {
     "name": "stderr",
     "output_type": "stream",
     "text": [
      "100%|██████████| 67/67 [00:03<00:00, 18.81it/s]\n",
      "100%|██████████| 31/31 [00:02<00:00, 12.43it/s]\n"
     ]
    },
    {
     "name": "stdout",
     "output_type": "stream",
     "text": [
      "Epoch 163/201 Training Loss: 539079084307.104 Valid (L1): 149454958988.387 Valid (PSNR): -224.365  Valid (SSIM): -0.000\n"
     ]
    },
    {
     "name": "stderr",
     "output_type": "stream",
     "text": [
      "100%|██████████| 67/67 [00:03<00:00, 18.55it/s]\n",
      "100%|██████████| 31/31 [00:02<00:00, 12.41it/s]\n"
     ]
    },
    {
     "name": "stdout",
     "output_type": "stream",
     "text": [
      "Epoch 164/201 Training Loss: 307890451838.090 Valid (L1): 356730599357.935 Valid (PSNR): -232.436  Valid (SSIM): 0.000\n"
     ]
    },
    {
     "name": "stderr",
     "output_type": "stream",
     "text": [
      "100%|██████████| 67/67 [00:03<00:00, 18.27it/s]\n",
      "100%|██████████| 31/31 [00:02<00:00, 12.41it/s]\n"
     ]
    },
    {
     "name": "stdout",
     "output_type": "stream",
     "text": [
      "Epoch 165/201 Training Loss: 158666134543.284 Valid (L1): 144371550934.710 Valid (PSNR): -225.067  Valid (SSIM): 0.000\n"
     ]
    },
    {
     "name": "stderr",
     "output_type": "stream",
     "text": [
      "100%|██████████| 67/67 [00:03<00:00, 18.77it/s]\n",
      "100%|██████████| 31/31 [00:02<00:00, 12.41it/s]\n"
     ]
    },
    {
     "name": "stdout",
     "output_type": "stream",
     "text": [
      "Epoch 166/201 Training Loss: 323697099852.418 Valid (L1): 309999716418.065 Valid (PSNR): -230.619  Valid (SSIM): -0.000\n"
     ]
    },
    {
     "name": "stderr",
     "output_type": "stream",
     "text": [
      "100%|██████████| 67/67 [00:03<00:00, 18.35it/s]\n",
      "100%|██████████| 31/31 [00:02<00:00, 12.42it/s]\n"
     ]
    },
    {
     "name": "stdout",
     "output_type": "stream",
     "text": [
      "Epoch 167/201 Training Loss: 324076051012.776 Valid (L1): 165060127843.097 Valid (PSNR): -225.697  Valid (SSIM): 0.000\n"
     ]
    },
    {
     "name": "stderr",
     "output_type": "stream",
     "text": [
      "100%|██████████| 67/67 [00:03<00:00, 18.56it/s]\n",
      "100%|██████████| 31/31 [00:02<00:00, 12.45it/s]\n"
     ]
    },
    {
     "name": "stdout",
     "output_type": "stream",
     "text": [
      "Epoch 168/201 Training Loss: 442443692245.970 Valid (L1): 535972316721.548 Valid (PSNR): -235.627  Valid (SSIM): 0.000\n"
     ]
    },
    {
     "name": "stderr",
     "output_type": "stream",
     "text": [
      "100%|██████████| 67/67 [00:03<00:00, 18.69it/s]\n",
      "100%|██████████| 31/31 [00:02<00:00, 12.38it/s]\n"
     ]
    },
    {
     "name": "stdout",
     "output_type": "stream",
     "text": [
      "Epoch 169/201 Training Loss: 327645069067.463 Valid (L1): 485391713313.032 Valid (PSNR): -234.314  Valid (SSIM): 0.000\n"
     ]
    },
    {
     "name": "stderr",
     "output_type": "stream",
     "text": [
      "100%|██████████| 67/67 [00:03<00:00, 18.79it/s]\n",
      "100%|██████████| 31/31 [00:02<00:00, 12.39it/s]\n"
     ]
    },
    {
     "name": "stdout",
     "output_type": "stream",
     "text": [
      "Epoch 170/201 Training Loss: 309608609027.821 Valid (L1): 368575501477.161 Valid (PSNR): -233.109  Valid (SSIM): 0.000\n"
     ]
    },
    {
     "name": "stderr",
     "output_type": "stream",
     "text": [
      "100%|██████████| 67/67 [00:03<00:00, 18.58it/s]\n",
      "100%|██████████| 31/31 [00:02<00:00, 12.44it/s]\n"
     ]
    },
    {
     "name": "stdout",
     "output_type": "stream",
     "text": [
      "Epoch 171/201 Training Loss: 396465830774.448 Valid (L1): 603279690851.097 Valid (PSNR): -238.228  Valid (SSIM): 0.000\n"
     ]
    },
    {
     "name": "stderr",
     "output_type": "stream",
     "text": [
      "100%|██████████| 67/67 [00:03<00:00, 18.63it/s]\n",
      "100%|██████████| 31/31 [00:02<00:00, 12.39it/s]\n"
     ]
    },
    {
     "name": "stdout",
     "output_type": "stream",
     "text": [
      "Epoch 172/201 Training Loss: 285358549267.104 Valid (L1): 617894273816.774 Valid (PSNR): -236.174  Valid (SSIM): 0.000\n"
     ]
    },
    {
     "name": "stderr",
     "output_type": "stream",
     "text": [
      "100%|██████████| 67/67 [00:03<00:00, 18.60it/s]\n",
      "100%|██████████| 31/31 [00:02<00:00, 12.41it/s]\n"
     ]
    },
    {
     "name": "stdout",
     "output_type": "stream",
     "text": [
      "Epoch 173/201 Training Loss: 372776847573.970 Valid (L1): 554400947959.742 Valid (PSNR): -236.872  Valid (SSIM): 0.000\n"
     ]
    },
    {
     "name": "stderr",
     "output_type": "stream",
     "text": [
      "100%|██████████| 67/67 [00:03<00:00, 18.47it/s]\n",
      "100%|██████████| 31/31 [00:02<00:00, 12.37it/s]\n"
     ]
    },
    {
     "name": "stdout",
     "output_type": "stream",
     "text": [
      "Epoch 174/201 Training Loss: 261063643869.612 Valid (L1): 299830108952.774 Valid (PSNR): -232.049  Valid (SSIM): 0.000\n"
     ]
    },
    {
     "name": "stderr",
     "output_type": "stream",
     "text": [
      "100%|██████████| 67/67 [00:03<00:00, 18.89it/s]\n",
      "100%|██████████| 31/31 [00:02<00:00, 12.37it/s]\n"
     ]
    },
    {
     "name": "stdout",
     "output_type": "stream",
     "text": [
      "Epoch 175/201 Training Loss: 201480864783.284 Valid (L1): 77923137073.548 Valid (PSNR): -219.108  Valid (SSIM): 0.000\n"
     ]
    },
    {
     "name": "stderr",
     "output_type": "stream",
     "text": [
      "100%|██████████| 67/67 [00:03<00:00, 18.66it/s]\n",
      "100%|██████████| 31/31 [00:02<00:00, 12.41it/s]\n"
     ]
    },
    {
     "name": "stdout",
     "output_type": "stream",
     "text": [
      "Epoch 176/201 Training Loss: 181753569983.045 Valid (L1): 208420530506.323 Valid (PSNR): -226.969  Valid (SSIM): -0.000\n"
     ]
    },
    {
     "name": "stderr",
     "output_type": "stream",
     "text": [
      "100%|██████████| 67/67 [00:03<00:00, 18.90it/s]\n",
      "100%|██████████| 31/31 [00:02<00:00, 12.42it/s]\n"
     ]
    },
    {
     "name": "stdout",
     "output_type": "stream",
     "text": [
      "Epoch 177/201 Training Loss: 141708028423.642 Valid (L1): 100436534833.548 Valid (PSNR): -220.941  Valid (SSIM): 0.000\n"
     ]
    },
    {
     "name": "stderr",
     "output_type": "stream",
     "text": [
      "100%|██████████| 67/67 [00:03<00:00, 18.50it/s]\n",
      "100%|██████████| 31/31 [00:02<00:00, 12.42it/s]\n"
     ]
    },
    {
     "name": "stdout",
     "output_type": "stream",
     "text": [
      "Epoch 178/201 Training Loss: 136243372383.522 Valid (L1): 98042323340.387 Valid (PSNR): -220.391  Valid (SSIM): -0.000\n"
     ]
    },
    {
     "name": "stderr",
     "output_type": "stream",
     "text": [
      "100%|██████████| 67/67 [00:03<00:00, 18.50it/s]\n",
      "100%|██████████| 31/31 [00:02<00:00, 12.40it/s]\n"
     ]
    },
    {
     "name": "stdout",
     "output_type": "stream",
     "text": [
      "Epoch 179/201 Training Loss: 97510195169.433 Valid (L1): 153029173248.000 Valid (PSNR): -225.084  Valid (SSIM): 0.000\n"
     ]
    },
    {
     "name": "stderr",
     "output_type": "stream",
     "text": [
      "100%|██████████| 67/67 [00:03<00:00, 18.57it/s]\n",
      "100%|██████████| 31/31 [00:02<00:00, 12.42it/s]\n"
     ]
    },
    {
     "name": "stdout",
     "output_type": "stream",
     "text": [
      "Epoch 180/201 Training Loss: 790663776622.806 Valid (L1): 107636355204.129 Valid (PSNR): -222.498  Valid (SSIM): 0.000\n"
     ]
    },
    {
     "name": "stderr",
     "output_type": "stream",
     "text": [
      "100%|██████████| 67/67 [00:03<00:00, 18.67it/s]\n",
      "100%|██████████| 31/31 [00:02<00:00, 12.45it/s]\n"
     ]
    },
    {
     "name": "stdout",
     "output_type": "stream",
     "text": [
      "Epoch 181/201 Training Loss: 2064723772125.612 Valid (L1): 1486203924876.387 Valid (PSNR): -243.890  Valid (SSIM): 0.000\n"
     ]
    },
    {
     "name": "stderr",
     "output_type": "stream",
     "text": [
      "100%|██████████| 67/67 [00:03<00:00, 18.70it/s]\n",
      "100%|██████████| 31/31 [00:02<00:00, 12.44it/s]\n"
     ]
    },
    {
     "name": "stdout",
     "output_type": "stream",
     "text": [
      "Epoch 182/201 Training Loss: 512572122066.149 Valid (L1): 414800512561.548 Valid (PSNR): -234.241  Valid (SSIM): 0.000\n"
     ]
    },
    {
     "name": "stderr",
     "output_type": "stream",
     "text": [
      "100%|██████████| 67/67 [00:03<00:00, 18.62it/s]\n",
      "100%|██████████| 31/31 [00:02<00:00, 12.44it/s]\n"
     ]
    },
    {
     "name": "stdout",
     "output_type": "stream",
     "text": [
      "Epoch 183/201 Training Loss: 377664197402.746 Valid (L1): 390148813196.387 Valid (PSNR): -235.147  Valid (SSIM): 0.000\n"
     ]
    },
    {
     "name": "stderr",
     "output_type": "stream",
     "text": [
      "100%|██████████| 67/67 [00:03<00:00, 18.40it/s]\n",
      "100%|██████████| 31/31 [00:02<00:00, 12.47it/s]\n"
     ]
    },
    {
     "name": "stdout",
     "output_type": "stream",
     "text": [
      "Epoch 184/201 Training Loss: 319924297850.269 Valid (L1): 526091385294.452 Valid (PSNR): -235.924  Valid (SSIM): 0.000\n"
     ]
    },
    {
     "name": "stderr",
     "output_type": "stream",
     "text": [
      "100%|██████████| 67/67 [00:03<00:00, 18.34it/s]\n",
      "100%|██████████| 31/31 [00:02<00:00, 12.43it/s]\n"
     ]
    },
    {
     "name": "stdout",
     "output_type": "stream",
     "text": [
      "Epoch 185/201 Training Loss: 192624902663.642 Valid (L1): 189437788160.000 Valid (PSNR): -227.407  Valid (SSIM): -0.000\n"
     ]
    },
    {
     "name": "stderr",
     "output_type": "stream",
     "text": [
      "100%|██████████| 67/67 [00:03<00:00, 18.63it/s]\n",
      "100%|██████████| 31/31 [00:02<00:00, 12.42it/s]\n"
     ]
    },
    {
     "name": "stdout",
     "output_type": "stream",
     "text": [
      "Epoch 186/201 Training Loss: 242987739839.045 Valid (L1): 164362905401.806 Valid (PSNR): -228.536  Valid (SSIM): 0.000\n"
     ]
    },
    {
     "name": "stderr",
     "output_type": "stream",
     "text": [
      "100%|██████████| 67/67 [00:03<00:00, 18.39it/s]\n",
      "100%|██████████| 31/31 [00:02<00:00, 12.43it/s]\n"
     ]
    },
    {
     "name": "stdout",
     "output_type": "stream",
     "text": [
      "Epoch 187/201 Training Loss: 151809127072.478 Valid (L1): 315190348899.097 Valid (PSNR): -232.820  Valid (SSIM): 0.000\n"
     ]
    },
    {
     "name": "stderr",
     "output_type": "stream",
     "text": [
      "100%|██████████| 67/67 [00:03<00:00, 18.62it/s]\n",
      "100%|██████████| 31/31 [00:02<00:00, 12.40it/s]\n"
     ]
    },
    {
     "name": "stdout",
     "output_type": "stream",
     "text": [
      "Epoch 188/201 Training Loss: 211629256153.791 Valid (L1): 55489874514.581 Valid (PSNR): -216.297  Valid (SSIM): 0.000\n"
     ]
    },
    {
     "name": "stderr",
     "output_type": "stream",
     "text": [
      "100%|██████████| 67/67 [00:03<00:00, 18.01it/s]\n",
      "100%|██████████| 31/31 [00:02<00:00, 12.47it/s]\n"
     ]
    },
    {
     "name": "stdout",
     "output_type": "stream",
     "text": [
      "Epoch 189/201 Training Loss: 193710437085.612 Valid (L1): 121167209901.419 Valid (PSNR): -224.165  Valid (SSIM): 0.000\n"
     ]
    },
    {
     "name": "stderr",
     "output_type": "stream",
     "text": [
      "100%|██████████| 67/67 [00:03<00:00, 18.75it/s]\n",
      "100%|██████████| 31/31 [00:02<00:00, 12.42it/s]\n"
     ]
    },
    {
     "name": "stdout",
     "output_type": "stream",
     "text": [
      "Epoch 190/201 Training Loss: 174857980790.448 Valid (L1): 425130516215.742 Valid (PSNR): -233.363  Valid (SSIM): 0.000\n"
     ]
    },
    {
     "name": "stderr",
     "output_type": "stream",
     "text": [
      "100%|██████████| 67/67 [00:03<00:00, 18.44it/s]\n",
      "100%|██████████| 31/31 [00:02<00:00, 12.41it/s]\n"
     ]
    },
    {
     "name": "stdout",
     "output_type": "stream",
     "text": [
      "Epoch 191/201 Training Loss: 277557164368.239 Valid (L1): 281209079609.806 Valid (PSNR): -230.427  Valid (SSIM): 0.000\n"
     ]
    },
    {
     "name": "stderr",
     "output_type": "stream",
     "text": [
      "100%|██████████| 67/67 [00:03<00:00, 18.24it/s]\n",
      "100%|██████████| 31/31 [00:02<00:00, 12.45it/s]\n"
     ]
    },
    {
     "name": "stdout",
     "output_type": "stream",
     "text": [
      "Epoch 192/201 Training Loss: 153705167856.716 Valid (L1): 144316301312.000 Valid (PSNR): -225.170  Valid (SSIM): -0.000\n"
     ]
    },
    {
     "name": "stderr",
     "output_type": "stream",
     "text": [
      "100%|██████████| 67/67 [00:03<00:00, 19.07it/s]\n",
      "100%|██████████| 31/31 [00:02<00:00, 12.39it/s]\n"
     ]
    },
    {
     "name": "stdout",
     "output_type": "stream",
     "text": [
      "Epoch 193/201 Training Loss: 129577700031.045 Valid (L1): 74187301921.032 Valid (PSNR): -219.409  Valid (SSIM): -0.000\n"
     ]
    },
    {
     "name": "stderr",
     "output_type": "stream",
     "text": [
      "100%|██████████| 67/67 [00:03<00:00, 18.70it/s]\n",
      "100%|██████████| 31/31 [00:02<00:00, 12.44it/s]\n"
     ]
    },
    {
     "name": "stdout",
     "output_type": "stream",
     "text": [
      "Epoch 194/201 Training Loss: 226860354239.045 Valid (L1): 139794154661.161 Valid (PSNR): -224.789  Valid (SSIM): 0.000\n"
     ]
    },
    {
     "name": "stderr",
     "output_type": "stream",
     "text": [
      "100%|██████████| 67/67 [00:03<00:00, 18.55it/s]\n",
      "100%|██████████| 31/31 [00:02<00:00, 12.43it/s]\n"
     ]
    },
    {
     "name": "stdout",
     "output_type": "stream",
     "text": [
      "Epoch 195/201 Training Loss: 465223888712.597 Valid (L1): 831069120313.806 Valid (PSNR): -240.161  Valid (SSIM): 0.000\n"
     ]
    },
    {
     "name": "stderr",
     "output_type": "stream",
     "text": [
      "100%|██████████| 67/67 [00:03<00:00, 18.45it/s]\n",
      "100%|██████████| 31/31 [00:02<00:00, 12.44it/s]\n"
     ]
    },
    {
     "name": "stdout",
     "output_type": "stream",
     "text": [
      "Epoch 196/201 Training Loss: 345642051370.030 Valid (L1): 359982971870.968 Valid (PSNR): -231.790  Valid (SSIM): 0.000\n"
     ]
    },
    {
     "name": "stderr",
     "output_type": "stream",
     "text": [
      "100%|██████████| 67/67 [00:03<00:00, 18.70it/s]\n",
      "100%|██████████| 31/31 [00:02<00:00, 12.40it/s]\n"
     ]
    },
    {
     "name": "stdout",
     "output_type": "stream",
     "text": [
      "Epoch 197/201 Training Loss: 215671218481.672 Valid (L1): 145382210394.839 Valid (PSNR): -227.756  Valid (SSIM): 0.000\n"
     ]
    },
    {
     "name": "stderr",
     "output_type": "stream",
     "text": [
      "100%|██████████| 67/67 [00:03<00:00, 18.31it/s]\n",
      "100%|██████████| 31/31 [00:02<00:00, 12.39it/s]\n"
     ]
    },
    {
     "name": "stdout",
     "output_type": "stream",
     "text": [
      "Epoch 198/201 Training Loss: 124386927875.821 Valid (L1): 87339792582.194 Valid (PSNR): -220.820  Valid (SSIM): 0.000\n"
     ]
    },
    {
     "name": "stderr",
     "output_type": "stream",
     "text": [
      "100%|██████████| 67/67 [00:03<00:00, 18.58it/s]\n",
      "100%|██████████| 31/31 [00:02<00:00, 12.46it/s]\n"
     ]
    },
    {
     "name": "stdout",
     "output_type": "stream",
     "text": [
      "Epoch 199/201 Training Loss: 69067783045.731 Valid (L1): 78342912462.452 Valid (PSNR): -220.173  Valid (SSIM): -0.000\n"
     ]
    },
    {
     "name": "stderr",
     "output_type": "stream",
     "text": [
      "100%|██████████| 67/67 [00:03<00:00, 18.46it/s]\n",
      "100%|██████████| 31/31 [00:02<00:00, 12.42it/s]\n"
     ]
    },
    {
     "name": "stdout",
     "output_type": "stream",
     "text": [
      "Epoch 200/201 Training Loss: 58622244390.209 Valid (L1): 28063637272.774 Valid (PSNR): -210.973  Valid (SSIM): -0.000\n"
     ]
    },
    {
     "name": "stderr",
     "output_type": "stream",
     "text": [
      "100%|██████████| 67/67 [00:03<00:00, 18.64it/s]\n",
      "100%|██████████| 31/31 [00:02<00:00, 12.40it/s]"
     ]
    },
    {
     "name": "stdout",
     "output_type": "stream",
     "text": [
      "Epoch 201/201 Training Loss: 51532287021.851 Valid (L1): 26350373590.710 Valid (PSNR): -211.433  Valid (SSIM): -0.000\n"
     ]
    },
    {
     "name": "stderr",
     "output_type": "stream",
     "text": [
      "\n"
     ]
    }
   ],
   "source": [
    "if torch.cuda.is_available():\n",
    "    torch.cuda.empty_cache()\n",
    "learning_rate = 1e-2\n",
    "model = BasicSRModel().to(device)\n",
    "srtrainer = SRTrainer(model=model,loss_fn=nn.L1Loss(), lr=learning_rate)\n",
    "srtrainer.train(train_dataloader,valid_dataloader,num_epochs=201, save=False)"
   ]
  },
  {
   "cell_type": "code",
   "execution_count": 9,
   "metadata": {},
   "outputs": [
    {
     "name": "stderr",
     "output_type": "stream",
     "text": [
      "100%|██████████| 10/10 [00:14<00:00,  1.42s/it]\n"
     ]
    },
    {
     "name": "stdout",
     "output_type": "stream",
     "text": [
      "Test:       (L1):   32758469427.200   (PSNR): -213.415 (SSIM): 0.000\n",
      "Bilinear:   (L1):   0.036   (PSNR): 25.813 (SSIM): 0.791\n",
      "Bicubic:    (L1):   0.033    (PSNR): 26.952  (SSIM): 0.829\n"
     ]
    }
   ],
   "source": [
    "tester = Tester(model)\n",
    "tester.test(tests_dataloader, model_name=\"model\"+str(learning_rate))\n",
    "\n",
    "del model\n",
    "del srtrainer\n",
    "del tester"
   ]
  },
  {
   "cell_type": "code",
   "execution_count": 10,
   "metadata": {},
   "outputs": [
    {
     "name": "stderr",
     "output_type": "stream",
     "text": [
      "100%|██████████| 67/67 [00:04<00:00, 15.41it/s]\n",
      "100%|██████████| 31/31 [00:02<00:00, 12.35it/s]\n"
     ]
    },
    {
     "name": "stdout",
     "output_type": "stream",
     "text": [
      "Epoch 1/201 Training Loss: 0.171 Valid (L1): 0.124 Valid (PSNR): 15.787  Valid (SSIM): 0.564\n"
     ]
    },
    {
     "name": "stderr",
     "output_type": "stream",
     "text": [
      "100%|██████████| 67/67 [00:03<00:00, 20.47it/s]\n",
      "100%|██████████| 31/31 [00:02<00:00, 12.55it/s]\n"
     ]
    },
    {
     "name": "stdout",
     "output_type": "stream",
     "text": [
      "Epoch 2/201 Training Loss: 0.120 Valid (L1): 0.114 Valid (PSNR): 16.804  Valid (SSIM): 0.535\n"
     ]
    },
    {
     "name": "stderr",
     "output_type": "stream",
     "text": [
      "100%|██████████| 67/67 [00:03<00:00, 20.67it/s]\n",
      "100%|██████████| 31/31 [00:02<00:00, 12.53it/s]\n"
     ]
    },
    {
     "name": "stdout",
     "output_type": "stream",
     "text": [
      "Epoch 3/201 Training Loss: 0.107 Valid (L1): 0.103 Valid (PSNR): 17.902  Valid (SSIM): 0.599\n"
     ]
    },
    {
     "name": "stderr",
     "output_type": "stream",
     "text": [
      "100%|██████████| 67/67 [00:03<00:00, 19.98it/s]\n",
      "100%|██████████| 31/31 [00:02<00:00, 12.54it/s]\n"
     ]
    },
    {
     "name": "stdout",
     "output_type": "stream",
     "text": [
      "Epoch 4/201 Training Loss: 0.096 Valid (L1): 0.103 Valid (PSNR): 17.890  Valid (SSIM): 0.623\n"
     ]
    },
    {
     "name": "stderr",
     "output_type": "stream",
     "text": [
      "100%|██████████| 67/67 [00:03<00:00, 21.08it/s]\n",
      "100%|██████████| 31/31 [00:02<00:00, 12.54it/s]\n"
     ]
    },
    {
     "name": "stdout",
     "output_type": "stream",
     "text": [
      "Epoch 5/201 Training Loss: 0.093 Valid (L1): 0.086 Valid (PSNR): 19.392  Valid (SSIM): 0.700\n"
     ]
    },
    {
     "name": "stderr",
     "output_type": "stream",
     "text": [
      "100%|██████████| 67/67 [00:03<00:00, 20.22it/s]\n",
      "100%|██████████| 31/31 [00:02<00:00, 12.52it/s]\n"
     ]
    },
    {
     "name": "stdout",
     "output_type": "stream",
     "text": [
      "Epoch 6/201 Training Loss: 0.091 Valid (L1): 0.089 Valid (PSNR): 19.142  Valid (SSIM): 0.691\n"
     ]
    },
    {
     "name": "stderr",
     "output_type": "stream",
     "text": [
      "100%|██████████| 67/67 [00:03<00:00, 20.19it/s]\n",
      "100%|██████████| 31/31 [00:02<00:00, 12.48it/s]\n"
     ]
    },
    {
     "name": "stdout",
     "output_type": "stream",
     "text": [
      "Epoch 7/201 Training Loss: 0.086 Valid (L1): 0.084 Valid (PSNR): 19.658  Valid (SSIM): 0.733\n"
     ]
    },
    {
     "name": "stderr",
     "output_type": "stream",
     "text": [
      "100%|██████████| 67/67 [00:03<00:00, 19.77it/s]\n",
      "100%|██████████| 31/31 [00:02<00:00, 12.45it/s]\n"
     ]
    },
    {
     "name": "stdout",
     "output_type": "stream",
     "text": [
      "Epoch 8/201 Training Loss: 0.085 Valid (L1): 0.095 Valid (PSNR): 18.342  Valid (SSIM): 0.718\n"
     ]
    },
    {
     "name": "stderr",
     "output_type": "stream",
     "text": [
      "100%|██████████| 67/67 [00:03<00:00, 19.27it/s]\n",
      "100%|██████████| 31/31 [00:02<00:00, 12.40it/s]\n"
     ]
    },
    {
     "name": "stdout",
     "output_type": "stream",
     "text": [
      "Epoch 9/201 Training Loss: 0.090 Valid (L1): 0.091 Valid (PSNR): 18.879  Valid (SSIM): 0.704\n"
     ]
    },
    {
     "name": "stderr",
     "output_type": "stream",
     "text": [
      "100%|██████████| 67/67 [00:03<00:00, 18.23it/s]\n",
      "100%|██████████| 31/31 [00:02<00:00, 12.39it/s]\n"
     ]
    },
    {
     "name": "stdout",
     "output_type": "stream",
     "text": [
      "Epoch 10/201 Training Loss: 0.086 Valid (L1): 0.082 Valid (PSNR): 19.644  Valid (SSIM): 0.678\n"
     ]
    },
    {
     "name": "stderr",
     "output_type": "stream",
     "text": [
      "100%|██████████| 67/67 [00:03<00:00, 18.02it/s]\n",
      "100%|██████████| 31/31 [00:02<00:00, 12.40it/s]\n"
     ]
    },
    {
     "name": "stdout",
     "output_type": "stream",
     "text": [
      "Epoch 11/201 Training Loss: 0.084 Valid (L1): 0.082 Valid (PSNR): 19.610  Valid (SSIM): 0.756\n"
     ]
    },
    {
     "name": "stderr",
     "output_type": "stream",
     "text": [
      "100%|██████████| 67/67 [00:03<00:00, 18.52it/s]\n",
      "100%|██████████| 31/31 [00:02<00:00, 12.43it/s]\n"
     ]
    },
    {
     "name": "stdout",
     "output_type": "stream",
     "text": [
      "Epoch 12/201 Training Loss: 0.081 Valid (L1): 0.077 Valid (PSNR): 20.212  Valid (SSIM): 0.769\n"
     ]
    },
    {
     "name": "stderr",
     "output_type": "stream",
     "text": [
      "100%|██████████| 67/67 [00:03<00:00, 18.54it/s]\n",
      "100%|██████████| 31/31 [00:02<00:00, 12.43it/s]\n"
     ]
    },
    {
     "name": "stdout",
     "output_type": "stream",
     "text": [
      "Epoch 13/201 Training Loss: 0.076 Valid (L1): 0.071 Valid (PSNR): 21.041  Valid (SSIM): 0.785\n"
     ]
    },
    {
     "name": "stderr",
     "output_type": "stream",
     "text": [
      "100%|██████████| 67/67 [00:03<00:00, 18.57it/s]\n",
      "100%|██████████| 31/31 [00:02<00:00, 12.41it/s]\n"
     ]
    },
    {
     "name": "stdout",
     "output_type": "stream",
     "text": [
      "Epoch 14/201 Training Loss: 0.073 Valid (L1): 0.075 Valid (PSNR): 20.462  Valid (SSIM): 0.786\n"
     ]
    },
    {
     "name": "stderr",
     "output_type": "stream",
     "text": [
      "100%|██████████| 67/67 [00:03<00:00, 18.56it/s]\n",
      "100%|██████████| 31/31 [00:02<00:00, 12.39it/s]\n"
     ]
    },
    {
     "name": "stdout",
     "output_type": "stream",
     "text": [
      "Epoch 15/201 Training Loss: 0.081 Valid (L1): 0.073 Valid (PSNR): 20.913  Valid (SSIM): 0.784\n"
     ]
    },
    {
     "name": "stderr",
     "output_type": "stream",
     "text": [
      "100%|██████████| 67/67 [00:03<00:00, 18.61it/s]\n",
      "100%|██████████| 31/31 [00:02<00:00, 12.26it/s]\n"
     ]
    },
    {
     "name": "stdout",
     "output_type": "stream",
     "text": [
      "Epoch 16/201 Training Loss: 0.091 Valid (L1): 0.071 Valid (PSNR): 20.982  Valid (SSIM): 0.768\n"
     ]
    },
    {
     "name": "stderr",
     "output_type": "stream",
     "text": [
      "100%|██████████| 67/67 [00:03<00:00, 18.48it/s]\n",
      "100%|██████████| 31/31 [00:02<00:00, 12.40it/s]\n"
     ]
    },
    {
     "name": "stdout",
     "output_type": "stream",
     "text": [
      "Epoch 17/201 Training Loss: 0.078 Valid (L1): 0.072 Valid (PSNR): 20.892  Valid (SSIM): 0.789\n"
     ]
    },
    {
     "name": "stderr",
     "output_type": "stream",
     "text": [
      "100%|██████████| 67/67 [00:03<00:00, 18.25it/s]\n",
      "100%|██████████| 31/31 [00:02<00:00, 12.42it/s]\n"
     ]
    },
    {
     "name": "stdout",
     "output_type": "stream",
     "text": [
      "Epoch 18/201 Training Loss: 0.077 Valid (L1): 0.080 Valid (PSNR): 20.101  Valid (SSIM): 0.786\n"
     ]
    },
    {
     "name": "stderr",
     "output_type": "stream",
     "text": [
      "100%|██████████| 67/67 [00:03<00:00, 18.02it/s]\n",
      "100%|██████████| 31/31 [00:02<00:00, 12.42it/s]\n"
     ]
    },
    {
     "name": "stdout",
     "output_type": "stream",
     "text": [
      "Epoch 19/201 Training Loss: 0.074 Valid (L1): 0.073 Valid (PSNR): 20.775  Valid (SSIM): 0.788\n"
     ]
    },
    {
     "name": "stderr",
     "output_type": "stream",
     "text": [
      "100%|██████████| 67/67 [00:03<00:00, 18.20it/s]\n",
      "100%|██████████| 31/31 [00:02<00:00, 12.43it/s]\n"
     ]
    },
    {
     "name": "stdout",
     "output_type": "stream",
     "text": [
      "Epoch 20/201 Training Loss: 0.079 Valid (L1): 0.077 Valid (PSNR): 20.218  Valid (SSIM): 0.791\n"
     ]
    },
    {
     "name": "stderr",
     "output_type": "stream",
     "text": [
      "100%|██████████| 67/67 [00:03<00:00, 18.25it/s]\n",
      "100%|██████████| 31/31 [00:02<00:00, 12.36it/s]\n"
     ]
    },
    {
     "name": "stdout",
     "output_type": "stream",
     "text": [
      "Epoch 21/201 Training Loss: 0.080 Valid (L1): 0.073 Valid (PSNR): 20.787  Valid (SSIM): 0.778\n"
     ]
    },
    {
     "name": "stderr",
     "output_type": "stream",
     "text": [
      "100%|██████████| 67/67 [00:03<00:00, 18.40it/s]\n",
      "100%|██████████| 31/31 [00:02<00:00, 12.41it/s]\n"
     ]
    },
    {
     "name": "stdout",
     "output_type": "stream",
     "text": [
      "Epoch 22/201 Training Loss: 0.081 Valid (L1): 0.075 Valid (PSNR): 20.470  Valid (SSIM): 0.783\n"
     ]
    },
    {
     "name": "stderr",
     "output_type": "stream",
     "text": [
      "100%|██████████| 67/67 [00:03<00:00, 19.00it/s]\n",
      "100%|██████████| 31/31 [00:02<00:00, 12.38it/s]\n"
     ]
    },
    {
     "name": "stdout",
     "output_type": "stream",
     "text": [
      "Epoch 23/201 Training Loss: 0.073 Valid (L1): 0.070 Valid (PSNR): 21.336  Valid (SSIM): 0.803\n"
     ]
    },
    {
     "name": "stderr",
     "output_type": "stream",
     "text": [
      "100%|██████████| 67/67 [00:03<00:00, 18.00it/s]\n",
      "100%|██████████| 31/31 [00:02<00:00, 12.42it/s]\n"
     ]
    },
    {
     "name": "stdout",
     "output_type": "stream",
     "text": [
      "Epoch 24/201 Training Loss: 0.077 Valid (L1): 0.082 Valid (PSNR): 19.598  Valid (SSIM): 0.772\n"
     ]
    },
    {
     "name": "stderr",
     "output_type": "stream",
     "text": [
      "100%|██████████| 67/67 [00:03<00:00, 18.42it/s]\n",
      "100%|██████████| 31/31 [00:02<00:00, 12.41it/s]\n"
     ]
    },
    {
     "name": "stdout",
     "output_type": "stream",
     "text": [
      "Epoch 25/201 Training Loss: 0.074 Valid (L1): 0.073 Valid (PSNR): 20.908  Valid (SSIM): 0.804\n"
     ]
    },
    {
     "name": "stderr",
     "output_type": "stream",
     "text": [
      "100%|██████████| 67/67 [00:03<00:00, 18.59it/s]\n",
      "100%|██████████| 31/31 [00:02<00:00, 12.37it/s]\n"
     ]
    },
    {
     "name": "stdout",
     "output_type": "stream",
     "text": [
      "Epoch 26/201 Training Loss: 0.071 Valid (L1): 0.092 Valid (PSNR): 18.674  Valid (SSIM): 0.751\n"
     ]
    },
    {
     "name": "stderr",
     "output_type": "stream",
     "text": [
      "100%|██████████| 67/67 [00:03<00:00, 17.63it/s]\n",
      "100%|██████████| 31/31 [00:02<00:00, 12.42it/s]\n"
     ]
    },
    {
     "name": "stdout",
     "output_type": "stream",
     "text": [
      "Epoch 27/201 Training Loss: 0.076 Valid (L1): 0.080 Valid (PSNR): 20.128  Valid (SSIM): 0.782\n"
     ]
    },
    {
     "name": "stderr",
     "output_type": "stream",
     "text": [
      "100%|██████████| 67/67 [00:03<00:00, 18.93it/s]\n",
      "100%|██████████| 31/31 [00:02<00:00, 12.42it/s]\n"
     ]
    },
    {
     "name": "stdout",
     "output_type": "stream",
     "text": [
      "Epoch 28/201 Training Loss: 0.077 Valid (L1): 0.094 Valid (PSNR): 18.791  Valid (SSIM): 0.778\n"
     ]
    },
    {
     "name": "stderr",
     "output_type": "stream",
     "text": [
      "100%|██████████| 67/67 [00:03<00:00, 18.70it/s]\n",
      "100%|██████████| 31/31 [00:02<00:00, 12.42it/s]\n"
     ]
    },
    {
     "name": "stdout",
     "output_type": "stream",
     "text": [
      "Epoch 29/201 Training Loss: 0.077 Valid (L1): 0.071 Valid (PSNR): 21.105  Valid (SSIM): 0.798\n"
     ]
    },
    {
     "name": "stderr",
     "output_type": "stream",
     "text": [
      "100%|██████████| 67/67 [00:03<00:00, 18.45it/s]\n",
      "100%|██████████| 31/31 [00:02<00:00, 12.43it/s]\n"
     ]
    },
    {
     "name": "stdout",
     "output_type": "stream",
     "text": [
      "Epoch 30/201 Training Loss: 0.076 Valid (L1): 0.082 Valid (PSNR): 19.881  Valid (SSIM): 0.787\n"
     ]
    },
    {
     "name": "stderr",
     "output_type": "stream",
     "text": [
      "100%|██████████| 67/67 [00:03<00:00, 18.53it/s]\n",
      "100%|██████████| 31/31 [00:02<00:00, 12.41it/s]\n"
     ]
    },
    {
     "name": "stdout",
     "output_type": "stream",
     "text": [
      "Epoch 31/201 Training Loss: 0.080 Valid (L1): 0.074 Valid (PSNR): 20.699  Valid (SSIM): 0.787\n"
     ]
    },
    {
     "name": "stderr",
     "output_type": "stream",
     "text": [
      "100%|██████████| 67/67 [00:03<00:00, 18.44it/s]\n",
      "100%|██████████| 31/31 [00:02<00:00, 12.43it/s]\n"
     ]
    },
    {
     "name": "stdout",
     "output_type": "stream",
     "text": [
      "Epoch 32/201 Training Loss: 0.069 Valid (L1): 0.072 Valid (PSNR): 20.840  Valid (SSIM): 0.809\n"
     ]
    },
    {
     "name": "stderr",
     "output_type": "stream",
     "text": [
      "100%|██████████| 67/67 [00:03<00:00, 18.45it/s]\n",
      "100%|██████████| 31/31 [00:02<00:00, 12.38it/s]\n"
     ]
    },
    {
     "name": "stdout",
     "output_type": "stream",
     "text": [
      "Epoch 33/201 Training Loss: 0.069 Valid (L1): 0.069 Valid (PSNR): 21.356  Valid (SSIM): 0.806\n"
     ]
    },
    {
     "name": "stderr",
     "output_type": "stream",
     "text": [
      "100%|██████████| 67/67 [00:03<00:00, 18.39it/s]\n",
      "100%|██████████| 31/31 [00:02<00:00, 12.45it/s]\n"
     ]
    },
    {
     "name": "stdout",
     "output_type": "stream",
     "text": [
      "Epoch 34/201 Training Loss: 0.075 Valid (L1): 0.069 Valid (PSNR): 21.312  Valid (SSIM): 0.810\n"
     ]
    },
    {
     "name": "stderr",
     "output_type": "stream",
     "text": [
      "100%|██████████| 67/67 [00:03<00:00, 18.60it/s]\n",
      "100%|██████████| 31/31 [00:02<00:00, 12.43it/s]\n"
     ]
    },
    {
     "name": "stdout",
     "output_type": "stream",
     "text": [
      "Epoch 35/201 Training Loss: 0.070 Valid (L1): 0.068 Valid (PSNR): 21.373  Valid (SSIM): 0.802\n"
     ]
    },
    {
     "name": "stderr",
     "output_type": "stream",
     "text": [
      "100%|██████████| 67/67 [00:03<00:00, 18.65it/s]\n",
      "100%|██████████| 31/31 [00:02<00:00, 12.41it/s]\n"
     ]
    },
    {
     "name": "stdout",
     "output_type": "stream",
     "text": [
      "Epoch 36/201 Training Loss: 0.068 Valid (L1): 0.073 Valid (PSNR): 20.850  Valid (SSIM): 0.810\n"
     ]
    },
    {
     "name": "stderr",
     "output_type": "stream",
     "text": [
      "100%|██████████| 67/67 [00:03<00:00, 18.90it/s]\n",
      "100%|██████████| 31/31 [00:02<00:00, 12.42it/s]\n"
     ]
    },
    {
     "name": "stdout",
     "output_type": "stream",
     "text": [
      "Epoch 37/201 Training Loss: 0.073 Valid (L1): 0.077 Valid (PSNR): 20.409  Valid (SSIM): 0.786\n"
     ]
    },
    {
     "name": "stderr",
     "output_type": "stream",
     "text": [
      "100%|██████████| 67/67 [00:03<00:00, 18.66it/s]\n",
      "100%|██████████| 31/31 [00:02<00:00, 12.41it/s]\n"
     ]
    },
    {
     "name": "stdout",
     "output_type": "stream",
     "text": [
      "Epoch 38/201 Training Loss: 0.073 Valid (L1): 0.070 Valid (PSNR): 21.188  Valid (SSIM): 0.809\n"
     ]
    },
    {
     "name": "stderr",
     "output_type": "stream",
     "text": [
      "100%|██████████| 67/67 [00:03<00:00, 18.13it/s]\n",
      "100%|██████████| 31/31 [00:02<00:00, 12.43it/s]\n"
     ]
    },
    {
     "name": "stdout",
     "output_type": "stream",
     "text": [
      "Epoch 39/201 Training Loss: 0.078 Valid (L1): 0.076 Valid (PSNR): 20.423  Valid (SSIM): 0.793\n"
     ]
    },
    {
     "name": "stderr",
     "output_type": "stream",
     "text": [
      "100%|██████████| 67/67 [00:03<00:00, 18.89it/s]\n",
      "100%|██████████| 31/31 [00:02<00:00, 12.39it/s]\n"
     ]
    },
    {
     "name": "stdout",
     "output_type": "stream",
     "text": [
      "Epoch 40/201 Training Loss: 0.073 Valid (L1): 0.087 Valid (PSNR): 19.386  Valid (SSIM): 0.786\n"
     ]
    },
    {
     "name": "stderr",
     "output_type": "stream",
     "text": [
      "100%|██████████| 67/67 [00:03<00:00, 18.34it/s]\n",
      "100%|██████████| 31/31 [00:02<00:00, 12.44it/s]\n"
     ]
    },
    {
     "name": "stdout",
     "output_type": "stream",
     "text": [
      "Epoch 41/201 Training Loss: 0.075 Valid (L1): 0.068 Valid (PSNR): 21.456  Valid (SSIM): 0.809\n"
     ]
    },
    {
     "name": "stderr",
     "output_type": "stream",
     "text": [
      "100%|██████████| 67/67 [00:03<00:00, 18.52it/s]\n",
      "100%|██████████| 31/31 [00:02<00:00, 12.42it/s]\n"
     ]
    },
    {
     "name": "stdout",
     "output_type": "stream",
     "text": [
      "Epoch 42/201 Training Loss: 0.074 Valid (L1): 0.071 Valid (PSNR): 21.142  Valid (SSIM): 0.802\n"
     ]
    },
    {
     "name": "stderr",
     "output_type": "stream",
     "text": [
      "100%|██████████| 67/67 [00:03<00:00, 18.45it/s]\n",
      "100%|██████████| 31/31 [00:02<00:00, 12.45it/s]\n"
     ]
    },
    {
     "name": "stdout",
     "output_type": "stream",
     "text": [
      "Epoch 43/201 Training Loss: 0.071 Valid (L1): 0.069 Valid (PSNR): 21.323  Valid (SSIM): 0.811\n"
     ]
    },
    {
     "name": "stderr",
     "output_type": "stream",
     "text": [
      "100%|██████████| 67/67 [00:03<00:00, 18.69it/s]\n",
      "100%|██████████| 31/31 [00:02<00:00, 12.40it/s]\n"
     ]
    },
    {
     "name": "stdout",
     "output_type": "stream",
     "text": [
      "Epoch 44/201 Training Loss: 0.074 Valid (L1): 0.069 Valid (PSNR): 21.395  Valid (SSIM): 0.789\n"
     ]
    },
    {
     "name": "stderr",
     "output_type": "stream",
     "text": [
      "100%|██████████| 67/67 [00:03<00:00, 18.56it/s]\n",
      "100%|██████████| 31/31 [00:02<00:00, 12.41it/s]\n"
     ]
    },
    {
     "name": "stdout",
     "output_type": "stream",
     "text": [
      "Epoch 45/201 Training Loss: 0.071 Valid (L1): 0.067 Valid (PSNR): 21.555  Valid (SSIM): 0.805\n"
     ]
    },
    {
     "name": "stderr",
     "output_type": "stream",
     "text": [
      "100%|██████████| 67/67 [00:03<00:00, 18.54it/s]\n",
      "100%|██████████| 31/31 [00:02<00:00, 12.39it/s]\n"
     ]
    },
    {
     "name": "stdout",
     "output_type": "stream",
     "text": [
      "Epoch 46/201 Training Loss: 0.074 Valid (L1): 0.073 Valid (PSNR): 20.933  Valid (SSIM): 0.792\n"
     ]
    },
    {
     "name": "stderr",
     "output_type": "stream",
     "text": [
      "100%|██████████| 67/67 [00:03<00:00, 18.60it/s]\n",
      "100%|██████████| 31/31 [00:02<00:00, 12.41it/s]\n"
     ]
    },
    {
     "name": "stdout",
     "output_type": "stream",
     "text": [
      "Epoch 47/201 Training Loss: 0.067 Valid (L1): 0.066 Valid (PSNR): 21.745  Valid (SSIM): 0.786\n"
     ]
    },
    {
     "name": "stderr",
     "output_type": "stream",
     "text": [
      "100%|██████████| 67/67 [00:03<00:00, 18.37it/s]\n",
      "100%|██████████| 31/31 [00:02<00:00, 12.41it/s]\n"
     ]
    },
    {
     "name": "stdout",
     "output_type": "stream",
     "text": [
      "Epoch 48/201 Training Loss: 0.078 Valid (L1): 0.081 Valid (PSNR): 19.995  Valid (SSIM): 0.750\n"
     ]
    },
    {
     "name": "stderr",
     "output_type": "stream",
     "text": [
      "100%|██████████| 67/67 [00:03<00:00, 18.77it/s]\n",
      "100%|██████████| 31/31 [00:02<00:00, 12.40it/s]\n"
     ]
    },
    {
     "name": "stdout",
     "output_type": "stream",
     "text": [
      "Epoch 49/201 Training Loss: 0.074 Valid (L1): 0.073 Valid (PSNR): 20.715  Valid (SSIM): 0.749\n"
     ]
    },
    {
     "name": "stderr",
     "output_type": "stream",
     "text": [
      "100%|██████████| 67/67 [00:03<00:00, 18.63it/s]\n",
      "100%|██████████| 31/31 [00:02<00:00, 12.41it/s]\n"
     ]
    },
    {
     "name": "stdout",
     "output_type": "stream",
     "text": [
      "Epoch 50/201 Training Loss: 0.074 Valid (L1): 0.067 Valid (PSNR): 21.446  Valid (SSIM): 0.768\n"
     ]
    },
    {
     "name": "stderr",
     "output_type": "stream",
     "text": [
      "100%|██████████| 67/67 [00:03<00:00, 18.37it/s]\n",
      "100%|██████████| 31/31 [00:02<00:00, 12.42it/s]\n"
     ]
    },
    {
     "name": "stdout",
     "output_type": "stream",
     "text": [
      "Epoch 51/201 Training Loss: 0.067 Valid (L1): 0.068 Valid (PSNR): 21.370  Valid (SSIM): 0.757\n"
     ]
    },
    {
     "name": "stderr",
     "output_type": "stream",
     "text": [
      "100%|██████████| 67/67 [00:03<00:00, 18.41it/s]\n",
      "100%|██████████| 31/31 [00:02<00:00, 12.39it/s]\n"
     ]
    },
    {
     "name": "stdout",
     "output_type": "stream",
     "text": [
      "Epoch 52/201 Training Loss: 0.068 Valid (L1): 0.070 Valid (PSNR): 20.984  Valid (SSIM): 0.774\n"
     ]
    },
    {
     "name": "stderr",
     "output_type": "stream",
     "text": [
      "100%|██████████| 67/67 [00:03<00:00, 18.78it/s]\n",
      "100%|██████████| 31/31 [00:02<00:00, 12.38it/s]\n"
     ]
    },
    {
     "name": "stdout",
     "output_type": "stream",
     "text": [
      "Epoch 53/201 Training Loss: 0.066 Valid (L1): 0.064 Valid (PSNR): 21.902  Valid (SSIM): 0.770\n"
     ]
    },
    {
     "name": "stderr",
     "output_type": "stream",
     "text": [
      "100%|██████████| 67/67 [00:03<00:00, 18.71it/s]\n",
      "100%|██████████| 31/31 [00:02<00:00, 12.41it/s]\n"
     ]
    },
    {
     "name": "stdout",
     "output_type": "stream",
     "text": [
      "Epoch 54/201 Training Loss: 0.067 Valid (L1): 0.059 Valid (PSNR): 22.614  Valid (SSIM): 0.783\n"
     ]
    },
    {
     "name": "stderr",
     "output_type": "stream",
     "text": [
      "100%|██████████| 67/67 [00:03<00:00, 18.60it/s]\n",
      "100%|██████████| 31/31 [00:02<00:00, 12.41it/s]\n"
     ]
    },
    {
     "name": "stdout",
     "output_type": "stream",
     "text": [
      "Epoch 55/201 Training Loss: 0.067 Valid (L1): 0.058 Valid (PSNR): 22.731  Valid (SSIM): 0.774\n"
     ]
    },
    {
     "name": "stderr",
     "output_type": "stream",
     "text": [
      "100%|██████████| 67/67 [00:03<00:00, 18.59it/s]\n",
      "100%|██████████| 31/31 [00:02<00:00, 12.42it/s]\n"
     ]
    },
    {
     "name": "stdout",
     "output_type": "stream",
     "text": [
      "Epoch 56/201 Training Loss: 0.061 Valid (L1): 0.058 Valid (PSNR): 22.780  Valid (SSIM): 0.785\n"
     ]
    },
    {
     "name": "stderr",
     "output_type": "stream",
     "text": [
      "100%|██████████| 67/67 [00:03<00:00, 18.66it/s]\n",
      "100%|██████████| 31/31 [00:02<00:00, 12.38it/s]\n"
     ]
    },
    {
     "name": "stdout",
     "output_type": "stream",
     "text": [
      "Epoch 57/201 Training Loss: 0.064 Valid (L1): 0.057 Valid (PSNR): 22.880  Valid (SSIM): 0.771\n"
     ]
    },
    {
     "name": "stderr",
     "output_type": "stream",
     "text": [
      "100%|██████████| 67/67 [00:03<00:00, 18.50it/s]\n",
      "100%|██████████| 31/31 [00:02<00:00, 12.41it/s]\n"
     ]
    },
    {
     "name": "stdout",
     "output_type": "stream",
     "text": [
      "Epoch 58/201 Training Loss: 0.068 Valid (L1): 0.061 Valid (PSNR): 22.398  Valid (SSIM): 0.766\n"
     ]
    },
    {
     "name": "stderr",
     "output_type": "stream",
     "text": [
      "100%|██████████| 67/67 [00:03<00:00, 18.05it/s]\n",
      "100%|██████████| 31/31 [00:02<00:00, 12.42it/s]\n"
     ]
    },
    {
     "name": "stdout",
     "output_type": "stream",
     "text": [
      "Epoch 59/201 Training Loss: 0.060 Valid (L1): 0.058 Valid (PSNR): 22.684  Valid (SSIM): 0.772\n"
     ]
    },
    {
     "name": "stderr",
     "output_type": "stream",
     "text": [
      "100%|██████████| 67/67 [00:03<00:00, 18.94it/s]\n",
      "100%|██████████| 31/31 [00:02<00:00, 12.41it/s]\n"
     ]
    },
    {
     "name": "stdout",
     "output_type": "stream",
     "text": [
      "Epoch 60/201 Training Loss: 0.068 Valid (L1): 0.066 Valid (PSNR): 21.470  Valid (SSIM): 0.776\n"
     ]
    },
    {
     "name": "stderr",
     "output_type": "stream",
     "text": [
      "100%|██████████| 67/67 [00:03<00:00, 18.67it/s]\n",
      "100%|██████████| 31/31 [00:02<00:00, 12.44it/s]\n"
     ]
    },
    {
     "name": "stdout",
     "output_type": "stream",
     "text": [
      "Epoch 61/201 Training Loss: 0.105 Valid (L1): 0.090 Valid (PSNR): 18.935  Valid (SSIM): 0.709\n"
     ]
    },
    {
     "name": "stderr",
     "output_type": "stream",
     "text": [
      "100%|██████████| 67/67 [00:03<00:00, 18.43it/s]\n",
      "100%|██████████| 31/31 [00:02<00:00, 12.43it/s]\n"
     ]
    },
    {
     "name": "stdout",
     "output_type": "stream",
     "text": [
      "Epoch 62/201 Training Loss: 0.079 Valid (L1): 0.095 Valid (PSNR): 18.562  Valid (SSIM): 0.723\n"
     ]
    },
    {
     "name": "stderr",
     "output_type": "stream",
     "text": [
      "100%|██████████| 67/67 [00:03<00:00, 18.78it/s]\n",
      "100%|██████████| 31/31 [00:02<00:00, 12.40it/s]\n"
     ]
    },
    {
     "name": "stdout",
     "output_type": "stream",
     "text": [
      "Epoch 63/201 Training Loss: 0.083 Valid (L1): 0.075 Valid (PSNR): 20.537  Valid (SSIM): 0.758\n"
     ]
    },
    {
     "name": "stderr",
     "output_type": "stream",
     "text": [
      "100%|██████████| 67/67 [00:03<00:00, 18.69it/s]\n",
      "100%|██████████| 31/31 [00:02<00:00, 12.37it/s]\n"
     ]
    },
    {
     "name": "stdout",
     "output_type": "stream",
     "text": [
      "Epoch 64/201 Training Loss: 0.072 Valid (L1): 0.066 Valid (PSNR): 21.596  Valid (SSIM): 0.767\n"
     ]
    },
    {
     "name": "stderr",
     "output_type": "stream",
     "text": [
      "100%|██████████| 67/67 [00:03<00:00, 18.69it/s]\n",
      "100%|██████████| 31/31 [00:02<00:00, 12.38it/s]\n"
     ]
    },
    {
     "name": "stdout",
     "output_type": "stream",
     "text": [
      "Epoch 65/201 Training Loss: 0.070 Valid (L1): 0.056 Valid (PSNR): 22.905  Valid (SSIM): 0.774\n"
     ]
    },
    {
     "name": "stderr",
     "output_type": "stream",
     "text": [
      "100%|██████████| 67/67 [00:03<00:00, 18.41it/s]\n",
      "100%|██████████| 31/31 [00:02<00:00, 12.38it/s]\n"
     ]
    },
    {
     "name": "stdout",
     "output_type": "stream",
     "text": [
      "Epoch 66/201 Training Loss: 0.066 Valid (L1): 0.056 Valid (PSNR): 23.090  Valid (SSIM): 0.788\n"
     ]
    },
    {
     "name": "stderr",
     "output_type": "stream",
     "text": [
      "100%|██████████| 67/67 [00:03<00:00, 18.79it/s]\n",
      "100%|██████████| 31/31 [00:02<00:00, 12.43it/s]\n"
     ]
    },
    {
     "name": "stdout",
     "output_type": "stream",
     "text": [
      "Epoch 67/201 Training Loss: 0.066 Valid (L1): 0.059 Valid (PSNR): 22.516  Valid (SSIM): 0.769\n"
     ]
    },
    {
     "name": "stderr",
     "output_type": "stream",
     "text": [
      "100%|██████████| 67/67 [00:03<00:00, 18.83it/s]\n",
      "100%|██████████| 31/31 [00:02<00:00, 12.43it/s]\n"
     ]
    },
    {
     "name": "stdout",
     "output_type": "stream",
     "text": [
      "Epoch 68/201 Training Loss: 0.066 Valid (L1): 0.067 Valid (PSNR): 21.541  Valid (SSIM): 0.770\n"
     ]
    },
    {
     "name": "stderr",
     "output_type": "stream",
     "text": [
      "100%|██████████| 67/67 [00:03<00:00, 18.64it/s]\n",
      "100%|██████████| 31/31 [00:02<00:00, 12.40it/s]\n"
     ]
    },
    {
     "name": "stdout",
     "output_type": "stream",
     "text": [
      "Epoch 69/201 Training Loss: 0.061 Valid (L1): 0.062 Valid (PSNR): 22.146  Valid (SSIM): 0.780\n"
     ]
    },
    {
     "name": "stderr",
     "output_type": "stream",
     "text": [
      "100%|██████████| 67/67 [00:03<00:00, 18.66it/s]\n",
      "100%|██████████| 31/31 [00:02<00:00, 12.40it/s]\n"
     ]
    },
    {
     "name": "stdout",
     "output_type": "stream",
     "text": [
      "Epoch 70/201 Training Loss: 0.064 Valid (L1): 0.054 Valid (PSNR): 23.375  Valid (SSIM): 0.789\n"
     ]
    },
    {
     "name": "stderr",
     "output_type": "stream",
     "text": [
      "100%|██████████| 67/67 [00:03<00:00, 18.64it/s]\n",
      "100%|██████████| 31/31 [00:02<00:00, 12.46it/s]\n"
     ]
    },
    {
     "name": "stdout",
     "output_type": "stream",
     "text": [
      "Epoch 71/201 Training Loss: 0.059 Valid (L1): 0.054 Valid (PSNR): 23.132  Valid (SSIM): 0.789\n"
     ]
    },
    {
     "name": "stderr",
     "output_type": "stream",
     "text": [
      "100%|██████████| 67/67 [00:03<00:00, 18.49it/s]\n",
      "100%|██████████| 31/31 [00:02<00:00, 12.39it/s]\n"
     ]
    },
    {
     "name": "stdout",
     "output_type": "stream",
     "text": [
      "Epoch 72/201 Training Loss: 0.067 Valid (L1): 0.051 Valid (PSNR): 23.795  Valid (SSIM): 0.794\n"
     ]
    },
    {
     "name": "stderr",
     "output_type": "stream",
     "text": [
      "100%|██████████| 67/67 [00:03<00:00, 18.66it/s]\n",
      "100%|██████████| 31/31 [00:02<00:00, 12.39it/s]\n"
     ]
    },
    {
     "name": "stdout",
     "output_type": "stream",
     "text": [
      "Epoch 73/201 Training Loss: 0.064 Valid (L1): 0.052 Valid (PSNR): 23.507  Valid (SSIM): 0.787\n"
     ]
    },
    {
     "name": "stderr",
     "output_type": "stream",
     "text": [
      "100%|██████████| 67/67 [00:03<00:00, 18.67it/s]\n",
      "100%|██████████| 31/31 [00:02<00:00, 12.42it/s]\n"
     ]
    },
    {
     "name": "stdout",
     "output_type": "stream",
     "text": [
      "Epoch 74/201 Training Loss: 0.058 Valid (L1): 0.076 Valid (PSNR): 20.445  Valid (SSIM): 0.785\n"
     ]
    },
    {
     "name": "stderr",
     "output_type": "stream",
     "text": [
      "100%|██████████| 67/67 [00:03<00:00, 18.93it/s]\n",
      "100%|██████████| 31/31 [00:02<00:00, 12.38it/s]\n"
     ]
    },
    {
     "name": "stdout",
     "output_type": "stream",
     "text": [
      "Epoch 75/201 Training Loss: 0.062 Valid (L1): 0.055 Valid (PSNR): 23.120  Valid (SSIM): 0.788\n"
     ]
    },
    {
     "name": "stderr",
     "output_type": "stream",
     "text": [
      "100%|██████████| 67/67 [00:03<00:00, 17.73it/s]\n",
      "100%|██████████| 31/31 [00:02<00:00, 12.45it/s]\n"
     ]
    },
    {
     "name": "stdout",
     "output_type": "stream",
     "text": [
      "Epoch 76/201 Training Loss: 0.061 Valid (L1): 0.052 Valid (PSNR): 23.688  Valid (SSIM): 0.790\n"
     ]
    },
    {
     "name": "stderr",
     "output_type": "stream",
     "text": [
      "100%|██████████| 67/67 [00:03<00:00, 18.53it/s]\n",
      "100%|██████████| 31/31 [00:02<00:00, 12.42it/s]\n"
     ]
    },
    {
     "name": "stdout",
     "output_type": "stream",
     "text": [
      "Epoch 77/201 Training Loss: 0.060 Valid (L1): 0.056 Valid (PSNR): 22.961  Valid (SSIM): 0.797\n"
     ]
    },
    {
     "name": "stderr",
     "output_type": "stream",
     "text": [
      "100%|██████████| 67/67 [00:03<00:00, 18.03it/s]\n",
      "100%|██████████| 31/31 [00:02<00:00, 12.37it/s]\n"
     ]
    },
    {
     "name": "stdout",
     "output_type": "stream",
     "text": [
      "Epoch 78/201 Training Loss: 0.064 Valid (L1): 0.060 Valid (PSNR): 22.417  Valid (SSIM): 0.755\n"
     ]
    },
    {
     "name": "stderr",
     "output_type": "stream",
     "text": [
      "100%|██████████| 67/67 [00:03<00:00, 18.70it/s]\n",
      "100%|██████████| 31/31 [00:02<00:00, 12.44it/s]\n"
     ]
    },
    {
     "name": "stdout",
     "output_type": "stream",
     "text": [
      "Epoch 79/201 Training Loss: 0.057 Valid (L1): 0.054 Valid (PSNR): 23.198  Valid (SSIM): 0.799\n"
     ]
    },
    {
     "name": "stderr",
     "output_type": "stream",
     "text": [
      "100%|██████████| 67/67 [00:03<00:00, 18.69it/s]\n",
      "100%|██████████| 31/31 [00:02<00:00, 12.41it/s]\n"
     ]
    },
    {
     "name": "stdout",
     "output_type": "stream",
     "text": [
      "Epoch 80/201 Training Loss: 0.061 Valid (L1): 0.054 Valid (PSNR): 23.317  Valid (SSIM): 0.799\n"
     ]
    },
    {
     "name": "stderr",
     "output_type": "stream",
     "text": [
      "100%|██████████| 67/67 [00:03<00:00, 18.27it/s]\n",
      "100%|██████████| 31/31 [00:02<00:00, 12.40it/s]\n"
     ]
    },
    {
     "name": "stdout",
     "output_type": "stream",
     "text": [
      "Epoch 81/201 Training Loss: 0.061 Valid (L1): 0.055 Valid (PSNR): 23.244  Valid (SSIM): 0.780\n"
     ]
    },
    {
     "name": "stderr",
     "output_type": "stream",
     "text": [
      "100%|██████████| 67/67 [00:03<00:00, 18.95it/s]\n",
      "100%|██████████| 31/31 [00:02<00:00, 12.40it/s]\n"
     ]
    },
    {
     "name": "stdout",
     "output_type": "stream",
     "text": [
      "Epoch 82/201 Training Loss: 0.058 Valid (L1): 0.051 Valid (PSNR): 23.466  Valid (SSIM): 0.790\n"
     ]
    },
    {
     "name": "stderr",
     "output_type": "stream",
     "text": [
      "100%|██████████| 67/67 [00:03<00:00, 18.45it/s]\n",
      "100%|██████████| 31/31 [00:02<00:00, 12.39it/s]\n"
     ]
    },
    {
     "name": "stdout",
     "output_type": "stream",
     "text": [
      "Epoch 83/201 Training Loss: 0.062 Valid (L1): 0.056 Valid (PSNR): 22.991  Valid (SSIM): 0.804\n"
     ]
    },
    {
     "name": "stderr",
     "output_type": "stream",
     "text": [
      "100%|██████████| 67/67 [00:03<00:00, 18.42it/s]\n",
      "100%|██████████| 31/31 [00:02<00:00, 12.41it/s]\n"
     ]
    },
    {
     "name": "stdout",
     "output_type": "stream",
     "text": [
      "Epoch 84/201 Training Loss: 0.060 Valid (L1): 0.055 Valid (PSNR): 23.215  Valid (SSIM): 0.791\n"
     ]
    },
    {
     "name": "stderr",
     "output_type": "stream",
     "text": [
      "100%|██████████| 67/67 [00:03<00:00, 18.12it/s]\n",
      "100%|██████████| 31/31 [00:02<00:00, 12.43it/s]\n"
     ]
    },
    {
     "name": "stdout",
     "output_type": "stream",
     "text": [
      "Epoch 85/201 Training Loss: 0.088 Valid (L1): 0.075 Valid (PSNR): 20.535  Valid (SSIM): 0.753\n"
     ]
    },
    {
     "name": "stderr",
     "output_type": "stream",
     "text": [
      "100%|██████████| 67/67 [00:03<00:00, 18.28it/s]\n",
      "100%|██████████| 31/31 [00:02<00:00, 12.44it/s]\n"
     ]
    },
    {
     "name": "stdout",
     "output_type": "stream",
     "text": [
      "Epoch 86/201 Training Loss: 0.071 Valid (L1): 0.064 Valid (PSNR): 21.934  Valid (SSIM): 0.785\n"
     ]
    },
    {
     "name": "stderr",
     "output_type": "stream",
     "text": [
      "100%|██████████| 67/67 [00:03<00:00, 18.59it/s]\n",
      "100%|██████████| 31/31 [00:02<00:00, 12.44it/s]\n"
     ]
    },
    {
     "name": "stdout",
     "output_type": "stream",
     "text": [
      "Epoch 87/201 Training Loss: 0.066 Valid (L1): 0.065 Valid (PSNR): 21.631  Valid (SSIM): 0.782\n"
     ]
    },
    {
     "name": "stderr",
     "output_type": "stream",
     "text": [
      "100%|██████████| 67/67 [00:03<00:00, 18.82it/s]\n",
      "100%|██████████| 31/31 [00:02<00:00, 12.44it/s]\n"
     ]
    },
    {
     "name": "stdout",
     "output_type": "stream",
     "text": [
      "Epoch 88/201 Training Loss: 0.063 Valid (L1): 0.057 Valid (PSNR): 22.843  Valid (SSIM): 0.795\n"
     ]
    },
    {
     "name": "stderr",
     "output_type": "stream",
     "text": [
      "100%|██████████| 67/67 [00:03<00:00, 18.73it/s]\n",
      "100%|██████████| 31/31 [00:02<00:00, 12.43it/s]\n"
     ]
    },
    {
     "name": "stdout",
     "output_type": "stream",
     "text": [
      "Epoch 89/201 Training Loss: 0.245 Valid (L1): 0.228 Valid (PSNR): 11.465  Valid (SSIM): 0.378\n"
     ]
    },
    {
     "name": "stderr",
     "output_type": "stream",
     "text": [
      "100%|██████████| 67/67 [00:03<00:00, 18.40it/s]\n",
      "100%|██████████| 31/31 [00:02<00:00, 12.40it/s]\n"
     ]
    },
    {
     "name": "stdout",
     "output_type": "stream",
     "text": [
      "Epoch 90/201 Training Loss: 0.374 Valid (L1): 0.175 Valid (PSNR): 13.786  Valid (SSIM): 0.402\n"
     ]
    },
    {
     "name": "stderr",
     "output_type": "stream",
     "text": [
      "100%|██████████| 67/67 [00:03<00:00, 18.90it/s]\n",
      "100%|██████████| 31/31 [00:02<00:00, 12.45it/s]\n"
     ]
    },
    {
     "name": "stdout",
     "output_type": "stream",
     "text": [
      "Epoch 91/201 Training Loss: 0.143 Valid (L1): 0.113 Valid (PSNR): 17.334  Valid (SSIM): 0.516\n"
     ]
    },
    {
     "name": "stderr",
     "output_type": "stream",
     "text": [
      "100%|██████████| 67/67 [00:03<00:00, 18.64it/s]\n",
      "100%|██████████| 31/31 [00:02<00:00, 12.45it/s]\n"
     ]
    },
    {
     "name": "stdout",
     "output_type": "stream",
     "text": [
      "Epoch 92/201 Training Loss: 0.111 Valid (L1): 0.109 Valid (PSNR): 17.496  Valid (SSIM): 0.548\n"
     ]
    },
    {
     "name": "stderr",
     "output_type": "stream",
     "text": [
      "100%|██████████| 67/67 [00:03<00:00, 17.71it/s]\n",
      "100%|██████████| 31/31 [00:02<00:00, 12.44it/s]\n"
     ]
    },
    {
     "name": "stdout",
     "output_type": "stream",
     "text": [
      "Epoch 93/201 Training Loss: 0.101 Valid (L1): 0.091 Valid (PSNR): 18.957  Valid (SSIM): 0.613\n"
     ]
    },
    {
     "name": "stderr",
     "output_type": "stream",
     "text": [
      "100%|██████████| 67/67 [00:03<00:00, 18.33it/s]\n",
      "100%|██████████| 31/31 [00:02<00:00, 12.42it/s]\n"
     ]
    },
    {
     "name": "stdout",
     "output_type": "stream",
     "text": [
      "Epoch 94/201 Training Loss: 0.091 Valid (L1): 0.103 Valid (PSNR): 17.962  Valid (SSIM): 0.622\n"
     ]
    },
    {
     "name": "stderr",
     "output_type": "stream",
     "text": [
      "100%|██████████| 67/67 [00:03<00:00, 18.23it/s]\n",
      "100%|██████████| 31/31 [00:02<00:00, 12.39it/s]\n"
     ]
    },
    {
     "name": "stdout",
     "output_type": "stream",
     "text": [
      "Epoch 95/201 Training Loss: 0.091 Valid (L1): 0.087 Valid (PSNR): 19.127  Valid (SSIM): 0.675\n"
     ]
    },
    {
     "name": "stderr",
     "output_type": "stream",
     "text": [
      "100%|██████████| 67/67 [00:03<00:00, 18.69it/s]\n",
      "100%|██████████| 31/31 [00:02<00:00, 12.45it/s]\n"
     ]
    },
    {
     "name": "stdout",
     "output_type": "stream",
     "text": [
      "Epoch 96/201 Training Loss: 0.087 Valid (L1): 0.078 Valid (PSNR): 20.178  Valid (SSIM): 0.681\n"
     ]
    },
    {
     "name": "stderr",
     "output_type": "stream",
     "text": [
      "100%|██████████| 67/67 [00:03<00:00, 18.50it/s]\n",
      "100%|██████████| 31/31 [00:02<00:00, 12.44it/s]\n"
     ]
    },
    {
     "name": "stdout",
     "output_type": "stream",
     "text": [
      "Epoch 97/201 Training Loss: 0.082 Valid (L1): 0.082 Valid (PSNR): 19.870  Valid (SSIM): 0.681\n"
     ]
    },
    {
     "name": "stderr",
     "output_type": "stream",
     "text": [
      "100%|██████████| 67/67 [00:03<00:00, 18.66it/s]\n",
      "100%|██████████| 31/31 [00:02<00:00, 12.40it/s]\n"
     ]
    },
    {
     "name": "stdout",
     "output_type": "stream",
     "text": [
      "Epoch 98/201 Training Loss: 0.079 Valid (L1): 0.077 Valid (PSNR): 20.410  Valid (SSIM): 0.699\n"
     ]
    },
    {
     "name": "stderr",
     "output_type": "stream",
     "text": [
      "100%|██████████| 67/67 [00:03<00:00, 18.95it/s]\n",
      "100%|██████████| 31/31 [00:02<00:00, 12.44it/s]\n"
     ]
    },
    {
     "name": "stdout",
     "output_type": "stream",
     "text": [
      "Epoch 99/201 Training Loss: 0.080 Valid (L1): 0.077 Valid (PSNR): 20.295  Valid (SSIM): 0.720\n"
     ]
    },
    {
     "name": "stderr",
     "output_type": "stream",
     "text": [
      "100%|██████████| 67/67 [00:03<00:00, 18.96it/s]\n",
      "100%|██████████| 31/31 [00:02<00:00, 12.41it/s]\n"
     ]
    },
    {
     "name": "stdout",
     "output_type": "stream",
     "text": [
      "Epoch 100/201 Training Loss: 0.085 Valid (L1): 0.092 Valid (PSNR): 18.849  Valid (SSIM): 0.682\n"
     ]
    },
    {
     "name": "stderr",
     "output_type": "stream",
     "text": [
      "100%|██████████| 67/67 [00:03<00:00, 18.35it/s]\n",
      "100%|██████████| 31/31 [00:02<00:00, 12.43it/s]\n"
     ]
    },
    {
     "name": "stdout",
     "output_type": "stream",
     "text": [
      "Epoch 101/201 Training Loss: 0.085 Valid (L1): 0.075 Valid (PSNR): 20.425  Valid (SSIM): 0.722\n"
     ]
    },
    {
     "name": "stderr",
     "output_type": "stream",
     "text": [
      "100%|██████████| 67/67 [00:03<00:00, 18.30it/s]\n",
      "100%|██████████| 31/31 [00:02<00:00, 12.43it/s]\n"
     ]
    },
    {
     "name": "stdout",
     "output_type": "stream",
     "text": [
      "Epoch 102/201 Training Loss: 0.077 Valid (L1): 0.074 Valid (PSNR): 20.636  Valid (SSIM): 0.730\n"
     ]
    },
    {
     "name": "stderr",
     "output_type": "stream",
     "text": [
      "100%|██████████| 67/67 [00:03<00:00, 18.57it/s]\n",
      "100%|██████████| 31/31 [00:02<00:00, 12.41it/s]\n"
     ]
    },
    {
     "name": "stdout",
     "output_type": "stream",
     "text": [
      "Epoch 103/201 Training Loss: 0.077 Valid (L1): 0.075 Valid (PSNR): 20.613  Valid (SSIM): 0.732\n"
     ]
    },
    {
     "name": "stderr",
     "output_type": "stream",
     "text": [
      "100%|██████████| 67/67 [00:03<00:00, 18.91it/s]\n",
      "100%|██████████| 31/31 [00:02<00:00, 12.39it/s]\n"
     ]
    },
    {
     "name": "stdout",
     "output_type": "stream",
     "text": [
      "Epoch 104/201 Training Loss: 0.081 Valid (L1): 0.073 Valid (PSNR): 20.866  Valid (SSIM): 0.741\n"
     ]
    },
    {
     "name": "stderr",
     "output_type": "stream",
     "text": [
      "100%|██████████| 67/67 [00:03<00:00, 18.52it/s]\n",
      "100%|██████████| 31/31 [00:02<00:00, 12.42it/s]\n"
     ]
    },
    {
     "name": "stdout",
     "output_type": "stream",
     "text": [
      "Epoch 105/201 Training Loss: 0.078 Valid (L1): 0.075 Valid (PSNR): 20.343  Valid (SSIM): 0.738\n"
     ]
    },
    {
     "name": "stderr",
     "output_type": "stream",
     "text": [
      "100%|██████████| 67/67 [00:03<00:00, 18.91it/s]\n",
      "100%|██████████| 31/31 [00:02<00:00, 12.36it/s]\n"
     ]
    },
    {
     "name": "stdout",
     "output_type": "stream",
     "text": [
      "Epoch 106/201 Training Loss: 0.079 Valid (L1): 0.108 Valid (PSNR): 17.386  Valid (SSIM): 0.737\n"
     ]
    },
    {
     "name": "stderr",
     "output_type": "stream",
     "text": [
      "100%|██████████| 67/67 [00:03<00:00, 18.42it/s]\n",
      "100%|██████████| 31/31 [00:02<00:00, 12.40it/s]\n"
     ]
    },
    {
     "name": "stdout",
     "output_type": "stream",
     "text": [
      "Epoch 107/201 Training Loss: 0.078 Valid (L1): 0.072 Valid (PSNR): 20.946  Valid (SSIM): 0.752\n"
     ]
    },
    {
     "name": "stderr",
     "output_type": "stream",
     "text": [
      "100%|██████████| 67/67 [00:03<00:00, 18.76it/s]\n",
      "100%|██████████| 31/31 [00:02<00:00, 12.41it/s]\n"
     ]
    },
    {
     "name": "stdout",
     "output_type": "stream",
     "text": [
      "Epoch 108/201 Training Loss: 0.077 Valid (L1): 0.073 Valid (PSNR): 20.807  Valid (SSIM): 0.753\n"
     ]
    },
    {
     "name": "stderr",
     "output_type": "stream",
     "text": [
      "100%|██████████| 67/67 [00:03<00:00, 18.32it/s]\n",
      "100%|██████████| 31/31 [00:02<00:00, 12.43it/s]\n"
     ]
    },
    {
     "name": "stdout",
     "output_type": "stream",
     "text": [
      "Epoch 109/201 Training Loss: 0.076 Valid (L1): 0.071 Valid (PSNR): 20.967  Valid (SSIM): 0.764\n"
     ]
    },
    {
     "name": "stderr",
     "output_type": "stream",
     "text": [
      "100%|██████████| 67/67 [00:03<00:00, 18.49it/s]\n",
      "100%|██████████| 31/31 [00:02<00:00, 12.42it/s]\n"
     ]
    },
    {
     "name": "stdout",
     "output_type": "stream",
     "text": [
      "Epoch 110/201 Training Loss: 0.077 Valid (L1): 0.087 Valid (PSNR): 19.520  Valid (SSIM): 0.727\n"
     ]
    },
    {
     "name": "stderr",
     "output_type": "stream",
     "text": [
      "100%|██████████| 67/67 [00:03<00:00, 18.45it/s]\n",
      "100%|██████████| 31/31 [00:02<00:00, 12.44it/s]\n"
     ]
    },
    {
     "name": "stdout",
     "output_type": "stream",
     "text": [
      "Epoch 111/201 Training Loss: 0.077 Valid (L1): 0.071 Valid (PSNR): 20.944  Valid (SSIM): 0.765\n"
     ]
    },
    {
     "name": "stderr",
     "output_type": "stream",
     "text": [
      "100%|██████████| 67/67 [00:03<00:00, 18.59it/s]\n",
      "100%|██████████| 31/31 [00:02<00:00, 12.44it/s]\n"
     ]
    },
    {
     "name": "stdout",
     "output_type": "stream",
     "text": [
      "Epoch 112/201 Training Loss: 0.075 Valid (L1): 0.074 Valid (PSNR): 20.507  Valid (SSIM): 0.768\n"
     ]
    },
    {
     "name": "stderr",
     "output_type": "stream",
     "text": [
      "100%|██████████| 67/67 [00:03<00:00, 18.68it/s]\n",
      "100%|██████████| 31/31 [00:02<00:00, 12.41it/s]\n"
     ]
    },
    {
     "name": "stdout",
     "output_type": "stream",
     "text": [
      "Epoch 113/201 Training Loss: 0.074 Valid (L1): 0.078 Valid (PSNR): 20.290  Valid (SSIM): 0.766\n"
     ]
    },
    {
     "name": "stderr",
     "output_type": "stream",
     "text": [
      "100%|██████████| 67/67 [00:03<00:00, 18.71it/s]\n",
      "100%|██████████| 31/31 [00:02<00:00, 12.40it/s]\n"
     ]
    },
    {
     "name": "stdout",
     "output_type": "stream",
     "text": [
      "Epoch 114/201 Training Loss: 0.079 Valid (L1): 0.074 Valid (PSNR): 20.767  Valid (SSIM): 0.779\n"
     ]
    },
    {
     "name": "stderr",
     "output_type": "stream",
     "text": [
      "100%|██████████| 67/67 [00:03<00:00, 17.49it/s]\n",
      "100%|██████████| 31/31 [00:02<00:00, 12.40it/s]\n"
     ]
    },
    {
     "name": "stdout",
     "output_type": "stream",
     "text": [
      "Epoch 115/201 Training Loss: 0.077 Valid (L1): 0.087 Valid (PSNR): 19.399  Valid (SSIM): 0.767\n"
     ]
    },
    {
     "name": "stderr",
     "output_type": "stream",
     "text": [
      "100%|██████████| 67/67 [00:03<00:00, 18.92it/s]\n",
      "100%|██████████| 31/31 [00:02<00:00, 12.45it/s]\n"
     ]
    },
    {
     "name": "stdout",
     "output_type": "stream",
     "text": [
      "Epoch 116/201 Training Loss: 0.105 Valid (L1): 0.084 Valid (PSNR): 19.623  Valid (SSIM): 0.643\n"
     ]
    },
    {
     "name": "stderr",
     "output_type": "stream",
     "text": [
      "100%|██████████| 67/67 [00:03<00:00, 18.66it/s]\n",
      "100%|██████████| 31/31 [00:02<00:00, 12.43it/s]\n"
     ]
    },
    {
     "name": "stdout",
     "output_type": "stream",
     "text": [
      "Epoch 117/201 Training Loss: 0.090 Valid (L1): 0.078 Valid (PSNR): 20.069  Valid (SSIM): 0.684\n"
     ]
    },
    {
     "name": "stderr",
     "output_type": "stream",
     "text": [
      "100%|██████████| 67/67 [00:03<00:00, 18.49it/s]\n",
      "100%|██████████| 31/31 [00:02<00:00, 12.44it/s]\n"
     ]
    },
    {
     "name": "stdout",
     "output_type": "stream",
     "text": [
      "Epoch 118/201 Training Loss: 0.087 Valid (L1): 0.075 Valid (PSNR): 20.502  Valid (SSIM): 0.705\n"
     ]
    },
    {
     "name": "stderr",
     "output_type": "stream",
     "text": [
      "100%|██████████| 67/67 [00:03<00:00, 18.59it/s]\n",
      "100%|██████████| 31/31 [00:02<00:00, 12.40it/s]\n"
     ]
    },
    {
     "name": "stdout",
     "output_type": "stream",
     "text": [
      "Epoch 119/201 Training Loss: 0.079 Valid (L1): 0.075 Valid (PSNR): 20.511  Valid (SSIM): 0.736\n"
     ]
    },
    {
     "name": "stderr",
     "output_type": "stream",
     "text": [
      "100%|██████████| 67/67 [00:03<00:00, 18.34it/s]\n",
      "100%|██████████| 31/31 [00:02<00:00, 12.43it/s]\n"
     ]
    },
    {
     "name": "stdout",
     "output_type": "stream",
     "text": [
      "Epoch 120/201 Training Loss: 0.080 Valid (L1): 0.088 Valid (PSNR): 19.403  Valid (SSIM): 0.731\n"
     ]
    },
    {
     "name": "stderr",
     "output_type": "stream",
     "text": [
      "100%|██████████| 67/67 [00:03<00:00, 18.26it/s]\n",
      "100%|██████████| 31/31 [00:02<00:00, 12.44it/s]\n"
     ]
    },
    {
     "name": "stdout",
     "output_type": "stream",
     "text": [
      "Epoch 121/201 Training Loss: 0.083 Valid (L1): 0.079 Valid (PSNR): 20.110  Valid (SSIM): 0.740\n"
     ]
    },
    {
     "name": "stderr",
     "output_type": "stream",
     "text": [
      "100%|██████████| 67/67 [00:03<00:00, 18.82it/s]\n",
      "100%|██████████| 31/31 [00:02<00:00, 12.43it/s]\n"
     ]
    },
    {
     "name": "stdout",
     "output_type": "stream",
     "text": [
      "Epoch 122/201 Training Loss: 0.078 Valid (L1): 0.071 Valid (PSNR): 20.988  Valid (SSIM): 0.759\n"
     ]
    },
    {
     "name": "stderr",
     "output_type": "stream",
     "text": [
      "100%|██████████| 67/67 [00:03<00:00, 18.51it/s]\n",
      "100%|██████████| 31/31 [00:02<00:00, 12.44it/s]\n"
     ]
    },
    {
     "name": "stdout",
     "output_type": "stream",
     "text": [
      "Epoch 123/201 Training Loss: 0.079 Valid (L1): 0.080 Valid (PSNR): 19.869  Valid (SSIM): 0.736\n"
     ]
    },
    {
     "name": "stderr",
     "output_type": "stream",
     "text": [
      "100%|██████████| 67/67 [00:03<00:00, 18.54it/s]\n",
      "100%|██████████| 31/31 [00:02<00:00, 12.40it/s]\n"
     ]
    },
    {
     "name": "stdout",
     "output_type": "stream",
     "text": [
      "Epoch 124/201 Training Loss: 0.081 Valid (L1): 0.073 Valid (PSNR): 20.754  Valid (SSIM): 0.759\n"
     ]
    },
    {
     "name": "stderr",
     "output_type": "stream",
     "text": [
      "100%|██████████| 67/67 [00:03<00:00, 18.76it/s]\n",
      "100%|██████████| 31/31 [00:02<00:00, 12.44it/s]\n"
     ]
    },
    {
     "name": "stdout",
     "output_type": "stream",
     "text": [
      "Epoch 125/201 Training Loss: 0.080 Valid (L1): 0.071 Valid (PSNR): 21.104  Valid (SSIM): 0.767\n"
     ]
    },
    {
     "name": "stderr",
     "output_type": "stream",
     "text": [
      "100%|██████████| 67/67 [00:03<00:00, 18.72it/s]\n",
      "100%|██████████| 31/31 [00:02<00:00, 12.42it/s]\n"
     ]
    },
    {
     "name": "stdout",
     "output_type": "stream",
     "text": [
      "Epoch 126/201 Training Loss: 0.083 Valid (L1): 0.072 Valid (PSNR): 20.878  Valid (SSIM): 0.766\n"
     ]
    },
    {
     "name": "stderr",
     "output_type": "stream",
     "text": [
      "100%|██████████| 67/67 [00:03<00:00, 18.53it/s]\n",
      "100%|██████████| 31/31 [00:02<00:00, 12.43it/s]\n"
     ]
    },
    {
     "name": "stdout",
     "output_type": "stream",
     "text": [
      "Epoch 127/201 Training Loss: 0.073 Valid (L1): 0.071 Valid (PSNR): 21.122  Valid (SSIM): 0.760\n"
     ]
    },
    {
     "name": "stderr",
     "output_type": "stream",
     "text": [
      "100%|██████████| 67/67 [00:03<00:00, 18.38it/s]\n",
      "100%|██████████| 31/31 [00:02<00:00, 12.45it/s]\n"
     ]
    },
    {
     "name": "stdout",
     "output_type": "stream",
     "text": [
      "Epoch 128/201 Training Loss: 0.074 Valid (L1): 0.070 Valid (PSNR): 21.176  Valid (SSIM): 0.782\n"
     ]
    },
    {
     "name": "stderr",
     "output_type": "stream",
     "text": [
      "100%|██████████| 67/67 [00:03<00:00, 18.29it/s]\n",
      "100%|██████████| 31/31 [00:02<00:00, 12.44it/s]\n"
     ]
    },
    {
     "name": "stdout",
     "output_type": "stream",
     "text": [
      "Epoch 129/201 Training Loss: 0.076 Valid (L1): 0.074 Valid (PSNR): 20.710  Valid (SSIM): 0.778\n"
     ]
    },
    {
     "name": "stderr",
     "output_type": "stream",
     "text": [
      "100%|██████████| 67/67 [00:03<00:00, 18.40it/s]\n",
      "100%|██████████| 31/31 [00:02<00:00, 12.43it/s]\n"
     ]
    },
    {
     "name": "stdout",
     "output_type": "stream",
     "text": [
      "Epoch 130/201 Training Loss: 0.077 Valid (L1): 0.072 Valid (PSNR): 20.942  Valid (SSIM): 0.790\n"
     ]
    },
    {
     "name": "stderr",
     "output_type": "stream",
     "text": [
      "100%|██████████| 67/67 [00:03<00:00, 18.35it/s]\n",
      "100%|██████████| 31/31 [00:02<00:00, 12.36it/s]\n"
     ]
    },
    {
     "name": "stdout",
     "output_type": "stream",
     "text": [
      "Epoch 131/201 Training Loss: 0.082 Valid (L1): 0.077 Valid (PSNR): 20.378  Valid (SSIM): 0.761\n"
     ]
    },
    {
     "name": "stderr",
     "output_type": "stream",
     "text": [
      "100%|██████████| 67/67 [00:03<00:00, 18.53it/s]\n",
      "100%|██████████| 31/31 [00:02<00:00, 12.39it/s]\n"
     ]
    },
    {
     "name": "stdout",
     "output_type": "stream",
     "text": [
      "Epoch 132/201 Training Loss: 0.074 Valid (L1): 0.069 Valid (PSNR): 21.302  Valid (SSIM): 0.792\n"
     ]
    },
    {
     "name": "stderr",
     "output_type": "stream",
     "text": [
      "100%|██████████| 67/67 [00:03<00:00, 18.45it/s]\n",
      "100%|██████████| 31/31 [00:02<00:00, 12.42it/s]\n"
     ]
    },
    {
     "name": "stdout",
     "output_type": "stream",
     "text": [
      "Epoch 133/201 Training Loss: 0.076 Valid (L1): 0.071 Valid (PSNR): 21.017  Valid (SSIM): 0.783\n"
     ]
    },
    {
     "name": "stderr",
     "output_type": "stream",
     "text": [
      "100%|██████████| 67/67 [00:03<00:00, 18.71it/s]\n",
      "100%|██████████| 31/31 [00:02<00:00, 12.41it/s]\n"
     ]
    },
    {
     "name": "stdout",
     "output_type": "stream",
     "text": [
      "Epoch 134/201 Training Loss: 0.074 Valid (L1): 0.072 Valid (PSNR): 20.942  Valid (SSIM): 0.791\n"
     ]
    },
    {
     "name": "stderr",
     "output_type": "stream",
     "text": [
      "100%|██████████| 67/67 [00:03<00:00, 18.50it/s]\n",
      "100%|██████████| 31/31 [00:02<00:00, 12.41it/s]\n"
     ]
    },
    {
     "name": "stdout",
     "output_type": "stream",
     "text": [
      "Epoch 135/201 Training Loss: 0.072 Valid (L1): 0.070 Valid (PSNR): 21.234  Valid (SSIM): 0.788\n"
     ]
    },
    {
     "name": "stderr",
     "output_type": "stream",
     "text": [
      "100%|██████████| 67/67 [00:03<00:00, 18.33it/s]\n",
      "100%|██████████| 31/31 [00:02<00:00, 12.42it/s]\n"
     ]
    },
    {
     "name": "stdout",
     "output_type": "stream",
     "text": [
      "Epoch 136/201 Training Loss: 0.072 Valid (L1): 0.075 Valid (PSNR): 20.302  Valid (SSIM): 0.789\n"
     ]
    },
    {
     "name": "stderr",
     "output_type": "stream",
     "text": [
      "100%|██████████| 67/67 [00:03<00:00, 18.68it/s]\n",
      "100%|██████████| 31/31 [00:02<00:00, 12.40it/s]\n"
     ]
    },
    {
     "name": "stdout",
     "output_type": "stream",
     "text": [
      "Epoch 137/201 Training Loss: 0.075 Valid (L1): 0.070 Valid (PSNR): 21.233  Valid (SSIM): 0.785\n"
     ]
    },
    {
     "name": "stderr",
     "output_type": "stream",
     "text": [
      "100%|██████████| 67/67 [00:03<00:00, 18.25it/s]\n",
      "100%|██████████| 31/31 [00:02<00:00, 12.42it/s]\n"
     ]
    },
    {
     "name": "stdout",
     "output_type": "stream",
     "text": [
      "Epoch 138/201 Training Loss: 0.077 Valid (L1): 0.074 Valid (PSNR): 20.847  Valid (SSIM): 0.791\n"
     ]
    },
    {
     "name": "stderr",
     "output_type": "stream",
     "text": [
      "100%|██████████| 67/67 [00:03<00:00, 18.42it/s]\n",
      "100%|██████████| 31/31 [00:02<00:00, 12.40it/s]\n"
     ]
    },
    {
     "name": "stdout",
     "output_type": "stream",
     "text": [
      "Epoch 139/201 Training Loss: 0.072 Valid (L1): 0.075 Valid (PSNR): 20.630  Valid (SSIM): 0.788\n"
     ]
    },
    {
     "name": "stderr",
     "output_type": "stream",
     "text": [
      "100%|██████████| 67/67 [00:03<00:00, 18.54it/s]\n",
      "100%|██████████| 31/31 [00:02<00:00, 12.42it/s]\n"
     ]
    },
    {
     "name": "stdout",
     "output_type": "stream",
     "text": [
      "Epoch 140/201 Training Loss: 0.069 Valid (L1): 0.073 Valid (PSNR): 20.831  Valid (SSIM): 0.781\n"
     ]
    },
    {
     "name": "stderr",
     "output_type": "stream",
     "text": [
      "100%|██████████| 67/67 [00:03<00:00, 18.15it/s]\n",
      "100%|██████████| 31/31 [00:02<00:00, 12.45it/s]\n"
     ]
    },
    {
     "name": "stdout",
     "output_type": "stream",
     "text": [
      "Epoch 141/201 Training Loss: 0.069 Valid (L1): 0.068 Valid (PSNR): 21.456  Valid (SSIM): 0.804\n"
     ]
    },
    {
     "name": "stderr",
     "output_type": "stream",
     "text": [
      "100%|██████████| 67/67 [00:03<00:00, 18.14it/s]\n",
      "100%|██████████| 31/31 [00:02<00:00, 12.42it/s]\n"
     ]
    },
    {
     "name": "stdout",
     "output_type": "stream",
     "text": [
      "Epoch 142/201 Training Loss: 0.072 Valid (L1): 0.080 Valid (PSNR): 19.917  Valid (SSIM): 0.796\n"
     ]
    },
    {
     "name": "stderr",
     "output_type": "stream",
     "text": [
      "100%|██████████| 67/67 [00:03<00:00, 18.39it/s]\n",
      "100%|██████████| 31/31 [00:02<00:00, 12.43it/s]\n"
     ]
    },
    {
     "name": "stdout",
     "output_type": "stream",
     "text": [
      "Epoch 143/201 Training Loss: 0.074 Valid (L1): 0.070 Valid (PSNR): 21.242  Valid (SSIM): 0.798\n"
     ]
    },
    {
     "name": "stderr",
     "output_type": "stream",
     "text": [
      "100%|██████████| 67/67 [00:03<00:00, 18.58it/s]\n",
      "100%|██████████| 31/31 [00:02<00:00, 12.44it/s]\n"
     ]
    },
    {
     "name": "stdout",
     "output_type": "stream",
     "text": [
      "Epoch 144/201 Training Loss: 0.072 Valid (L1): 0.069 Valid (PSNR): 21.318  Valid (SSIM): 0.805\n"
     ]
    },
    {
     "name": "stderr",
     "output_type": "stream",
     "text": [
      "100%|██████████| 67/67 [00:03<00:00, 18.67it/s]\n",
      "100%|██████████| 31/31 [00:02<00:00, 12.41it/s]\n"
     ]
    },
    {
     "name": "stdout",
     "output_type": "stream",
     "text": [
      "Epoch 145/201 Training Loss: 0.073 Valid (L1): 0.071 Valid (PSNR): 20.890  Valid (SSIM): 0.804\n"
     ]
    },
    {
     "name": "stderr",
     "output_type": "stream",
     "text": [
      "100%|██████████| 67/67 [00:03<00:00, 18.31it/s]\n",
      "100%|██████████| 31/31 [00:02<00:00, 12.44it/s]\n"
     ]
    },
    {
     "name": "stdout",
     "output_type": "stream",
     "text": [
      "Epoch 146/201 Training Loss: 0.071 Valid (L1): 0.073 Valid (PSNR): 20.826  Valid (SSIM): 0.804\n"
     ]
    },
    {
     "name": "stderr",
     "output_type": "stream",
     "text": [
      "100%|██████████| 67/67 [00:03<00:00, 18.41it/s]\n",
      "100%|██████████| 31/31 [00:02<00:00, 12.45it/s]\n"
     ]
    },
    {
     "name": "stdout",
     "output_type": "stream",
     "text": [
      "Epoch 147/201 Training Loss: 0.072 Valid (L1): 0.069 Valid (PSNR): 21.084  Valid (SSIM): 0.810\n"
     ]
    },
    {
     "name": "stderr",
     "output_type": "stream",
     "text": [
      "100%|██████████| 67/67 [00:03<00:00, 18.38it/s]\n",
      "100%|██████████| 31/31 [00:02<00:00, 12.41it/s]\n"
     ]
    },
    {
     "name": "stdout",
     "output_type": "stream",
     "text": [
      "Epoch 148/201 Training Loss: 0.070 Valid (L1): 0.080 Valid (PSNR): 20.242  Valid (SSIM): 0.795\n"
     ]
    },
    {
     "name": "stderr",
     "output_type": "stream",
     "text": [
      "100%|██████████| 67/67 [00:03<00:00, 18.46it/s]\n",
      "100%|██████████| 31/31 [00:02<00:00, 12.41it/s]\n"
     ]
    },
    {
     "name": "stdout",
     "output_type": "stream",
     "text": [
      "Epoch 149/201 Training Loss: 0.075 Valid (L1): 0.072 Valid (PSNR): 20.731  Valid (SSIM): 0.793\n"
     ]
    },
    {
     "name": "stderr",
     "output_type": "stream",
     "text": [
      "100%|██████████| 67/67 [00:03<00:00, 18.77it/s]\n",
      "100%|██████████| 31/31 [00:02<00:00, 12.40it/s]\n"
     ]
    },
    {
     "name": "stdout",
     "output_type": "stream",
     "text": [
      "Epoch 150/201 Training Loss: 0.070 Valid (L1): 0.068 Valid (PSNR): 21.425  Valid (SSIM): 0.805\n"
     ]
    },
    {
     "name": "stderr",
     "output_type": "stream",
     "text": [
      "100%|██████████| 67/67 [00:03<00:00, 18.97it/s]\n",
      "100%|██████████| 31/31 [00:02<00:00, 12.41it/s]\n"
     ]
    },
    {
     "name": "stdout",
     "output_type": "stream",
     "text": [
      "Epoch 151/201 Training Loss: 0.074 Valid (L1): 0.069 Valid (PSNR): 21.306  Valid (SSIM): 0.809\n"
     ]
    },
    {
     "name": "stderr",
     "output_type": "stream",
     "text": [
      "100%|██████████| 67/67 [00:03<00:00, 18.73it/s]\n",
      "100%|██████████| 31/31 [00:02<00:00, 12.38it/s]\n"
     ]
    },
    {
     "name": "stdout",
     "output_type": "stream",
     "text": [
      "Epoch 152/201 Training Loss: 0.070 Valid (L1): 0.068 Valid (PSNR): 21.416  Valid (SSIM): 0.808\n"
     ]
    },
    {
     "name": "stderr",
     "output_type": "stream",
     "text": [
      "100%|██████████| 67/67 [00:03<00:00, 18.71it/s]\n",
      "100%|██████████| 31/31 [00:02<00:00, 12.43it/s]\n"
     ]
    },
    {
     "name": "stdout",
     "output_type": "stream",
     "text": [
      "Epoch 153/201 Training Loss: 0.073 Valid (L1): 0.070 Valid (PSNR): 21.085  Valid (SSIM): 0.806\n"
     ]
    },
    {
     "name": "stderr",
     "output_type": "stream",
     "text": [
      "100%|██████████| 67/67 [00:03<00:00, 18.95it/s]\n",
      "100%|██████████| 31/31 [00:02<00:00, 12.39it/s]\n"
     ]
    },
    {
     "name": "stdout",
     "output_type": "stream",
     "text": [
      "Epoch 154/201 Training Loss: 0.072 Valid (L1): 0.072 Valid (PSNR): 21.019  Valid (SSIM): 0.802\n"
     ]
    },
    {
     "name": "stderr",
     "output_type": "stream",
     "text": [
      "100%|██████████| 67/67 [00:03<00:00, 18.52it/s]\n",
      "100%|██████████| 31/31 [00:02<00:00, 12.40it/s]\n"
     ]
    },
    {
     "name": "stdout",
     "output_type": "stream",
     "text": [
      "Epoch 155/201 Training Loss: 0.080 Valid (L1): 0.081 Valid (PSNR): 19.946  Valid (SSIM): 0.798\n"
     ]
    },
    {
     "name": "stderr",
     "output_type": "stream",
     "text": [
      "100%|██████████| 67/67 [00:03<00:00, 18.45it/s]\n",
      "100%|██████████| 31/31 [00:02<00:00, 12.40it/s]\n"
     ]
    },
    {
     "name": "stdout",
     "output_type": "stream",
     "text": [
      "Epoch 156/201 Training Loss: 0.078 Valid (L1): 0.069 Valid (PSNR): 21.206  Valid (SSIM): 0.808\n"
     ]
    },
    {
     "name": "stderr",
     "output_type": "stream",
     "text": [
      "100%|██████████| 67/67 [00:03<00:00, 18.54it/s]\n",
      "100%|██████████| 31/31 [00:02<00:00, 12.41it/s]\n"
     ]
    },
    {
     "name": "stdout",
     "output_type": "stream",
     "text": [
      "Epoch 157/201 Training Loss: 0.076 Valid (L1): 0.086 Valid (PSNR): 19.629  Valid (SSIM): 0.776\n"
     ]
    },
    {
     "name": "stderr",
     "output_type": "stream",
     "text": [
      "100%|██████████| 67/67 [00:03<00:00, 18.47it/s]\n",
      "100%|██████████| 31/31 [00:02<00:00, 12.38it/s]\n"
     ]
    },
    {
     "name": "stdout",
     "output_type": "stream",
     "text": [
      "Epoch 158/201 Training Loss: 0.074 Valid (L1): 0.068 Valid (PSNR): 21.477  Valid (SSIM): 0.800\n"
     ]
    },
    {
     "name": "stderr",
     "output_type": "stream",
     "text": [
      "100%|██████████| 67/67 [00:03<00:00, 18.82it/s]\n",
      "100%|██████████| 31/31 [00:02<00:00, 12.42it/s]\n"
     ]
    },
    {
     "name": "stdout",
     "output_type": "stream",
     "text": [
      "Epoch 159/201 Training Loss: 0.070 Valid (L1): 0.078 Valid (PSNR): 20.114  Valid (SSIM): 0.805\n"
     ]
    },
    {
     "name": "stderr",
     "output_type": "stream",
     "text": [
      "100%|██████████| 67/67 [00:03<00:00, 18.41it/s]\n",
      "100%|██████████| 31/31 [00:02<00:00, 12.43it/s]\n"
     ]
    },
    {
     "name": "stdout",
     "output_type": "stream",
     "text": [
      "Epoch 160/201 Training Loss: 0.078 Valid (L1): 0.073 Valid (PSNR): 20.714  Valid (SSIM): 0.803\n"
     ]
    },
    {
     "name": "stderr",
     "output_type": "stream",
     "text": [
      "100%|██████████| 67/67 [00:03<00:00, 18.68it/s]\n",
      "100%|██████████| 31/31 [00:02<00:00, 12.43it/s]\n"
     ]
    },
    {
     "name": "stdout",
     "output_type": "stream",
     "text": [
      "Epoch 161/201 Training Loss: 0.086 Valid (L1): 0.075 Valid (PSNR): 20.318  Valid (SSIM): 0.793\n"
     ]
    },
    {
     "name": "stderr",
     "output_type": "stream",
     "text": [
      "100%|██████████| 67/67 [00:03<00:00, 18.62it/s]\n",
      "100%|██████████| 31/31 [00:02<00:00, 12.39it/s]\n"
     ]
    },
    {
     "name": "stdout",
     "output_type": "stream",
     "text": [
      "Epoch 162/201 Training Loss: 0.072 Valid (L1): 0.068 Valid (PSNR): 21.461  Valid (SSIM): 0.802\n"
     ]
    },
    {
     "name": "stderr",
     "output_type": "stream",
     "text": [
      "100%|██████████| 67/67 [00:03<00:00, 18.52it/s]\n",
      "100%|██████████| 31/31 [00:02<00:00, 12.41it/s]\n"
     ]
    },
    {
     "name": "stdout",
     "output_type": "stream",
     "text": [
      "Epoch 163/201 Training Loss: 0.076 Valid (L1): 0.078 Valid (PSNR): 20.358  Valid (SSIM): 0.795\n"
     ]
    },
    {
     "name": "stderr",
     "output_type": "stream",
     "text": [
      "100%|██████████| 67/67 [00:03<00:00, 18.70it/s]\n",
      "100%|██████████| 31/31 [00:02<00:00, 12.40it/s]\n"
     ]
    },
    {
     "name": "stdout",
     "output_type": "stream",
     "text": [
      "Epoch 164/201 Training Loss: 0.072 Valid (L1): 0.067 Valid (PSNR): 21.591  Valid (SSIM): 0.806\n"
     ]
    },
    {
     "name": "stderr",
     "output_type": "stream",
     "text": [
      "100%|██████████| 67/67 [00:03<00:00, 18.75it/s]\n",
      "100%|██████████| 31/31 [00:02<00:00, 12.42it/s]\n"
     ]
    },
    {
     "name": "stdout",
     "output_type": "stream",
     "text": [
      "Epoch 165/201 Training Loss: 0.069 Valid (L1): 0.070 Valid (PSNR): 21.234  Valid (SSIM): 0.802\n"
     ]
    },
    {
     "name": "stderr",
     "output_type": "stream",
     "text": [
      "100%|██████████| 67/67 [00:03<00:00, 18.29it/s]\n",
      "100%|██████████| 31/31 [00:02<00:00, 12.41it/s]\n"
     ]
    },
    {
     "name": "stdout",
     "output_type": "stream",
     "text": [
      "Epoch 166/201 Training Loss: 0.072 Valid (L1): 0.066 Valid (PSNR): 21.386  Valid (SSIM): 0.806\n"
     ]
    },
    {
     "name": "stderr",
     "output_type": "stream",
     "text": [
      "100%|██████████| 67/67 [00:03<00:00, 18.78it/s]\n",
      "100%|██████████| 31/31 [00:02<00:00, 12.38it/s]\n"
     ]
    },
    {
     "name": "stdout",
     "output_type": "stream",
     "text": [
      "Epoch 167/201 Training Loss: 1371.344 Valid (L1): 5.495 Valid (PSNR): -15.084  Valid (SSIM): -0.009\n"
     ]
    },
    {
     "name": "stderr",
     "output_type": "stream",
     "text": [
      "100%|██████████| 67/67 [00:03<00:00, 18.11it/s]\n",
      "100%|██████████| 31/31 [00:02<00:00, 12.41it/s]\n"
     ]
    },
    {
     "name": "stdout",
     "output_type": "stream",
     "text": [
      "Epoch 168/201 Training Loss: 1.133 Valid (L1): 0.182 Valid (PSNR): 12.987  Valid (SSIM): 0.318\n"
     ]
    },
    {
     "name": "stderr",
     "output_type": "stream",
     "text": [
      "100%|██████████| 67/67 [00:03<00:00, 18.63it/s]\n",
      "100%|██████████| 31/31 [00:02<00:00, 12.41it/s]\n"
     ]
    },
    {
     "name": "stdout",
     "output_type": "stream",
     "text": [
      "Epoch 169/201 Training Loss: 0.189 Valid (L1): 0.117 Valid (PSNR): 16.354  Valid (SSIM): 0.419\n"
     ]
    },
    {
     "name": "stderr",
     "output_type": "stream",
     "text": [
      "100%|██████████| 67/67 [00:03<00:00, 18.59it/s]\n",
      "100%|██████████| 31/31 [00:02<00:00, 12.43it/s]\n"
     ]
    },
    {
     "name": "stdout",
     "output_type": "stream",
     "text": [
      "Epoch 170/201 Training Loss: 0.143 Valid (L1): 0.106 Valid (PSNR): 17.179  Valid (SSIM): 0.480\n"
     ]
    },
    {
     "name": "stderr",
     "output_type": "stream",
     "text": [
      "100%|██████████| 67/67 [00:03<00:00, 18.76it/s]\n",
      "100%|██████████| 31/31 [00:02<00:00, 12.38it/s]\n"
     ]
    },
    {
     "name": "stdout",
     "output_type": "stream",
     "text": [
      "Epoch 171/201 Training Loss: 0.185 Valid (L1): 0.142 Valid (PSNR): 15.227  Valid (SSIM): 0.495\n"
     ]
    },
    {
     "name": "stderr",
     "output_type": "stream",
     "text": [
      "100%|██████████| 67/67 [00:03<00:00, 18.71it/s]\n",
      "100%|██████████| 31/31 [00:02<00:00, 12.39it/s]\n"
     ]
    },
    {
     "name": "stdout",
     "output_type": "stream",
     "text": [
      "Epoch 172/201 Training Loss: 0.143 Valid (L1): 0.100 Valid (PSNR): 17.916  Valid (SSIM): 0.537\n"
     ]
    },
    {
     "name": "stderr",
     "output_type": "stream",
     "text": [
      "100%|██████████| 67/67 [00:03<00:00, 18.49it/s]\n",
      "100%|██████████| 31/31 [00:02<00:00, 12.40it/s]\n"
     ]
    },
    {
     "name": "stdout",
     "output_type": "stream",
     "text": [
      "Epoch 173/201 Training Loss: 0.101 Valid (L1): 0.087 Valid (PSNR): 19.174  Valid (SSIM): 0.583\n"
     ]
    },
    {
     "name": "stderr",
     "output_type": "stream",
     "text": [
      "100%|██████████| 67/67 [00:03<00:00, 18.53it/s]\n",
      "100%|██████████| 31/31 [00:02<00:00, 12.43it/s]\n"
     ]
    },
    {
     "name": "stdout",
     "output_type": "stream",
     "text": [
      "Epoch 174/201 Training Loss: 0.105 Valid (L1): 0.100 Valid (PSNR): 18.174  Valid (SSIM): 0.593\n"
     ]
    },
    {
     "name": "stderr",
     "output_type": "stream",
     "text": [
      "100%|██████████| 67/67 [00:03<00:00, 18.70it/s]\n",
      "100%|██████████| 31/31 [00:02<00:00, 12.41it/s]\n"
     ]
    },
    {
     "name": "stdout",
     "output_type": "stream",
     "text": [
      "Epoch 175/201 Training Loss: 0.096 Valid (L1): 0.083 Valid (PSNR): 19.490  Valid (SSIM): 0.609\n"
     ]
    },
    {
     "name": "stderr",
     "output_type": "stream",
     "text": [
      "100%|██████████| 67/67 [00:03<00:00, 18.73it/s]\n",
      "100%|██████████| 31/31 [00:02<00:00, 12.38it/s]\n"
     ]
    },
    {
     "name": "stdout",
     "output_type": "stream",
     "text": [
      "Epoch 176/201 Training Loss: 0.092 Valid (L1): 0.085 Valid (PSNR): 19.187  Valid (SSIM): 0.618\n"
     ]
    },
    {
     "name": "stderr",
     "output_type": "stream",
     "text": [
      "100%|██████████| 67/67 [00:03<00:00, 18.49it/s]\n",
      "100%|██████████| 31/31 [00:02<00:00, 12.38it/s]\n"
     ]
    },
    {
     "name": "stdout",
     "output_type": "stream",
     "text": [
      "Epoch 177/201 Training Loss: 0.092 Valid (L1): 0.089 Valid (PSNR): 19.026  Valid (SSIM): 0.620\n"
     ]
    },
    {
     "name": "stderr",
     "output_type": "stream",
     "text": [
      "100%|██████████| 67/67 [00:03<00:00, 18.38it/s]\n",
      "100%|██████████| 31/31 [00:02<00:00, 12.41it/s]\n"
     ]
    },
    {
     "name": "stdout",
     "output_type": "stream",
     "text": [
      "Epoch 178/201 Training Loss: 0.089 Valid (L1): 0.083 Valid (PSNR): 19.384  Valid (SSIM): 0.615\n"
     ]
    },
    {
     "name": "stderr",
     "output_type": "stream",
     "text": [
      "100%|██████████| 67/67 [00:03<00:00, 18.06it/s]\n",
      "100%|██████████| 31/31 [00:02<00:00, 12.43it/s]\n"
     ]
    },
    {
     "name": "stdout",
     "output_type": "stream",
     "text": [
      "Epoch 179/201 Training Loss: 0.092 Valid (L1): 0.082 Valid (PSNR): 19.493  Valid (SSIM): 0.625\n"
     ]
    },
    {
     "name": "stderr",
     "output_type": "stream",
     "text": [
      "100%|██████████| 67/67 [00:03<00:00, 18.30it/s]\n",
      "100%|██████████| 31/31 [00:02<00:00, 12.46it/s]\n"
     ]
    },
    {
     "name": "stdout",
     "output_type": "stream",
     "text": [
      "Epoch 180/201 Training Loss: 0.105 Valid (L1): 0.119 Valid (PSNR): 16.564  Valid (SSIM): 0.561\n"
     ]
    },
    {
     "name": "stderr",
     "output_type": "stream",
     "text": [
      "100%|██████████| 67/67 [00:03<00:00, 18.48it/s]\n",
      "100%|██████████| 31/31 [00:02<00:00, 12.41it/s]\n"
     ]
    },
    {
     "name": "stdout",
     "output_type": "stream",
     "text": [
      "Epoch 181/201 Training Loss: 0.086 Valid (L1): 0.078 Valid (PSNR): 19.996  Valid (SSIM): 0.639\n"
     ]
    },
    {
     "name": "stderr",
     "output_type": "stream",
     "text": [
      "100%|██████████| 67/67 [00:03<00:00, 18.30it/s]\n",
      "100%|██████████| 31/31 [00:02<00:00, 12.44it/s]\n"
     ]
    },
    {
     "name": "stdout",
     "output_type": "stream",
     "text": [
      "Epoch 182/201 Training Loss: 0.087 Valid (L1): 0.083 Valid (PSNR): 19.704  Valid (SSIM): 0.633\n"
     ]
    },
    {
     "name": "stderr",
     "output_type": "stream",
     "text": [
      "100%|██████████| 67/67 [00:03<00:00, 18.83it/s]\n",
      "100%|██████████| 31/31 [00:02<00:00, 12.41it/s]\n"
     ]
    },
    {
     "name": "stdout",
     "output_type": "stream",
     "text": [
      "Epoch 183/201 Training Loss: 0.086 Valid (L1): 0.081 Valid (PSNR): 19.713  Valid (SSIM): 0.643\n"
     ]
    },
    {
     "name": "stderr",
     "output_type": "stream",
     "text": [
      "100%|██████████| 67/67 [00:03<00:00, 18.81it/s]\n",
      "100%|██████████| 31/31 [00:02<00:00, 12.42it/s]\n"
     ]
    },
    {
     "name": "stdout",
     "output_type": "stream",
     "text": [
      "Epoch 184/201 Training Loss: 0.093 Valid (L1): 0.079 Valid (PSNR): 19.926  Valid (SSIM): 0.634\n"
     ]
    },
    {
     "name": "stderr",
     "output_type": "stream",
     "text": [
      "100%|██████████| 67/67 [00:03<00:00, 18.69it/s]\n",
      "100%|██████████| 31/31 [00:02<00:00, 12.39it/s]\n"
     ]
    },
    {
     "name": "stdout",
     "output_type": "stream",
     "text": [
      "Epoch 185/201 Training Loss: 0.082 Valid (L1): 0.083 Valid (PSNR): 19.719  Valid (SSIM): 0.642\n"
     ]
    },
    {
     "name": "stderr",
     "output_type": "stream",
     "text": [
      "100%|██████████| 67/67 [00:03<00:00, 18.79it/s]\n",
      "100%|██████████| 31/31 [00:02<00:00, 12.44it/s]\n"
     ]
    },
    {
     "name": "stdout",
     "output_type": "stream",
     "text": [
      "Epoch 186/201 Training Loss: 0.086 Valid (L1): 0.082 Valid (PSNR): 19.756  Valid (SSIM): 0.642\n"
     ]
    },
    {
     "name": "stderr",
     "output_type": "stream",
     "text": [
      "100%|██████████| 67/67 [00:03<00:00, 18.33it/s]\n",
      "100%|██████████| 31/31 [00:02<00:00, 12.45it/s]\n"
     ]
    },
    {
     "name": "stdout",
     "output_type": "stream",
     "text": [
      "Epoch 187/201 Training Loss: 0.081 Valid (L1): 0.081 Valid (PSNR): 19.734  Valid (SSIM): 0.649\n"
     ]
    },
    {
     "name": "stderr",
     "output_type": "stream",
     "text": [
      "100%|██████████| 67/67 [00:03<00:00, 18.28it/s]\n",
      "100%|██████████| 31/31 [00:02<00:00, 12.43it/s]\n"
     ]
    },
    {
     "name": "stdout",
     "output_type": "stream",
     "text": [
      "Epoch 188/201 Training Loss: 0.085 Valid (L1): 0.082 Valid (PSNR): 19.543  Valid (SSIM): 0.648\n"
     ]
    },
    {
     "name": "stderr",
     "output_type": "stream",
     "text": [
      "100%|██████████| 67/67 [00:03<00:00, 18.35it/s]\n",
      "100%|██████████| 31/31 [00:02<00:00, 12.44it/s]\n"
     ]
    },
    {
     "name": "stdout",
     "output_type": "stream",
     "text": [
      "Epoch 189/201 Training Loss: 0.083 Valid (L1): 0.077 Valid (PSNR): 20.129  Valid (SSIM): 0.661\n"
     ]
    },
    {
     "name": "stderr",
     "output_type": "stream",
     "text": [
      "100%|██████████| 67/67 [00:03<00:00, 17.94it/s]\n",
      "100%|██████████| 31/31 [00:02<00:00, 12.41it/s]\n"
     ]
    },
    {
     "name": "stdout",
     "output_type": "stream",
     "text": [
      "Epoch 190/201 Training Loss: 0.085 Valid (L1): 0.079 Valid (PSNR): 20.029  Valid (SSIM): 0.649\n"
     ]
    },
    {
     "name": "stderr",
     "output_type": "stream",
     "text": [
      "100%|██████████| 67/67 [00:03<00:00, 18.79it/s]\n",
      "100%|██████████| 31/31 [00:02<00:00, 12.43it/s]\n"
     ]
    },
    {
     "name": "stdout",
     "output_type": "stream",
     "text": [
      "Epoch 191/201 Training Loss: 0.092 Valid (L1): 0.107 Valid (PSNR): 17.843  Valid (SSIM): 0.621\n"
     ]
    },
    {
     "name": "stderr",
     "output_type": "stream",
     "text": [
      "100%|██████████| 67/67 [00:03<00:00, 18.35it/s]\n",
      "100%|██████████| 31/31 [00:02<00:00, 12.40it/s]\n"
     ]
    },
    {
     "name": "stdout",
     "output_type": "stream",
     "text": [
      "Epoch 192/201 Training Loss: 0.122 Valid (L1): 0.199 Valid (PSNR): 12.614  Valid (SSIM): 0.353\n"
     ]
    },
    {
     "name": "stderr",
     "output_type": "stream",
     "text": [
      "100%|██████████| 67/67 [00:03<00:00, 18.81it/s]\n",
      "100%|██████████| 31/31 [00:02<00:00, 12.44it/s]\n"
     ]
    },
    {
     "name": "stdout",
     "output_type": "stream",
     "text": [
      "Epoch 193/201 Training Loss: 0.093 Valid (L1): 0.089 Valid (PSNR): 18.816  Valid (SSIM): 0.657\n"
     ]
    },
    {
     "name": "stderr",
     "output_type": "stream",
     "text": [
      "100%|██████████| 67/67 [00:03<00:00, 18.87it/s]\n",
      "100%|██████████| 31/31 [00:02<00:00, 12.43it/s]\n"
     ]
    },
    {
     "name": "stdout",
     "output_type": "stream",
     "text": [
      "Epoch 194/201 Training Loss: 0.084 Valid (L1): 0.081 Valid (PSNR): 19.579  Valid (SSIM): 0.655\n"
     ]
    },
    {
     "name": "stderr",
     "output_type": "stream",
     "text": [
      "100%|██████████| 67/67 [00:03<00:00, 18.71it/s]\n",
      "100%|██████████| 31/31 [00:02<00:00, 12.44it/s]\n"
     ]
    },
    {
     "name": "stdout",
     "output_type": "stream",
     "text": [
      "Epoch 195/201 Training Loss: 0.079 Valid (L1): 0.078 Valid (PSNR): 20.110  Valid (SSIM): 0.670\n"
     ]
    },
    {
     "name": "stderr",
     "output_type": "stream",
     "text": [
      "100%|██████████| 67/67 [00:03<00:00, 18.75it/s]\n",
      "100%|██████████| 31/31 [00:02<00:00, 12.45it/s]\n"
     ]
    },
    {
     "name": "stdout",
     "output_type": "stream",
     "text": [
      "Epoch 196/201 Training Loss: 0.077 Valid (L1): 0.078 Valid (PSNR): 19.898  Valid (SSIM): 0.665\n"
     ]
    },
    {
     "name": "stderr",
     "output_type": "stream",
     "text": [
      "100%|██████████| 67/67 [00:03<00:00, 18.34it/s]\n",
      "100%|██████████| 31/31 [00:02<00:00, 12.39it/s]\n"
     ]
    },
    {
     "name": "stdout",
     "output_type": "stream",
     "text": [
      "Epoch 197/201 Training Loss: 0.076 Valid (L1): 0.079 Valid (PSNR): 20.108  Valid (SSIM): 0.671\n"
     ]
    },
    {
     "name": "stderr",
     "output_type": "stream",
     "text": [
      "100%|██████████| 67/67 [00:03<00:00, 18.67it/s]\n",
      "100%|██████████| 31/31 [00:02<00:00, 12.40it/s]\n"
     ]
    },
    {
     "name": "stdout",
     "output_type": "stream",
     "text": [
      "Epoch 198/201 Training Loss: 0.079 Valid (L1): 0.080 Valid (PSNR): 19.889  Valid (SSIM): 0.665\n"
     ]
    },
    {
     "name": "stderr",
     "output_type": "stream",
     "text": [
      "100%|██████████| 67/67 [00:03<00:00, 18.57it/s]\n",
      "100%|██████████| 31/31 [00:02<00:00, 12.42it/s]\n"
     ]
    },
    {
     "name": "stdout",
     "output_type": "stream",
     "text": [
      "Epoch 199/201 Training Loss: 0.088 Valid (L1): 0.073 Valid (PSNR): 20.671  Valid (SSIM): 0.675\n"
     ]
    },
    {
     "name": "stderr",
     "output_type": "stream",
     "text": [
      "100%|██████████| 67/67 [00:03<00:00, 18.51it/s]\n",
      "100%|██████████| 31/31 [00:02<00:00, 12.42it/s]\n"
     ]
    },
    {
     "name": "stdout",
     "output_type": "stream",
     "text": [
      "Epoch 200/201 Training Loss: 0.078 Valid (L1): 0.073 Valid (PSNR): 20.768  Valid (SSIM): 0.676\n"
     ]
    },
    {
     "name": "stderr",
     "output_type": "stream",
     "text": [
      "100%|██████████| 67/67 [00:03<00:00, 18.46it/s]\n",
      "100%|██████████| 31/31 [00:02<00:00, 12.45it/s]"
     ]
    },
    {
     "name": "stdout",
     "output_type": "stream",
     "text": [
      "Epoch 201/201 Training Loss: 0.086 Valid (L1): 0.078 Valid (PSNR): 20.021  Valid (SSIM): 0.656\n"
     ]
    },
    {
     "name": "stderr",
     "output_type": "stream",
     "text": [
      "\n"
     ]
    }
   ],
   "source": [
    "if torch.cuda.is_available():\n",
    "    torch.cuda.empty_cache()\n",
    "learning_rate = 1e-3\n",
    "model = BasicSRModel().to(device)\n",
    "srtrainer = SRTrainer(model=model,loss_fn=nn.L1Loss(), lr=learning_rate)\n",
    "srtrainer.train(train_dataloader,valid_dataloader,num_epochs=201, save=False)"
   ]
  },
  {
   "cell_type": "code",
   "execution_count": 11,
   "metadata": {},
   "outputs": [
    {
     "name": "stderr",
     "output_type": "stream",
     "text": [
      "100%|██████████| 10/10 [00:15<00:00,  1.53s/it]\n"
     ]
    },
    {
     "name": "stdout",
     "output_type": "stream",
     "text": [
      "Test:       (L1):   0.083   (PSNR): 19.257 (SSIM): 0.595\n",
      "Bilinear:   (L1):   0.036   (PSNR): 25.813 (SSIM): 0.791\n",
      "Bicubic:    (L1):   0.033    (PSNR): 26.952  (SSIM): 0.829\n"
     ]
    }
   ],
   "source": [
    "tester = Tester(model)\n",
    "tester.test(tests_dataloader, model_name=\"model\"+str(learning_rate))\n",
    "\n",
    "del model\n",
    "del srtrainer\n",
    "del tester"
   ]
  },
  {
   "cell_type": "code",
   "execution_count": 12,
   "metadata": {},
   "outputs": [
    {
     "name": "stderr",
     "output_type": "stream",
     "text": [
      "100%|██████████| 67/67 [00:04<00:00, 15.16it/s]\n",
      "100%|██████████| 31/31 [00:02<00:00, 12.44it/s]\n"
     ]
    },
    {
     "name": "stdout",
     "output_type": "stream",
     "text": [
      "Epoch 1/201 Training Loss: 0.346 Valid (L1): 0.336 Valid (PSNR): 8.355  Valid (SSIM): 0.195\n"
     ]
    },
    {
     "name": "stderr",
     "output_type": "stream",
     "text": [
      "100%|██████████| 67/67 [00:03<00:00, 19.97it/s]\n",
      "100%|██████████| 31/31 [00:02<00:00, 12.57it/s]\n"
     ]
    },
    {
     "name": "stdout",
     "output_type": "stream",
     "text": [
      "Epoch 2/201 Training Loss: 0.317 Valid (L1): 0.219 Valid (PSNR): 11.690  Valid (SSIM): 0.397\n"
     ]
    },
    {
     "name": "stderr",
     "output_type": "stream",
     "text": [
      "100%|██████████| 67/67 [00:03<00:00, 20.53it/s]\n",
      "100%|██████████| 31/31 [00:02<00:00, 12.55it/s]\n"
     ]
    },
    {
     "name": "stdout",
     "output_type": "stream",
     "text": [
      "Epoch 3/201 Training Loss: 0.148 Valid (L1): 0.109 Valid (PSNR): 17.655  Valid (SSIM): 0.509\n"
     ]
    },
    {
     "name": "stderr",
     "output_type": "stream",
     "text": [
      "100%|██████████| 67/67 [00:03<00:00, 20.75it/s]\n",
      "100%|██████████| 31/31 [00:02<00:00, 12.52it/s]\n"
     ]
    },
    {
     "name": "stdout",
     "output_type": "stream",
     "text": [
      "Epoch 4/201 Training Loss: 0.114 Valid (L1): 0.093 Valid (PSNR): 18.629  Valid (SSIM): 0.545\n"
     ]
    },
    {
     "name": "stderr",
     "output_type": "stream",
     "text": [
      "100%|██████████| 67/67 [00:03<00:00, 20.90it/s]\n",
      "100%|██████████| 31/31 [00:02<00:00, 12.52it/s]\n"
     ]
    },
    {
     "name": "stdout",
     "output_type": "stream",
     "text": [
      "Epoch 5/201 Training Loss: 0.109 Valid (L1): 0.088 Valid (PSNR): 18.899  Valid (SSIM): 0.560\n"
     ]
    },
    {
     "name": "stderr",
     "output_type": "stream",
     "text": [
      "100%|██████████| 67/67 [00:03<00:00, 20.33it/s]\n",
      "100%|██████████| 31/31 [00:02<00:00, 12.50it/s]\n"
     ]
    },
    {
     "name": "stdout",
     "output_type": "stream",
     "text": [
      "Epoch 6/201 Training Loss: 0.103 Valid (L1): 0.087 Valid (PSNR): 18.954  Valid (SSIM): 0.563\n"
     ]
    },
    {
     "name": "stderr",
     "output_type": "stream",
     "text": [
      "100%|██████████| 67/67 [00:03<00:00, 19.69it/s]\n",
      "100%|██████████| 31/31 [00:02<00:00, 12.49it/s]\n"
     ]
    },
    {
     "name": "stdout",
     "output_type": "stream",
     "text": [
      "Epoch 7/201 Training Loss: 0.106 Valid (L1): 0.089 Valid (PSNR): 18.807  Valid (SSIM): 0.568\n"
     ]
    },
    {
     "name": "stderr",
     "output_type": "stream",
     "text": [
      "100%|██████████| 67/67 [00:03<00:00, 19.46it/s]\n",
      "100%|██████████| 31/31 [00:02<00:00, 12.47it/s]\n"
     ]
    },
    {
     "name": "stdout",
     "output_type": "stream",
     "text": [
      "Epoch 8/201 Training Loss: 0.105 Valid (L1): 0.088 Valid (PSNR): 18.768  Valid (SSIM): 0.572\n"
     ]
    },
    {
     "name": "stderr",
     "output_type": "stream",
     "text": [
      "100%|██████████| 67/67 [00:03<00:00, 19.08it/s]\n",
      "100%|██████████| 31/31 [00:02<00:00, 12.42it/s]\n"
     ]
    },
    {
     "name": "stdout",
     "output_type": "stream",
     "text": [
      "Epoch 9/201 Training Loss: 0.099 Valid (L1): 0.086 Valid (PSNR): 19.079  Valid (SSIM): 0.571\n"
     ]
    },
    {
     "name": "stderr",
     "output_type": "stream",
     "text": [
      "100%|██████████| 67/67 [00:03<00:00, 18.68it/s]\n",
      "100%|██████████| 31/31 [00:02<00:00, 12.39it/s]\n"
     ]
    },
    {
     "name": "stdout",
     "output_type": "stream",
     "text": [
      "Epoch 10/201 Training Loss: 0.097 Valid (L1): 0.088 Valid (PSNR): 18.852  Valid (SSIM): 0.580\n"
     ]
    },
    {
     "name": "stderr",
     "output_type": "stream",
     "text": [
      "100%|██████████| 67/67 [00:03<00:00, 18.25it/s]\n",
      "100%|██████████| 31/31 [00:02<00:00, 12.39it/s]\n"
     ]
    },
    {
     "name": "stdout",
     "output_type": "stream",
     "text": [
      "Epoch 11/201 Training Loss: 0.100 Valid (L1): 0.085 Valid (PSNR): 19.207  Valid (SSIM): 0.580\n"
     ]
    },
    {
     "name": "stderr",
     "output_type": "stream",
     "text": [
      "100%|██████████| 67/67 [00:03<00:00, 18.65it/s]\n",
      "100%|██████████| 31/31 [00:02<00:00, 12.40it/s]\n"
     ]
    },
    {
     "name": "stdout",
     "output_type": "stream",
     "text": [
      "Epoch 12/201 Training Loss: 0.098 Valid (L1): 0.085 Valid (PSNR): 19.172  Valid (SSIM): 0.586\n"
     ]
    },
    {
     "name": "stderr",
     "output_type": "stream",
     "text": [
      "100%|██████████| 67/67 [00:03<00:00, 18.56it/s]\n",
      "100%|██████████| 31/31 [00:02<00:00, 12.41it/s]\n"
     ]
    },
    {
     "name": "stdout",
     "output_type": "stream",
     "text": [
      "Epoch 13/201 Training Loss: 0.094 Valid (L1): 0.084 Valid (PSNR): 19.234  Valid (SSIM): 0.589\n"
     ]
    },
    {
     "name": "stderr",
     "output_type": "stream",
     "text": [
      "100%|██████████| 67/67 [00:03<00:00, 18.79it/s]\n",
      "100%|██████████| 31/31 [00:02<00:00, 12.42it/s]\n"
     ]
    },
    {
     "name": "stdout",
     "output_type": "stream",
     "text": [
      "Epoch 14/201 Training Loss: 0.099 Valid (L1): 0.087 Valid (PSNR): 19.089  Valid (SSIM): 0.586\n"
     ]
    },
    {
     "name": "stderr",
     "output_type": "stream",
     "text": [
      "100%|██████████| 67/67 [00:03<00:00, 18.45it/s]\n",
      "100%|██████████| 31/31 [00:02<00:00, 12.38it/s]\n"
     ]
    },
    {
     "name": "stdout",
     "output_type": "stream",
     "text": [
      "Epoch 15/201 Training Loss: 0.094 Valid (L1): 0.086 Valid (PSNR): 19.198  Valid (SSIM): 0.591\n"
     ]
    },
    {
     "name": "stderr",
     "output_type": "stream",
     "text": [
      "100%|██████████| 67/67 [00:03<00:00, 18.67it/s]\n",
      "100%|██████████| 31/31 [00:02<00:00, 12.37it/s]\n"
     ]
    },
    {
     "name": "stdout",
     "output_type": "stream",
     "text": [
      "Epoch 16/201 Training Loss: 0.090 Valid (L1): 0.083 Valid (PSNR): 19.437  Valid (SSIM): 0.601\n"
     ]
    },
    {
     "name": "stderr",
     "output_type": "stream",
     "text": [
      "100%|██████████| 67/67 [00:03<00:00, 18.30it/s]\n",
      "100%|██████████| 31/31 [00:02<00:00, 12.40it/s]\n"
     ]
    },
    {
     "name": "stdout",
     "output_type": "stream",
     "text": [
      "Epoch 17/201 Training Loss: 0.092 Valid (L1): 0.083 Valid (PSNR): 19.429  Valid (SSIM): 0.607\n"
     ]
    },
    {
     "name": "stderr",
     "output_type": "stream",
     "text": [
      "100%|██████████| 67/67 [00:03<00:00, 18.43it/s]\n",
      "100%|██████████| 31/31 [00:02<00:00, 12.41it/s]\n"
     ]
    },
    {
     "name": "stdout",
     "output_type": "stream",
     "text": [
      "Epoch 18/201 Training Loss: 0.086 Valid (L1): 0.082 Valid (PSNR): 19.512  Valid (SSIM): 0.617\n"
     ]
    },
    {
     "name": "stderr",
     "output_type": "stream",
     "text": [
      "100%|██████████| 67/67 [00:03<00:00, 19.10it/s]\n",
      "100%|██████████| 31/31 [00:02<00:00, 12.39it/s]\n"
     ]
    },
    {
     "name": "stdout",
     "output_type": "stream",
     "text": [
      "Epoch 19/201 Training Loss: 0.091 Valid (L1): 0.081 Valid (PSNR): 19.625  Valid (SSIM): 0.623\n"
     ]
    },
    {
     "name": "stderr",
     "output_type": "stream",
     "text": [
      "100%|██████████| 67/67 [00:03<00:00, 18.27it/s]\n",
      "100%|██████████| 31/31 [00:02<00:00, 12.38it/s]\n"
     ]
    },
    {
     "name": "stdout",
     "output_type": "stream",
     "text": [
      "Epoch 20/201 Training Loss: 0.091 Valid (L1): 0.082 Valid (PSNR): 19.526  Valid (SSIM): 0.621\n"
     ]
    },
    {
     "name": "stderr",
     "output_type": "stream",
     "text": [
      "100%|██████████| 67/67 [00:03<00:00, 18.57it/s]\n",
      "100%|██████████| 31/31 [00:02<00:00, 12.37it/s]\n"
     ]
    },
    {
     "name": "stdout",
     "output_type": "stream",
     "text": [
      "Epoch 21/201 Training Loss: 0.090 Valid (L1): 0.083 Valid (PSNR): 19.518  Valid (SSIM): 0.627\n"
     ]
    },
    {
     "name": "stderr",
     "output_type": "stream",
     "text": [
      "100%|██████████| 67/67 [00:03<00:00, 18.63it/s]\n",
      "100%|██████████| 31/31 [00:02<00:00, 12.38it/s]\n"
     ]
    },
    {
     "name": "stdout",
     "output_type": "stream",
     "text": [
      "Epoch 22/201 Training Loss: 0.088 Valid (L1): 0.081 Valid (PSNR): 19.724  Valid (SSIM): 0.637\n"
     ]
    },
    {
     "name": "stderr",
     "output_type": "stream",
     "text": [
      "100%|██████████| 67/67 [00:03<00:00, 18.64it/s]\n",
      "100%|██████████| 31/31 [00:02<00:00, 12.42it/s]\n"
     ]
    },
    {
     "name": "stdout",
     "output_type": "stream",
     "text": [
      "Epoch 23/201 Training Loss: 0.086 Valid (L1): 0.081 Valid (PSNR): 19.749  Valid (SSIM): 0.644\n"
     ]
    },
    {
     "name": "stderr",
     "output_type": "stream",
     "text": [
      "100%|██████████| 67/67 [00:03<00:00, 18.50it/s]\n",
      "100%|██████████| 31/31 [00:02<00:00, 12.38it/s]\n"
     ]
    },
    {
     "name": "stdout",
     "output_type": "stream",
     "text": [
      "Epoch 24/201 Training Loss: 0.090 Valid (L1): 0.079 Valid (PSNR): 19.871  Valid (SSIM): 0.645\n"
     ]
    },
    {
     "name": "stderr",
     "output_type": "stream",
     "text": [
      "100%|██████████| 67/67 [00:03<00:00, 18.28it/s]\n",
      "100%|██████████| 31/31 [00:02<00:00, 12.42it/s]\n"
     ]
    },
    {
     "name": "stdout",
     "output_type": "stream",
     "text": [
      "Epoch 25/201 Training Loss: 0.088 Valid (L1): 0.080 Valid (PSNR): 19.744  Valid (SSIM): 0.650\n"
     ]
    },
    {
     "name": "stderr",
     "output_type": "stream",
     "text": [
      "100%|██████████| 67/67 [00:03<00:00, 18.86it/s]\n",
      "100%|██████████| 31/31 [00:02<00:00, 12.43it/s]\n"
     ]
    },
    {
     "name": "stdout",
     "output_type": "stream",
     "text": [
      "Epoch 26/201 Training Loss: 0.089 Valid (L1): 0.085 Valid (PSNR): 19.432  Valid (SSIM): 0.646\n"
     ]
    },
    {
     "name": "stderr",
     "output_type": "stream",
     "text": [
      "100%|██████████| 67/67 [00:03<00:00, 18.66it/s]\n",
      "100%|██████████| 31/31 [00:02<00:00, 12.34it/s]\n"
     ]
    },
    {
     "name": "stdout",
     "output_type": "stream",
     "text": [
      "Epoch 27/201 Training Loss: 0.086 Valid (L1): 0.078 Valid (PSNR): 19.992  Valid (SSIM): 0.655\n"
     ]
    },
    {
     "name": "stderr",
     "output_type": "stream",
     "text": [
      "100%|██████████| 67/67 [00:03<00:00, 18.38it/s]\n",
      "100%|██████████| 31/31 [00:02<00:00, 12.42it/s]\n"
     ]
    },
    {
     "name": "stdout",
     "output_type": "stream",
     "text": [
      "Epoch 28/201 Training Loss: 0.085 Valid (L1): 0.078 Valid (PSNR): 20.046  Valid (SSIM): 0.662\n"
     ]
    },
    {
     "name": "stderr",
     "output_type": "stream",
     "text": [
      "100%|██████████| 67/67 [00:03<00:00, 18.72it/s]\n",
      "100%|██████████| 31/31 [00:02<00:00, 12.40it/s]\n"
     ]
    },
    {
     "name": "stdout",
     "output_type": "stream",
     "text": [
      "Epoch 29/201 Training Loss: 0.089 Valid (L1): 0.079 Valid (PSNR): 19.969  Valid (SSIM): 0.664\n"
     ]
    },
    {
     "name": "stderr",
     "output_type": "stream",
     "text": [
      "100%|██████████| 67/67 [00:03<00:00, 18.59it/s]\n",
      "100%|██████████| 31/31 [00:02<00:00, 12.42it/s]\n"
     ]
    },
    {
     "name": "stdout",
     "output_type": "stream",
     "text": [
      "Epoch 30/201 Training Loss: 0.086 Valid (L1): 0.084 Valid (PSNR): 19.483  Valid (SSIM): 0.658\n"
     ]
    },
    {
     "name": "stderr",
     "output_type": "stream",
     "text": [
      "100%|██████████| 67/67 [00:03<00:00, 18.64it/s]\n",
      "100%|██████████| 31/31 [00:02<00:00, 12.45it/s]\n"
     ]
    },
    {
     "name": "stdout",
     "output_type": "stream",
     "text": [
      "Epoch 31/201 Training Loss: 0.086 Valid (L1): 0.078 Valid (PSNR): 20.034  Valid (SSIM): 0.668\n"
     ]
    },
    {
     "name": "stderr",
     "output_type": "stream",
     "text": [
      "100%|██████████| 67/67 [00:03<00:00, 18.74it/s]\n",
      "100%|██████████| 31/31 [00:02<00:00, 12.41it/s]\n"
     ]
    },
    {
     "name": "stdout",
     "output_type": "stream",
     "text": [
      "Epoch 32/201 Training Loss: 0.083 Valid (L1): 0.077 Valid (PSNR): 20.167  Valid (SSIM): 0.674\n"
     ]
    },
    {
     "name": "stderr",
     "output_type": "stream",
     "text": [
      "100%|██████████| 67/67 [00:03<00:00, 18.28it/s]\n",
      "100%|██████████| 31/31 [00:02<00:00, 12.42it/s]\n"
     ]
    },
    {
     "name": "stdout",
     "output_type": "stream",
     "text": [
      "Epoch 33/201 Training Loss: 0.087 Valid (L1): 0.078 Valid (PSNR): 20.102  Valid (SSIM): 0.678\n"
     ]
    },
    {
     "name": "stderr",
     "output_type": "stream",
     "text": [
      "100%|██████████| 67/67 [00:03<00:00, 18.63it/s]\n",
      "100%|██████████| 31/31 [00:02<00:00, 12.37it/s]\n"
     ]
    },
    {
     "name": "stdout",
     "output_type": "stream",
     "text": [
      "Epoch 34/201 Training Loss: 0.084 Valid (L1): 0.077 Valid (PSNR): 20.162  Valid (SSIM): 0.675\n"
     ]
    },
    {
     "name": "stderr",
     "output_type": "stream",
     "text": [
      "100%|██████████| 67/67 [00:03<00:00, 18.70it/s]\n",
      "100%|██████████| 31/31 [00:02<00:00, 12.44it/s]\n"
     ]
    },
    {
     "name": "stdout",
     "output_type": "stream",
     "text": [
      "Epoch 35/201 Training Loss: 0.086 Valid (L1): 0.081 Valid (PSNR): 19.705  Valid (SSIM): 0.678\n"
     ]
    },
    {
     "name": "stderr",
     "output_type": "stream",
     "text": [
      "100%|██████████| 67/67 [00:03<00:00, 18.59it/s]\n",
      "100%|██████████| 31/31 [00:02<00:00, 12.43it/s]\n"
     ]
    },
    {
     "name": "stdout",
     "output_type": "stream",
     "text": [
      "Epoch 36/201 Training Loss: 0.080 Valid (L1): 0.082 Valid (PSNR): 19.755  Valid (SSIM): 0.681\n"
     ]
    },
    {
     "name": "stderr",
     "output_type": "stream",
     "text": [
      "100%|██████████| 67/67 [00:03<00:00, 18.33it/s]\n",
      "100%|██████████| 31/31 [00:02<00:00, 12.40it/s]\n"
     ]
    },
    {
     "name": "stdout",
     "output_type": "stream",
     "text": [
      "Epoch 37/201 Training Loss: 0.081 Valid (L1): 0.076 Valid (PSNR): 20.272  Valid (SSIM): 0.685\n"
     ]
    },
    {
     "name": "stderr",
     "output_type": "stream",
     "text": [
      "100%|██████████| 67/67 [00:03<00:00, 18.74it/s]\n",
      "100%|██████████| 31/31 [00:02<00:00, 12.41it/s]\n"
     ]
    },
    {
     "name": "stdout",
     "output_type": "stream",
     "text": [
      "Epoch 38/201 Training Loss: 0.081 Valid (L1): 0.077 Valid (PSNR): 20.086  Valid (SSIM): 0.679\n"
     ]
    },
    {
     "name": "stderr",
     "output_type": "stream",
     "text": [
      "100%|██████████| 67/67 [00:03<00:00, 18.53it/s]\n",
      "100%|██████████| 31/31 [00:02<00:00, 12.37it/s]\n"
     ]
    },
    {
     "name": "stdout",
     "output_type": "stream",
     "text": [
      "Epoch 39/201 Training Loss: 0.085 Valid (L1): 0.076 Valid (PSNR): 20.226  Valid (SSIM): 0.686\n"
     ]
    },
    {
     "name": "stderr",
     "output_type": "stream",
     "text": [
      "100%|██████████| 67/67 [00:03<00:00, 18.69it/s]\n",
      "100%|██████████| 31/31 [00:02<00:00, 12.42it/s]\n"
     ]
    },
    {
     "name": "stdout",
     "output_type": "stream",
     "text": [
      "Epoch 40/201 Training Loss: 0.082 Valid (L1): 0.076 Valid (PSNR): 20.277  Valid (SSIM): 0.690\n"
     ]
    },
    {
     "name": "stderr",
     "output_type": "stream",
     "text": [
      "100%|██████████| 67/67 [00:03<00:00, 18.65it/s]\n",
      "100%|██████████| 31/31 [00:02<00:00, 12.40it/s]\n"
     ]
    },
    {
     "name": "stdout",
     "output_type": "stream",
     "text": [
      "Epoch 41/201 Training Loss: 0.083 Valid (L1): 0.076 Valid (PSNR): 20.357  Valid (SSIM): 0.690\n"
     ]
    },
    {
     "name": "stderr",
     "output_type": "stream",
     "text": [
      "100%|██████████| 67/67 [00:03<00:00, 18.82it/s]\n",
      "100%|██████████| 31/31 [00:02<00:00, 12.37it/s]\n"
     ]
    },
    {
     "name": "stdout",
     "output_type": "stream",
     "text": [
      "Epoch 42/201 Training Loss: 0.080 Valid (L1): 0.075 Valid (PSNR): 20.380  Valid (SSIM): 0.689\n"
     ]
    },
    {
     "name": "stderr",
     "output_type": "stream",
     "text": [
      "100%|██████████| 67/67 [00:03<00:00, 18.18it/s]\n",
      "100%|██████████| 31/31 [00:02<00:00, 12.40it/s]\n"
     ]
    },
    {
     "name": "stdout",
     "output_type": "stream",
     "text": [
      "Epoch 43/201 Training Loss: 0.076 Valid (L1): 0.075 Valid (PSNR): 20.417  Valid (SSIM): 0.689\n"
     ]
    },
    {
     "name": "stderr",
     "output_type": "stream",
     "text": [
      "100%|██████████| 67/67 [00:03<00:00, 18.80it/s]\n",
      "100%|██████████| 31/31 [00:02<00:00, 12.45it/s]\n"
     ]
    },
    {
     "name": "stdout",
     "output_type": "stream",
     "text": [
      "Epoch 44/201 Training Loss: 0.081 Valid (L1): 0.075 Valid (PSNR): 20.427  Valid (SSIM): 0.698\n"
     ]
    },
    {
     "name": "stderr",
     "output_type": "stream",
     "text": [
      "100%|██████████| 67/67 [00:03<00:00, 18.22it/s]\n",
      "100%|██████████| 31/31 [00:02<00:00, 12.37it/s]\n"
     ]
    },
    {
     "name": "stdout",
     "output_type": "stream",
     "text": [
      "Epoch 45/201 Training Loss: 0.077 Valid (L1): 0.076 Valid (PSNR): 20.402  Valid (SSIM): 0.696\n"
     ]
    },
    {
     "name": "stderr",
     "output_type": "stream",
     "text": [
      "100%|██████████| 67/67 [00:03<00:00, 18.10it/s]\n",
      "100%|██████████| 31/31 [00:02<00:00, 12.40it/s]\n"
     ]
    },
    {
     "name": "stdout",
     "output_type": "stream",
     "text": [
      "Epoch 46/201 Training Loss: 0.073 Valid (L1): 0.078 Valid (PSNR): 20.230  Valid (SSIM): 0.692\n"
     ]
    },
    {
     "name": "stderr",
     "output_type": "stream",
     "text": [
      "100%|██████████| 67/67 [00:03<00:00, 18.68it/s]\n",
      "100%|██████████| 31/31 [00:02<00:00, 12.40it/s]\n"
     ]
    },
    {
     "name": "stdout",
     "output_type": "stream",
     "text": [
      "Epoch 47/201 Training Loss: 0.081 Valid (L1): 0.076 Valid (PSNR): 20.269  Valid (SSIM): 0.691\n"
     ]
    },
    {
     "name": "stderr",
     "output_type": "stream",
     "text": [
      "100%|██████████| 67/67 [00:03<00:00, 18.84it/s]\n",
      "100%|██████████| 31/31 [00:02<00:00, 12.41it/s]\n"
     ]
    },
    {
     "name": "stdout",
     "output_type": "stream",
     "text": [
      "Epoch 48/201 Training Loss: 0.077 Valid (L1): 0.075 Valid (PSNR): 20.469  Valid (SSIM): 0.695\n"
     ]
    },
    {
     "name": "stderr",
     "output_type": "stream",
     "text": [
      "100%|██████████| 67/67 [00:03<00:00, 18.36it/s]\n",
      "100%|██████████| 31/31 [00:02<00:00, 12.40it/s]\n"
     ]
    },
    {
     "name": "stdout",
     "output_type": "stream",
     "text": [
      "Epoch 49/201 Training Loss: 0.078 Valid (L1): 0.076 Valid (PSNR): 20.376  Valid (SSIM): 0.698\n"
     ]
    },
    {
     "name": "stderr",
     "output_type": "stream",
     "text": [
      "100%|██████████| 67/67 [00:03<00:00, 18.68it/s]\n",
      "100%|██████████| 31/31 [00:02<00:00, 12.42it/s]\n"
     ]
    },
    {
     "name": "stdout",
     "output_type": "stream",
     "text": [
      "Epoch 50/201 Training Loss: 0.081 Valid (L1): 0.074 Valid (PSNR): 20.565  Valid (SSIM): 0.696\n"
     ]
    },
    {
     "name": "stderr",
     "output_type": "stream",
     "text": [
      "100%|██████████| 67/67 [00:03<00:00, 18.79it/s]\n",
      "100%|██████████| 31/31 [00:02<00:00, 12.44it/s]\n"
     ]
    },
    {
     "name": "stdout",
     "output_type": "stream",
     "text": [
      "Epoch 51/201 Training Loss: 0.080 Valid (L1): 0.076 Valid (PSNR): 20.323  Valid (SSIM): 0.691\n"
     ]
    },
    {
     "name": "stderr",
     "output_type": "stream",
     "text": [
      "100%|██████████| 67/67 [00:03<00:00, 18.80it/s]\n",
      "100%|██████████| 31/31 [00:02<00:00, 12.44it/s]\n"
     ]
    },
    {
     "name": "stdout",
     "output_type": "stream",
     "text": [
      "Epoch 52/201 Training Loss: 0.079 Valid (L1): 0.076 Valid (PSNR): 20.448  Valid (SSIM): 0.705\n"
     ]
    },
    {
     "name": "stderr",
     "output_type": "stream",
     "text": [
      "100%|██████████| 67/67 [00:03<00:00, 18.65it/s]\n",
      "100%|██████████| 31/31 [00:02<00:00, 12.39it/s]\n"
     ]
    },
    {
     "name": "stdout",
     "output_type": "stream",
     "text": [
      "Epoch 53/201 Training Loss: 0.078 Valid (L1): 0.077 Valid (PSNR): 20.261  Valid (SSIM): 0.696\n"
     ]
    },
    {
     "name": "stderr",
     "output_type": "stream",
     "text": [
      "100%|██████████| 67/67 [00:03<00:00, 18.58it/s]\n",
      "100%|██████████| 31/31 [00:02<00:00, 12.39it/s]\n"
     ]
    },
    {
     "name": "stdout",
     "output_type": "stream",
     "text": [
      "Epoch 54/201 Training Loss: 0.078 Valid (L1): 0.074 Valid (PSNR): 20.653  Valid (SSIM): 0.704\n"
     ]
    },
    {
     "name": "stderr",
     "output_type": "stream",
     "text": [
      "100%|██████████| 67/67 [00:03<00:00, 18.51it/s]\n",
      "100%|██████████| 31/31 [00:02<00:00, 12.38it/s]\n"
     ]
    },
    {
     "name": "stdout",
     "output_type": "stream",
     "text": [
      "Epoch 55/201 Training Loss: 0.077 Valid (L1): 0.074 Valid (PSNR): 20.647  Valid (SSIM): 0.707\n"
     ]
    },
    {
     "name": "stderr",
     "output_type": "stream",
     "text": [
      "100%|██████████| 67/67 [00:03<00:00, 18.42it/s]\n",
      "100%|██████████| 31/31 [00:02<00:00, 12.43it/s]\n"
     ]
    },
    {
     "name": "stdout",
     "output_type": "stream",
     "text": [
      "Epoch 56/201 Training Loss: 0.074 Valid (L1): 0.074 Valid (PSNR): 20.532  Valid (SSIM): 0.715\n"
     ]
    },
    {
     "name": "stderr",
     "output_type": "stream",
     "text": [
      "100%|██████████| 67/67 [00:03<00:00, 18.02it/s]\n",
      "100%|██████████| 31/31 [00:02<00:00, 12.44it/s]\n"
     ]
    },
    {
     "name": "stdout",
     "output_type": "stream",
     "text": [
      "Epoch 57/201 Training Loss: 0.075 Valid (L1): 0.074 Valid (PSNR): 20.675  Valid (SSIM): 0.713\n"
     ]
    },
    {
     "name": "stderr",
     "output_type": "stream",
     "text": [
      "100%|██████████| 67/67 [00:03<00:00, 18.69it/s]\n",
      "100%|██████████| 31/31 [00:02<00:00, 12.43it/s]\n"
     ]
    },
    {
     "name": "stdout",
     "output_type": "stream",
     "text": [
      "Epoch 58/201 Training Loss: 0.073 Valid (L1): 0.073 Valid (PSNR): 20.650  Valid (SSIM): 0.708\n"
     ]
    },
    {
     "name": "stderr",
     "output_type": "stream",
     "text": [
      "100%|██████████| 67/67 [00:03<00:00, 18.76it/s]\n",
      "100%|██████████| 31/31 [00:02<00:00, 12.39it/s]\n"
     ]
    },
    {
     "name": "stdout",
     "output_type": "stream",
     "text": [
      "Epoch 59/201 Training Loss: 0.077 Valid (L1): 0.073 Valid (PSNR): 20.652  Valid (SSIM): 0.720\n"
     ]
    },
    {
     "name": "stderr",
     "output_type": "stream",
     "text": [
      "100%|██████████| 67/67 [00:03<00:00, 18.78it/s]\n",
      "100%|██████████| 31/31 [00:02<00:00, 12.41it/s]\n"
     ]
    },
    {
     "name": "stdout",
     "output_type": "stream",
     "text": [
      "Epoch 60/201 Training Loss: 0.071 Valid (L1): 0.075 Valid (PSNR): 20.573  Valid (SSIM): 0.715\n"
     ]
    },
    {
     "name": "stderr",
     "output_type": "stream",
     "text": [
      "100%|██████████| 67/67 [00:03<00:00, 18.19it/s]\n",
      "100%|██████████| 31/31 [00:02<00:00, 12.40it/s]\n"
     ]
    },
    {
     "name": "stdout",
     "output_type": "stream",
     "text": [
      "Epoch 61/201 Training Loss: 0.074 Valid (L1): 0.073 Valid (PSNR): 20.691  Valid (SSIM): 0.722\n"
     ]
    },
    {
     "name": "stderr",
     "output_type": "stream",
     "text": [
      "100%|██████████| 67/67 [00:03<00:00, 18.60it/s]\n",
      "100%|██████████| 31/31 [00:02<00:00, 12.38it/s]\n"
     ]
    },
    {
     "name": "stdout",
     "output_type": "stream",
     "text": [
      "Epoch 62/201 Training Loss: 0.076 Valid (L1): 0.076 Valid (PSNR): 20.452  Valid (SSIM): 0.719\n"
     ]
    },
    {
     "name": "stderr",
     "output_type": "stream",
     "text": [
      "100%|██████████| 67/67 [00:03<00:00, 18.49it/s]\n",
      "100%|██████████| 31/31 [00:02<00:00, 12.43it/s]\n"
     ]
    },
    {
     "name": "stdout",
     "output_type": "stream",
     "text": [
      "Epoch 63/201 Training Loss: 0.075 Valid (L1): 0.072 Valid (PSNR): 20.825  Valid (SSIM): 0.719\n"
     ]
    },
    {
     "name": "stderr",
     "output_type": "stream",
     "text": [
      "100%|██████████| 67/67 [00:03<00:00, 18.69it/s]\n",
      "100%|██████████| 31/31 [00:02<00:00, 12.37it/s]\n"
     ]
    },
    {
     "name": "stdout",
     "output_type": "stream",
     "text": [
      "Epoch 64/201 Training Loss: 0.076 Valid (L1): 0.074 Valid (PSNR): 20.618  Valid (SSIM): 0.711\n"
     ]
    },
    {
     "name": "stderr",
     "output_type": "stream",
     "text": [
      "100%|██████████| 67/67 [00:03<00:00, 18.11it/s]\n",
      "100%|██████████| 31/31 [00:02<00:00, 12.39it/s]\n"
     ]
    },
    {
     "name": "stdout",
     "output_type": "stream",
     "text": [
      "Epoch 65/201 Training Loss: 0.073 Valid (L1): 0.075 Valid (PSNR): 20.570  Valid (SSIM): 0.721\n"
     ]
    },
    {
     "name": "stderr",
     "output_type": "stream",
     "text": [
      "100%|██████████| 67/67 [00:03<00:00, 18.02it/s]\n",
      "100%|██████████| 31/31 [00:02<00:00, 12.39it/s]\n"
     ]
    },
    {
     "name": "stdout",
     "output_type": "stream",
     "text": [
      "Epoch 66/201 Training Loss: 0.072 Valid (L1): 0.073 Valid (PSNR): 20.750  Valid (SSIM): 0.727\n"
     ]
    },
    {
     "name": "stderr",
     "output_type": "stream",
     "text": [
      "100%|██████████| 67/67 [00:03<00:00, 18.42it/s]\n",
      "100%|██████████| 31/31 [00:02<00:00, 12.39it/s]\n"
     ]
    },
    {
     "name": "stdout",
     "output_type": "stream",
     "text": [
      "Epoch 67/201 Training Loss: 0.071 Valid (L1): 0.075 Valid (PSNR): 20.603  Valid (SSIM): 0.722\n"
     ]
    },
    {
     "name": "stderr",
     "output_type": "stream",
     "text": [
      "100%|██████████| 67/67 [00:03<00:00, 18.84it/s]\n",
      "100%|██████████| 31/31 [00:02<00:00, 12.39it/s]\n"
     ]
    },
    {
     "name": "stdout",
     "output_type": "stream",
     "text": [
      "Epoch 68/201 Training Loss: 0.068 Valid (L1): 0.071 Valid (PSNR): 21.074  Valid (SSIM): 0.728\n"
     ]
    },
    {
     "name": "stderr",
     "output_type": "stream",
     "text": [
      "100%|██████████| 67/67 [00:03<00:00, 18.81it/s]\n",
      "100%|██████████| 31/31 [00:02<00:00, 12.38it/s]\n"
     ]
    },
    {
     "name": "stdout",
     "output_type": "stream",
     "text": [
      "Epoch 69/201 Training Loss: 0.066 Valid (L1): 0.069 Valid (PSNR): 21.253  Valid (SSIM): 0.730\n"
     ]
    },
    {
     "name": "stderr",
     "output_type": "stream",
     "text": [
      "100%|██████████| 67/67 [00:03<00:00, 18.48it/s]\n",
      "100%|██████████| 31/31 [00:02<00:00, 12.42it/s]\n"
     ]
    },
    {
     "name": "stdout",
     "output_type": "stream",
     "text": [
      "Epoch 70/201 Training Loss: 0.065 Valid (L1): 0.073 Valid (PSNR): 20.627  Valid (SSIM): 0.730\n"
     ]
    },
    {
     "name": "stderr",
     "output_type": "stream",
     "text": [
      "100%|██████████| 67/67 [00:03<00:00, 18.76it/s]\n",
      "100%|██████████| 31/31 [00:02<00:00, 12.39it/s]\n"
     ]
    },
    {
     "name": "stdout",
     "output_type": "stream",
     "text": [
      "Epoch 71/201 Training Loss: 0.063 Valid (L1): 0.067 Valid (PSNR): 21.454  Valid (SSIM): 0.731\n"
     ]
    },
    {
     "name": "stderr",
     "output_type": "stream",
     "text": [
      "100%|██████████| 67/67 [00:03<00:00, 18.32it/s]\n",
      "100%|██████████| 31/31 [00:02<00:00, 12.38it/s]\n"
     ]
    },
    {
     "name": "stdout",
     "output_type": "stream",
     "text": [
      "Epoch 72/201 Training Loss: 0.061 Valid (L1): 0.066 Valid (PSNR): 21.480  Valid (SSIM): 0.735\n"
     ]
    },
    {
     "name": "stderr",
     "output_type": "stream",
     "text": [
      "100%|██████████| 67/67 [00:03<00:00, 18.44it/s]\n",
      "100%|██████████| 31/31 [00:02<00:00, 12.38it/s]\n"
     ]
    },
    {
     "name": "stdout",
     "output_type": "stream",
     "text": [
      "Epoch 73/201 Training Loss: 0.061 Valid (L1): 0.067 Valid (PSNR): 21.341  Valid (SSIM): 0.738\n"
     ]
    },
    {
     "name": "stderr",
     "output_type": "stream",
     "text": [
      "100%|██████████| 67/67 [00:03<00:00, 18.17it/s]\n",
      "100%|██████████| 31/31 [00:02<00:00, 12.41it/s]\n"
     ]
    },
    {
     "name": "stdout",
     "output_type": "stream",
     "text": [
      "Epoch 74/201 Training Loss: 0.057 Valid (L1): 0.067 Valid (PSNR): 21.417  Valid (SSIM): 0.738\n"
     ]
    },
    {
     "name": "stderr",
     "output_type": "stream",
     "text": [
      "100%|██████████| 67/67 [00:03<00:00, 18.86it/s]\n",
      "100%|██████████| 31/31 [00:02<00:00, 12.41it/s]\n"
     ]
    },
    {
     "name": "stdout",
     "output_type": "stream",
     "text": [
      "Epoch 75/201 Training Loss: 0.060 Valid (L1): 0.065 Valid (PSNR): 21.564  Valid (SSIM): 0.743\n"
     ]
    },
    {
     "name": "stderr",
     "output_type": "stream",
     "text": [
      "100%|██████████| 67/67 [00:03<00:00, 18.40it/s]\n",
      "100%|██████████| 31/31 [00:02<00:00, 12.44it/s]\n"
     ]
    },
    {
     "name": "stdout",
     "output_type": "stream",
     "text": [
      "Epoch 76/201 Training Loss: 0.059 Valid (L1): 0.066 Valid (PSNR): 21.142  Valid (SSIM): 0.742\n"
     ]
    },
    {
     "name": "stderr",
     "output_type": "stream",
     "text": [
      "100%|██████████| 67/67 [00:03<00:00, 18.83it/s]\n",
      "100%|██████████| 31/31 [00:02<00:00, 12.39it/s]\n"
     ]
    },
    {
     "name": "stdout",
     "output_type": "stream",
     "text": [
      "Epoch 77/201 Training Loss: 0.061 Valid (L1): 0.064 Valid (PSNR): 21.476  Valid (SSIM): 0.745\n"
     ]
    },
    {
     "name": "stderr",
     "output_type": "stream",
     "text": [
      "100%|██████████| 67/67 [00:03<00:00, 18.54it/s]\n",
      "100%|██████████| 31/31 [00:02<00:00, 12.42it/s]\n"
     ]
    },
    {
     "name": "stdout",
     "output_type": "stream",
     "text": [
      "Epoch 78/201 Training Loss: 0.061 Valid (L1): 0.064 Valid (PSNR): 21.624  Valid (SSIM): 0.744\n"
     ]
    },
    {
     "name": "stderr",
     "output_type": "stream",
     "text": [
      "100%|██████████| 67/67 [00:03<00:00, 18.48it/s]\n",
      "100%|██████████| 31/31 [00:02<00:00, 12.44it/s]\n"
     ]
    },
    {
     "name": "stdout",
     "output_type": "stream",
     "text": [
      "Epoch 79/201 Training Loss: 0.059 Valid (L1): 0.063 Valid (PSNR): 21.625  Valid (SSIM): 0.748\n"
     ]
    },
    {
     "name": "stderr",
     "output_type": "stream",
     "text": [
      "100%|██████████| 67/67 [00:03<00:00, 17.95it/s]\n",
      "100%|██████████| 31/31 [00:02<00:00, 12.42it/s]\n"
     ]
    },
    {
     "name": "stdout",
     "output_type": "stream",
     "text": [
      "Epoch 80/201 Training Loss: 0.060 Valid (L1): 0.064 Valid (PSNR): 21.585  Valid (SSIM): 0.751\n"
     ]
    },
    {
     "name": "stderr",
     "output_type": "stream",
     "text": [
      "100%|██████████| 67/67 [00:03<00:00, 18.72it/s]\n",
      "100%|██████████| 31/31 [00:02<00:00, 12.41it/s]\n"
     ]
    },
    {
     "name": "stdout",
     "output_type": "stream",
     "text": [
      "Epoch 81/201 Training Loss: 0.059 Valid (L1): 0.063 Valid (PSNR): 21.628  Valid (SSIM): 0.751\n"
     ]
    },
    {
     "name": "stderr",
     "output_type": "stream",
     "text": [
      "100%|██████████| 67/67 [00:03<00:00, 18.94it/s]\n",
      "100%|██████████| 31/31 [00:02<00:00, 12.42it/s]\n"
     ]
    },
    {
     "name": "stdout",
     "output_type": "stream",
     "text": [
      "Epoch 82/201 Training Loss: 0.057 Valid (L1): 0.063 Valid (PSNR): 21.546  Valid (SSIM): 0.751\n"
     ]
    },
    {
     "name": "stderr",
     "output_type": "stream",
     "text": [
      "100%|██████████| 67/67 [00:03<00:00, 18.78it/s]\n",
      "100%|██████████| 31/31 [00:02<00:00, 12.42it/s]\n"
     ]
    },
    {
     "name": "stdout",
     "output_type": "stream",
     "text": [
      "Epoch 83/201 Training Loss: 0.057 Valid (L1): 0.063 Valid (PSNR): 21.539  Valid (SSIM): 0.754\n"
     ]
    },
    {
     "name": "stderr",
     "output_type": "stream",
     "text": [
      "100%|██████████| 67/67 [00:03<00:00, 18.72it/s]\n",
      "100%|██████████| 31/31 [00:02<00:00, 12.39it/s]\n"
     ]
    },
    {
     "name": "stdout",
     "output_type": "stream",
     "text": [
      "Epoch 84/201 Training Loss: 0.057 Valid (L1): 0.062 Valid (PSNR): 21.648  Valid (SSIM): 0.754\n"
     ]
    },
    {
     "name": "stderr",
     "output_type": "stream",
     "text": [
      "100%|██████████| 67/67 [00:03<00:00, 18.51it/s]\n",
      "100%|██████████| 31/31 [00:02<00:00, 12.42it/s]\n"
     ]
    },
    {
     "name": "stdout",
     "output_type": "stream",
     "text": [
      "Epoch 85/201 Training Loss: 0.060 Valid (L1): 0.062 Valid (PSNR): 21.525  Valid (SSIM): 0.753\n"
     ]
    },
    {
     "name": "stderr",
     "output_type": "stream",
     "text": [
      "100%|██████████| 67/67 [00:03<00:00, 18.66it/s]\n",
      "100%|██████████| 31/31 [00:02<00:00, 12.42it/s]\n"
     ]
    },
    {
     "name": "stdout",
     "output_type": "stream",
     "text": [
      "Epoch 86/201 Training Loss: 0.058 Valid (L1): 0.062 Valid (PSNR): 21.581  Valid (SSIM): 0.755\n"
     ]
    },
    {
     "name": "stderr",
     "output_type": "stream",
     "text": [
      "100%|██████████| 67/67 [00:03<00:00, 18.42it/s]\n",
      "100%|██████████| 31/31 [00:02<00:00, 12.36it/s]\n"
     ]
    },
    {
     "name": "stdout",
     "output_type": "stream",
     "text": [
      "Epoch 87/201 Training Loss: 0.058 Valid (L1): 0.062 Valid (PSNR): 21.490  Valid (SSIM): 0.756\n"
     ]
    },
    {
     "name": "stderr",
     "output_type": "stream",
     "text": [
      "100%|██████████| 67/67 [00:03<00:00, 18.57it/s]\n",
      "100%|██████████| 31/31 [00:02<00:00, 12.42it/s]\n"
     ]
    },
    {
     "name": "stdout",
     "output_type": "stream",
     "text": [
      "Epoch 88/201 Training Loss: 0.056 Valid (L1): 0.062 Valid (PSNR): 21.656  Valid (SSIM): 0.759\n"
     ]
    },
    {
     "name": "stderr",
     "output_type": "stream",
     "text": [
      "100%|██████████| 67/67 [00:03<00:00, 18.71it/s]\n",
      "100%|██████████| 31/31 [00:02<00:00, 12.38it/s]\n"
     ]
    },
    {
     "name": "stdout",
     "output_type": "stream",
     "text": [
      "Epoch 89/201 Training Loss: 0.059 Valid (L1): 0.062 Valid (PSNR): 21.618  Valid (SSIM): 0.760\n"
     ]
    },
    {
     "name": "stderr",
     "output_type": "stream",
     "text": [
      "100%|██████████| 67/67 [00:03<00:00, 18.77it/s]\n",
      "100%|██████████| 31/31 [00:02<00:00, 12.45it/s]\n"
     ]
    },
    {
     "name": "stdout",
     "output_type": "stream",
     "text": [
      "Epoch 90/201 Training Loss: 0.057 Valid (L1): 0.061 Valid (PSNR): 21.616  Valid (SSIM): 0.758\n"
     ]
    },
    {
     "name": "stderr",
     "output_type": "stream",
     "text": [
      "100%|██████████| 67/67 [00:03<00:00, 18.46it/s]\n",
      "100%|██████████| 31/31 [00:02<00:00, 12.44it/s]\n"
     ]
    },
    {
     "name": "stdout",
     "output_type": "stream",
     "text": [
      "Epoch 91/201 Training Loss: 0.056 Valid (L1): 0.060 Valid (PSNR): 21.723  Valid (SSIM): 0.762\n"
     ]
    },
    {
     "name": "stderr",
     "output_type": "stream",
     "text": [
      "100%|██████████| 67/67 [00:03<00:00, 18.13it/s]\n",
      "100%|██████████| 31/31 [00:02<00:00, 12.40it/s]\n"
     ]
    },
    {
     "name": "stdout",
     "output_type": "stream",
     "text": [
      "Epoch 92/201 Training Loss: 0.057 Valid (L1): 0.066 Valid (PSNR): 21.077  Valid (SSIM): 0.759\n"
     ]
    },
    {
     "name": "stderr",
     "output_type": "stream",
     "text": [
      "100%|██████████| 67/67 [00:03<00:00, 18.60it/s]\n",
      "100%|██████████| 31/31 [00:02<00:00, 12.41it/s]\n"
     ]
    },
    {
     "name": "stdout",
     "output_type": "stream",
     "text": [
      "Epoch 93/201 Training Loss: 0.060 Valid (L1): 0.060 Valid (PSNR): 21.629  Valid (SSIM): 0.763\n"
     ]
    },
    {
     "name": "stderr",
     "output_type": "stream",
     "text": [
      "100%|██████████| 67/67 [00:03<00:00, 18.63it/s]\n",
      "100%|██████████| 31/31 [00:02<00:00, 12.38it/s]\n"
     ]
    },
    {
     "name": "stdout",
     "output_type": "stream",
     "text": [
      "Epoch 94/201 Training Loss: 0.059 Valid (L1): 0.061 Valid (PSNR): 21.507  Valid (SSIM): 0.764\n"
     ]
    },
    {
     "name": "stderr",
     "output_type": "stream",
     "text": [
      "100%|██████████| 67/67 [00:03<00:00, 18.86it/s]\n",
      "100%|██████████| 31/31 [00:02<00:00, 12.41it/s]\n"
     ]
    },
    {
     "name": "stdout",
     "output_type": "stream",
     "text": [
      "Epoch 95/201 Training Loss: 0.059 Valid (L1): 0.058 Valid (PSNR): 21.741  Valid (SSIM): 0.764\n"
     ]
    },
    {
     "name": "stderr",
     "output_type": "stream",
     "text": [
      "100%|██████████| 67/67 [00:03<00:00, 18.78it/s]\n",
      "100%|██████████| 31/31 [00:02<00:00, 12.42it/s]\n"
     ]
    },
    {
     "name": "stdout",
     "output_type": "stream",
     "text": [
      "Epoch 96/201 Training Loss: 0.054 Valid (L1): 0.059 Valid (PSNR): 21.714  Valid (SSIM): 0.766\n"
     ]
    },
    {
     "name": "stderr",
     "output_type": "stream",
     "text": [
      "100%|██████████| 67/67 [00:03<00:00, 18.65it/s]\n",
      "100%|██████████| 31/31 [00:02<00:00, 12.38it/s]\n"
     ]
    },
    {
     "name": "stdout",
     "output_type": "stream",
     "text": [
      "Epoch 97/201 Training Loss: 0.057 Valid (L1): 0.059 Valid (PSNR): 21.775  Valid (SSIM): 0.765\n"
     ]
    },
    {
     "name": "stderr",
     "output_type": "stream",
     "text": [
      "100%|██████████| 67/67 [00:03<00:00, 18.60it/s]\n",
      "100%|██████████| 31/31 [00:02<00:00, 12.40it/s]\n"
     ]
    },
    {
     "name": "stdout",
     "output_type": "stream",
     "text": [
      "Epoch 98/201 Training Loss: 0.058 Valid (L1): 0.057 Valid (PSNR): 21.994  Valid (SSIM): 0.768\n"
     ]
    },
    {
     "name": "stderr",
     "output_type": "stream",
     "text": [
      "100%|██████████| 67/67 [00:03<00:00, 18.64it/s]\n",
      "100%|██████████| 31/31 [00:02<00:00, 12.43it/s]\n"
     ]
    },
    {
     "name": "stdout",
     "output_type": "stream",
     "text": [
      "Epoch 99/201 Training Loss: 0.058 Valid (L1): 0.057 Valid (PSNR): 22.021  Valid (SSIM): 0.766\n"
     ]
    },
    {
     "name": "stderr",
     "output_type": "stream",
     "text": [
      "100%|██████████| 67/67 [00:03<00:00, 18.41it/s]\n",
      "100%|██████████| 31/31 [00:02<00:00, 12.44it/s]\n"
     ]
    },
    {
     "name": "stdout",
     "output_type": "stream",
     "text": [
      "Epoch 100/201 Training Loss: 0.057 Valid (L1): 0.057 Valid (PSNR): 21.914  Valid (SSIM): 0.767\n"
     ]
    },
    {
     "name": "stderr",
     "output_type": "stream",
     "text": [
      "100%|██████████| 67/67 [00:03<00:00, 18.19it/s]\n",
      "100%|██████████| 31/31 [00:02<00:00, 12.41it/s]\n"
     ]
    },
    {
     "name": "stdout",
     "output_type": "stream",
     "text": [
      "Epoch 101/201 Training Loss: 0.055 Valid (L1): 0.057 Valid (PSNR): 22.119  Valid (SSIM): 0.769\n"
     ]
    },
    {
     "name": "stderr",
     "output_type": "stream",
     "text": [
      "100%|██████████| 67/67 [00:03<00:00, 18.08it/s]\n",
      "100%|██████████| 31/31 [00:02<00:00, 12.36it/s]\n"
     ]
    },
    {
     "name": "stdout",
     "output_type": "stream",
     "text": [
      "Epoch 102/201 Training Loss: 0.054 Valid (L1): 0.057 Valid (PSNR): 22.107  Valid (SSIM): 0.768\n"
     ]
    },
    {
     "name": "stderr",
     "output_type": "stream",
     "text": [
      "100%|██████████| 67/67 [00:03<00:00, 18.94it/s]\n",
      "100%|██████████| 31/31 [00:02<00:00, 12.41it/s]\n"
     ]
    },
    {
     "name": "stdout",
     "output_type": "stream",
     "text": [
      "Epoch 103/201 Training Loss: 0.059 Valid (L1): 0.058 Valid (PSNR): 21.901  Valid (SSIM): 0.766\n"
     ]
    },
    {
     "name": "stderr",
     "output_type": "stream",
     "text": [
      "100%|██████████| 67/67 [00:03<00:00, 18.78it/s]\n",
      "100%|██████████| 31/31 [00:02<00:00, 12.37it/s]\n"
     ]
    },
    {
     "name": "stdout",
     "output_type": "stream",
     "text": [
      "Epoch 104/201 Training Loss: 0.055 Valid (L1): 0.056 Valid (PSNR): 22.107  Valid (SSIM): 0.769\n"
     ]
    },
    {
     "name": "stderr",
     "output_type": "stream",
     "text": [
      "100%|██████████| 67/67 [00:03<00:00, 18.73it/s]\n",
      "100%|██████████| 31/31 [00:02<00:00, 12.38it/s]\n"
     ]
    },
    {
     "name": "stdout",
     "output_type": "stream",
     "text": [
      "Epoch 105/201 Training Loss: 0.056 Valid (L1): 0.056 Valid (PSNR): 22.155  Valid (SSIM): 0.772\n"
     ]
    },
    {
     "name": "stderr",
     "output_type": "stream",
     "text": [
      "100%|██████████| 67/67 [00:03<00:00, 18.08it/s]\n",
      "100%|██████████| 31/31 [00:02<00:00, 12.43it/s]\n"
     ]
    },
    {
     "name": "stdout",
     "output_type": "stream",
     "text": [
      "Epoch 106/201 Training Loss: 0.054 Valid (L1): 0.056 Valid (PSNR): 22.090  Valid (SSIM): 0.770\n"
     ]
    },
    {
     "name": "stderr",
     "output_type": "stream",
     "text": [
      "100%|██████████| 67/67 [00:03<00:00, 18.86it/s]\n",
      "100%|██████████| 31/31 [00:02<00:00, 12.34it/s]\n"
     ]
    },
    {
     "name": "stdout",
     "output_type": "stream",
     "text": [
      "Epoch 107/201 Training Loss: 0.054 Valid (L1): 0.056 Valid (PSNR): 22.274  Valid (SSIM): 0.771\n"
     ]
    },
    {
     "name": "stderr",
     "output_type": "stream",
     "text": [
      "100%|██████████| 67/67 [00:03<00:00, 18.28it/s]\n",
      "100%|██████████| 31/31 [00:02<00:00, 12.39it/s]\n"
     ]
    },
    {
     "name": "stdout",
     "output_type": "stream",
     "text": [
      "Epoch 108/201 Training Loss: 0.055 Valid (L1): 0.057 Valid (PSNR): 21.981  Valid (SSIM): 0.770\n"
     ]
    },
    {
     "name": "stderr",
     "output_type": "stream",
     "text": [
      "100%|██████████| 67/67 [00:03<00:00, 18.41it/s]\n",
      "100%|██████████| 31/31 [00:02<00:00, 12.35it/s]\n"
     ]
    },
    {
     "name": "stdout",
     "output_type": "stream",
     "text": [
      "Epoch 109/201 Training Loss: 0.056 Valid (L1): 0.056 Valid (PSNR): 22.184  Valid (SSIM): 0.771\n"
     ]
    },
    {
     "name": "stderr",
     "output_type": "stream",
     "text": [
      "100%|██████████| 67/67 [00:03<00:00, 18.62it/s]\n",
      "100%|██████████| 31/31 [00:02<00:00, 12.38it/s]\n"
     ]
    },
    {
     "name": "stdout",
     "output_type": "stream",
     "text": [
      "Epoch 110/201 Training Loss: 0.055 Valid (L1): 0.056 Valid (PSNR): 22.279  Valid (SSIM): 0.773\n"
     ]
    },
    {
     "name": "stderr",
     "output_type": "stream",
     "text": [
      "100%|██████████| 67/67 [00:03<00:00, 18.58it/s]\n",
      "100%|██████████| 31/31 [00:02<00:00, 12.42it/s]\n"
     ]
    },
    {
     "name": "stdout",
     "output_type": "stream",
     "text": [
      "Epoch 111/201 Training Loss: 0.055 Valid (L1): 0.057 Valid (PSNR): 22.190  Valid (SSIM): 0.772\n"
     ]
    },
    {
     "name": "stderr",
     "output_type": "stream",
     "text": [
      "100%|██████████| 67/67 [00:03<00:00, 18.24it/s]\n",
      "100%|██████████| 31/31 [00:02<00:00, 12.44it/s]\n"
     ]
    },
    {
     "name": "stdout",
     "output_type": "stream",
     "text": [
      "Epoch 112/201 Training Loss: 0.053 Valid (L1): 0.055 Valid (PSNR): 22.349  Valid (SSIM): 0.773\n"
     ]
    },
    {
     "name": "stderr",
     "output_type": "stream",
     "text": [
      "100%|██████████| 67/67 [00:03<00:00, 18.23it/s]\n",
      "100%|██████████| 31/31 [00:02<00:00, 12.42it/s]\n"
     ]
    },
    {
     "name": "stdout",
     "output_type": "stream",
     "text": [
      "Epoch 113/201 Training Loss: 0.055 Valid (L1): 0.055 Valid (PSNR): 22.303  Valid (SSIM): 0.773\n"
     ]
    },
    {
     "name": "stderr",
     "output_type": "stream",
     "text": [
      "100%|██████████| 67/67 [00:03<00:00, 18.94it/s]\n",
      "100%|██████████| 31/31 [00:02<00:00, 12.42it/s]\n"
     ]
    },
    {
     "name": "stdout",
     "output_type": "stream",
     "text": [
      "Epoch 114/201 Training Loss: 0.056 Valid (L1): 0.055 Valid (PSNR): 22.429  Valid (SSIM): 0.775\n"
     ]
    },
    {
     "name": "stderr",
     "output_type": "stream",
     "text": [
      "100%|██████████| 67/67 [00:03<00:00, 18.31it/s]\n",
      "100%|██████████| 31/31 [00:02<00:00, 12.41it/s]\n"
     ]
    },
    {
     "name": "stdout",
     "output_type": "stream",
     "text": [
      "Epoch 115/201 Training Loss: 0.051 Valid (L1): 0.055 Valid (PSNR): 22.480  Valid (SSIM): 0.775\n"
     ]
    },
    {
     "name": "stderr",
     "output_type": "stream",
     "text": [
      "100%|██████████| 67/67 [00:03<00:00, 18.55it/s]\n",
      "100%|██████████| 31/31 [00:02<00:00, 12.43it/s]\n"
     ]
    },
    {
     "name": "stdout",
     "output_type": "stream",
     "text": [
      "Epoch 116/201 Training Loss: 0.054 Valid (L1): 0.059 Valid (PSNR): 21.903  Valid (SSIM): 0.776\n"
     ]
    },
    {
     "name": "stderr",
     "output_type": "stream",
     "text": [
      "100%|██████████| 67/67 [00:03<00:00, 18.42it/s]\n",
      "100%|██████████| 31/31 [00:02<00:00, 12.40it/s]\n"
     ]
    },
    {
     "name": "stdout",
     "output_type": "stream",
     "text": [
      "Epoch 117/201 Training Loss: 0.057 Valid (L1): 0.057 Valid (PSNR): 22.188  Valid (SSIM): 0.774\n"
     ]
    },
    {
     "name": "stderr",
     "output_type": "stream",
     "text": [
      "100%|██████████| 67/67 [00:03<00:00, 18.36it/s]\n",
      "100%|██████████| 31/31 [00:02<00:00, 12.41it/s]\n"
     ]
    },
    {
     "name": "stdout",
     "output_type": "stream",
     "text": [
      "Epoch 118/201 Training Loss: 0.053 Valid (L1): 0.055 Valid (PSNR): 22.315  Valid (SSIM): 0.775\n"
     ]
    },
    {
     "name": "stderr",
     "output_type": "stream",
     "text": [
      "100%|██████████| 67/67 [00:03<00:00, 18.47it/s]\n",
      "100%|██████████| 31/31 [00:02<00:00, 12.39it/s]\n"
     ]
    },
    {
     "name": "stdout",
     "output_type": "stream",
     "text": [
      "Epoch 119/201 Training Loss: 0.055 Valid (L1): 0.059 Valid (PSNR): 21.854  Valid (SSIM): 0.771\n"
     ]
    },
    {
     "name": "stderr",
     "output_type": "stream",
     "text": [
      "100%|██████████| 67/67 [00:03<00:00, 18.34it/s]\n",
      "100%|██████████| 31/31 [00:02<00:00, 12.37it/s]\n"
     ]
    },
    {
     "name": "stdout",
     "output_type": "stream",
     "text": [
      "Epoch 120/201 Training Loss: 0.054 Valid (L1): 0.055 Valid (PSNR): 22.316  Valid (SSIM): 0.776\n"
     ]
    },
    {
     "name": "stderr",
     "output_type": "stream",
     "text": [
      "100%|██████████| 67/67 [00:03<00:00, 18.79it/s]\n",
      "100%|██████████| 31/31 [00:02<00:00, 12.41it/s]\n"
     ]
    },
    {
     "name": "stdout",
     "output_type": "stream",
     "text": [
      "Epoch 121/201 Training Loss: 0.055 Valid (L1): 0.057 Valid (PSNR): 22.273  Valid (SSIM): 0.775\n"
     ]
    },
    {
     "name": "stderr",
     "output_type": "stream",
     "text": [
      "100%|██████████| 67/67 [00:03<00:00, 18.41it/s]\n",
      "100%|██████████| 31/31 [00:02<00:00, 12.42it/s]\n"
     ]
    },
    {
     "name": "stdout",
     "output_type": "stream",
     "text": [
      "Epoch 122/201 Training Loss: 0.054 Valid (L1): 0.055 Valid (PSNR): 22.371  Valid (SSIM): 0.776\n"
     ]
    },
    {
     "name": "stderr",
     "output_type": "stream",
     "text": [
      "100%|██████████| 67/67 [00:03<00:00, 18.65it/s]\n",
      "100%|██████████| 31/31 [00:02<00:00, 12.37it/s]\n"
     ]
    },
    {
     "name": "stdout",
     "output_type": "stream",
     "text": [
      "Epoch 123/201 Training Loss: 0.053 Valid (L1): 0.054 Valid (PSNR): 22.584  Valid (SSIM): 0.779\n"
     ]
    },
    {
     "name": "stderr",
     "output_type": "stream",
     "text": [
      "100%|██████████| 67/67 [00:03<00:00, 18.15it/s]\n",
      "100%|██████████| 31/31 [00:02<00:00, 12.41it/s]\n"
     ]
    },
    {
     "name": "stdout",
     "output_type": "stream",
     "text": [
      "Epoch 124/201 Training Loss: 0.052 Valid (L1): 0.055 Valid (PSNR): 22.424  Valid (SSIM): 0.776\n"
     ]
    },
    {
     "name": "stderr",
     "output_type": "stream",
     "text": [
      "100%|██████████| 67/67 [00:03<00:00, 18.50it/s]\n",
      "100%|██████████| 31/31 [00:02<00:00, 12.45it/s]\n"
     ]
    },
    {
     "name": "stdout",
     "output_type": "stream",
     "text": [
      "Epoch 125/201 Training Loss: 0.057 Valid (L1): 0.057 Valid (PSNR): 22.145  Valid (SSIM): 0.775\n"
     ]
    },
    {
     "name": "stderr",
     "output_type": "stream",
     "text": [
      "100%|██████████| 67/67 [00:03<00:00, 18.32it/s]\n",
      "100%|██████████| 31/31 [00:02<00:00, 12.42it/s]\n"
     ]
    },
    {
     "name": "stdout",
     "output_type": "stream",
     "text": [
      "Epoch 126/201 Training Loss: 0.054 Valid (L1): 0.054 Valid (PSNR): 22.512  Valid (SSIM): 0.779\n"
     ]
    },
    {
     "name": "stderr",
     "output_type": "stream",
     "text": [
      "100%|██████████| 67/67 [00:03<00:00, 18.82it/s]\n",
      "100%|██████████| 31/31 [00:02<00:00, 12.40it/s]\n"
     ]
    },
    {
     "name": "stdout",
     "output_type": "stream",
     "text": [
      "Epoch 127/201 Training Loss: 0.053 Valid (L1): 0.054 Valid (PSNR): 22.723  Valid (SSIM): 0.781\n"
     ]
    },
    {
     "name": "stderr",
     "output_type": "stream",
     "text": [
      "100%|██████████| 67/67 [00:03<00:00, 18.45it/s]\n",
      "100%|██████████| 31/31 [00:02<00:00, 12.40it/s]\n"
     ]
    },
    {
     "name": "stdout",
     "output_type": "stream",
     "text": [
      "Epoch 128/201 Training Loss: 0.056 Valid (L1): 0.055 Valid (PSNR): 22.433  Valid (SSIM): 0.778\n"
     ]
    },
    {
     "name": "stderr",
     "output_type": "stream",
     "text": [
      "100%|██████████| 67/67 [00:03<00:00, 18.91it/s]\n",
      "100%|██████████| 31/31 [00:02<00:00, 12.41it/s]\n"
     ]
    },
    {
     "name": "stdout",
     "output_type": "stream",
     "text": [
      "Epoch 129/201 Training Loss: 0.050 Valid (L1): 0.056 Valid (PSNR): 22.290  Valid (SSIM): 0.780\n"
     ]
    },
    {
     "name": "stderr",
     "output_type": "stream",
     "text": [
      "100%|██████████| 67/67 [00:03<00:00, 18.44it/s]\n",
      "100%|██████████| 31/31 [00:02<00:00, 12.44it/s]\n"
     ]
    },
    {
     "name": "stdout",
     "output_type": "stream",
     "text": [
      "Epoch 130/201 Training Loss: 0.055 Valid (L1): 0.054 Valid (PSNR): 22.598  Valid (SSIM): 0.781\n"
     ]
    },
    {
     "name": "stderr",
     "output_type": "stream",
     "text": [
      "100%|██████████| 67/67 [00:03<00:00, 18.25it/s]\n",
      "100%|██████████| 31/31 [00:02<00:00, 12.45it/s]\n"
     ]
    },
    {
     "name": "stdout",
     "output_type": "stream",
     "text": [
      "Epoch 131/201 Training Loss: 0.054 Valid (L1): 0.054 Valid (PSNR): 22.593  Valid (SSIM): 0.781\n"
     ]
    },
    {
     "name": "stderr",
     "output_type": "stream",
     "text": [
      "100%|██████████| 67/67 [00:03<00:00, 18.15it/s]\n",
      "100%|██████████| 31/31 [00:02<00:00, 12.38it/s]\n"
     ]
    },
    {
     "name": "stdout",
     "output_type": "stream",
     "text": [
      "Epoch 132/201 Training Loss: 0.053 Valid (L1): 0.054 Valid (PSNR): 22.627  Valid (SSIM): 0.780\n"
     ]
    },
    {
     "name": "stderr",
     "output_type": "stream",
     "text": [
      "100%|██████████| 67/67 [00:03<00:00, 18.30it/s]\n",
      "100%|██████████| 31/31 [00:02<00:00, 12.40it/s]\n"
     ]
    },
    {
     "name": "stdout",
     "output_type": "stream",
     "text": [
      "Epoch 133/201 Training Loss: 0.051 Valid (L1): 0.054 Valid (PSNR): 22.659  Valid (SSIM): 0.781\n"
     ]
    },
    {
     "name": "stderr",
     "output_type": "stream",
     "text": [
      "100%|██████████| 67/67 [00:03<00:00, 18.79it/s]\n",
      "100%|██████████| 31/31 [00:02<00:00, 12.40it/s]\n"
     ]
    },
    {
     "name": "stdout",
     "output_type": "stream",
     "text": [
      "Epoch 134/201 Training Loss: 0.050 Valid (L1): 0.055 Valid (PSNR): 22.531  Valid (SSIM): 0.779\n"
     ]
    },
    {
     "name": "stderr",
     "output_type": "stream",
     "text": [
      "100%|██████████| 67/67 [00:03<00:00, 18.49it/s]\n",
      "100%|██████████| 31/31 [00:02<00:00, 12.37it/s]\n"
     ]
    },
    {
     "name": "stdout",
     "output_type": "stream",
     "text": [
      "Epoch 135/201 Training Loss: 0.053 Valid (L1): 0.053 Valid (PSNR): 22.756  Valid (SSIM): 0.782\n"
     ]
    },
    {
     "name": "stderr",
     "output_type": "stream",
     "text": [
      "100%|██████████| 67/67 [00:03<00:00, 18.47it/s]\n",
      "100%|██████████| 31/31 [00:02<00:00, 12.40it/s]\n"
     ]
    },
    {
     "name": "stdout",
     "output_type": "stream",
     "text": [
      "Epoch 136/201 Training Loss: 0.055 Valid (L1): 0.054 Valid (PSNR): 22.696  Valid (SSIM): 0.783\n"
     ]
    },
    {
     "name": "stderr",
     "output_type": "stream",
     "text": [
      "100%|██████████| 67/67 [00:03<00:00, 18.37it/s]\n",
      "100%|██████████| 31/31 [00:02<00:00, 12.41it/s]\n"
     ]
    },
    {
     "name": "stdout",
     "output_type": "stream",
     "text": [
      "Epoch 137/201 Training Loss: 0.057 Valid (L1): 0.054 Valid (PSNR): 22.413  Valid (SSIM): 0.779\n"
     ]
    },
    {
     "name": "stderr",
     "output_type": "stream",
     "text": [
      "100%|██████████| 67/67 [00:03<00:00, 18.57it/s]\n",
      "100%|██████████| 31/31 [00:02<00:00, 12.43it/s]\n"
     ]
    },
    {
     "name": "stdout",
     "output_type": "stream",
     "text": [
      "Epoch 138/201 Training Loss: 0.053 Valid (L1): 0.054 Valid (PSNR): 22.665  Valid (SSIM): 0.780\n"
     ]
    },
    {
     "name": "stderr",
     "output_type": "stream",
     "text": [
      "100%|██████████| 67/67 [00:03<00:00, 18.50it/s]\n",
      "100%|██████████| 31/31 [00:02<00:00, 12.43it/s]\n"
     ]
    },
    {
     "name": "stdout",
     "output_type": "stream",
     "text": [
      "Epoch 139/201 Training Loss: 0.059 Valid (L1): 0.056 Valid (PSNR): 22.196  Valid (SSIM): 0.781\n"
     ]
    },
    {
     "name": "stderr",
     "output_type": "stream",
     "text": [
      "100%|██████████| 67/67 [00:03<00:00, 18.90it/s]\n",
      "100%|██████████| 31/31 [00:02<00:00, 12.41it/s]\n"
     ]
    },
    {
     "name": "stdout",
     "output_type": "stream",
     "text": [
      "Epoch 140/201 Training Loss: 0.055 Valid (L1): 0.053 Valid (PSNR): 22.716  Valid (SSIM): 0.783\n"
     ]
    },
    {
     "name": "stderr",
     "output_type": "stream",
     "text": [
      "100%|██████████| 67/67 [00:03<00:00, 18.41it/s]\n",
      "100%|██████████| 31/31 [00:02<00:00, 12.42it/s]\n"
     ]
    },
    {
     "name": "stdout",
     "output_type": "stream",
     "text": [
      "Epoch 141/201 Training Loss: 0.052 Valid (L1): 0.054 Valid (PSNR): 22.716  Valid (SSIM): 0.782\n"
     ]
    },
    {
     "name": "stderr",
     "output_type": "stream",
     "text": [
      "100%|██████████| 67/67 [00:03<00:00, 18.61it/s]\n",
      "100%|██████████| 31/31 [00:02<00:00, 12.40it/s]\n"
     ]
    },
    {
     "name": "stdout",
     "output_type": "stream",
     "text": [
      "Epoch 142/201 Training Loss: 0.056 Valid (L1): 0.053 Valid (PSNR): 22.729  Valid (SSIM): 0.784\n"
     ]
    },
    {
     "name": "stderr",
     "output_type": "stream",
     "text": [
      "100%|██████████| 67/67 [00:03<00:00, 18.74it/s]\n",
      "100%|██████████| 31/31 [00:02<00:00, 12.46it/s]\n"
     ]
    },
    {
     "name": "stdout",
     "output_type": "stream",
     "text": [
      "Epoch 143/201 Training Loss: 0.051 Valid (L1): 0.053 Valid (PSNR): 22.786  Valid (SSIM): 0.783\n"
     ]
    },
    {
     "name": "stderr",
     "output_type": "stream",
     "text": [
      "100%|██████████| 67/67 [00:03<00:00, 18.34it/s]\n",
      "100%|██████████| 31/31 [00:02<00:00, 12.45it/s]\n"
     ]
    },
    {
     "name": "stdout",
     "output_type": "stream",
     "text": [
      "Epoch 144/201 Training Loss: 0.055 Valid (L1): 0.054 Valid (PSNR): 22.620  Valid (SSIM): 0.782\n"
     ]
    },
    {
     "name": "stderr",
     "output_type": "stream",
     "text": [
      "100%|██████████| 67/67 [00:03<00:00, 18.39it/s]\n",
      "100%|██████████| 31/31 [00:02<00:00, 12.45it/s]\n"
     ]
    },
    {
     "name": "stdout",
     "output_type": "stream",
     "text": [
      "Epoch 145/201 Training Loss: 0.053 Valid (L1): 0.054 Valid (PSNR): 22.657  Valid (SSIM): 0.783\n"
     ]
    },
    {
     "name": "stderr",
     "output_type": "stream",
     "text": [
      "100%|██████████| 67/67 [00:03<00:00, 18.52it/s]\n",
      "100%|██████████| 31/31 [00:02<00:00, 12.42it/s]\n"
     ]
    },
    {
     "name": "stdout",
     "output_type": "stream",
     "text": [
      "Epoch 146/201 Training Loss: 0.053 Valid (L1): 0.053 Valid (PSNR): 22.782  Valid (SSIM): 0.785\n"
     ]
    },
    {
     "name": "stderr",
     "output_type": "stream",
     "text": [
      "100%|██████████| 67/67 [00:03<00:00, 18.63it/s]\n",
      "100%|██████████| 31/31 [00:02<00:00, 12.43it/s]\n"
     ]
    },
    {
     "name": "stdout",
     "output_type": "stream",
     "text": [
      "Epoch 147/201 Training Loss: 0.054 Valid (L1): 0.052 Valid (PSNR): 22.983  Valid (SSIM): 0.786\n"
     ]
    },
    {
     "name": "stderr",
     "output_type": "stream",
     "text": [
      "100%|██████████| 67/67 [00:03<00:00, 18.75it/s]\n",
      "100%|██████████| 31/31 [00:02<00:00, 12.45it/s]\n"
     ]
    },
    {
     "name": "stdout",
     "output_type": "stream",
     "text": [
      "Epoch 148/201 Training Loss: 0.052 Valid (L1): 0.052 Valid (PSNR): 23.116  Valid (SSIM): 0.787\n"
     ]
    },
    {
     "name": "stderr",
     "output_type": "stream",
     "text": [
      "100%|██████████| 67/67 [00:03<00:00, 18.82it/s]\n",
      "100%|██████████| 31/31 [00:02<00:00, 12.44it/s]\n"
     ]
    },
    {
     "name": "stdout",
     "output_type": "stream",
     "text": [
      "Epoch 149/201 Training Loss: 0.050 Valid (L1): 0.052 Valid (PSNR): 22.943  Valid (SSIM): 0.785\n"
     ]
    },
    {
     "name": "stderr",
     "output_type": "stream",
     "text": [
      "100%|██████████| 67/67 [00:03<00:00, 18.44it/s]\n",
      "100%|██████████| 31/31 [00:02<00:00, 12.43it/s]\n"
     ]
    },
    {
     "name": "stdout",
     "output_type": "stream",
     "text": [
      "Epoch 150/201 Training Loss: 0.052 Valid (L1): 0.052 Valid (PSNR): 22.915  Valid (SSIM): 0.785\n"
     ]
    },
    {
     "name": "stderr",
     "output_type": "stream",
     "text": [
      "100%|██████████| 67/67 [00:03<00:00, 17.85it/s]\n",
      "100%|██████████| 31/31 [00:02<00:00, 12.42it/s]\n"
     ]
    },
    {
     "name": "stdout",
     "output_type": "stream",
     "text": [
      "Epoch 151/201 Training Loss: 0.053 Valid (L1): 0.053 Valid (PSNR): 22.937  Valid (SSIM): 0.786\n"
     ]
    },
    {
     "name": "stderr",
     "output_type": "stream",
     "text": [
      "100%|██████████| 67/67 [00:03<00:00, 18.80it/s]\n",
      "100%|██████████| 31/31 [00:02<00:00, 12.41it/s]\n"
     ]
    },
    {
     "name": "stdout",
     "output_type": "stream",
     "text": [
      "Epoch 152/201 Training Loss: 0.052 Valid (L1): 0.053 Valid (PSNR): 22.806  Valid (SSIM): 0.786\n"
     ]
    },
    {
     "name": "stderr",
     "output_type": "stream",
     "text": [
      "100%|██████████| 67/67 [00:03<00:00, 18.39it/s]\n",
      "100%|██████████| 31/31 [00:02<00:00, 12.44it/s]\n"
     ]
    },
    {
     "name": "stdout",
     "output_type": "stream",
     "text": [
      "Epoch 153/201 Training Loss: 0.054 Valid (L1): 0.053 Valid (PSNR): 22.924  Valid (SSIM): 0.788\n"
     ]
    },
    {
     "name": "stderr",
     "output_type": "stream",
     "text": [
      "100%|██████████| 67/67 [00:03<00:00, 18.70it/s]\n",
      "100%|██████████| 31/31 [00:02<00:00, 12.43it/s]\n"
     ]
    },
    {
     "name": "stdout",
     "output_type": "stream",
     "text": [
      "Epoch 154/201 Training Loss: 0.054 Valid (L1): 0.052 Valid (PSNR): 22.894  Valid (SSIM): 0.787\n"
     ]
    },
    {
     "name": "stderr",
     "output_type": "stream",
     "text": [
      "100%|██████████| 67/67 [00:03<00:00, 18.67it/s]\n",
      "100%|██████████| 31/31 [00:02<00:00, 12.35it/s]\n"
     ]
    },
    {
     "name": "stdout",
     "output_type": "stream",
     "text": [
      "Epoch 155/201 Training Loss: 0.057 Valid (L1): 0.053 Valid (PSNR): 22.756  Valid (SSIM): 0.784\n"
     ]
    },
    {
     "name": "stderr",
     "output_type": "stream",
     "text": [
      "100%|██████████| 67/67 [00:03<00:00, 18.38it/s]\n",
      "100%|██████████| 31/31 [00:02<00:00, 12.38it/s]\n"
     ]
    },
    {
     "name": "stdout",
     "output_type": "stream",
     "text": [
      "Epoch 156/201 Training Loss: 0.052 Valid (L1): 0.053 Valid (PSNR): 22.918  Valid (SSIM): 0.787\n"
     ]
    },
    {
     "name": "stderr",
     "output_type": "stream",
     "text": [
      "100%|██████████| 67/67 [00:03<00:00, 18.60it/s]\n",
      "100%|██████████| 31/31 [00:02<00:00, 12.40it/s]\n"
     ]
    },
    {
     "name": "stdout",
     "output_type": "stream",
     "text": [
      "Epoch 157/201 Training Loss: 0.053 Valid (L1): 0.054 Valid (PSNR): 22.892  Valid (SSIM): 0.787\n"
     ]
    },
    {
     "name": "stderr",
     "output_type": "stream",
     "text": [
      "100%|██████████| 67/67 [00:03<00:00, 18.65it/s]\n",
      "100%|██████████| 31/31 [00:02<00:00, 12.39it/s]\n"
     ]
    },
    {
     "name": "stdout",
     "output_type": "stream",
     "text": [
      "Epoch 158/201 Training Loss: 0.053 Valid (L1): 0.054 Valid (PSNR): 22.704  Valid (SSIM): 0.789\n"
     ]
    },
    {
     "name": "stderr",
     "output_type": "stream",
     "text": [
      "100%|██████████| 67/67 [00:03<00:00, 18.51it/s]\n",
      "100%|██████████| 31/31 [00:02<00:00, 12.42it/s]\n"
     ]
    },
    {
     "name": "stdout",
     "output_type": "stream",
     "text": [
      "Epoch 159/201 Training Loss: 0.051 Valid (L1): 0.053 Valid (PSNR): 22.849  Valid (SSIM): 0.787\n"
     ]
    },
    {
     "name": "stderr",
     "output_type": "stream",
     "text": [
      "100%|██████████| 67/67 [00:03<00:00, 18.35it/s]\n",
      "100%|██████████| 31/31 [00:02<00:00, 12.36it/s]\n"
     ]
    },
    {
     "name": "stdout",
     "output_type": "stream",
     "text": [
      "Epoch 160/201 Training Loss: 0.052 Valid (L1): 0.057 Valid (PSNR): 22.349  Valid (SSIM): 0.782\n"
     ]
    },
    {
     "name": "stderr",
     "output_type": "stream",
     "text": [
      "100%|██████████| 67/67 [00:03<00:00, 17.83it/s]\n",
      "100%|██████████| 31/31 [00:02<00:00, 12.43it/s]\n"
     ]
    },
    {
     "name": "stdout",
     "output_type": "stream",
     "text": [
      "Epoch 161/201 Training Loss: 0.053 Valid (L1): 0.053 Valid (PSNR): 22.880  Valid (SSIM): 0.789\n"
     ]
    },
    {
     "name": "stderr",
     "output_type": "stream",
     "text": [
      "100%|██████████| 67/67 [00:03<00:00, 18.80it/s]\n",
      "100%|██████████| 31/31 [00:02<00:00, 12.41it/s]\n"
     ]
    },
    {
     "name": "stdout",
     "output_type": "stream",
     "text": [
      "Epoch 162/201 Training Loss: 0.052 Valid (L1): 0.051 Valid (PSNR): 23.144  Valid (SSIM): 0.790\n"
     ]
    },
    {
     "name": "stderr",
     "output_type": "stream",
     "text": [
      "100%|██████████| 67/67 [00:03<00:00, 18.58it/s]\n",
      "100%|██████████| 31/31 [00:02<00:00, 12.40it/s]\n"
     ]
    },
    {
     "name": "stdout",
     "output_type": "stream",
     "text": [
      "Epoch 163/201 Training Loss: 0.053 Valid (L1): 0.052 Valid (PSNR): 23.043  Valid (SSIM): 0.790\n"
     ]
    },
    {
     "name": "stderr",
     "output_type": "stream",
     "text": [
      "100%|██████████| 67/67 [00:03<00:00, 18.89it/s]\n",
      "100%|██████████| 31/31 [00:02<00:00, 12.42it/s]\n"
     ]
    },
    {
     "name": "stdout",
     "output_type": "stream",
     "text": [
      "Epoch 164/201 Training Loss: 0.056 Valid (L1): 0.053 Valid (PSNR): 22.890  Valid (SSIM): 0.787\n"
     ]
    },
    {
     "name": "stderr",
     "output_type": "stream",
     "text": [
      "100%|██████████| 67/67 [00:03<00:00, 18.68it/s]\n",
      "100%|██████████| 31/31 [00:02<00:00, 12.41it/s]\n"
     ]
    },
    {
     "name": "stdout",
     "output_type": "stream",
     "text": [
      "Epoch 165/201 Training Loss: 0.053 Valid (L1): 0.052 Valid (PSNR): 22.976  Valid (SSIM): 0.790\n"
     ]
    },
    {
     "name": "stderr",
     "output_type": "stream",
     "text": [
      "100%|██████████| 67/67 [00:03<00:00, 18.68it/s]\n",
      "100%|██████████| 31/31 [00:02<00:00, 12.43it/s]\n"
     ]
    },
    {
     "name": "stdout",
     "output_type": "stream",
     "text": [
      "Epoch 166/201 Training Loss: 0.054 Valid (L1): 0.053 Valid (PSNR): 22.988  Valid (SSIM): 0.789\n"
     ]
    },
    {
     "name": "stderr",
     "output_type": "stream",
     "text": [
      "100%|██████████| 67/67 [00:03<00:00, 18.40it/s]\n",
      "100%|██████████| 31/31 [00:02<00:00, 12.42it/s]\n"
     ]
    },
    {
     "name": "stdout",
     "output_type": "stream",
     "text": [
      "Epoch 167/201 Training Loss: 0.051 Valid (L1): 0.052 Valid (PSNR): 23.073  Valid (SSIM): 0.791\n"
     ]
    },
    {
     "name": "stderr",
     "output_type": "stream",
     "text": [
      "100%|██████████| 67/67 [00:03<00:00, 18.44it/s]\n",
      "100%|██████████| 31/31 [00:02<00:00, 12.38it/s]\n"
     ]
    },
    {
     "name": "stdout",
     "output_type": "stream",
     "text": [
      "Epoch 168/201 Training Loss: 0.048 Valid (L1): 0.053 Valid (PSNR): 22.986  Valid (SSIM): 0.792\n"
     ]
    },
    {
     "name": "stderr",
     "output_type": "stream",
     "text": [
      "100%|██████████| 67/67 [00:03<00:00, 18.24it/s]\n",
      "100%|██████████| 31/31 [00:02<00:00, 12.40it/s]\n"
     ]
    },
    {
     "name": "stdout",
     "output_type": "stream",
     "text": [
      "Epoch 169/201 Training Loss: 0.049 Valid (L1): 0.051 Valid (PSNR): 23.160  Valid (SSIM): 0.791\n"
     ]
    },
    {
     "name": "stderr",
     "output_type": "stream",
     "text": [
      "100%|██████████| 67/67 [00:03<00:00, 18.39it/s]\n",
      "100%|██████████| 31/31 [00:02<00:00, 12.38it/s]\n"
     ]
    },
    {
     "name": "stdout",
     "output_type": "stream",
     "text": [
      "Epoch 170/201 Training Loss: 0.051 Valid (L1): 0.051 Valid (PSNR): 23.224  Valid (SSIM): 0.791\n"
     ]
    },
    {
     "name": "stderr",
     "output_type": "stream",
     "text": [
      "100%|██████████| 67/67 [00:03<00:00, 18.34it/s]\n",
      "100%|██████████| 31/31 [00:02<00:00, 12.41it/s]\n"
     ]
    },
    {
     "name": "stdout",
     "output_type": "stream",
     "text": [
      "Epoch 171/201 Training Loss: 0.052 Valid (L1): 0.052 Valid (PSNR): 23.203  Valid (SSIM): 0.794\n"
     ]
    },
    {
     "name": "stderr",
     "output_type": "stream",
     "text": [
      "100%|██████████| 67/67 [00:03<00:00, 18.57it/s]\n",
      "100%|██████████| 31/31 [00:02<00:00, 12.39it/s]\n"
     ]
    },
    {
     "name": "stdout",
     "output_type": "stream",
     "text": [
      "Epoch 172/201 Training Loss: 0.056 Valid (L1): 0.050 Valid (PSNR): 23.293  Valid (SSIM): 0.793\n"
     ]
    },
    {
     "name": "stderr",
     "output_type": "stream",
     "text": [
      "100%|██████████| 67/67 [00:03<00:00, 18.18it/s]\n",
      "100%|██████████| 31/31 [00:02<00:00, 12.40it/s]\n"
     ]
    },
    {
     "name": "stdout",
     "output_type": "stream",
     "text": [
      "Epoch 173/201 Training Loss: 0.050 Valid (L1): 0.054 Valid (PSNR): 22.689  Valid (SSIM): 0.791\n"
     ]
    },
    {
     "name": "stderr",
     "output_type": "stream",
     "text": [
      "100%|██████████| 67/67 [00:03<00:00, 18.52it/s]\n",
      "100%|██████████| 31/31 [00:02<00:00, 12.40it/s]\n"
     ]
    },
    {
     "name": "stdout",
     "output_type": "stream",
     "text": [
      "Epoch 174/201 Training Loss: 0.054 Valid (L1): 0.052 Valid (PSNR): 23.058  Valid (SSIM): 0.791\n"
     ]
    },
    {
     "name": "stderr",
     "output_type": "stream",
     "text": [
      "100%|██████████| 67/67 [00:03<00:00, 18.64it/s]\n",
      "100%|██████████| 31/31 [00:02<00:00, 12.42it/s]\n"
     ]
    },
    {
     "name": "stdout",
     "output_type": "stream",
     "text": [
      "Epoch 175/201 Training Loss: 0.054 Valid (L1): 0.051 Valid (PSNR): 23.253  Valid (SSIM): 0.794\n"
     ]
    },
    {
     "name": "stderr",
     "output_type": "stream",
     "text": [
      "100%|██████████| 67/67 [00:03<00:00, 18.76it/s]\n",
      "100%|██████████| 31/31 [00:02<00:00, 12.44it/s]\n"
     ]
    },
    {
     "name": "stdout",
     "output_type": "stream",
     "text": [
      "Epoch 176/201 Training Loss: 0.050 Valid (L1): 0.050 Valid (PSNR): 23.385  Valid (SSIM): 0.795\n"
     ]
    },
    {
     "name": "stderr",
     "output_type": "stream",
     "text": [
      "100%|██████████| 67/67 [00:03<00:00, 18.77it/s]\n",
      "100%|██████████| 31/31 [00:02<00:00, 12.38it/s]\n"
     ]
    },
    {
     "name": "stdout",
     "output_type": "stream",
     "text": [
      "Epoch 177/201 Training Loss: 0.052 Valid (L1): 0.050 Valid (PSNR): 23.183  Valid (SSIM): 0.795\n"
     ]
    },
    {
     "name": "stderr",
     "output_type": "stream",
     "text": [
      "100%|██████████| 67/67 [00:03<00:00, 18.57it/s]\n",
      "100%|██████████| 31/31 [00:02<00:00, 12.45it/s]\n"
     ]
    },
    {
     "name": "stdout",
     "output_type": "stream",
     "text": [
      "Epoch 178/201 Training Loss: 0.052 Valid (L1): 0.051 Valid (PSNR): 23.311  Valid (SSIM): 0.794\n"
     ]
    },
    {
     "name": "stderr",
     "output_type": "stream",
     "text": [
      "100%|██████████| 67/67 [00:03<00:00, 18.83it/s]\n",
      "100%|██████████| 31/31 [00:02<00:00, 12.42it/s]\n"
     ]
    },
    {
     "name": "stdout",
     "output_type": "stream",
     "text": [
      "Epoch 179/201 Training Loss: 0.053 Valid (L1): 0.051 Valid (PSNR): 23.326  Valid (SSIM): 0.795\n"
     ]
    },
    {
     "name": "stderr",
     "output_type": "stream",
     "text": [
      "100%|██████████| 67/67 [00:03<00:00, 18.33it/s]\n",
      "100%|██████████| 31/31 [00:02<00:00, 12.41it/s]\n"
     ]
    },
    {
     "name": "stdout",
     "output_type": "stream",
     "text": [
      "Epoch 180/201 Training Loss: 0.053 Valid (L1): 0.049 Valid (PSNR): 23.605  Valid (SSIM): 0.795\n"
     ]
    },
    {
     "name": "stderr",
     "output_type": "stream",
     "text": [
      "100%|██████████| 67/67 [00:03<00:00, 18.08it/s]\n",
      "100%|██████████| 31/31 [00:02<00:00, 12.46it/s]\n"
     ]
    },
    {
     "name": "stdout",
     "output_type": "stream",
     "text": [
      "Epoch 181/201 Training Loss: 0.052 Valid (L1): 0.049 Valid (PSNR): 23.649  Valid (SSIM): 0.797\n"
     ]
    },
    {
     "name": "stderr",
     "output_type": "stream",
     "text": [
      "100%|██████████| 67/67 [00:03<00:00, 18.64it/s]\n",
      "100%|██████████| 31/31 [00:02<00:00, 12.43it/s]\n"
     ]
    },
    {
     "name": "stdout",
     "output_type": "stream",
     "text": [
      "Epoch 182/201 Training Loss: 0.052 Valid (L1): 0.049 Valid (PSNR): 23.666  Valid (SSIM): 0.797\n"
     ]
    },
    {
     "name": "stderr",
     "output_type": "stream",
     "text": [
      "100%|██████████| 67/67 [00:03<00:00, 18.51it/s]\n",
      "100%|██████████| 31/31 [00:02<00:00, 12.42it/s]\n"
     ]
    },
    {
     "name": "stdout",
     "output_type": "stream",
     "text": [
      "Epoch 183/201 Training Loss: 0.055 Valid (L1): 0.049 Valid (PSNR): 23.583  Valid (SSIM): 0.796\n"
     ]
    },
    {
     "name": "stderr",
     "output_type": "stream",
     "text": [
      "100%|██████████| 67/67 [00:03<00:00, 18.75it/s]\n",
      "100%|██████████| 31/31 [00:02<00:00, 12.37it/s]\n"
     ]
    },
    {
     "name": "stdout",
     "output_type": "stream",
     "text": [
      "Epoch 184/201 Training Loss: 0.051 Valid (L1): 0.049 Valid (PSNR): 23.629  Valid (SSIM): 0.795\n"
     ]
    },
    {
     "name": "stderr",
     "output_type": "stream",
     "text": [
      "100%|██████████| 67/67 [00:03<00:00, 18.93it/s]\n",
      "100%|██████████| 31/31 [00:02<00:00, 12.40it/s]\n"
     ]
    },
    {
     "name": "stdout",
     "output_type": "stream",
     "text": [
      "Epoch 185/201 Training Loss: 0.054 Valid (L1): 0.050 Valid (PSNR): 23.385  Valid (SSIM): 0.796\n"
     ]
    },
    {
     "name": "stderr",
     "output_type": "stream",
     "text": [
      "100%|██████████| 67/67 [00:03<00:00, 18.86it/s]\n",
      "100%|██████████| 31/31 [00:02<00:00, 12.39it/s]\n"
     ]
    },
    {
     "name": "stdout",
     "output_type": "stream",
     "text": [
      "Epoch 186/201 Training Loss: 0.051 Valid (L1): 0.049 Valid (PSNR): 23.607  Valid (SSIM): 0.796\n"
     ]
    },
    {
     "name": "stderr",
     "output_type": "stream",
     "text": [
      "100%|██████████| 67/67 [00:03<00:00, 18.16it/s]\n",
      "100%|██████████| 31/31 [00:02<00:00, 12.43it/s]\n"
     ]
    },
    {
     "name": "stdout",
     "output_type": "stream",
     "text": [
      "Epoch 187/201 Training Loss: 0.050 Valid (L1): 0.050 Valid (PSNR): 23.592  Valid (SSIM): 0.797\n"
     ]
    },
    {
     "name": "stderr",
     "output_type": "stream",
     "text": [
      "100%|██████████| 67/67 [00:03<00:00, 18.20it/s]\n",
      "100%|██████████| 31/31 [00:02<00:00, 12.42it/s]\n"
     ]
    },
    {
     "name": "stdout",
     "output_type": "stream",
     "text": [
      "Epoch 188/201 Training Loss: 0.052 Valid (L1): 0.050 Valid (PSNR): 23.633  Valid (SSIM): 0.797\n"
     ]
    },
    {
     "name": "stderr",
     "output_type": "stream",
     "text": [
      "100%|██████████| 67/67 [00:03<00:00, 18.07it/s]\n",
      "100%|██████████| 31/31 [00:02<00:00, 12.47it/s]\n"
     ]
    },
    {
     "name": "stdout",
     "output_type": "stream",
     "text": [
      "Epoch 189/201 Training Loss: 0.052 Valid (L1): 0.050 Valid (PSNR): 23.527  Valid (SSIM): 0.798\n"
     ]
    },
    {
     "name": "stderr",
     "output_type": "stream",
     "text": [
      "100%|██████████| 67/67 [00:03<00:00, 18.66it/s]\n",
      "100%|██████████| 31/31 [00:02<00:00, 12.39it/s]\n"
     ]
    },
    {
     "name": "stdout",
     "output_type": "stream",
     "text": [
      "Epoch 190/201 Training Loss: 0.053 Valid (L1): 0.049 Valid (PSNR): 23.761  Valid (SSIM): 0.799\n"
     ]
    },
    {
     "name": "stderr",
     "output_type": "stream",
     "text": [
      "100%|██████████| 67/67 [00:03<00:00, 18.43it/s]\n",
      "100%|██████████| 31/31 [00:02<00:00, 12.44it/s]\n"
     ]
    },
    {
     "name": "stdout",
     "output_type": "stream",
     "text": [
      "Epoch 191/201 Training Loss: 0.052 Valid (L1): 0.050 Valid (PSNR): 23.650  Valid (SSIM): 0.797\n"
     ]
    },
    {
     "name": "stderr",
     "output_type": "stream",
     "text": [
      "100%|██████████| 67/67 [00:03<00:00, 19.11it/s]\n",
      "100%|██████████| 31/31 [00:02<00:00, 12.43it/s]\n"
     ]
    },
    {
     "name": "stdout",
     "output_type": "stream",
     "text": [
      "Epoch 192/201 Training Loss: 0.049 Valid (L1): 0.050 Valid (PSNR): 23.586  Valid (SSIM): 0.798\n"
     ]
    },
    {
     "name": "stderr",
     "output_type": "stream",
     "text": [
      "100%|██████████| 67/67 [00:03<00:00, 18.18it/s]\n",
      "100%|██████████| 31/31 [00:02<00:00, 12.39it/s]\n"
     ]
    },
    {
     "name": "stdout",
     "output_type": "stream",
     "text": [
      "Epoch 193/201 Training Loss: 0.053 Valid (L1): 0.050 Valid (PSNR): 23.658  Valid (SSIM): 0.798\n"
     ]
    },
    {
     "name": "stderr",
     "output_type": "stream",
     "text": [
      "100%|██████████| 67/67 [00:03<00:00, 18.51it/s]\n",
      "100%|██████████| 31/31 [00:02<00:00, 12.43it/s]\n"
     ]
    },
    {
     "name": "stdout",
     "output_type": "stream",
     "text": [
      "Epoch 194/201 Training Loss: 0.052 Valid (L1): 0.048 Valid (PSNR): 23.841  Valid (SSIM): 0.800\n"
     ]
    },
    {
     "name": "stderr",
     "output_type": "stream",
     "text": [
      "100%|██████████| 67/67 [00:03<00:00, 18.72it/s]\n",
      "100%|██████████| 31/31 [00:02<00:00, 12.41it/s]\n"
     ]
    },
    {
     "name": "stdout",
     "output_type": "stream",
     "text": [
      "Epoch 195/201 Training Loss: 0.051 Valid (L1): 0.049 Valid (PSNR): 23.758  Valid (SSIM): 0.801\n"
     ]
    },
    {
     "name": "stderr",
     "output_type": "stream",
     "text": [
      "100%|██████████| 67/67 [00:03<00:00, 18.42it/s]\n",
      "100%|██████████| 31/31 [00:02<00:00, 12.40it/s]\n"
     ]
    },
    {
     "name": "stdout",
     "output_type": "stream",
     "text": [
      "Epoch 196/201 Training Loss: 0.053 Valid (L1): 0.050 Valid (PSNR): 23.562  Valid (SSIM): 0.800\n"
     ]
    },
    {
     "name": "stderr",
     "output_type": "stream",
     "text": [
      "100%|██████████| 67/67 [00:03<00:00, 18.18it/s]\n",
      "100%|██████████| 31/31 [00:02<00:00, 12.40it/s]\n"
     ]
    },
    {
     "name": "stdout",
     "output_type": "stream",
     "text": [
      "Epoch 197/201 Training Loss: 0.051 Valid (L1): 0.048 Valid (PSNR): 24.107  Valid (SSIM): 0.803\n"
     ]
    },
    {
     "name": "stderr",
     "output_type": "stream",
     "text": [
      "100%|██████████| 67/67 [00:03<00:00, 18.40it/s]\n",
      "100%|██████████| 31/31 [00:02<00:00, 12.40it/s]\n"
     ]
    },
    {
     "name": "stdout",
     "output_type": "stream",
     "text": [
      "Epoch 198/201 Training Loss: 0.050 Valid (L1): 0.049 Valid (PSNR): 23.842  Valid (SSIM): 0.800\n"
     ]
    },
    {
     "name": "stderr",
     "output_type": "stream",
     "text": [
      "100%|██████████| 67/67 [00:03<00:00, 18.47it/s]\n",
      "100%|██████████| 31/31 [00:02<00:00, 12.45it/s]\n"
     ]
    },
    {
     "name": "stdout",
     "output_type": "stream",
     "text": [
      "Epoch 199/201 Training Loss: 0.053 Valid (L1): 0.049 Valid (PSNR): 23.782  Valid (SSIM): 0.798\n"
     ]
    },
    {
     "name": "stderr",
     "output_type": "stream",
     "text": [
      "100%|██████████| 67/67 [00:03<00:00, 18.46it/s]\n",
      "100%|██████████| 31/31 [00:02<00:00, 12.46it/s]\n"
     ]
    },
    {
     "name": "stdout",
     "output_type": "stream",
     "text": [
      "Epoch 200/201 Training Loss: 0.051 Valid (L1): 0.049 Valid (PSNR): 23.760  Valid (SSIM): 0.801\n"
     ]
    },
    {
     "name": "stderr",
     "output_type": "stream",
     "text": [
      "100%|██████████| 67/67 [00:03<00:00, 18.91it/s]\n",
      "100%|██████████| 31/31 [00:02<00:00, 12.42it/s]"
     ]
    },
    {
     "name": "stdout",
     "output_type": "stream",
     "text": [
      "Epoch 201/201 Training Loss: 0.050 Valid (L1): 0.047 Valid (PSNR): 24.130  Valid (SSIM): 0.803\n"
     ]
    },
    {
     "name": "stderr",
     "output_type": "stream",
     "text": [
      "\n"
     ]
    }
   ],
   "source": [
    "if torch.cuda.is_available():\n",
    "    torch.cuda.empty_cache()\n",
    "learning_rate = 1e-5\n",
    "model = BasicSRModel().to(device)\n",
    "srtrainer = SRTrainer(model=model,loss_fn=nn.L1Loss(), lr=learning_rate)\n",
    "srtrainer.train(train_dataloader,valid_dataloader,num_epochs=201, save=False)"
   ]
  },
  {
   "cell_type": "code",
   "execution_count": 13,
   "metadata": {},
   "outputs": [
    {
     "name": "stderr",
     "output_type": "stream",
     "text": [
      "100%|██████████| 10/10 [00:15<00:00,  1.54s/it]\n"
     ]
    },
    {
     "name": "stdout",
     "output_type": "stream",
     "text": [
      "Test:       (L1):   0.056   (PSNR): 22.886 (SSIM): 0.742\n",
      "Bilinear:   (L1):   0.036   (PSNR): 25.813 (SSIM): 0.791\n",
      "Bicubic:    (L1):   0.033    (PSNR): 26.952  (SSIM): 0.829\n"
     ]
    }
   ],
   "source": [
    "tester = Tester(model)\n",
    "tester.test(tests_dataloader, model_name=\"model\"+str(learning_rate))\n",
    "\n",
    "del model\n",
    "del srtrainer\n",
    "del tester"
   ]
  },
  {
   "cell_type": "code",
   "execution_count": 14,
   "metadata": {},
   "outputs": [
    {
     "name": "stderr",
     "output_type": "stream",
     "text": [
      "100%|██████████| 67/67 [00:04<00:00, 16.52it/s]\n",
      "100%|██████████| 31/31 [00:02<00:00, 12.40it/s]\n"
     ]
    },
    {
     "name": "stdout",
     "output_type": "stream",
     "text": [
      "Epoch 1/201 Training Loss: 0.373 Valid (L1): 0.372 Valid (PSNR): 7.643  Valid (SSIM): 0.034\n"
     ]
    },
    {
     "name": "stderr",
     "output_type": "stream",
     "text": [
      "100%|██████████| 67/67 [00:03<00:00, 19.84it/s]\n",
      "100%|██████████| 31/31 [00:02<00:00, 12.59it/s]\n"
     ]
    },
    {
     "name": "stdout",
     "output_type": "stream",
     "text": [
      "Epoch 2/201 Training Loss: 0.377 Valid (L1): 0.370 Valid (PSNR): 7.667  Valid (SSIM): 0.039\n"
     ]
    },
    {
     "name": "stderr",
     "output_type": "stream",
     "text": [
      "100%|██████████| 67/67 [00:03<00:00, 20.14it/s]\n",
      "100%|██████████| 31/31 [00:02<00:00, 12.59it/s]\n"
     ]
    },
    {
     "name": "stdout",
     "output_type": "stream",
     "text": [
      "Epoch 3/201 Training Loss: 0.381 Valid (L1): 0.369 Valid (PSNR): 7.692  Valid (SSIM): 0.045\n"
     ]
    },
    {
     "name": "stderr",
     "output_type": "stream",
     "text": [
      "100%|██████████| 67/67 [00:03<00:00, 20.69it/s]\n",
      "100%|██████████| 31/31 [00:02<00:00, 12.53it/s]\n"
     ]
    },
    {
     "name": "stdout",
     "output_type": "stream",
     "text": [
      "Epoch 4/201 Training Loss: 0.393 Valid (L1): 0.368 Valid (PSNR): 7.718  Valid (SSIM): 0.051\n"
     ]
    },
    {
     "name": "stderr",
     "output_type": "stream",
     "text": [
      "100%|██████████| 67/67 [00:03<00:00, 20.81it/s]\n",
      "100%|██████████| 31/31 [00:02<00:00, 12.49it/s]\n"
     ]
    },
    {
     "name": "stdout",
     "output_type": "stream",
     "text": [
      "Epoch 5/201 Training Loss: 0.382 Valid (L1): 0.366 Valid (PSNR): 7.748  Valid (SSIM): 0.057\n"
     ]
    },
    {
     "name": "stderr",
     "output_type": "stream",
     "text": [
      "100%|██████████| 67/67 [00:03<00:00, 20.00it/s]\n",
      "100%|██████████| 31/31 [00:02<00:00, 12.52it/s]\n"
     ]
    },
    {
     "name": "stdout",
     "output_type": "stream",
     "text": [
      "Epoch 6/201 Training Loss: 0.389 Valid (L1): 0.364 Valid (PSNR): 7.789  Valid (SSIM): 0.066\n"
     ]
    },
    {
     "name": "stderr",
     "output_type": "stream",
     "text": [
      "100%|██████████| 67/67 [00:03<00:00, 19.75it/s]\n",
      "100%|██████████| 31/31 [00:02<00:00, 12.52it/s]\n"
     ]
    },
    {
     "name": "stdout",
     "output_type": "stream",
     "text": [
      "Epoch 7/201 Training Loss: 0.364 Valid (L1): 0.362 Valid (PSNR): 7.838  Valid (SSIM): 0.077\n"
     ]
    },
    {
     "name": "stderr",
     "output_type": "stream",
     "text": [
      "100%|██████████| 67/67 [00:03<00:00, 19.89it/s]\n",
      "100%|██████████| 31/31 [00:02<00:00, 12.45it/s]\n"
     ]
    },
    {
     "name": "stdout",
     "output_type": "stream",
     "text": [
      "Epoch 8/201 Training Loss: 0.373 Valid (L1): 0.358 Valid (PSNR): 7.903  Valid (SSIM): 0.092\n"
     ]
    },
    {
     "name": "stderr",
     "output_type": "stream",
     "text": [
      "100%|██████████| 67/67 [00:03<00:00, 18.97it/s]\n",
      "100%|██████████| 31/31 [00:02<00:00, 12.46it/s]\n"
     ]
    },
    {
     "name": "stdout",
     "output_type": "stream",
     "text": [
      "Epoch 9/201 Training Loss: 0.360 Valid (L1): 0.354 Valid (PSNR): 7.987  Valid (SSIM): 0.110\n"
     ]
    },
    {
     "name": "stderr",
     "output_type": "stream",
     "text": [
      "100%|██████████| 67/67 [00:03<00:00, 18.95it/s]\n",
      "100%|██████████| 31/31 [00:02<00:00, 12.42it/s]\n"
     ]
    },
    {
     "name": "stdout",
     "output_type": "stream",
     "text": [
      "Epoch 10/201 Training Loss: 0.358 Valid (L1): 0.348 Valid (PSNR): 8.111  Valid (SSIM): 0.135\n"
     ]
    },
    {
     "name": "stderr",
     "output_type": "stream",
     "text": [
      "100%|██████████| 67/67 [00:03<00:00, 18.50it/s]\n",
      "100%|██████████| 31/31 [00:02<00:00, 12.35it/s]\n"
     ]
    },
    {
     "name": "stdout",
     "output_type": "stream",
     "text": [
      "Epoch 11/201 Training Loss: 0.356 Valid (L1): 0.339 Valid (PSNR): 8.318  Valid (SSIM): 0.167\n"
     ]
    },
    {
     "name": "stderr",
     "output_type": "stream",
     "text": [
      "100%|██████████| 67/67 [00:03<00:00, 18.36it/s]\n",
      "100%|██████████| 31/31 [00:02<00:00, 12.35it/s]\n"
     ]
    },
    {
     "name": "stdout",
     "output_type": "stream",
     "text": [
      "Epoch 12/201 Training Loss: 0.348 Valid (L1): 0.323 Valid (PSNR): 8.685  Valid (SSIM): 0.211\n"
     ]
    },
    {
     "name": "stderr",
     "output_type": "stream",
     "text": [
      "100%|██████████| 67/67 [00:03<00:00, 18.75it/s]\n",
      "100%|██████████| 31/31 [00:02<00:00, 12.41it/s]\n"
     ]
    },
    {
     "name": "stdout",
     "output_type": "stream",
     "text": [
      "Epoch 13/201 Training Loss: 0.320 Valid (L1): 0.295 Valid (PSNR): 9.370  Valid (SSIM): 0.274\n"
     ]
    },
    {
     "name": "stderr",
     "output_type": "stream",
     "text": [
      "100%|██████████| 67/67 [00:03<00:00, 18.49it/s]\n",
      "100%|██████████| 31/31 [00:02<00:00, 12.40it/s]\n"
     ]
    },
    {
     "name": "stdout",
     "output_type": "stream",
     "text": [
      "Epoch 14/201 Training Loss: 0.285 Valid (L1): 0.250 Valid (PSNR): 10.653  Valid (SSIM): 0.355\n"
     ]
    },
    {
     "name": "stderr",
     "output_type": "stream",
     "text": [
      "100%|██████████| 67/67 [00:03<00:00, 18.70it/s]\n",
      "100%|██████████| 31/31 [00:02<00:00, 12.43it/s]\n"
     ]
    },
    {
     "name": "stdout",
     "output_type": "stream",
     "text": [
      "Epoch 15/201 Training Loss: 0.245 Valid (L1): 0.183 Valid (PSNR): 13.131  Valid (SSIM): 0.438\n"
     ]
    },
    {
     "name": "stderr",
     "output_type": "stream",
     "text": [
      "100%|██████████| 67/67 [00:03<00:00, 18.76it/s]\n",
      "100%|██████████| 31/31 [00:02<00:00, 12.42it/s]\n"
     ]
    },
    {
     "name": "stdout",
     "output_type": "stream",
     "text": [
      "Epoch 16/201 Training Loss: 0.170 Valid (L1): 0.132 Valid (PSNR): 16.105  Valid (SSIM): 0.479\n"
     ]
    },
    {
     "name": "stderr",
     "output_type": "stream",
     "text": [
      "100%|██████████| 67/67 [00:03<00:00, 18.61it/s]\n",
      "100%|██████████| 31/31 [00:02<00:00, 12.40it/s]\n"
     ]
    },
    {
     "name": "stdout",
     "output_type": "stream",
     "text": [
      "Epoch 17/201 Training Loss: 0.141 Valid (L1): 0.126 Valid (PSNR): 16.617  Valid (SSIM): 0.484\n"
     ]
    },
    {
     "name": "stderr",
     "output_type": "stream",
     "text": [
      "100%|██████████| 67/67 [00:03<00:00, 18.45it/s]\n",
      "100%|██████████| 31/31 [00:02<00:00, 12.42it/s]\n"
     ]
    },
    {
     "name": "stdout",
     "output_type": "stream",
     "text": [
      "Epoch 18/201 Training Loss: 0.137 Valid (L1): 0.124 Valid (PSNR): 16.700  Valid (SSIM): 0.488\n"
     ]
    },
    {
     "name": "stderr",
     "output_type": "stream",
     "text": [
      "100%|██████████| 67/67 [00:03<00:00, 18.29it/s]\n",
      "100%|██████████| 31/31 [00:02<00:00, 12.36it/s]\n"
     ]
    },
    {
     "name": "stdout",
     "output_type": "stream",
     "text": [
      "Epoch 19/201 Training Loss: 0.133 Valid (L1): 0.121 Valid (PSNR): 16.912  Valid (SSIM): 0.491\n"
     ]
    },
    {
     "name": "stderr",
     "output_type": "stream",
     "text": [
      "100%|██████████| 67/67 [00:03<00:00, 18.42it/s]\n",
      "100%|██████████| 31/31 [00:02<00:00, 12.38it/s]\n"
     ]
    },
    {
     "name": "stdout",
     "output_type": "stream",
     "text": [
      "Epoch 20/201 Training Loss: 0.134 Valid (L1): 0.119 Valid (PSNR): 17.033  Valid (SSIM): 0.494\n"
     ]
    },
    {
     "name": "stderr",
     "output_type": "stream",
     "text": [
      "100%|██████████| 67/67 [00:03<00:00, 18.34it/s]\n",
      "100%|██████████| 31/31 [00:02<00:00, 12.43it/s]\n"
     ]
    },
    {
     "name": "stdout",
     "output_type": "stream",
     "text": [
      "Epoch 21/201 Training Loss: 0.130 Valid (L1): 0.117 Valid (PSNR): 17.139  Valid (SSIM): 0.497\n"
     ]
    },
    {
     "name": "stderr",
     "output_type": "stream",
     "text": [
      "100%|██████████| 67/67 [00:03<00:00, 18.78it/s]\n",
      "100%|██████████| 31/31 [00:02<00:00, 12.41it/s]\n"
     ]
    },
    {
     "name": "stdout",
     "output_type": "stream",
     "text": [
      "Epoch 22/201 Training Loss: 0.132 Valid (L1): 0.117 Valid (PSNR): 17.154  Valid (SSIM): 0.500\n"
     ]
    },
    {
     "name": "stderr",
     "output_type": "stream",
     "text": [
      "100%|██████████| 67/67 [00:03<00:00, 19.00it/s]\n",
      "100%|██████████| 31/31 [00:02<00:00, 12.41it/s]\n"
     ]
    },
    {
     "name": "stdout",
     "output_type": "stream",
     "text": [
      "Epoch 23/201 Training Loss: 0.127 Valid (L1): 0.114 Valid (PSNR): 17.330  Valid (SSIM): 0.503\n"
     ]
    },
    {
     "name": "stderr",
     "output_type": "stream",
     "text": [
      "100%|██████████| 67/67 [00:03<00:00, 18.46it/s]\n",
      "100%|██████████| 31/31 [00:02<00:00, 12.41it/s]\n"
     ]
    },
    {
     "name": "stdout",
     "output_type": "stream",
     "text": [
      "Epoch 24/201 Training Loss: 0.127 Valid (L1): 0.113 Valid (PSNR): 17.362  Valid (SSIM): 0.505\n"
     ]
    },
    {
     "name": "stderr",
     "output_type": "stream",
     "text": [
      "100%|██████████| 67/67 [00:03<00:00, 18.80it/s]\n",
      "100%|██████████| 31/31 [00:02<00:00, 12.40it/s]\n"
     ]
    },
    {
     "name": "stdout",
     "output_type": "stream",
     "text": [
      "Epoch 25/201 Training Loss: 0.124 Valid (L1): 0.111 Valid (PSNR): 17.490  Valid (SSIM): 0.508\n"
     ]
    },
    {
     "name": "stderr",
     "output_type": "stream",
     "text": [
      "100%|██████████| 67/67 [00:03<00:00, 18.79it/s]\n",
      "100%|██████████| 31/31 [00:02<00:00, 12.43it/s]\n"
     ]
    },
    {
     "name": "stdout",
     "output_type": "stream",
     "text": [
      "Epoch 26/201 Training Loss: 0.123 Valid (L1): 0.110 Valid (PSNR): 17.573  Valid (SSIM): 0.511\n"
     ]
    },
    {
     "name": "stderr",
     "output_type": "stream",
     "text": [
      "100%|██████████| 67/67 [00:03<00:00, 17.95it/s]\n",
      "100%|██████████| 31/31 [00:02<00:00, 12.43it/s]\n"
     ]
    },
    {
     "name": "stdout",
     "output_type": "stream",
     "text": [
      "Epoch 27/201 Training Loss: 0.121 Valid (L1): 0.108 Valid (PSNR): 17.715  Valid (SSIM): 0.514\n"
     ]
    },
    {
     "name": "stderr",
     "output_type": "stream",
     "text": [
      "100%|██████████| 67/67 [00:03<00:00, 18.57it/s]\n",
      "100%|██████████| 31/31 [00:02<00:00, 12.41it/s]\n"
     ]
    },
    {
     "name": "stdout",
     "output_type": "stream",
     "text": [
      "Epoch 28/201 Training Loss: 0.122 Valid (L1): 0.107 Valid (PSNR): 17.773  Valid (SSIM): 0.516\n"
     ]
    },
    {
     "name": "stderr",
     "output_type": "stream",
     "text": [
      "100%|██████████| 67/67 [00:03<00:00, 18.63it/s]\n",
      "100%|██████████| 31/31 [00:02<00:00, 12.40it/s]\n"
     ]
    },
    {
     "name": "stdout",
     "output_type": "stream",
     "text": [
      "Epoch 29/201 Training Loss: 0.121 Valid (L1): 0.106 Valid (PSNR): 17.828  Valid (SSIM): 0.519\n"
     ]
    },
    {
     "name": "stderr",
     "output_type": "stream",
     "text": [
      "100%|██████████| 67/67 [00:03<00:00, 18.45it/s]\n",
      "100%|██████████| 31/31 [00:02<00:00, 12.41it/s]\n"
     ]
    },
    {
     "name": "stdout",
     "output_type": "stream",
     "text": [
      "Epoch 30/201 Training Loss: 0.117 Valid (L1): 0.105 Valid (PSNR): 17.845  Valid (SSIM): 0.521\n"
     ]
    },
    {
     "name": "stderr",
     "output_type": "stream",
     "text": [
      "100%|██████████| 67/67 [00:03<00:00, 18.39it/s]\n",
      "100%|██████████| 31/31 [00:02<00:00, 12.42it/s]\n"
     ]
    },
    {
     "name": "stdout",
     "output_type": "stream",
     "text": [
      "Epoch 31/201 Training Loss: 0.118 Valid (L1): 0.103 Valid (PSNR): 18.002  Valid (SSIM): 0.524\n"
     ]
    },
    {
     "name": "stderr",
     "output_type": "stream",
     "text": [
      "100%|██████████| 67/67 [00:03<00:00, 18.54it/s]\n",
      "100%|██████████| 31/31 [00:02<00:00, 12.45it/s]\n"
     ]
    },
    {
     "name": "stdout",
     "output_type": "stream",
     "text": [
      "Epoch 32/201 Training Loss: 0.119 Valid (L1): 0.102 Valid (PSNR): 18.048  Valid (SSIM): 0.527\n"
     ]
    },
    {
     "name": "stderr",
     "output_type": "stream",
     "text": [
      "100%|██████████| 67/67 [00:03<00:00, 18.56it/s]\n",
      "100%|██████████| 31/31 [00:02<00:00, 12.39it/s]\n"
     ]
    },
    {
     "name": "stdout",
     "output_type": "stream",
     "text": [
      "Epoch 33/201 Training Loss: 0.116 Valid (L1): 0.100 Valid (PSNR): 18.140  Valid (SSIM): 0.530\n"
     ]
    },
    {
     "name": "stderr",
     "output_type": "stream",
     "text": [
      "100%|██████████| 67/67 [00:03<00:00, 18.58it/s]\n",
      "100%|██████████| 31/31 [00:02<00:00, 12.44it/s]\n"
     ]
    },
    {
     "name": "stdout",
     "output_type": "stream",
     "text": [
      "Epoch 34/201 Training Loss: 0.115 Valid (L1): 0.100 Valid (PSNR): 18.126  Valid (SSIM): 0.532\n"
     ]
    },
    {
     "name": "stderr",
     "output_type": "stream",
     "text": [
      "100%|██████████| 67/67 [00:03<00:00, 18.65it/s]\n",
      "100%|██████████| 31/31 [00:02<00:00, 12.42it/s]\n"
     ]
    },
    {
     "name": "stdout",
     "output_type": "stream",
     "text": [
      "Epoch 35/201 Training Loss: 0.117 Valid (L1): 0.099 Valid (PSNR): 18.202  Valid (SSIM): 0.535\n"
     ]
    },
    {
     "name": "stderr",
     "output_type": "stream",
     "text": [
      "100%|██████████| 67/67 [00:03<00:00, 18.73it/s]\n",
      "100%|██████████| 31/31 [00:02<00:00, 12.41it/s]\n"
     ]
    },
    {
     "name": "stdout",
     "output_type": "stream",
     "text": [
      "Epoch 36/201 Training Loss: 0.116 Valid (L1): 0.097 Valid (PSNR): 18.319  Valid (SSIM): 0.539\n"
     ]
    },
    {
     "name": "stderr",
     "output_type": "stream",
     "text": [
      "100%|██████████| 67/67 [00:03<00:00, 18.51it/s]\n",
      "100%|██████████| 31/31 [00:02<00:00, 12.42it/s]\n"
     ]
    },
    {
     "name": "stdout",
     "output_type": "stream",
     "text": [
      "Epoch 37/201 Training Loss: 0.106 Valid (L1): 0.096 Valid (PSNR): 18.402  Valid (SSIM): 0.542\n"
     ]
    },
    {
     "name": "stderr",
     "output_type": "stream",
     "text": [
      "100%|██████████| 67/67 [00:03<00:00, 18.58it/s]\n",
      "100%|██████████| 31/31 [00:02<00:00, 12.43it/s]\n"
     ]
    },
    {
     "name": "stdout",
     "output_type": "stream",
     "text": [
      "Epoch 38/201 Training Loss: 0.112 Valid (L1): 0.095 Valid (PSNR): 18.418  Valid (SSIM): 0.545\n"
     ]
    },
    {
     "name": "stderr",
     "output_type": "stream",
     "text": [
      "100%|██████████| 67/67 [00:03<00:00, 18.25it/s]\n",
      "100%|██████████| 31/31 [00:02<00:00, 12.41it/s]\n"
     ]
    },
    {
     "name": "stdout",
     "output_type": "stream",
     "text": [
      "Epoch 39/201 Training Loss: 0.109 Valid (L1): 0.093 Valid (PSNR): 18.530  Valid (SSIM): 0.547\n"
     ]
    },
    {
     "name": "stderr",
     "output_type": "stream",
     "text": [
      "100%|██████████| 67/67 [00:03<00:00, 18.35it/s]\n",
      "100%|██████████| 31/31 [00:02<00:00, 12.44it/s]\n"
     ]
    },
    {
     "name": "stdout",
     "output_type": "stream",
     "text": [
      "Epoch 40/201 Training Loss: 0.110 Valid (L1): 0.093 Valid (PSNR): 18.571  Valid (SSIM): 0.550\n"
     ]
    },
    {
     "name": "stderr",
     "output_type": "stream",
     "text": [
      "100%|██████████| 67/67 [00:03<00:00, 18.52it/s]\n",
      "100%|██████████| 31/31 [00:02<00:00, 12.39it/s]\n"
     ]
    },
    {
     "name": "stdout",
     "output_type": "stream",
     "text": [
      "Epoch 41/201 Training Loss: 0.106 Valid (L1): 0.092 Valid (PSNR): 18.601  Valid (SSIM): 0.552\n"
     ]
    },
    {
     "name": "stderr",
     "output_type": "stream",
     "text": [
      "100%|██████████| 67/67 [00:03<00:00, 18.49it/s]\n",
      "100%|██████████| 31/31 [00:02<00:00, 12.42it/s]\n"
     ]
    },
    {
     "name": "stdout",
     "output_type": "stream",
     "text": [
      "Epoch 42/201 Training Loss: 0.107 Valid (L1): 0.091 Valid (PSNR): 18.643  Valid (SSIM): 0.555\n"
     ]
    },
    {
     "name": "stderr",
     "output_type": "stream",
     "text": [
      "100%|██████████| 67/67 [00:03<00:00, 18.62it/s]\n",
      "100%|██████████| 31/31 [00:02<00:00, 12.44it/s]\n"
     ]
    },
    {
     "name": "stdout",
     "output_type": "stream",
     "text": [
      "Epoch 43/201 Training Loss: 0.104 Valid (L1): 0.090 Valid (PSNR): 18.703  Valid (SSIM): 0.557\n"
     ]
    },
    {
     "name": "stderr",
     "output_type": "stream",
     "text": [
      "100%|██████████| 67/67 [00:03<00:00, 18.62it/s]\n",
      "100%|██████████| 31/31 [00:02<00:00, 12.44it/s]\n"
     ]
    },
    {
     "name": "stdout",
     "output_type": "stream",
     "text": [
      "Epoch 44/201 Training Loss: 0.102 Valid (L1): 0.090 Valid (PSNR): 18.739  Valid (SSIM): 0.558\n"
     ]
    },
    {
     "name": "stderr",
     "output_type": "stream",
     "text": [
      "100%|██████████| 67/67 [00:03<00:00, 18.57it/s]\n",
      "100%|██████████| 31/31 [00:02<00:00, 12.38it/s]\n"
     ]
    },
    {
     "name": "stdout",
     "output_type": "stream",
     "text": [
      "Epoch 45/201 Training Loss: 0.105 Valid (L1): 0.090 Valid (PSNR): 18.735  Valid (SSIM): 0.560\n"
     ]
    },
    {
     "name": "stderr",
     "output_type": "stream",
     "text": [
      "100%|██████████| 67/67 [00:03<00:00, 18.39it/s]\n",
      "100%|██████████| 31/31 [00:02<00:00, 12.37it/s]\n"
     ]
    },
    {
     "name": "stdout",
     "output_type": "stream",
     "text": [
      "Epoch 46/201 Training Loss: 0.101 Valid (L1): 0.089 Valid (PSNR): 18.799  Valid (SSIM): 0.560\n"
     ]
    },
    {
     "name": "stderr",
     "output_type": "stream",
     "text": [
      "100%|██████████| 67/67 [00:03<00:00, 18.76it/s]\n",
      "100%|██████████| 31/31 [00:02<00:00, 12.41it/s]\n"
     ]
    },
    {
     "name": "stdout",
     "output_type": "stream",
     "text": [
      "Epoch 47/201 Training Loss: 0.105 Valid (L1): 0.089 Valid (PSNR): 18.802  Valid (SSIM): 0.561\n"
     ]
    },
    {
     "name": "stderr",
     "output_type": "stream",
     "text": [
      "100%|██████████| 67/67 [00:03<00:00, 18.61it/s]\n",
      "100%|██████████| 31/31 [00:02<00:00, 12.39it/s]\n"
     ]
    },
    {
     "name": "stdout",
     "output_type": "stream",
     "text": [
      "Epoch 48/201 Training Loss: 0.109 Valid (L1): 0.089 Valid (PSNR): 18.784  Valid (SSIM): 0.562\n"
     ]
    },
    {
     "name": "stderr",
     "output_type": "stream",
     "text": [
      "100%|██████████| 67/67 [00:03<00:00, 18.54it/s]\n",
      "100%|██████████| 31/31 [00:02<00:00, 12.45it/s]\n"
     ]
    },
    {
     "name": "stdout",
     "output_type": "stream",
     "text": [
      "Epoch 49/201 Training Loss: 0.106 Valid (L1): 0.088 Valid (PSNR): 18.796  Valid (SSIM): 0.563\n"
     ]
    },
    {
     "name": "stderr",
     "output_type": "stream",
     "text": [
      "100%|██████████| 67/67 [00:03<00:00, 18.63it/s]\n",
      "100%|██████████| 31/31 [00:02<00:00, 12.42it/s]\n"
     ]
    },
    {
     "name": "stdout",
     "output_type": "stream",
     "text": [
      "Epoch 50/201 Training Loss: 0.105 Valid (L1): 0.088 Valid (PSNR): 18.806  Valid (SSIM): 0.564\n"
     ]
    },
    {
     "name": "stderr",
     "output_type": "stream",
     "text": [
      "100%|██████████| 67/67 [00:03<00:00, 18.82it/s]\n",
      "100%|██████████| 31/31 [00:02<00:00, 12.43it/s]\n"
     ]
    },
    {
     "name": "stdout",
     "output_type": "stream",
     "text": [
      "Epoch 51/201 Training Loss: 0.107 Valid (L1): 0.088 Valid (PSNR): 18.834  Valid (SSIM): 0.565\n"
     ]
    },
    {
     "name": "stderr",
     "output_type": "stream",
     "text": [
      "100%|██████████| 67/67 [00:03<00:00, 18.52it/s]\n",
      "100%|██████████| 31/31 [00:02<00:00, 12.42it/s]\n"
     ]
    },
    {
     "name": "stdout",
     "output_type": "stream",
     "text": [
      "Epoch 52/201 Training Loss: 0.106 Valid (L1): 0.088 Valid (PSNR): 18.830  Valid (SSIM): 0.565\n"
     ]
    },
    {
     "name": "stderr",
     "output_type": "stream",
     "text": [
      "100%|██████████| 67/67 [00:03<00:00, 18.71it/s]\n",
      "100%|██████████| 31/31 [00:02<00:00, 12.43it/s]\n"
     ]
    },
    {
     "name": "stdout",
     "output_type": "stream",
     "text": [
      "Epoch 53/201 Training Loss: 0.108 Valid (L1): 0.088 Valid (PSNR): 18.823  Valid (SSIM): 0.566\n"
     ]
    },
    {
     "name": "stderr",
     "output_type": "stream",
     "text": [
      "100%|██████████| 67/67 [00:03<00:00, 18.48it/s]\n",
      "100%|██████████| 31/31 [00:02<00:00, 12.40it/s]\n"
     ]
    },
    {
     "name": "stdout",
     "output_type": "stream",
     "text": [
      "Epoch 54/201 Training Loss: 0.104 Valid (L1): 0.088 Valid (PSNR): 18.805  Valid (SSIM): 0.566\n"
     ]
    },
    {
     "name": "stderr",
     "output_type": "stream",
     "text": [
      "100%|██████████| 67/67 [00:03<00:00, 18.17it/s]\n",
      "100%|██████████| 31/31 [00:02<00:00, 12.44it/s]\n"
     ]
    },
    {
     "name": "stdout",
     "output_type": "stream",
     "text": [
      "Epoch 55/201 Training Loss: 0.101 Valid (L1): 0.088 Valid (PSNR): 18.857  Valid (SSIM): 0.566\n"
     ]
    },
    {
     "name": "stderr",
     "output_type": "stream",
     "text": [
      "100%|██████████| 67/67 [00:03<00:00, 18.39it/s]\n",
      "100%|██████████| 31/31 [00:02<00:00, 12.45it/s]\n"
     ]
    },
    {
     "name": "stdout",
     "output_type": "stream",
     "text": [
      "Epoch 56/201 Training Loss: 0.104 Valid (L1): 0.088 Valid (PSNR): 18.842  Valid (SSIM): 0.567\n"
     ]
    },
    {
     "name": "stderr",
     "output_type": "stream",
     "text": [
      "100%|██████████| 67/67 [00:03<00:00, 18.48it/s]\n",
      "100%|██████████| 31/31 [00:02<00:00, 12.40it/s]\n"
     ]
    },
    {
     "name": "stdout",
     "output_type": "stream",
     "text": [
      "Epoch 57/201 Training Loss: 0.106 Valid (L1): 0.088 Valid (PSNR): 18.875  Valid (SSIM): 0.567\n"
     ]
    },
    {
     "name": "stderr",
     "output_type": "stream",
     "text": [
      "100%|██████████| 67/67 [00:03<00:00, 18.78it/s]\n",
      "100%|██████████| 31/31 [00:02<00:00, 12.39it/s]\n"
     ]
    },
    {
     "name": "stdout",
     "output_type": "stream",
     "text": [
      "Epoch 58/201 Training Loss: 0.105 Valid (L1): 0.088 Valid (PSNR): 18.852  Valid (SSIM): 0.568\n"
     ]
    },
    {
     "name": "stderr",
     "output_type": "stream",
     "text": [
      "100%|██████████| 67/67 [00:03<00:00, 18.87it/s]\n",
      "100%|██████████| 31/31 [00:02<00:00, 12.42it/s]\n"
     ]
    },
    {
     "name": "stdout",
     "output_type": "stream",
     "text": [
      "Epoch 59/201 Training Loss: 0.110 Valid (L1): 0.088 Valid (PSNR): 18.831  Valid (SSIM): 0.568\n"
     ]
    },
    {
     "name": "stderr",
     "output_type": "stream",
     "text": [
      "100%|██████████| 67/67 [00:03<00:00, 18.58it/s]\n",
      "100%|██████████| 31/31 [00:02<00:00, 12.44it/s]\n"
     ]
    },
    {
     "name": "stdout",
     "output_type": "stream",
     "text": [
      "Epoch 60/201 Training Loss: 0.106 Valid (L1): 0.087 Valid (PSNR): 18.893  Valid (SSIM): 0.568\n"
     ]
    },
    {
     "name": "stderr",
     "output_type": "stream",
     "text": [
      "100%|██████████| 67/67 [00:03<00:00, 18.58it/s]\n",
      "100%|██████████| 31/31 [00:02<00:00, 12.41it/s]\n"
     ]
    },
    {
     "name": "stdout",
     "output_type": "stream",
     "text": [
      "Epoch 61/201 Training Loss: 0.104 Valid (L1): 0.087 Valid (PSNR): 18.904  Valid (SSIM): 0.568\n"
     ]
    },
    {
     "name": "stderr",
     "output_type": "stream",
     "text": [
      "100%|██████████| 67/67 [00:03<00:00, 18.67it/s]\n",
      "100%|██████████| 31/31 [00:02<00:00, 12.41it/s]\n"
     ]
    },
    {
     "name": "stdout",
     "output_type": "stream",
     "text": [
      "Epoch 62/201 Training Loss: 0.103 Valid (L1): 0.088 Valid (PSNR): 18.853  Valid (SSIM): 0.569\n"
     ]
    },
    {
     "name": "stderr",
     "output_type": "stream",
     "text": [
      "100%|██████████| 67/67 [00:03<00:00, 18.89it/s]\n",
      "100%|██████████| 31/31 [00:02<00:00, 12.39it/s]\n"
     ]
    },
    {
     "name": "stdout",
     "output_type": "stream",
     "text": [
      "Epoch 63/201 Training Loss: 0.104 Valid (L1): 0.087 Valid (PSNR): 18.902  Valid (SSIM): 0.569\n"
     ]
    },
    {
     "name": "stderr",
     "output_type": "stream",
     "text": [
      "100%|██████████| 67/67 [00:03<00:00, 18.27it/s]\n",
      "100%|██████████| 31/31 [00:02<00:00, 12.40it/s]\n"
     ]
    },
    {
     "name": "stdout",
     "output_type": "stream",
     "text": [
      "Epoch 64/201 Training Loss: 0.101 Valid (L1): 0.087 Valid (PSNR): 18.895  Valid (SSIM): 0.569\n"
     ]
    },
    {
     "name": "stderr",
     "output_type": "stream",
     "text": [
      "100%|██████████| 67/67 [00:03<00:00, 18.24it/s]\n",
      "100%|██████████| 31/31 [00:02<00:00, 12.44it/s]\n"
     ]
    },
    {
     "name": "stdout",
     "output_type": "stream",
     "text": [
      "Epoch 65/201 Training Loss: 0.107 Valid (L1): 0.087 Valid (PSNR): 18.898  Valid (SSIM): 0.569\n"
     ]
    },
    {
     "name": "stderr",
     "output_type": "stream",
     "text": [
      "100%|██████████| 67/67 [00:03<00:00, 18.47it/s]\n",
      "100%|██████████| 31/31 [00:02<00:00, 12.40it/s]\n"
     ]
    },
    {
     "name": "stdout",
     "output_type": "stream",
     "text": [
      "Epoch 66/201 Training Loss: 0.103 Valid (L1): 0.087 Valid (PSNR): 18.904  Valid (SSIM): 0.569\n"
     ]
    },
    {
     "name": "stderr",
     "output_type": "stream",
     "text": [
      "100%|██████████| 67/67 [00:03<00:00, 18.85it/s]\n",
      "100%|██████████| 31/31 [00:02<00:00, 12.39it/s]\n"
     ]
    },
    {
     "name": "stdout",
     "output_type": "stream",
     "text": [
      "Epoch 67/201 Training Loss: 0.100 Valid (L1): 0.087 Valid (PSNR): 18.896  Valid (SSIM): 0.570\n"
     ]
    },
    {
     "name": "stderr",
     "output_type": "stream",
     "text": [
      "100%|██████████| 67/67 [00:03<00:00, 18.92it/s]\n",
      "100%|██████████| 31/31 [00:02<00:00, 12.45it/s]\n"
     ]
    },
    {
     "name": "stdout",
     "output_type": "stream",
     "text": [
      "Epoch 68/201 Training Loss: 0.101 Valid (L1): 0.087 Valid (PSNR): 18.946  Valid (SSIM): 0.569\n"
     ]
    },
    {
     "name": "stderr",
     "output_type": "stream",
     "text": [
      "100%|██████████| 67/67 [00:03<00:00, 18.20it/s]\n",
      "100%|██████████| 31/31 [00:02<00:00, 12.41it/s]\n"
     ]
    },
    {
     "name": "stdout",
     "output_type": "stream",
     "text": [
      "Epoch 69/201 Training Loss: 0.103 Valid (L1): 0.087 Valid (PSNR): 18.918  Valid (SSIM): 0.570\n"
     ]
    },
    {
     "name": "stderr",
     "output_type": "stream",
     "text": [
      "100%|██████████| 67/67 [00:03<00:00, 18.54it/s]\n",
      "100%|██████████| 31/31 [00:02<00:00, 12.40it/s]\n"
     ]
    },
    {
     "name": "stdout",
     "output_type": "stream",
     "text": [
      "Epoch 70/201 Training Loss: 0.105 Valid (L1): 0.088 Valid (PSNR): 18.834  Valid (SSIM): 0.571\n"
     ]
    },
    {
     "name": "stderr",
     "output_type": "stream",
     "text": [
      "100%|██████████| 67/67 [00:03<00:00, 18.43it/s]\n",
      "100%|██████████| 31/31 [00:02<00:00, 12.45it/s]\n"
     ]
    },
    {
     "name": "stdout",
     "output_type": "stream",
     "text": [
      "Epoch 71/201 Training Loss: 0.102 Valid (L1): 0.087 Valid (PSNR): 18.911  Valid (SSIM): 0.571\n"
     ]
    },
    {
     "name": "stderr",
     "output_type": "stream",
     "text": [
      "100%|██████████| 67/67 [00:03<00:00, 18.37it/s]\n",
      "100%|██████████| 31/31 [00:02<00:00, 12.42it/s]\n"
     ]
    },
    {
     "name": "stdout",
     "output_type": "stream",
     "text": [
      "Epoch 72/201 Training Loss: 0.105 Valid (L1): 0.087 Valid (PSNR): 18.905  Valid (SSIM): 0.571\n"
     ]
    },
    {
     "name": "stderr",
     "output_type": "stream",
     "text": [
      "100%|██████████| 67/67 [00:03<00:00, 18.64it/s]\n",
      "100%|██████████| 31/31 [00:02<00:00, 12.40it/s]\n"
     ]
    },
    {
     "name": "stdout",
     "output_type": "stream",
     "text": [
      "Epoch 73/201 Training Loss: 0.106 Valid (L1): 0.087 Valid (PSNR): 18.979  Valid (SSIM): 0.571\n"
     ]
    },
    {
     "name": "stderr",
     "output_type": "stream",
     "text": [
      "100%|██████████| 67/67 [00:03<00:00, 18.59it/s]\n",
      "100%|██████████| 31/31 [00:02<00:00, 12.40it/s]\n"
     ]
    },
    {
     "name": "stdout",
     "output_type": "stream",
     "text": [
      "Epoch 74/201 Training Loss: 0.102 Valid (L1): 0.087 Valid (PSNR): 18.985  Valid (SSIM): 0.571\n"
     ]
    },
    {
     "name": "stderr",
     "output_type": "stream",
     "text": [
      "100%|██████████| 67/67 [00:03<00:00, 18.69it/s]\n",
      "100%|██████████| 31/31 [00:02<00:00, 12.40it/s]\n"
     ]
    },
    {
     "name": "stdout",
     "output_type": "stream",
     "text": [
      "Epoch 75/201 Training Loss: 0.100 Valid (L1): 0.087 Valid (PSNR): 18.962  Valid (SSIM): 0.572\n"
     ]
    },
    {
     "name": "stderr",
     "output_type": "stream",
     "text": [
      "100%|██████████| 67/67 [00:03<00:00, 18.37it/s]\n",
      "100%|██████████| 31/31 [00:02<00:00, 12.40it/s]\n"
     ]
    },
    {
     "name": "stdout",
     "output_type": "stream",
     "text": [
      "Epoch 76/201 Training Loss: 0.103 Valid (L1): 0.087 Valid (PSNR): 18.937  Valid (SSIM): 0.572\n"
     ]
    },
    {
     "name": "stderr",
     "output_type": "stream",
     "text": [
      "100%|██████████| 67/67 [00:03<00:00, 18.72it/s]\n",
      "100%|██████████| 31/31 [00:02<00:00, 12.41it/s]\n"
     ]
    },
    {
     "name": "stdout",
     "output_type": "stream",
     "text": [
      "Epoch 77/201 Training Loss: 0.101 Valid (L1): 0.087 Valid (PSNR): 18.981  Valid (SSIM): 0.572\n"
     ]
    },
    {
     "name": "stderr",
     "output_type": "stream",
     "text": [
      "100%|██████████| 67/67 [00:03<00:00, 17.68it/s]\n",
      "100%|██████████| 31/31 [00:02<00:00, 12.46it/s]\n"
     ]
    },
    {
     "name": "stdout",
     "output_type": "stream",
     "text": [
      "Epoch 78/201 Training Loss: 0.104 Valid (L1): 0.087 Valid (PSNR): 18.984  Valid (SSIM): 0.572\n"
     ]
    },
    {
     "name": "stderr",
     "output_type": "stream",
     "text": [
      "100%|██████████| 67/67 [00:03<00:00, 18.71it/s]\n",
      "100%|██████████| 31/31 [00:02<00:00, 12.40it/s]\n"
     ]
    },
    {
     "name": "stdout",
     "output_type": "stream",
     "text": [
      "Epoch 79/201 Training Loss: 0.104 Valid (L1): 0.087 Valid (PSNR): 18.934  Valid (SSIM): 0.573\n"
     ]
    },
    {
     "name": "stderr",
     "output_type": "stream",
     "text": [
      "100%|██████████| 67/67 [00:03<00:00, 18.42it/s]\n",
      "100%|██████████| 31/31 [00:02<00:00, 12.38it/s]\n"
     ]
    },
    {
     "name": "stdout",
     "output_type": "stream",
     "text": [
      "Epoch 80/201 Training Loss: 0.100 Valid (L1): 0.087 Valid (PSNR): 18.953  Valid (SSIM): 0.573\n"
     ]
    },
    {
     "name": "stderr",
     "output_type": "stream",
     "text": [
      "100%|██████████| 67/67 [00:03<00:00, 18.68it/s]\n",
      "100%|██████████| 31/31 [00:02<00:00, 12.36it/s]\n"
     ]
    },
    {
     "name": "stdout",
     "output_type": "stream",
     "text": [
      "Epoch 81/201 Training Loss: 0.104 Valid (L1): 0.087 Valid (PSNR): 18.979  Valid (SSIM): 0.573\n"
     ]
    },
    {
     "name": "stderr",
     "output_type": "stream",
     "text": [
      "100%|██████████| 67/67 [00:03<00:00, 18.40it/s]\n",
      "100%|██████████| 31/31 [00:02<00:00, 12.38it/s]\n"
     ]
    },
    {
     "name": "stdout",
     "output_type": "stream",
     "text": [
      "Epoch 82/201 Training Loss: 0.102 Valid (L1): 0.087 Valid (PSNR): 18.988  Valid (SSIM): 0.573\n"
     ]
    },
    {
     "name": "stderr",
     "output_type": "stream",
     "text": [
      "100%|██████████| 67/67 [00:03<00:00, 18.47it/s]\n",
      "100%|██████████| 31/31 [00:02<00:00, 12.42it/s]\n"
     ]
    },
    {
     "name": "stdout",
     "output_type": "stream",
     "text": [
      "Epoch 83/201 Training Loss: 0.100 Valid (L1): 0.086 Valid (PSNR): 18.997  Valid (SSIM): 0.573\n"
     ]
    },
    {
     "name": "stderr",
     "output_type": "stream",
     "text": [
      "100%|██████████| 67/67 [00:03<00:00, 18.45it/s]\n",
      "100%|██████████| 31/31 [00:02<00:00, 12.46it/s]\n"
     ]
    },
    {
     "name": "stdout",
     "output_type": "stream",
     "text": [
      "Epoch 84/201 Training Loss: 0.102 Valid (L1): 0.087 Valid (PSNR): 18.947  Valid (SSIM): 0.574\n"
     ]
    },
    {
     "name": "stderr",
     "output_type": "stream",
     "text": [
      "100%|██████████| 67/67 [00:03<00:00, 18.33it/s]\n",
      "100%|██████████| 31/31 [00:02<00:00, 12.37it/s]\n"
     ]
    },
    {
     "name": "stdout",
     "output_type": "stream",
     "text": [
      "Epoch 85/201 Training Loss: 0.102 Valid (L1): 0.086 Valid (PSNR): 19.001  Valid (SSIM): 0.574\n"
     ]
    },
    {
     "name": "stderr",
     "output_type": "stream",
     "text": [
      "100%|██████████| 67/67 [00:03<00:00, 18.69it/s]\n",
      "100%|██████████| 31/31 [00:02<00:00, 12.40it/s]\n"
     ]
    },
    {
     "name": "stdout",
     "output_type": "stream",
     "text": [
      "Epoch 86/201 Training Loss: 0.104 Valid (L1): 0.087 Valid (PSNR): 18.963  Valid (SSIM): 0.574\n"
     ]
    },
    {
     "name": "stderr",
     "output_type": "stream",
     "text": [
      "100%|██████████| 67/67 [00:03<00:00, 18.41it/s]\n",
      "100%|██████████| 31/31 [00:02<00:00, 12.42it/s]\n"
     ]
    },
    {
     "name": "stdout",
     "output_type": "stream",
     "text": [
      "Epoch 87/201 Training Loss: 0.107 Valid (L1): 0.087 Valid (PSNR): 18.976  Valid (SSIM): 0.574\n"
     ]
    },
    {
     "name": "stderr",
     "output_type": "stream",
     "text": [
      "100%|██████████| 67/67 [00:03<00:00, 18.10it/s]\n",
      "100%|██████████| 31/31 [00:02<00:00, 12.42it/s]\n"
     ]
    },
    {
     "name": "stdout",
     "output_type": "stream",
     "text": [
      "Epoch 88/201 Training Loss: 0.102 Valid (L1): 0.086 Valid (PSNR): 19.009  Valid (SSIM): 0.575\n"
     ]
    },
    {
     "name": "stderr",
     "output_type": "stream",
     "text": [
      "100%|██████████| 67/67 [00:03<00:00, 18.83it/s]\n",
      "100%|██████████| 31/31 [00:02<00:00, 12.41it/s]\n"
     ]
    },
    {
     "name": "stdout",
     "output_type": "stream",
     "text": [
      "Epoch 89/201 Training Loss: 0.103 Valid (L1): 0.086 Valid (PSNR): 19.027  Valid (SSIM): 0.575\n"
     ]
    },
    {
     "name": "stderr",
     "output_type": "stream",
     "text": [
      "100%|██████████| 67/67 [00:03<00:00, 18.63it/s]\n",
      "100%|██████████| 31/31 [00:02<00:00, 12.36it/s]\n"
     ]
    },
    {
     "name": "stdout",
     "output_type": "stream",
     "text": [
      "Epoch 90/201 Training Loss: 0.099 Valid (L1): 0.086 Valid (PSNR): 19.044  Valid (SSIM): 0.575\n"
     ]
    },
    {
     "name": "stderr",
     "output_type": "stream",
     "text": [
      "100%|██████████| 67/67 [00:03<00:00, 18.67it/s]\n",
      "100%|██████████| 31/31 [00:02<00:00, 12.45it/s]\n"
     ]
    },
    {
     "name": "stdout",
     "output_type": "stream",
     "text": [
      "Epoch 91/201 Training Loss: 0.100 Valid (L1): 0.087 Valid (PSNR): 18.990  Valid (SSIM): 0.576\n"
     ]
    },
    {
     "name": "stderr",
     "output_type": "stream",
     "text": [
      "100%|██████████| 67/67 [00:03<00:00, 18.53it/s]\n",
      "100%|██████████| 31/31 [00:02<00:00, 12.41it/s]\n"
     ]
    },
    {
     "name": "stdout",
     "output_type": "stream",
     "text": [
      "Epoch 92/201 Training Loss: 0.102 Valid (L1): 0.086 Valid (PSNR): 19.004  Valid (SSIM): 0.575\n"
     ]
    },
    {
     "name": "stderr",
     "output_type": "stream",
     "text": [
      "100%|██████████| 67/67 [00:03<00:00, 18.40it/s]\n",
      "100%|██████████| 31/31 [00:02<00:00, 12.42it/s]\n"
     ]
    },
    {
     "name": "stdout",
     "output_type": "stream",
     "text": [
      "Epoch 93/201 Training Loss: 0.095 Valid (L1): 0.086 Valid (PSNR): 19.039  Valid (SSIM): 0.575\n"
     ]
    },
    {
     "name": "stderr",
     "output_type": "stream",
     "text": [
      "100%|██████████| 67/67 [00:03<00:00, 18.91it/s]\n",
      "100%|██████████| 31/31 [00:02<00:00, 12.40it/s]\n"
     ]
    },
    {
     "name": "stdout",
     "output_type": "stream",
     "text": [
      "Epoch 94/201 Training Loss: 0.101 Valid (L1): 0.086 Valid (PSNR): 19.042  Valid (SSIM): 0.576\n"
     ]
    },
    {
     "name": "stderr",
     "output_type": "stream",
     "text": [
      "100%|██████████| 67/67 [00:03<00:00, 18.85it/s]\n",
      "100%|██████████| 31/31 [00:02<00:00, 12.38it/s]\n"
     ]
    },
    {
     "name": "stdout",
     "output_type": "stream",
     "text": [
      "Epoch 95/201 Training Loss: 0.103 Valid (L1): 0.086 Valid (PSNR): 19.012  Valid (SSIM): 0.576\n"
     ]
    },
    {
     "name": "stderr",
     "output_type": "stream",
     "text": [
      "100%|██████████| 67/67 [00:03<00:00, 18.87it/s]\n",
      "100%|██████████| 31/31 [00:02<00:00, 12.39it/s]\n"
     ]
    },
    {
     "name": "stdout",
     "output_type": "stream",
     "text": [
      "Epoch 96/201 Training Loss: 0.101 Valid (L1): 0.086 Valid (PSNR): 19.042  Valid (SSIM): 0.576\n"
     ]
    },
    {
     "name": "stderr",
     "output_type": "stream",
     "text": [
      "100%|██████████| 67/67 [00:03<00:00, 18.49it/s]\n",
      "100%|██████████| 31/31 [00:02<00:00, 12.43it/s]\n"
     ]
    },
    {
     "name": "stdout",
     "output_type": "stream",
     "text": [
      "Epoch 97/201 Training Loss: 0.103 Valid (L1): 0.086 Valid (PSNR): 19.061  Valid (SSIM): 0.576\n"
     ]
    },
    {
     "name": "stderr",
     "output_type": "stream",
     "text": [
      "100%|██████████| 67/67 [00:03<00:00, 18.33it/s]\n",
      "100%|██████████| 31/31 [00:02<00:00, 12.39it/s]\n"
     ]
    },
    {
     "name": "stdout",
     "output_type": "stream",
     "text": [
      "Epoch 98/201 Training Loss: 0.101 Valid (L1): 0.086 Valid (PSNR): 19.081  Valid (SSIM): 0.576\n"
     ]
    },
    {
     "name": "stderr",
     "output_type": "stream",
     "text": [
      "100%|██████████| 67/67 [00:03<00:00, 18.78it/s]\n",
      "100%|██████████| 31/31 [00:02<00:00, 12.41it/s]\n"
     ]
    },
    {
     "name": "stdout",
     "output_type": "stream",
     "text": [
      "Epoch 99/201 Training Loss: 0.099 Valid (L1): 0.086 Valid (PSNR): 19.038  Valid (SSIM): 0.577\n"
     ]
    },
    {
     "name": "stderr",
     "output_type": "stream",
     "text": [
      "100%|██████████| 67/67 [00:03<00:00, 18.51it/s]\n",
      "100%|██████████| 31/31 [00:02<00:00, 12.39it/s]\n"
     ]
    },
    {
     "name": "stdout",
     "output_type": "stream",
     "text": [
      "Epoch 100/201 Training Loss: 0.097 Valid (L1): 0.086 Valid (PSNR): 19.049  Valid (SSIM): 0.577\n"
     ]
    },
    {
     "name": "stderr",
     "output_type": "stream",
     "text": [
      "100%|██████████| 67/67 [00:03<00:00, 18.54it/s]\n",
      "100%|██████████| 31/31 [00:02<00:00, 12.46it/s]\n"
     ]
    },
    {
     "name": "stdout",
     "output_type": "stream",
     "text": [
      "Epoch 101/201 Training Loss: 0.103 Valid (L1): 0.086 Valid (PSNR): 19.077  Valid (SSIM): 0.578\n"
     ]
    },
    {
     "name": "stderr",
     "output_type": "stream",
     "text": [
      "100%|██████████| 67/67 [00:03<00:00, 18.26it/s]\n",
      "100%|██████████| 31/31 [00:02<00:00, 12.46it/s]\n"
     ]
    },
    {
     "name": "stdout",
     "output_type": "stream",
     "text": [
      "Epoch 102/201 Training Loss: 0.100 Valid (L1): 0.086 Valid (PSNR): 19.075  Valid (SSIM): 0.578\n"
     ]
    },
    {
     "name": "stderr",
     "output_type": "stream",
     "text": [
      "100%|██████████| 67/67 [00:03<00:00, 18.20it/s]\n",
      "100%|██████████| 31/31 [00:02<00:00, 12.42it/s]\n"
     ]
    },
    {
     "name": "stdout",
     "output_type": "stream",
     "text": [
      "Epoch 103/201 Training Loss: 0.101 Valid (L1): 0.086 Valid (PSNR): 19.097  Valid (SSIM): 0.578\n"
     ]
    },
    {
     "name": "stderr",
     "output_type": "stream",
     "text": [
      "100%|██████████| 67/67 [00:03<00:00, 18.37it/s]\n",
      "100%|██████████| 31/31 [00:02<00:00, 12.45it/s]\n"
     ]
    },
    {
     "name": "stdout",
     "output_type": "stream",
     "text": [
      "Epoch 104/201 Training Loss: 0.101 Valid (L1): 0.086 Valid (PSNR): 19.081  Valid (SSIM): 0.579\n"
     ]
    },
    {
     "name": "stderr",
     "output_type": "stream",
     "text": [
      "100%|██████████| 67/67 [00:03<00:00, 18.56it/s]\n",
      "100%|██████████| 31/31 [00:02<00:00, 12.45it/s]\n"
     ]
    },
    {
     "name": "stdout",
     "output_type": "stream",
     "text": [
      "Epoch 105/201 Training Loss: 0.099 Valid (L1): 0.086 Valid (PSNR): 19.094  Valid (SSIM): 0.579\n"
     ]
    },
    {
     "name": "stderr",
     "output_type": "stream",
     "text": [
      "100%|██████████| 67/67 [00:03<00:00, 18.76it/s]\n",
      "100%|██████████| 31/31 [00:02<00:00, 12.38it/s]\n"
     ]
    },
    {
     "name": "stdout",
     "output_type": "stream",
     "text": [
      "Epoch 106/201 Training Loss: 0.101 Valid (L1): 0.086 Valid (PSNR): 19.084  Valid (SSIM): 0.579\n"
     ]
    },
    {
     "name": "stderr",
     "output_type": "stream",
     "text": [
      "100%|██████████| 67/67 [00:03<00:00, 18.58it/s]\n",
      "100%|██████████| 31/31 [00:02<00:00, 12.41it/s]\n"
     ]
    },
    {
     "name": "stdout",
     "output_type": "stream",
     "text": [
      "Epoch 107/201 Training Loss: 0.098 Valid (L1): 0.086 Valid (PSNR): 19.064  Valid (SSIM): 0.580\n"
     ]
    },
    {
     "name": "stderr",
     "output_type": "stream",
     "text": [
      "100%|██████████| 67/67 [00:03<00:00, 18.56it/s]\n",
      "100%|██████████| 31/31 [00:02<00:00, 12.43it/s]\n"
     ]
    },
    {
     "name": "stdout",
     "output_type": "stream",
     "text": [
      "Epoch 108/201 Training Loss: 0.098 Valid (L1): 0.085 Valid (PSNR): 19.133  Valid (SSIM): 0.580\n"
     ]
    },
    {
     "name": "stderr",
     "output_type": "stream",
     "text": [
      "100%|██████████| 67/67 [00:03<00:00, 18.01it/s]\n",
      "100%|██████████| 31/31 [00:02<00:00, 12.45it/s]\n"
     ]
    },
    {
     "name": "stdout",
     "output_type": "stream",
     "text": [
      "Epoch 109/201 Training Loss: 0.098 Valid (L1): 0.085 Valid (PSNR): 19.121  Valid (SSIM): 0.580\n"
     ]
    },
    {
     "name": "stderr",
     "output_type": "stream",
     "text": [
      "100%|██████████| 67/67 [00:03<00:00, 18.68it/s]\n",
      "100%|██████████| 31/31 [00:02<00:00, 12.39it/s]\n"
     ]
    },
    {
     "name": "stdout",
     "output_type": "stream",
     "text": [
      "Epoch 110/201 Training Loss: 0.101 Valid (L1): 0.085 Valid (PSNR): 19.143  Valid (SSIM): 0.580\n"
     ]
    },
    {
     "name": "stderr",
     "output_type": "stream",
     "text": [
      "100%|██████████| 67/67 [00:03<00:00, 18.65it/s]\n",
      "100%|██████████| 31/31 [00:02<00:00, 12.42it/s]\n"
     ]
    },
    {
     "name": "stdout",
     "output_type": "stream",
     "text": [
      "Epoch 111/201 Training Loss: 0.098 Valid (L1): 0.085 Valid (PSNR): 19.153  Valid (SSIM): 0.580\n"
     ]
    },
    {
     "name": "stderr",
     "output_type": "stream",
     "text": [
      "100%|██████████| 67/67 [00:03<00:00, 18.82it/s]\n",
      "100%|██████████| 31/31 [00:02<00:00, 12.42it/s]\n"
     ]
    },
    {
     "name": "stdout",
     "output_type": "stream",
     "text": [
      "Epoch 112/201 Training Loss: 0.095 Valid (L1): 0.085 Valid (PSNR): 19.153  Valid (SSIM): 0.581\n"
     ]
    },
    {
     "name": "stderr",
     "output_type": "stream",
     "text": [
      "100%|██████████| 67/67 [00:03<00:00, 18.44it/s]\n",
      "100%|██████████| 31/31 [00:02<00:00, 12.38it/s]\n"
     ]
    },
    {
     "name": "stdout",
     "output_type": "stream",
     "text": [
      "Epoch 113/201 Training Loss: 0.102 Valid (L1): 0.086 Valid (PSNR): 19.078  Valid (SSIM): 0.582\n"
     ]
    },
    {
     "name": "stderr",
     "output_type": "stream",
     "text": [
      "100%|██████████| 67/67 [00:03<00:00, 19.00it/s]\n",
      "100%|██████████| 31/31 [00:02<00:00, 12.39it/s]\n"
     ]
    },
    {
     "name": "stdout",
     "output_type": "stream",
     "text": [
      "Epoch 114/201 Training Loss: 0.102 Valid (L1): 0.085 Valid (PSNR): 19.152  Valid (SSIM): 0.582\n"
     ]
    },
    {
     "name": "stderr",
     "output_type": "stream",
     "text": [
      "100%|██████████| 67/67 [00:03<00:00, 18.45it/s]\n",
      "100%|██████████| 31/31 [00:02<00:00, 12.32it/s]\n"
     ]
    },
    {
     "name": "stdout",
     "output_type": "stream",
     "text": [
      "Epoch 115/201 Training Loss: 0.096 Valid (L1): 0.086 Valid (PSNR): 19.124  Valid (SSIM): 0.583\n"
     ]
    },
    {
     "name": "stderr",
     "output_type": "stream",
     "text": [
      "100%|██████████| 67/67 [00:03<00:00, 18.51it/s]\n",
      "100%|██████████| 31/31 [00:02<00:00, 12.41it/s]\n"
     ]
    },
    {
     "name": "stdout",
     "output_type": "stream",
     "text": [
      "Epoch 116/201 Training Loss: 0.102 Valid (L1): 0.085 Valid (PSNR): 19.150  Valid (SSIM): 0.582\n"
     ]
    },
    {
     "name": "stderr",
     "output_type": "stream",
     "text": [
      "100%|██████████| 67/67 [00:03<00:00, 18.40it/s]\n",
      "100%|██████████| 31/31 [00:02<00:00, 12.36it/s]\n"
     ]
    },
    {
     "name": "stdout",
     "output_type": "stream",
     "text": [
      "Epoch 117/201 Training Loss: 0.095 Valid (L1): 0.085 Valid (PSNR): 19.151  Valid (SSIM): 0.582\n"
     ]
    },
    {
     "name": "stderr",
     "output_type": "stream",
     "text": [
      "100%|██████████| 67/67 [00:03<00:00, 18.79it/s]\n",
      "100%|██████████| 31/31 [00:02<00:00, 12.44it/s]\n"
     ]
    },
    {
     "name": "stdout",
     "output_type": "stream",
     "text": [
      "Epoch 118/201 Training Loss: 0.100 Valid (L1): 0.085 Valid (PSNR): 19.134  Valid (SSIM): 0.584\n"
     ]
    },
    {
     "name": "stderr",
     "output_type": "stream",
     "text": [
      "100%|██████████| 67/67 [00:03<00:00, 18.44it/s]\n",
      "100%|██████████| 31/31 [00:02<00:00, 12.37it/s]\n"
     ]
    },
    {
     "name": "stdout",
     "output_type": "stream",
     "text": [
      "Epoch 119/201 Training Loss: 0.101 Valid (L1): 0.085 Valid (PSNR): 19.145  Valid (SSIM): 0.583\n"
     ]
    },
    {
     "name": "stderr",
     "output_type": "stream",
     "text": [
      "100%|██████████| 67/67 [00:03<00:00, 18.48it/s]\n",
      "100%|██████████| 31/31 [00:02<00:00, 12.39it/s]\n"
     ]
    },
    {
     "name": "stdout",
     "output_type": "stream",
     "text": [
      "Epoch 120/201 Training Loss: 0.101 Valid (L1): 0.085 Valid (PSNR): 19.195  Valid (SSIM): 0.583\n"
     ]
    },
    {
     "name": "stderr",
     "output_type": "stream",
     "text": [
      "100%|██████████| 67/67 [00:03<00:00, 18.50it/s]\n",
      "100%|██████████| 31/31 [00:02<00:00, 12.43it/s]\n"
     ]
    },
    {
     "name": "stdout",
     "output_type": "stream",
     "text": [
      "Epoch 121/201 Training Loss: 0.098 Valid (L1): 0.085 Valid (PSNR): 19.180  Valid (SSIM): 0.584\n"
     ]
    },
    {
     "name": "stderr",
     "output_type": "stream",
     "text": [
      "100%|██████████| 67/67 [00:03<00:00, 18.06it/s]\n",
      "100%|██████████| 31/31 [00:02<00:00, 12.42it/s]\n"
     ]
    },
    {
     "name": "stdout",
     "output_type": "stream",
     "text": [
      "Epoch 122/201 Training Loss: 0.095 Valid (L1): 0.085 Valid (PSNR): 19.192  Valid (SSIM): 0.584\n"
     ]
    },
    {
     "name": "stderr",
     "output_type": "stream",
     "text": [
      "100%|██████████| 67/67 [00:03<00:00, 18.36it/s]\n",
      "100%|██████████| 31/31 [00:02<00:00, 12.39it/s]\n"
     ]
    },
    {
     "name": "stdout",
     "output_type": "stream",
     "text": [
      "Epoch 123/201 Training Loss: 0.099 Valid (L1): 0.085 Valid (PSNR): 19.203  Valid (SSIM): 0.584\n"
     ]
    },
    {
     "name": "stderr",
     "output_type": "stream",
     "text": [
      "100%|██████████| 67/67 [00:03<00:00, 18.72it/s]\n",
      "100%|██████████| 31/31 [00:02<00:00, 12.37it/s]\n"
     ]
    },
    {
     "name": "stdout",
     "output_type": "stream",
     "text": [
      "Epoch 124/201 Training Loss: 0.098 Valid (L1): 0.085 Valid (PSNR): 19.193  Valid (SSIM): 0.584\n"
     ]
    },
    {
     "name": "stderr",
     "output_type": "stream",
     "text": [
      "100%|██████████| 67/67 [00:03<00:00, 18.53it/s]\n",
      "100%|██████████| 31/31 [00:02<00:00, 12.43it/s]\n"
     ]
    },
    {
     "name": "stdout",
     "output_type": "stream",
     "text": [
      "Epoch 125/201 Training Loss: 0.099 Valid (L1): 0.085 Valid (PSNR): 19.195  Valid (SSIM): 0.585\n"
     ]
    },
    {
     "name": "stderr",
     "output_type": "stream",
     "text": [
      "100%|██████████| 67/67 [00:03<00:00, 18.82it/s]\n",
      "100%|██████████| 31/31 [00:02<00:00, 12.41it/s]\n"
     ]
    },
    {
     "name": "stdout",
     "output_type": "stream",
     "text": [
      "Epoch 126/201 Training Loss: 0.096 Valid (L1): 0.085 Valid (PSNR): 19.184  Valid (SSIM): 0.585\n"
     ]
    },
    {
     "name": "stderr",
     "output_type": "stream",
     "text": [
      "100%|██████████| 67/67 [00:03<00:00, 18.48it/s]\n",
      "100%|██████████| 31/31 [00:02<00:00, 12.45it/s]\n"
     ]
    },
    {
     "name": "stdout",
     "output_type": "stream",
     "text": [
      "Epoch 127/201 Training Loss: 0.098 Valid (L1): 0.085 Valid (PSNR): 19.211  Valid (SSIM): 0.585\n"
     ]
    },
    {
     "name": "stderr",
     "output_type": "stream",
     "text": [
      "100%|██████████| 67/67 [00:03<00:00, 18.61it/s]\n",
      "100%|██████████| 31/31 [00:02<00:00, 12.44it/s]\n"
     ]
    },
    {
     "name": "stdout",
     "output_type": "stream",
     "text": [
      "Epoch 128/201 Training Loss: 0.094 Valid (L1): 0.085 Valid (PSNR): 19.170  Valid (SSIM): 0.586\n"
     ]
    },
    {
     "name": "stderr",
     "output_type": "stream",
     "text": [
      "100%|██████████| 67/67 [00:03<00:00, 18.50it/s]\n",
      "100%|██████████| 31/31 [00:02<00:00, 12.45it/s]\n"
     ]
    },
    {
     "name": "stdout",
     "output_type": "stream",
     "text": [
      "Epoch 129/201 Training Loss: 0.096 Valid (L1): 0.085 Valid (PSNR): 19.190  Valid (SSIM): 0.587\n"
     ]
    },
    {
     "name": "stderr",
     "output_type": "stream",
     "text": [
      "100%|██████████| 67/67 [00:03<00:00, 18.45it/s]\n",
      "100%|██████████| 31/31 [00:02<00:00, 12.46it/s]\n"
     ]
    },
    {
     "name": "stdout",
     "output_type": "stream",
     "text": [
      "Epoch 130/201 Training Loss: 0.095 Valid (L1): 0.085 Valid (PSNR): 19.233  Valid (SSIM): 0.586\n"
     ]
    },
    {
     "name": "stderr",
     "output_type": "stream",
     "text": [
      "100%|██████████| 67/67 [00:03<00:00, 18.86it/s]\n",
      "100%|██████████| 31/31 [00:02<00:00, 12.44it/s]\n"
     ]
    },
    {
     "name": "stdout",
     "output_type": "stream",
     "text": [
      "Epoch 131/201 Training Loss: 0.100 Valid (L1): 0.085 Valid (PSNR): 19.224  Valid (SSIM): 0.586\n"
     ]
    },
    {
     "name": "stderr",
     "output_type": "stream",
     "text": [
      "100%|██████████| 67/67 [00:03<00:00, 18.37it/s]\n",
      "100%|██████████| 31/31 [00:02<00:00, 12.44it/s]\n"
     ]
    },
    {
     "name": "stdout",
     "output_type": "stream",
     "text": [
      "Epoch 132/201 Training Loss: 0.096 Valid (L1): 0.085 Valid (PSNR): 19.206  Valid (SSIM): 0.587\n"
     ]
    },
    {
     "name": "stderr",
     "output_type": "stream",
     "text": [
      "100%|██████████| 67/67 [00:03<00:00, 18.42it/s]\n",
      "100%|██████████| 31/31 [00:02<00:00, 12.40it/s]\n"
     ]
    },
    {
     "name": "stdout",
     "output_type": "stream",
     "text": [
      "Epoch 133/201 Training Loss: 0.095 Valid (L1): 0.084 Valid (PSNR): 19.244  Valid (SSIM): 0.587\n"
     ]
    },
    {
     "name": "stderr",
     "output_type": "stream",
     "text": [
      "100%|██████████| 67/67 [00:03<00:00, 18.66it/s]\n",
      "100%|██████████| 31/31 [00:02<00:00, 12.41it/s]\n"
     ]
    },
    {
     "name": "stdout",
     "output_type": "stream",
     "text": [
      "Epoch 134/201 Training Loss: 0.102 Valid (L1): 0.085 Valid (PSNR): 19.206  Valid (SSIM): 0.588\n"
     ]
    },
    {
     "name": "stderr",
     "output_type": "stream",
     "text": [
      "100%|██████████| 67/67 [00:03<00:00, 18.72it/s]\n",
      "100%|██████████| 31/31 [00:02<00:00, 12.41it/s]\n"
     ]
    },
    {
     "name": "stdout",
     "output_type": "stream",
     "text": [
      "Epoch 135/201 Training Loss: 0.098 Valid (L1): 0.085 Valid (PSNR): 19.224  Valid (SSIM): 0.588\n"
     ]
    },
    {
     "name": "stderr",
     "output_type": "stream",
     "text": [
      "100%|██████████| 67/67 [00:03<00:00, 18.54it/s]\n",
      "100%|██████████| 31/31 [00:02<00:00, 12.39it/s]\n"
     ]
    },
    {
     "name": "stdout",
     "output_type": "stream",
     "text": [
      "Epoch 136/201 Training Loss: 0.098 Valid (L1): 0.084 Valid (PSNR): 19.275  Valid (SSIM): 0.587\n"
     ]
    },
    {
     "name": "stderr",
     "output_type": "stream",
     "text": [
      "100%|██████████| 67/67 [00:03<00:00, 18.67it/s]\n",
      "100%|██████████| 31/31 [00:02<00:00, 12.37it/s]\n"
     ]
    },
    {
     "name": "stdout",
     "output_type": "stream",
     "text": [
      "Epoch 137/201 Training Loss: 0.093 Valid (L1): 0.085 Valid (PSNR): 19.240  Valid (SSIM): 0.589\n"
     ]
    },
    {
     "name": "stderr",
     "output_type": "stream",
     "text": [
      "100%|██████████| 67/67 [00:03<00:00, 18.93it/s]\n",
      "100%|██████████| 31/31 [00:02<00:00, 12.39it/s]\n"
     ]
    },
    {
     "name": "stdout",
     "output_type": "stream",
     "text": [
      "Epoch 138/201 Training Loss: 0.096 Valid (L1): 0.084 Valid (PSNR): 19.312  Valid (SSIM): 0.589\n"
     ]
    },
    {
     "name": "stderr",
     "output_type": "stream",
     "text": [
      "100%|██████████| 67/67 [00:03<00:00, 18.70it/s]\n",
      "100%|██████████| 31/31 [00:02<00:00, 12.42it/s]\n"
     ]
    },
    {
     "name": "stdout",
     "output_type": "stream",
     "text": [
      "Epoch 139/201 Training Loss: 0.095 Valid (L1): 0.084 Valid (PSNR): 19.285  Valid (SSIM): 0.589\n"
     ]
    },
    {
     "name": "stderr",
     "output_type": "stream",
     "text": [
      "100%|██████████| 67/67 [00:03<00:00, 18.58it/s]\n",
      "100%|██████████| 31/31 [00:02<00:00, 12.44it/s]\n"
     ]
    },
    {
     "name": "stdout",
     "output_type": "stream",
     "text": [
      "Epoch 140/201 Training Loss: 0.096 Valid (L1): 0.084 Valid (PSNR): 19.276  Valid (SSIM): 0.590\n"
     ]
    },
    {
     "name": "stderr",
     "output_type": "stream",
     "text": [
      "100%|██████████| 67/67 [00:03<00:00, 18.65it/s]\n",
      "100%|██████████| 31/31 [00:02<00:00, 12.44it/s]\n"
     ]
    },
    {
     "name": "stdout",
     "output_type": "stream",
     "text": [
      "Epoch 141/201 Training Loss: 0.097 Valid (L1): 0.084 Valid (PSNR): 19.272  Valid (SSIM): 0.590\n"
     ]
    },
    {
     "name": "stderr",
     "output_type": "stream",
     "text": [
      "100%|██████████| 67/67 [00:03<00:00, 18.36it/s]\n",
      "100%|██████████| 31/31 [00:02<00:00, 12.41it/s]\n"
     ]
    },
    {
     "name": "stdout",
     "output_type": "stream",
     "text": [
      "Epoch 142/201 Training Loss: 0.096 Valid (L1): 0.084 Valid (PSNR): 19.283  Valid (SSIM): 0.590\n"
     ]
    },
    {
     "name": "stderr",
     "output_type": "stream",
     "text": [
      "100%|██████████| 67/67 [00:03<00:00, 18.24it/s]\n",
      "100%|██████████| 31/31 [00:02<00:00, 12.41it/s]\n"
     ]
    },
    {
     "name": "stdout",
     "output_type": "stream",
     "text": [
      "Epoch 143/201 Training Loss: 0.097 Valid (L1): 0.084 Valid (PSNR): 19.289  Valid (SSIM): 0.591\n"
     ]
    },
    {
     "name": "stderr",
     "output_type": "stream",
     "text": [
      "100%|██████████| 67/67 [00:03<00:00, 18.05it/s]\n",
      "100%|██████████| 31/31 [00:02<00:00, 12.43it/s]\n"
     ]
    },
    {
     "name": "stdout",
     "output_type": "stream",
     "text": [
      "Epoch 144/201 Training Loss: 0.096 Valid (L1): 0.084 Valid (PSNR): 19.332  Valid (SSIM): 0.591\n"
     ]
    },
    {
     "name": "stderr",
     "output_type": "stream",
     "text": [
      "100%|██████████| 67/67 [00:03<00:00, 18.51it/s]\n",
      "100%|██████████| 31/31 [00:02<00:00, 12.40it/s]\n"
     ]
    },
    {
     "name": "stdout",
     "output_type": "stream",
     "text": [
      "Epoch 145/201 Training Loss: 0.096 Valid (L1): 0.084 Valid (PSNR): 19.310  Valid (SSIM): 0.591\n"
     ]
    },
    {
     "name": "stderr",
     "output_type": "stream",
     "text": [
      "100%|██████████| 67/67 [00:03<00:00, 18.29it/s]\n",
      "100%|██████████| 31/31 [00:02<00:00, 12.44it/s]\n"
     ]
    },
    {
     "name": "stdout",
     "output_type": "stream",
     "text": [
      "Epoch 146/201 Training Loss: 0.090 Valid (L1): 0.084 Valid (PSNR): 19.278  Valid (SSIM): 0.593\n"
     ]
    },
    {
     "name": "stderr",
     "output_type": "stream",
     "text": [
      "100%|██████████| 67/67 [00:03<00:00, 18.10it/s]\n",
      "100%|██████████| 31/31 [00:02<00:00, 12.44it/s]\n"
     ]
    },
    {
     "name": "stdout",
     "output_type": "stream",
     "text": [
      "Epoch 147/201 Training Loss: 0.093 Valid (L1): 0.084 Valid (PSNR): 19.336  Valid (SSIM): 0.592\n"
     ]
    },
    {
     "name": "stderr",
     "output_type": "stream",
     "text": [
      "100%|██████████| 67/67 [00:03<00:00, 18.27it/s]\n",
      "100%|██████████| 31/31 [00:02<00:00, 12.41it/s]\n"
     ]
    },
    {
     "name": "stdout",
     "output_type": "stream",
     "text": [
      "Epoch 148/201 Training Loss: 0.094 Valid (L1): 0.084 Valid (PSNR): 19.346  Valid (SSIM): 0.592\n"
     ]
    },
    {
     "name": "stderr",
     "output_type": "stream",
     "text": [
      "100%|██████████| 67/67 [00:03<00:00, 18.53it/s]\n",
      "100%|██████████| 31/31 [00:02<00:00, 12.43it/s]\n"
     ]
    },
    {
     "name": "stdout",
     "output_type": "stream",
     "text": [
      "Epoch 149/201 Training Loss: 0.091 Valid (L1): 0.084 Valid (PSNR): 19.312  Valid (SSIM): 0.593\n"
     ]
    },
    {
     "name": "stderr",
     "output_type": "stream",
     "text": [
      "100%|██████████| 67/67 [00:03<00:00, 18.60it/s]\n",
      "100%|██████████| 31/31 [00:02<00:00, 12.42it/s]\n"
     ]
    },
    {
     "name": "stdout",
     "output_type": "stream",
     "text": [
      "Epoch 150/201 Training Loss: 0.092 Valid (L1): 0.084 Valid (PSNR): 19.335  Valid (SSIM): 0.593\n"
     ]
    },
    {
     "name": "stderr",
     "output_type": "stream",
     "text": [
      "100%|██████████| 67/67 [00:03<00:00, 18.56it/s]\n",
      "100%|██████████| 31/31 [00:02<00:00, 12.42it/s]\n"
     ]
    },
    {
     "name": "stdout",
     "output_type": "stream",
     "text": [
      "Epoch 151/201 Training Loss: 0.092 Valid (L1): 0.084 Valid (PSNR): 19.336  Valid (SSIM): 0.593\n"
     ]
    },
    {
     "name": "stderr",
     "output_type": "stream",
     "text": [
      "100%|██████████| 67/67 [00:03<00:00, 18.71it/s]\n",
      "100%|██████████| 31/31 [00:02<00:00, 12.41it/s]\n"
     ]
    },
    {
     "name": "stdout",
     "output_type": "stream",
     "text": [
      "Epoch 152/201 Training Loss: 0.092 Valid (L1): 0.084 Valid (PSNR): 19.353  Valid (SSIM): 0.594\n"
     ]
    },
    {
     "name": "stderr",
     "output_type": "stream",
     "text": [
      "100%|██████████| 67/67 [00:03<00:00, 18.38it/s]\n",
      "100%|██████████| 31/31 [00:02<00:00, 12.41it/s]\n"
     ]
    },
    {
     "name": "stdout",
     "output_type": "stream",
     "text": [
      "Epoch 153/201 Training Loss: 0.093 Valid (L1): 0.084 Valid (PSNR): 19.308  Valid (SSIM): 0.595\n"
     ]
    },
    {
     "name": "stderr",
     "output_type": "stream",
     "text": [
      "100%|██████████| 67/67 [00:03<00:00, 18.36it/s]\n",
      "100%|██████████| 31/31 [00:02<00:00, 12.42it/s]\n"
     ]
    },
    {
     "name": "stdout",
     "output_type": "stream",
     "text": [
      "Epoch 154/201 Training Loss: 0.093 Valid (L1): 0.084 Valid (PSNR): 19.341  Valid (SSIM): 0.595\n"
     ]
    },
    {
     "name": "stderr",
     "output_type": "stream",
     "text": [
      "100%|██████████| 67/67 [00:03<00:00, 18.96it/s]\n",
      "100%|██████████| 31/31 [00:02<00:00, 12.40it/s]\n"
     ]
    },
    {
     "name": "stdout",
     "output_type": "stream",
     "text": [
      "Epoch 155/201 Training Loss: 0.095 Valid (L1): 0.084 Valid (PSNR): 19.332  Valid (SSIM): 0.596\n"
     ]
    },
    {
     "name": "stderr",
     "output_type": "stream",
     "text": [
      "100%|██████████| 67/67 [00:03<00:00, 18.05it/s]\n",
      "100%|██████████| 31/31 [00:02<00:00, 12.39it/s]\n"
     ]
    },
    {
     "name": "stdout",
     "output_type": "stream",
     "text": [
      "Epoch 156/201 Training Loss: 0.093 Valid (L1): 0.084 Valid (PSNR): 19.360  Valid (SSIM): 0.596\n"
     ]
    },
    {
     "name": "stderr",
     "output_type": "stream",
     "text": [
      "100%|██████████| 67/67 [00:03<00:00, 18.72it/s]\n",
      "100%|██████████| 31/31 [00:02<00:00, 12.44it/s]\n"
     ]
    },
    {
     "name": "stdout",
     "output_type": "stream",
     "text": [
      "Epoch 157/201 Training Loss: 0.095 Valid (L1): 0.083 Valid (PSNR): 19.376  Valid (SSIM): 0.597\n"
     ]
    },
    {
     "name": "stderr",
     "output_type": "stream",
     "text": [
      "100%|██████████| 67/67 [00:03<00:00, 18.91it/s]\n",
      "100%|██████████| 31/31 [00:02<00:00, 12.45it/s]\n"
     ]
    },
    {
     "name": "stdout",
     "output_type": "stream",
     "text": [
      "Epoch 158/201 Training Loss: 0.093 Valid (L1): 0.084 Valid (PSNR): 19.353  Valid (SSIM): 0.598\n"
     ]
    },
    {
     "name": "stderr",
     "output_type": "stream",
     "text": [
      "100%|██████████| 67/67 [00:03<00:00, 18.62it/s]\n",
      "100%|██████████| 31/31 [00:02<00:00, 12.43it/s]\n"
     ]
    },
    {
     "name": "stdout",
     "output_type": "stream",
     "text": [
      "Epoch 159/201 Training Loss: 0.094 Valid (L1): 0.083 Valid (PSNR): 19.362  Valid (SSIM): 0.598\n"
     ]
    },
    {
     "name": "stderr",
     "output_type": "stream",
     "text": [
      "100%|██████████| 67/67 [00:03<00:00, 18.43it/s]\n",
      "100%|██████████| 31/31 [00:02<00:00, 12.40it/s]\n"
     ]
    },
    {
     "name": "stdout",
     "output_type": "stream",
     "text": [
      "Epoch 160/201 Training Loss: 0.095 Valid (L1): 0.083 Valid (PSNR): 19.409  Valid (SSIM): 0.598\n"
     ]
    },
    {
     "name": "stderr",
     "output_type": "stream",
     "text": [
      "100%|██████████| 67/67 [00:03<00:00, 18.65it/s]\n",
      "100%|██████████| 31/31 [00:02<00:00, 12.39it/s]\n"
     ]
    },
    {
     "name": "stdout",
     "output_type": "stream",
     "text": [
      "Epoch 161/201 Training Loss: 0.094 Valid (L1): 0.083 Valid (PSNR): 19.386  Valid (SSIM): 0.599\n"
     ]
    },
    {
     "name": "stderr",
     "output_type": "stream",
     "text": [
      "100%|██████████| 67/67 [00:03<00:00, 18.98it/s]\n",
      "100%|██████████| 31/31 [00:02<00:00, 12.40it/s]\n"
     ]
    },
    {
     "name": "stdout",
     "output_type": "stream",
     "text": [
      "Epoch 162/201 Training Loss: 0.098 Valid (L1): 0.083 Valid (PSNR): 19.420  Valid (SSIM): 0.598\n"
     ]
    },
    {
     "name": "stderr",
     "output_type": "stream",
     "text": [
      "100%|██████████| 67/67 [00:03<00:00, 18.50it/s]\n",
      "100%|██████████| 31/31 [00:02<00:00, 12.44it/s]\n"
     ]
    },
    {
     "name": "stdout",
     "output_type": "stream",
     "text": [
      "Epoch 163/201 Training Loss: 0.092 Valid (L1): 0.083 Valid (PSNR): 19.387  Valid (SSIM): 0.599\n"
     ]
    },
    {
     "name": "stderr",
     "output_type": "stream",
     "text": [
      "100%|██████████| 67/67 [00:03<00:00, 18.31it/s]\n",
      "100%|██████████| 31/31 [00:02<00:00, 12.42it/s]\n"
     ]
    },
    {
     "name": "stdout",
     "output_type": "stream",
     "text": [
      "Epoch 164/201 Training Loss: 0.090 Valid (L1): 0.083 Valid (PSNR): 19.435  Valid (SSIM): 0.599\n"
     ]
    },
    {
     "name": "stderr",
     "output_type": "stream",
     "text": [
      "100%|██████████| 67/67 [00:03<00:00, 18.08it/s]\n",
      "100%|██████████| 31/31 [00:02<00:00, 12.46it/s]\n"
     ]
    },
    {
     "name": "stdout",
     "output_type": "stream",
     "text": [
      "Epoch 165/201 Training Loss: 0.090 Valid (L1): 0.083 Valid (PSNR): 19.431  Valid (SSIM): 0.600\n"
     ]
    },
    {
     "name": "stderr",
     "output_type": "stream",
     "text": [
      "100%|██████████| 67/67 [00:03<00:00, 18.74it/s]\n",
      "100%|██████████| 31/31 [00:02<00:00, 12.42it/s]\n"
     ]
    },
    {
     "name": "stdout",
     "output_type": "stream",
     "text": [
      "Epoch 166/201 Training Loss: 0.093 Valid (L1): 0.083 Valid (PSNR): 19.441  Valid (SSIM): 0.599\n"
     ]
    },
    {
     "name": "stderr",
     "output_type": "stream",
     "text": [
      "100%|██████████| 67/67 [00:03<00:00, 18.61it/s]\n",
      "100%|██████████| 31/31 [00:02<00:00, 12.44it/s]\n"
     ]
    },
    {
     "name": "stdout",
     "output_type": "stream",
     "text": [
      "Epoch 167/201 Training Loss: 0.093 Valid (L1): 0.083 Valid (PSNR): 19.410  Valid (SSIM): 0.601\n"
     ]
    },
    {
     "name": "stderr",
     "output_type": "stream",
     "text": [
      "100%|██████████| 67/67 [00:03<00:00, 18.70it/s]\n",
      "100%|██████████| 31/31 [00:02<00:00, 12.42it/s]\n"
     ]
    },
    {
     "name": "stdout",
     "output_type": "stream",
     "text": [
      "Epoch 168/201 Training Loss: 0.094 Valid (L1): 0.083 Valid (PSNR): 19.386  Valid (SSIM): 0.602\n"
     ]
    },
    {
     "name": "stderr",
     "output_type": "stream",
     "text": [
      "100%|██████████| 67/67 [00:03<00:00, 18.70it/s]\n",
      "100%|██████████| 31/31 [00:02<00:00, 12.36it/s]\n"
     ]
    },
    {
     "name": "stdout",
     "output_type": "stream",
     "text": [
      "Epoch 169/201 Training Loss: 0.093 Valid (L1): 0.083 Valid (PSNR): 19.439  Valid (SSIM): 0.601\n"
     ]
    },
    {
     "name": "stderr",
     "output_type": "stream",
     "text": [
      "100%|██████████| 67/67 [00:03<00:00, 18.60it/s]\n",
      "100%|██████████| 31/31 [00:02<00:00, 12.40it/s]\n"
     ]
    },
    {
     "name": "stdout",
     "output_type": "stream",
     "text": [
      "Epoch 170/201 Training Loss: 0.091 Valid (L1): 0.083 Valid (PSNR): 19.438  Valid (SSIM): 0.602\n"
     ]
    },
    {
     "name": "stderr",
     "output_type": "stream",
     "text": [
      "100%|██████████| 67/67 [00:03<00:00, 18.71it/s]\n",
      "100%|██████████| 31/31 [00:02<00:00, 12.42it/s]\n"
     ]
    },
    {
     "name": "stdout",
     "output_type": "stream",
     "text": [
      "Epoch 171/201 Training Loss: 0.090 Valid (L1): 0.083 Valid (PSNR): 19.460  Valid (SSIM): 0.603\n"
     ]
    },
    {
     "name": "stderr",
     "output_type": "stream",
     "text": [
      "100%|██████████| 67/67 [00:03<00:00, 18.68it/s]\n",
      "100%|██████████| 31/31 [00:02<00:00, 12.41it/s]\n"
     ]
    },
    {
     "name": "stdout",
     "output_type": "stream",
     "text": [
      "Epoch 172/201 Training Loss: 0.094 Valid (L1): 0.083 Valid (PSNR): 19.449  Valid (SSIM): 0.603\n"
     ]
    },
    {
     "name": "stderr",
     "output_type": "stream",
     "text": [
      "100%|██████████| 67/67 [00:03<00:00, 18.20it/s]\n",
      "100%|██████████| 31/31 [00:02<00:00, 12.36it/s]\n"
     ]
    },
    {
     "name": "stdout",
     "output_type": "stream",
     "text": [
      "Epoch 173/201 Training Loss: 0.092 Valid (L1): 0.083 Valid (PSNR): 19.475  Valid (SSIM): 0.603\n"
     ]
    },
    {
     "name": "stderr",
     "output_type": "stream",
     "text": [
      "100%|██████████| 67/67 [00:03<00:00, 18.49it/s]\n",
      "100%|██████████| 31/31 [00:02<00:00, 12.41it/s]\n"
     ]
    },
    {
     "name": "stdout",
     "output_type": "stream",
     "text": [
      "Epoch 174/201 Training Loss: 0.094 Valid (L1): 0.083 Valid (PSNR): 19.474  Valid (SSIM): 0.603\n"
     ]
    },
    {
     "name": "stderr",
     "output_type": "stream",
     "text": [
      "100%|██████████| 67/67 [00:03<00:00, 18.56it/s]\n",
      "100%|██████████| 31/31 [00:02<00:00, 12.42it/s]\n"
     ]
    },
    {
     "name": "stdout",
     "output_type": "stream",
     "text": [
      "Epoch 175/201 Training Loss: 0.092 Valid (L1): 0.083 Valid (PSNR): 19.478  Valid (SSIM): 0.604\n"
     ]
    },
    {
     "name": "stderr",
     "output_type": "stream",
     "text": [
      "100%|██████████| 67/67 [00:03<00:00, 18.53it/s]\n",
      "100%|██████████| 31/31 [00:02<00:00, 12.43it/s]\n"
     ]
    },
    {
     "name": "stdout",
     "output_type": "stream",
     "text": [
      "Epoch 176/201 Training Loss: 0.091 Valid (L1): 0.082 Valid (PSNR): 19.498  Valid (SSIM): 0.604\n"
     ]
    },
    {
     "name": "stderr",
     "output_type": "stream",
     "text": [
      "100%|██████████| 67/67 [00:03<00:00, 18.65it/s]\n",
      "100%|██████████| 31/31 [00:02<00:00, 12.41it/s]\n"
     ]
    },
    {
     "name": "stdout",
     "output_type": "stream",
     "text": [
      "Epoch 177/201 Training Loss: 0.094 Valid (L1): 0.083 Valid (PSNR): 19.487  Valid (SSIM): 0.604\n"
     ]
    },
    {
     "name": "stderr",
     "output_type": "stream",
     "text": [
      "100%|██████████| 67/67 [00:03<00:00, 18.20it/s]\n",
      "100%|██████████| 31/31 [00:02<00:00, 12.45it/s]\n"
     ]
    },
    {
     "name": "stdout",
     "output_type": "stream",
     "text": [
      "Epoch 178/201 Training Loss: 0.091 Valid (L1): 0.083 Valid (PSNR): 19.488  Valid (SSIM): 0.605\n"
     ]
    },
    {
     "name": "stderr",
     "output_type": "stream",
     "text": [
      "100%|██████████| 67/67 [00:03<00:00, 18.60it/s]\n",
      "100%|██████████| 31/31 [00:02<00:00, 12.43it/s]\n"
     ]
    },
    {
     "name": "stdout",
     "output_type": "stream",
     "text": [
      "Epoch 179/201 Training Loss: 0.093 Valid (L1): 0.083 Valid (PSNR): 19.475  Valid (SSIM): 0.607\n"
     ]
    },
    {
     "name": "stderr",
     "output_type": "stream",
     "text": [
      "100%|██████████| 67/67 [00:03<00:00, 18.75it/s]\n",
      "100%|██████████| 31/31 [00:02<00:00, 12.44it/s]\n"
     ]
    },
    {
     "name": "stdout",
     "output_type": "stream",
     "text": [
      "Epoch 180/201 Training Loss: 0.091 Valid (L1): 0.083 Valid (PSNR): 19.474  Valid (SSIM): 0.607\n"
     ]
    },
    {
     "name": "stderr",
     "output_type": "stream",
     "text": [
      "100%|██████████| 67/67 [00:03<00:00, 18.66it/s]\n",
      "100%|██████████| 31/31 [00:02<00:00, 12.40it/s]\n"
     ]
    },
    {
     "name": "stdout",
     "output_type": "stream",
     "text": [
      "Epoch 181/201 Training Loss: 0.093 Valid (L1): 0.082 Valid (PSNR): 19.502  Valid (SSIM): 0.607\n"
     ]
    },
    {
     "name": "stderr",
     "output_type": "stream",
     "text": [
      "100%|██████████| 67/67 [00:03<00:00, 18.68it/s]\n",
      "100%|██████████| 31/31 [00:02<00:00, 12.44it/s]\n"
     ]
    },
    {
     "name": "stdout",
     "output_type": "stream",
     "text": [
      "Epoch 182/201 Training Loss: 0.095 Valid (L1): 0.082 Valid (PSNR): 19.486  Valid (SSIM): 0.608\n"
     ]
    },
    {
     "name": "stderr",
     "output_type": "stream",
     "text": [
      "100%|██████████| 67/67 [00:03<00:00, 18.86it/s]\n",
      "100%|██████████| 31/31 [00:02<00:00, 12.43it/s]\n"
     ]
    },
    {
     "name": "stdout",
     "output_type": "stream",
     "text": [
      "Epoch 183/201 Training Loss: 0.089 Valid (L1): 0.082 Valid (PSNR): 19.498  Valid (SSIM): 0.608\n"
     ]
    },
    {
     "name": "stderr",
     "output_type": "stream",
     "text": [
      "100%|██████████| 67/67 [00:03<00:00, 18.78it/s]\n",
      "100%|██████████| 31/31 [00:02<00:00, 12.40it/s]\n"
     ]
    },
    {
     "name": "stdout",
     "output_type": "stream",
     "text": [
      "Epoch 184/201 Training Loss: 0.092 Valid (L1): 0.082 Valid (PSNR): 19.529  Valid (SSIM): 0.608\n"
     ]
    },
    {
     "name": "stderr",
     "output_type": "stream",
     "text": [
      "100%|██████████| 67/67 [00:03<00:00, 18.71it/s]\n",
      "100%|██████████| 31/31 [00:02<00:00, 12.42it/s]\n"
     ]
    },
    {
     "name": "stdout",
     "output_type": "stream",
     "text": [
      "Epoch 185/201 Training Loss: 0.090 Valid (L1): 0.082 Valid (PSNR): 19.505  Valid (SSIM): 0.609\n"
     ]
    },
    {
     "name": "stderr",
     "output_type": "stream",
     "text": [
      "100%|██████████| 67/67 [00:03<00:00, 18.76it/s]\n",
      "100%|██████████| 31/31 [00:02<00:00, 12.39it/s]\n"
     ]
    },
    {
     "name": "stdout",
     "output_type": "stream",
     "text": [
      "Epoch 186/201 Training Loss: 0.091 Valid (L1): 0.082 Valid (PSNR): 19.533  Valid (SSIM): 0.609\n"
     ]
    },
    {
     "name": "stderr",
     "output_type": "stream",
     "text": [
      "100%|██████████| 67/67 [00:03<00:00, 18.71it/s]\n",
      "100%|██████████| 31/31 [00:02<00:00, 12.40it/s]\n"
     ]
    },
    {
     "name": "stdout",
     "output_type": "stream",
     "text": [
      "Epoch 187/201 Training Loss: 0.090 Valid (L1): 0.082 Valid (PSNR): 19.540  Valid (SSIM): 0.609\n"
     ]
    },
    {
     "name": "stderr",
     "output_type": "stream",
     "text": [
      "100%|██████████| 67/67 [00:03<00:00, 18.80it/s]\n",
      "100%|██████████| 31/31 [00:02<00:00, 12.39it/s]\n"
     ]
    },
    {
     "name": "stdout",
     "output_type": "stream",
     "text": [
      "Epoch 188/201 Training Loss: 0.085 Valid (L1): 0.082 Valid (PSNR): 19.553  Valid (SSIM): 0.609\n"
     ]
    },
    {
     "name": "stderr",
     "output_type": "stream",
     "text": [
      "100%|██████████| 67/67 [00:03<00:00, 18.57it/s]\n",
      "100%|██████████| 31/31 [00:02<00:00, 12.40it/s]\n"
     ]
    },
    {
     "name": "stdout",
     "output_type": "stream",
     "text": [
      "Epoch 189/201 Training Loss: 0.089 Valid (L1): 0.082 Valid (PSNR): 19.523  Valid (SSIM): 0.610\n"
     ]
    },
    {
     "name": "stderr",
     "output_type": "stream",
     "text": [
      "100%|██████████| 67/67 [00:03<00:00, 18.86it/s]\n",
      "100%|██████████| 31/31 [00:02<00:00, 12.40it/s]\n"
     ]
    },
    {
     "name": "stdout",
     "output_type": "stream",
     "text": [
      "Epoch 190/201 Training Loss: 0.092 Valid (L1): 0.082 Valid (PSNR): 19.553  Valid (SSIM): 0.610\n"
     ]
    },
    {
     "name": "stderr",
     "output_type": "stream",
     "text": [
      "100%|██████████| 67/67 [00:03<00:00, 18.59it/s]\n",
      "100%|██████████| 31/31 [00:02<00:00, 12.36it/s]\n"
     ]
    },
    {
     "name": "stdout",
     "output_type": "stream",
     "text": [
      "Epoch 191/201 Training Loss: 0.092 Valid (L1): 0.082 Valid (PSNR): 19.545  Valid (SSIM): 0.611\n"
     ]
    },
    {
     "name": "stderr",
     "output_type": "stream",
     "text": [
      "100%|██████████| 67/67 [00:03<00:00, 18.47it/s]\n",
      "100%|██████████| 31/31 [00:02<00:00, 12.45it/s]\n"
     ]
    },
    {
     "name": "stdout",
     "output_type": "stream",
     "text": [
      "Epoch 192/201 Training Loss: 0.090 Valid (L1): 0.082 Valid (PSNR): 19.562  Valid (SSIM): 0.611\n"
     ]
    },
    {
     "name": "stderr",
     "output_type": "stream",
     "text": [
      "100%|██████████| 67/67 [00:03<00:00, 18.81it/s]\n",
      "100%|██████████| 31/31 [00:02<00:00, 12.43it/s]\n"
     ]
    },
    {
     "name": "stdout",
     "output_type": "stream",
     "text": [
      "Epoch 193/201 Training Loss: 0.088 Valid (L1): 0.082 Valid (PSNR): 19.569  Valid (SSIM): 0.611\n"
     ]
    },
    {
     "name": "stderr",
     "output_type": "stream",
     "text": [
      "100%|██████████| 67/67 [00:03<00:00, 18.33it/s]\n",
      "100%|██████████| 31/31 [00:02<00:00, 12.43it/s]\n"
     ]
    },
    {
     "name": "stdout",
     "output_type": "stream",
     "text": [
      "Epoch 194/201 Training Loss: 0.090 Valid (L1): 0.082 Valid (PSNR): 19.558  Valid (SSIM): 0.611\n"
     ]
    },
    {
     "name": "stderr",
     "output_type": "stream",
     "text": [
      "100%|██████████| 67/67 [00:03<00:00, 18.10it/s]\n",
      "100%|██████████| 31/31 [00:02<00:00, 12.41it/s]\n"
     ]
    },
    {
     "name": "stdout",
     "output_type": "stream",
     "text": [
      "Epoch 195/201 Training Loss: 0.087 Valid (L1): 0.082 Valid (PSNR): 19.580  Valid (SSIM): 0.612\n"
     ]
    },
    {
     "name": "stderr",
     "output_type": "stream",
     "text": [
      "100%|██████████| 67/67 [00:03<00:00, 18.46it/s]\n",
      "100%|██████████| 31/31 [00:02<00:00, 12.40it/s]\n"
     ]
    },
    {
     "name": "stdout",
     "output_type": "stream",
     "text": [
      "Epoch 196/201 Training Loss: 0.088 Valid (L1): 0.082 Valid (PSNR): 19.562  Valid (SSIM): 0.613\n"
     ]
    },
    {
     "name": "stderr",
     "output_type": "stream",
     "text": [
      "100%|██████████| 67/67 [00:03<00:00, 18.70it/s]\n",
      "100%|██████████| 31/31 [00:02<00:00, 12.38it/s]\n"
     ]
    },
    {
     "name": "stdout",
     "output_type": "stream",
     "text": [
      "Epoch 197/201 Training Loss: 0.090 Valid (L1): 0.082 Valid (PSNR): 19.570  Valid (SSIM): 0.614\n"
     ]
    },
    {
     "name": "stderr",
     "output_type": "stream",
     "text": [
      "100%|██████████| 67/67 [00:03<00:00, 18.79it/s]\n",
      "100%|██████████| 31/31 [00:02<00:00, 12.32it/s]\n"
     ]
    },
    {
     "name": "stdout",
     "output_type": "stream",
     "text": [
      "Epoch 198/201 Training Loss: 0.093 Valid (L1): 0.082 Valid (PSNR): 19.582  Valid (SSIM): 0.613\n"
     ]
    },
    {
     "name": "stderr",
     "output_type": "stream",
     "text": [
      "100%|██████████| 67/67 [00:03<00:00, 18.08it/s]\n",
      "100%|██████████| 31/31 [00:02<00:00, 12.38it/s]\n"
     ]
    },
    {
     "name": "stdout",
     "output_type": "stream",
     "text": [
      "Epoch 199/201 Training Loss: 0.092 Valid (L1): 0.082 Valid (PSNR): 19.601  Valid (SSIM): 0.614\n"
     ]
    },
    {
     "name": "stderr",
     "output_type": "stream",
     "text": [
      "100%|██████████| 67/67 [00:03<00:00, 18.43it/s]\n",
      "100%|██████████| 31/31 [00:02<00:00, 12.42it/s]\n"
     ]
    },
    {
     "name": "stdout",
     "output_type": "stream",
     "text": [
      "Epoch 200/201 Training Loss: 0.089 Valid (L1): 0.082 Valid (PSNR): 19.567  Valid (SSIM): 0.614\n"
     ]
    },
    {
     "name": "stderr",
     "output_type": "stream",
     "text": [
      "100%|██████████| 67/67 [00:03<00:00, 18.68it/s]\n",
      "100%|██████████| 31/31 [00:02<00:00, 12.41it/s]"
     ]
    },
    {
     "name": "stdout",
     "output_type": "stream",
     "text": [
      "Epoch 201/201 Training Loss: 0.088 Valid (L1): 0.082 Valid (PSNR): 19.596  Valid (SSIM): 0.614\n"
     ]
    },
    {
     "name": "stderr",
     "output_type": "stream",
     "text": [
      "\n"
     ]
    }
   ],
   "source": [
    "if torch.cuda.is_available():\n",
    "    torch.cuda.empty_cache()\n",
    "learning_rate = 1e-6\n",
    "model = BasicSRModel().to(device)\n",
    "srtrainer = SRTrainer(model=model,loss_fn=nn.L1Loss(), lr=learning_rate)\n",
    "srtrainer.train(train_dataloader,valid_dataloader,num_epochs=201, save=False)"
   ]
  },
  {
   "cell_type": "code",
   "execution_count": 15,
   "metadata": {},
   "outputs": [
    {
     "name": "stderr",
     "output_type": "stream",
     "text": [
      "100%|██████████| 10/10 [00:15<00:00,  1.55s/it]\n"
     ]
    },
    {
     "name": "stdout",
     "output_type": "stream",
     "text": [
      "Test:       (L1):   0.088   (PSNR): 18.535 (SSIM): 0.547\n",
      "Bilinear:   (L1):   0.036   (PSNR): 25.813 (SSIM): 0.791\n",
      "Bicubic:    (L1):   0.033    (PSNR): 26.952  (SSIM): 0.829\n"
     ]
    }
   ],
   "source": [
    "tester = Tester(model)\n",
    "tester.test(tests_dataloader, model_name=\"model\"+str(learning_rate))\n",
    "\n",
    "del model\n",
    "del srtrainer\n",
    "del tester"
   ]
  },
  {
   "cell_type": "code",
   "execution_count": 16,
   "metadata": {},
   "outputs": [
    {
     "name": "stderr",
     "output_type": "stream",
     "text": [
      "100%|██████████| 10/10 [00:13<00:00,  1.39s/it]\n"
     ]
    },
    {
     "name": "stdout",
     "output_type": "stream",
     "text": [
      "Test:       (L1):   0.051   (PSNR): 22.560 (SSIM): 0.727\n",
      "Bilinear:   (L1):   0.041   (PSNR): 24.059 (SSIM): 0.750\n",
      "Bicubic:    (L1):   0.043    (PSNR): 23.717  (SSIM): 0.756\n"
     ]
    },
    {
     "name": "stderr",
     "output_type": "stream",
     "text": [
      "100%|██████████| 10/10 [00:11<00:00,  1.18s/it]\n"
     ]
    },
    {
     "name": "stdout",
     "output_type": "stream",
     "text": [
      "Test:       (L1):   0.041   (PSNR): 25.374 (SSIM): 0.818\n",
      "Bilinear:   (L1):   0.034   (PSNR): 26.415 (SSIM): 0.816\n",
      "Bicubic:    (L1):   0.033    (PSNR): 26.976  (SSIM): 0.838\n"
     ]
    }
   ],
   "source": [
    "for i,method in enumerate([torchvision.transforms.InterpolationMode.NEAREST, torchvision.transforms.InterpolationMode.BICUBIC]):\n",
    "    tests_dataset = SRDDataset(\"../eval\",  tests_paths, 'cpu',  type=Dataset.VALID, interpolation=method) #Run CPU\n",
    "    tests_dataloader = torch.utils.data.dataloader.DataLoader(tests_dataset,batch_size=1,shuffle=False,num_workers=0,pin_memory=True) #Run CPU\n",
    "\n",
    "    if torch.cuda.is_available():\n",
    "        torch.cuda.empty_cache()\n",
    "    model = BasicSRModel().to(device)\n",
    "    model.load_state_dict(torch.load(\"../model/model200_0.0001\"))\n",
    "    model.eval()\n",
    "\n",
    "    tester = Tester(model)\n",
    "    tester.test(tests_dataloader,model_name=\"model_method\"+str(i+1))\n",
    "    \n",
    "    del model\n",
    "    del tester"
   ]
  },
  {
   "cell_type": "code",
   "execution_count": null,
   "metadata": {},
   "outputs": [],
   "source": [
    "generator = Generator().to(device)\n",
    "discriminator = Discriminator().to(device)"
   ]
  },
  {
   "cell_type": "code",
   "execution_count": 10,
   "metadata": {},
   "outputs": [
    {
     "name": "stderr",
     "output_type": "stream",
     "text": [
      "100%|██████████| 67/67 [00:31<00:00,  2.11it/s]\n"
     ]
    },
    {
     "name": "stdout",
     "output_type": "stream",
     "text": [
      "Epoch 1/50:\n",
      "\t Generator loss: 2.5818e-01\n",
      "\t \t Content loss: \t\t 4.8577e-01\t factor: 5.000000e-01\n",
      "\t \t Color loss: \t\t 2.2025e-02 \t factor: 5.000000e-01\n",
      "\t \t Adversarial loss: \t 8.5732e-01 \t factor: 5.000000e-03\n",
      "\t Discriminator loss: 5.9934e-01\n"
     ]
    },
    {
     "name": "stderr",
     "output_type": "stream",
     "text": [
      "100%|██████████| 67/67 [00:38<00:00,  1.74it/s]\n"
     ]
    },
    {
     "name": "stdout",
     "output_type": "stream",
     "text": [
      "Epoch 2/50:\n",
      "\t Generator loss: 2.6060e-01\n",
      "\t \t Content loss: \t\t 4.8963e-01\t factor: 5.000000e-01\n",
      "\t \t Color loss: \t\t 2.3540e-02 \t factor: 5.000000e-01\n",
      "\t \t Adversarial loss: \t 8.0282e-01 \t factor: 5.000000e-03\n",
      "\t Discriminator loss: 6.5003e-01\n"
     ]
    },
    {
     "name": "stderr",
     "output_type": "stream",
     "text": [
      "100%|██████████| 67/67 [00:38<00:00,  1.76it/s]\n"
     ]
    },
    {
     "name": "stdout",
     "output_type": "stream",
     "text": [
      "Epoch 3/50:\n",
      "\t Generator loss: 2.6580e-01\n",
      "\t \t Content loss: \t\t 5.0037e-01\t factor: 5.000000e-01\n",
      "\t \t Color loss: \t\t 2.3245e-02 \t factor: 5.000000e-01\n",
      "\t \t Adversarial loss: \t 7.9865e-01 \t factor: 5.000000e-03\n",
      "\t Discriminator loss: 6.4318e-01\n"
     ]
    },
    {
     "name": "stderr",
     "output_type": "stream",
     "text": [
      "100%|██████████| 67/67 [00:36<00:00,  1.83it/s]\n"
     ]
    },
    {
     "name": "stdout",
     "output_type": "stream",
     "text": [
      "Epoch 4/50:\n",
      "\t Generator loss: 2.6331e-01\n",
      "\t \t Content loss: \t\t 4.9487e-01\t factor: 5.000000e-01\n",
      "\t \t Color loss: \t\t 2.4014e-02 \t factor: 5.000000e-01\n",
      "\t \t Adversarial loss: \t 7.7468e-01 \t factor: 5.000000e-03\n",
      "\t Discriminator loss: 6.5879e-01\n"
     ]
    },
    {
     "name": "stderr",
     "output_type": "stream",
     "text": [
      "100%|██████████| 67/67 [00:35<00:00,  1.88it/s]\n"
     ]
    },
    {
     "name": "stdout",
     "output_type": "stream",
     "text": [
      "Epoch 5/50:\n",
      "\t Generator loss: 2.5577e-01\n",
      "\t \t Content loss: \t\t 4.7930e-01\t factor: 5.000000e-01\n",
      "\t \t Color loss: \t\t 2.4570e-02 \t factor: 5.000000e-01\n",
      "\t \t Adversarial loss: \t 7.6722e-01 \t factor: 5.000000e-03\n",
      "\t Discriminator loss: 6.8139e-01\n"
     ]
    },
    {
     "name": "stderr",
     "output_type": "stream",
     "text": [
      "100%|██████████| 67/67 [00:34<00:00,  1.97it/s]\n"
     ]
    },
    {
     "name": "stdout",
     "output_type": "stream",
     "text": [
      "Epoch 6/50:\n",
      "\t Generator loss: 2.6686e-01\n",
      "\t \t Content loss: \t\t 5.0073e-01\t factor: 5.000000e-01\n",
      "\t \t Color loss: \t\t 2.5458e-02 \t factor: 5.000000e-01\n",
      "\t \t Adversarial loss: \t 7.5427e-01 \t factor: 5.000000e-03\n",
      "\t Discriminator loss: 6.9686e-01\n"
     ]
    },
    {
     "name": "stderr",
     "output_type": "stream",
     "text": [
      "100%|██████████| 67/67 [00:33<00:00,  2.02it/s]\n"
     ]
    },
    {
     "name": "stdout",
     "output_type": "stream",
     "text": [
      "Epoch 7/50:\n",
      "\t Generator loss: 2.7510e-01\n",
      "\t \t Content loss: \t\t 5.1668e-01\t factor: 5.000000e-01\n",
      "\t \t Color loss: \t\t 2.5289e-02 \t factor: 5.000000e-01\n",
      "\t \t Adversarial loss: \t 8.2294e-01 \t factor: 5.000000e-03\n",
      "\t Discriminator loss: 6.3988e-01\n"
     ]
    },
    {
     "name": "stderr",
     "output_type": "stream",
     "text": [
      "100%|██████████| 67/67 [00:33<00:00,  2.03it/s]\n"
     ]
    },
    {
     "name": "stdout",
     "output_type": "stream",
     "text": [
      "Epoch 8/50:\n",
      "\t Generator loss: 2.6681e-01\n",
      "\t \t Content loss: \t\t 5.0184e-01\t factor: 5.000000e-01\n",
      "\t \t Color loss: \t\t 2.4028e-02 \t factor: 5.000000e-01\n",
      "\t \t Adversarial loss: \t 7.7608e-01 \t factor: 5.000000e-03\n",
      "\t Discriminator loss: 6.6547e-01\n"
     ]
    },
    {
     "name": "stderr",
     "output_type": "stream",
     "text": [
      "100%|██████████| 67/67 [00:33<00:00,  2.01it/s]\n"
     ]
    },
    {
     "name": "stdout",
     "output_type": "stream",
     "text": [
      "Epoch 9/50:\n",
      "\t Generator loss: 2.6636e-01\n",
      "\t \t Content loss: \t\t 4.9991e-01\t factor: 5.000000e-01\n",
      "\t \t Color loss: \t\t 2.4590e-02 \t factor: 5.000000e-01\n",
      "\t \t Adversarial loss: \t 8.2209e-01 \t factor: 5.000000e-03\n",
      "\t Discriminator loss: 6.5429e-01\n"
     ]
    },
    {
     "name": "stderr",
     "output_type": "stream",
     "text": [
      "100%|██████████| 67/67 [00:32<00:00,  2.04it/s]\n"
     ]
    },
    {
     "name": "stdout",
     "output_type": "stream",
     "text": [
      "Epoch 10/50:\n",
      "\t Generator loss: 2.6501e-01\n",
      "\t \t Content loss: \t\t 4.9825e-01\t factor: 5.000000e-01\n",
      "\t \t Color loss: \t\t 2.4375e-02 \t factor: 5.000000e-01\n",
      "\t \t Adversarial loss: \t 7.3900e-01 \t factor: 5.000000e-03\n",
      "\t Discriminator loss: 7.2265e-01\n"
     ]
    },
    {
     "name": "stderr",
     "output_type": "stream",
     "text": [
      "100%|██████████| 67/67 [00:32<00:00,  2.06it/s]\n"
     ]
    },
    {
     "name": "stdout",
     "output_type": "stream",
     "text": [
      "Epoch 11/50:\n",
      "\t Generator loss: 2.5906e-01\n",
      "\t \t Content loss: \t\t 4.8683e-01\t factor: 5.000000e-01\n",
      "\t \t Color loss: \t\t 2.3427e-02 \t factor: 5.000000e-01\n",
      "\t \t Adversarial loss: \t 7.8641e-01 \t factor: 5.000000e-03\n",
      "\t Discriminator loss: 6.5784e-01\n"
     ]
    },
    {
     "name": "stderr",
     "output_type": "stream",
     "text": [
      "100%|██████████| 67/67 [00:32<00:00,  2.07it/s]\n"
     ]
    },
    {
     "name": "stdout",
     "output_type": "stream",
     "text": [
      "Epoch 12/50:\n",
      "\t Generator loss: 2.5407e-01\n",
      "\t \t Content loss: \t\t 4.7638e-01\t factor: 5.000000e-01\n",
      "\t \t Color loss: \t\t 2.3018e-02 \t factor: 5.000000e-01\n",
      "\t \t Adversarial loss: \t 8.7401e-01 \t factor: 5.000000e-03\n",
      "\t Discriminator loss: 5.8678e-01\n"
     ]
    },
    {
     "name": "stderr",
     "output_type": "stream",
     "text": [
      "100%|██████████| 67/67 [00:32<00:00,  2.08it/s]\n"
     ]
    },
    {
     "name": "stdout",
     "output_type": "stream",
     "text": [
      "Epoch 13/50:\n",
      "\t Generator loss: 2.5787e-01\n",
      "\t \t Content loss: \t\t 4.8316e-01\t factor: 5.000000e-01\n",
      "\t \t Color loss: \t\t 2.4268e-02 \t factor: 5.000000e-01\n",
      "\t \t Adversarial loss: \t 8.3084e-01 \t factor: 5.000000e-03\n",
      "\t Discriminator loss: 6.4800e-01\n"
     ]
    },
    {
     "name": "stderr",
     "output_type": "stream",
     "text": [
      "100%|██████████| 67/67 [00:31<00:00,  2.09it/s]\n"
     ]
    },
    {
     "name": "stdout",
     "output_type": "stream",
     "text": [
      "Epoch 14/50:\n",
      "\t Generator loss: 2.6467e-01\n",
      "\t \t Content loss: \t\t 4.9688e-01\t factor: 5.000000e-01\n",
      "\t \t Color loss: \t\t 2.4632e-02 \t factor: 5.000000e-01\n",
      "\t \t Adversarial loss: \t 7.8265e-01 \t factor: 5.000000e-03\n",
      "\t Discriminator loss: 6.6979e-01\n"
     ]
    },
    {
     "name": "stderr",
     "output_type": "stream",
     "text": [
      "100%|██████████| 67/67 [00:32<00:00,  2.09it/s]\n"
     ]
    },
    {
     "name": "stdout",
     "output_type": "stream",
     "text": [
      "Epoch 15/50:\n",
      "\t Generator loss: 2.5174e-01\n",
      "\t \t Content loss: \t\t 4.6968e-01\t factor: 5.000000e-01\n",
      "\t \t Color loss: \t\t 2.4790e-02 \t factor: 5.000000e-01\n",
      "\t \t Adversarial loss: \t 9.0097e-01 \t factor: 5.000000e-03\n",
      "\t Discriminator loss: 5.8568e-01\n"
     ]
    },
    {
     "name": "stderr",
     "output_type": "stream",
     "text": [
      "100%|██████████| 67/67 [00:31<00:00,  2.10it/s]\n"
     ]
    },
    {
     "name": "stdout",
     "output_type": "stream",
     "text": [
      "Epoch 16/50:\n",
      "\t Generator loss: 2.5512e-01\n",
      "\t \t Content loss: \t\t 4.7759e-01\t factor: 5.000000e-01\n",
      "\t \t Color loss: \t\t 2.3969e-02 \t factor: 5.000000e-01\n",
      "\t \t Adversarial loss: \t 8.6830e-01 \t factor: 5.000000e-03\n",
      "\t Discriminator loss: 6.0170e-01\n"
     ]
    },
    {
     "name": "stderr",
     "output_type": "stream",
     "text": [
      "100%|██████████| 67/67 [00:31<00:00,  2.10it/s]\n"
     ]
    },
    {
     "name": "stdout",
     "output_type": "stream",
     "text": [
      "Epoch 17/50:\n",
      "\t Generator loss: 2.4949e-01\n",
      "\t \t Content loss: \t\t 4.6696e-01\t factor: 5.000000e-01\n",
      "\t \t Color loss: \t\t 2.3659e-02 \t factor: 5.000000e-01\n",
      "\t \t Adversarial loss: \t 8.3544e-01 \t factor: 5.000000e-03\n",
      "\t Discriminator loss: 6.4115e-01\n"
     ]
    },
    {
     "name": "stderr",
     "output_type": "stream",
     "text": [
      "100%|██████████| 67/67 [00:31<00:00,  2.10it/s]\n"
     ]
    },
    {
     "name": "stdout",
     "output_type": "stream",
     "text": [
      "Epoch 18/50:\n",
      "\t Generator loss: 2.6618e-01\n",
      "\t \t Content loss: \t\t 5.0009e-01\t factor: 5.000000e-01\n",
      "\t \t Color loss: \t\t 2.3985e-02 \t factor: 5.000000e-01\n",
      "\t \t Adversarial loss: \t 8.2921e-01 \t factor: 5.000000e-03\n",
      "\t Discriminator loss: 6.6086e-01\n"
     ]
    },
    {
     "name": "stderr",
     "output_type": "stream",
     "text": [
      "100%|██████████| 67/67 [00:31<00:00,  2.10it/s]\n"
     ]
    },
    {
     "name": "stdout",
     "output_type": "stream",
     "text": [
      "Epoch 19/50:\n",
      "\t Generator loss: 2.5808e-01\n",
      "\t \t Content loss: \t\t 4.8406e-01\t factor: 5.000000e-01\n",
      "\t \t Color loss: \t\t 2.3787e-02 \t factor: 5.000000e-01\n",
      "\t \t Adversarial loss: \t 8.3072e-01 \t factor: 5.000000e-03\n",
      "\t Discriminator loss: 6.3209e-01\n"
     ]
    },
    {
     "name": "stderr",
     "output_type": "stream",
     "text": [
      "100%|██████████| 67/67 [00:32<00:00,  2.09it/s]\n"
     ]
    },
    {
     "name": "stdout",
     "output_type": "stream",
     "text": [
      "Epoch 20/50:\n",
      "\t Generator loss: 2.6270e-01\n",
      "\t \t Content loss: \t\t 4.9307e-01\t factor: 5.000000e-01\n",
      "\t \t Color loss: \t\t 2.4429e-02 \t factor: 5.000000e-01\n",
      "\t \t Adversarial loss: \t 7.8983e-01 \t factor: 5.000000e-03\n",
      "\t Discriminator loss: 6.5890e-01\n"
     ]
    },
    {
     "name": "stderr",
     "output_type": "stream",
     "text": [
      "100%|██████████| 67/67 [00:31<00:00,  2.09it/s]\n"
     ]
    },
    {
     "name": "stdout",
     "output_type": "stream",
     "text": [
      "Epoch 21/50:\n",
      "\t Generator loss: 2.4949e-01\n",
      "\t \t Content loss: \t\t 4.6741e-01\t factor: 5.000000e-01\n",
      "\t \t Color loss: \t\t 2.3481e-02 \t factor: 5.000000e-01\n",
      "\t \t Adversarial loss: \t 8.0967e-01 \t factor: 5.000000e-03\n",
      "\t Discriminator loss: 6.3914e-01\n"
     ]
    },
    {
     "name": "stderr",
     "output_type": "stream",
     "text": [
      "100%|██████████| 67/67 [00:32<00:00,  2.09it/s]\n"
     ]
    },
    {
     "name": "stdout",
     "output_type": "stream",
     "text": [
      "Epoch 22/50:\n",
      "\t Generator loss: 2.5898e-01\n",
      "\t \t Content loss: \t\t 4.8589e-01\t factor: 5.000000e-01\n",
      "\t \t Color loss: \t\t 2.3345e-02 \t factor: 5.000000e-01\n",
      "\t \t Adversarial loss: \t 8.7248e-01 \t factor: 5.000000e-03\n",
      "\t Discriminator loss: 6.1242e-01\n"
     ]
    },
    {
     "name": "stderr",
     "output_type": "stream",
     "text": [
      "100%|██████████| 67/67 [00:32<00:00,  2.09it/s]\n"
     ]
    },
    {
     "name": "stdout",
     "output_type": "stream",
     "text": [
      "Epoch 23/50:\n",
      "\t Generator loss: 2.6150e-01\n",
      "\t \t Content loss: \t\t 4.9166e-01\t factor: 5.000000e-01\n",
      "\t \t Color loss: \t\t 2.3473e-02 \t factor: 5.000000e-01\n",
      "\t \t Adversarial loss: \t 7.8575e-01 \t factor: 5.000000e-03\n",
      "\t Discriminator loss: 6.6549e-01\n"
     ]
    },
    {
     "name": "stderr",
     "output_type": "stream",
     "text": [
      "100%|██████████| 67/67 [00:32<00:00,  2.06it/s]\n"
     ]
    },
    {
     "name": "stdout",
     "output_type": "stream",
     "text": [
      "Epoch 24/50:\n",
      "\t Generator loss: 2.6058e-01\n",
      "\t \t Content loss: \t\t 4.8896e-01\t factor: 5.000000e-01\n",
      "\t \t Color loss: \t\t 2.3968e-02 \t factor: 5.000000e-01\n",
      "\t \t Adversarial loss: \t 8.2309e-01 \t factor: 5.000000e-03\n",
      "\t Discriminator loss: 6.2500e-01\n"
     ]
    },
    {
     "name": "stderr",
     "output_type": "stream",
     "text": [
      "100%|██████████| 67/67 [00:31<00:00,  2.12it/s]\n"
     ]
    },
    {
     "name": "stdout",
     "output_type": "stream",
     "text": [
      "Epoch 25/50:\n",
      "\t Generator loss: 2.5457e-01\n",
      "\t \t Content loss: \t\t 4.7831e-01\t factor: 5.000000e-01\n",
      "\t \t Color loss: \t\t 2.3221e-02 \t factor: 5.000000e-01\n",
      "\t \t Adversarial loss: \t 7.5998e-01 \t factor: 5.000000e-03\n",
      "\t Discriminator loss: 6.8650e-01\n"
     ]
    },
    {
     "name": "stderr",
     "output_type": "stream",
     "text": [
      "100%|██████████| 67/67 [00:31<00:00,  2.12it/s]\n"
     ]
    },
    {
     "name": "stdout",
     "output_type": "stream",
     "text": [
      "Epoch 26/50:\n",
      "\t Generator loss: 2.6072e-01\n",
      "\t \t Content loss: \t\t 4.8927e-01\t factor: 5.000000e-01\n",
      "\t \t Color loss: \t\t 2.3975e-02 \t factor: 5.000000e-01\n",
      "\t \t Adversarial loss: \t 8.1976e-01 \t factor: 5.000000e-03\n",
      "\t Discriminator loss: 6.5220e-01\n"
     ]
    },
    {
     "name": "stderr",
     "output_type": "stream",
     "text": [
      "100%|██████████| 67/67 [00:31<00:00,  2.12it/s]\n"
     ]
    },
    {
     "name": "stdout",
     "output_type": "stream",
     "text": [
      "Epoch 27/50:\n",
      "\t Generator loss: 2.6362e-01\n",
      "\t \t Content loss: \t\t 4.9466e-01\t factor: 5.000000e-01\n",
      "\t \t Color loss: \t\t 2.4179e-02 \t factor: 5.000000e-01\n",
      "\t \t Adversarial loss: \t 8.3914e-01 \t factor: 5.000000e-03\n",
      "\t Discriminator loss: 6.3751e-01\n"
     ]
    },
    {
     "name": "stderr",
     "output_type": "stream",
     "text": [
      "100%|██████████| 67/67 [00:31<00:00,  2.12it/s]\n"
     ]
    },
    {
     "name": "stdout",
     "output_type": "stream",
     "text": [
      "Epoch 28/50:\n",
      "\t Generator loss: 2.6646e-01\n",
      "\t \t Content loss: \t\t 5.0176e-01\t factor: 5.000000e-01\n",
      "\t \t Color loss: \t\t 2.3567e-02 \t factor: 5.000000e-01\n",
      "\t \t Adversarial loss: \t 7.5889e-01 \t factor: 5.000000e-03\n",
      "\t Discriminator loss: 6.9913e-01\n"
     ]
    },
    {
     "name": "stderr",
     "output_type": "stream",
     "text": [
      "100%|██████████| 67/67 [00:31<00:00,  2.13it/s]\n"
     ]
    },
    {
     "name": "stdout",
     "output_type": "stream",
     "text": [
      "Epoch 29/50:\n",
      "\t Generator loss: 2.4800e-01\n",
      "\t \t Content loss: \t\t 4.6540e-01\t factor: 5.000000e-01\n",
      "\t \t Color loss: \t\t 2.2035e-02 \t factor: 5.000000e-01\n",
      "\t \t Adversarial loss: \t 8.5623e-01 \t factor: 5.000000e-03\n",
      "\t Discriminator loss: 6.0342e-01\n"
     ]
    },
    {
     "name": "stderr",
     "output_type": "stream",
     "text": [
      "100%|██████████| 67/67 [00:31<00:00,  2.11it/s]\n"
     ]
    },
    {
     "name": "stdout",
     "output_type": "stream",
     "text": [
      "Epoch 30/50:\n",
      "\t Generator loss: 2.7086e-01\n",
      "\t \t Content loss: \t\t 5.0905e-01\t factor: 5.000000e-01\n",
      "\t \t Color loss: \t\t 2.4452e-02 \t factor: 5.000000e-01\n",
      "\t \t Adversarial loss: \t 8.2195e-01 \t factor: 5.000000e-03\n",
      "\t Discriminator loss: 6.4984e-01\n"
     ]
    },
    {
     "name": "stderr",
     "output_type": "stream",
     "text": [
      "100%|██████████| 67/67 [00:31<00:00,  2.10it/s]\n"
     ]
    },
    {
     "name": "stdout",
     "output_type": "stream",
     "text": [
      "Epoch 31/50:\n",
      "\t Generator loss: 2.4978e-01\n",
      "\t \t Content loss: \t\t 4.6918e-01\t factor: 5.000000e-01\n",
      "\t \t Color loss: \t\t 2.2831e-02 \t factor: 5.000000e-01\n",
      "\t \t Adversarial loss: \t 7.5470e-01 \t factor: 5.000000e-03\n",
      "\t Discriminator loss: 6.8603e-01\n"
     ]
    },
    {
     "name": "stderr",
     "output_type": "stream",
     "text": [
      "100%|██████████| 67/67 [00:32<00:00,  2.07it/s]\n"
     ]
    },
    {
     "name": "stdout",
     "output_type": "stream",
     "text": [
      "Epoch 32/50:\n",
      "\t Generator loss: 2.6238e-01\n",
      "\t \t Content loss: \t\t 4.9239e-01\t factor: 5.000000e-01\n",
      "\t \t Color loss: \t\t 2.3611e-02 \t factor: 5.000000e-01\n",
      "\t \t Adversarial loss: \t 8.7608e-01 \t factor: 5.000000e-03\n",
      "\t Discriminator loss: 5.9773e-01\n"
     ]
    },
    {
     "name": "stderr",
     "output_type": "stream",
     "text": [
      "100%|██████████| 67/67 [00:32<00:00,  2.09it/s]\n"
     ]
    },
    {
     "name": "stdout",
     "output_type": "stream",
     "text": [
      "Epoch 33/50:\n",
      "\t Generator loss: 2.4975e-01\n",
      "\t \t Content loss: \t\t 4.6847e-01\t factor: 5.000000e-01\n",
      "\t \t Color loss: \t\t 2.2456e-02 \t factor: 5.000000e-01\n",
      "\t \t Adversarial loss: \t 8.5784e-01 \t factor: 5.000000e-03\n",
      "\t Discriminator loss: 6.1007e-01\n"
     ]
    },
    {
     "name": "stderr",
     "output_type": "stream",
     "text": [
      "100%|██████████| 67/67 [00:32<00:00,  2.08it/s]\n"
     ]
    },
    {
     "name": "stdout",
     "output_type": "stream",
     "text": [
      "Epoch 34/50:\n",
      "\t Generator loss: 2.6491e-01\n",
      "\t \t Content loss: \t\t 4.9704e-01\t factor: 5.000000e-01\n",
      "\t \t Color loss: \t\t 2.3714e-02 \t factor: 5.000000e-01\n",
      "\t \t Adversarial loss: \t 9.0663e-01 \t factor: 5.000000e-03\n",
      "\t Discriminator loss: 5.7626e-01\n"
     ]
    },
    {
     "name": "stderr",
     "output_type": "stream",
     "text": [
      "100%|██████████| 67/67 [00:32<00:00,  2.09it/s]\n"
     ]
    },
    {
     "name": "stdout",
     "output_type": "stream",
     "text": [
      "Epoch 35/50:\n",
      "\t Generator loss: 2.7993e-01\n",
      "\t \t Content loss: \t\t 5.2643e-01\t factor: 5.000000e-01\n",
      "\t \t Color loss: \t\t 2.5666e-02 \t factor: 5.000000e-01\n",
      "\t \t Adversarial loss: \t 7.7740e-01 \t factor: 5.000000e-03\n",
      "\t Discriminator loss: 6.8250e-01\n"
     ]
    },
    {
     "name": "stderr",
     "output_type": "stream",
     "text": [
      "100%|██████████| 67/67 [00:32<00:00,  2.08it/s]\n"
     ]
    },
    {
     "name": "stdout",
     "output_type": "stream",
     "text": [
      "Epoch 36/50:\n",
      "\t Generator loss: 2.6380e-01\n",
      "\t \t Content loss: \t\t 4.9490e-01\t factor: 5.000000e-01\n",
      "\t \t Color loss: \t\t 2.4268e-02 \t factor: 5.000000e-01\n",
      "\t \t Adversarial loss: \t 8.4303e-01 \t factor: 5.000000e-03\n",
      "\t Discriminator loss: 6.2745e-01\n"
     ]
    },
    {
     "name": "stderr",
     "output_type": "stream",
     "text": [
      "100%|██████████| 67/67 [00:31<00:00,  2.11it/s]\n"
     ]
    },
    {
     "name": "stdout",
     "output_type": "stream",
     "text": [
      "Epoch 37/50:\n",
      "\t Generator loss: 2.6355e-01\n",
      "\t \t Content loss: \t\t 4.9534e-01\t factor: 5.000000e-01\n",
      "\t \t Color loss: \t\t 2.3524e-02 \t factor: 5.000000e-01\n",
      "\t \t Adversarial loss: \t 8.2398e-01 \t factor: 5.000000e-03\n",
      "\t Discriminator loss: 6.2544e-01\n"
     ]
    },
    {
     "name": "stderr",
     "output_type": "stream",
     "text": [
      "100%|██████████| 67/67 [00:31<00:00,  2.12it/s]\n"
     ]
    },
    {
     "name": "stdout",
     "output_type": "stream",
     "text": [
      "Epoch 38/50:\n",
      "\t Generator loss: 2.7116e-01\n",
      "\t \t Content loss: \t\t 5.1139e-01\t factor: 5.000000e-01\n",
      "\t \t Color loss: \t\t 2.3429e-02 \t factor: 5.000000e-01\n",
      "\t \t Adversarial loss: \t 7.5030e-01 \t factor: 5.000000e-03\n",
      "\t Discriminator loss: 7.0656e-01\n"
     ]
    },
    {
     "name": "stderr",
     "output_type": "stream",
     "text": [
      "100%|██████████| 67/67 [00:31<00:00,  2.11it/s]\n"
     ]
    },
    {
     "name": "stdout",
     "output_type": "stream",
     "text": [
      "Epoch 39/50:\n",
      "\t Generator loss: 2.6776e-01\n",
      "\t \t Content loss: \t\t 5.0308e-01\t factor: 5.000000e-01\n",
      "\t \t Color loss: \t\t 2.3920e-02 \t factor: 5.000000e-01\n",
      "\t \t Adversarial loss: \t 8.5208e-01 \t factor: 5.000000e-03\n",
      "\t Discriminator loss: 6.0692e-01\n"
     ]
    },
    {
     "name": "stderr",
     "output_type": "stream",
     "text": [
      "100%|██████████| 67/67 [00:32<00:00,  2.08it/s]\n"
     ]
    },
    {
     "name": "stdout",
     "output_type": "stream",
     "text": [
      "Epoch 40/50:\n",
      "\t Generator loss: 2.7682e-01\n",
      "\t \t Content loss: \t\t 5.2102e-01\t factor: 5.000000e-01\n",
      "\t \t Color loss: \t\t 2.4391e-02 \t factor: 5.000000e-01\n",
      "\t \t Adversarial loss: \t 8.2392e-01 \t factor: 5.000000e-03\n",
      "\t Discriminator loss: 6.4809e-01\n"
     ]
    },
    {
     "name": "stderr",
     "output_type": "stream",
     "text": [
      "100%|██████████| 67/67 [00:32<00:00,  2.08it/s]\n"
     ]
    },
    {
     "name": "stdout",
     "output_type": "stream",
     "text": [
      "Epoch 41/50:\n",
      "\t Generator loss: 2.6645e-01\n",
      "\t \t Content loss: \t\t 4.9981e-01\t factor: 5.000000e-01\n",
      "\t \t Color loss: \t\t 2.4615e-02 \t factor: 5.000000e-01\n",
      "\t \t Adversarial loss: \t 8.4630e-01 \t factor: 5.000000e-03\n",
      "\t Discriminator loss: 6.2544e-01\n"
     ]
    },
    {
     "name": "stderr",
     "output_type": "stream",
     "text": [
      "100%|██████████| 67/67 [00:32<00:00,  2.08it/s]\n"
     ]
    },
    {
     "name": "stdout",
     "output_type": "stream",
     "text": [
      "Epoch 42/50:\n",
      "\t Generator loss: 2.7028e-01\n",
      "\t \t Content loss: \t\t 5.0789e-01\t factor: 5.000000e-01\n",
      "\t \t Color loss: \t\t 2.4501e-02 \t factor: 5.000000e-01\n",
      "\t \t Adversarial loss: \t 8.1654e-01 \t factor: 5.000000e-03\n",
      "\t Discriminator loss: 6.6732e-01\n"
     ]
    },
    {
     "name": "stderr",
     "output_type": "stream",
     "text": [
      "100%|██████████| 67/67 [00:31<00:00,  2.11it/s]\n"
     ]
    },
    {
     "name": "stdout",
     "output_type": "stream",
     "text": [
      "Epoch 43/50:\n",
      "\t Generator loss: 2.6104e-01\n",
      "\t \t Content loss: \t\t 4.9125e-01\t factor: 5.000000e-01\n",
      "\t \t Color loss: \t\t 2.3201e-02 \t factor: 5.000000e-01\n",
      "\t \t Adversarial loss: \t 7.6311e-01 \t factor: 5.000000e-03\n",
      "\t Discriminator loss: 6.7375e-01\n"
     ]
    },
    {
     "name": "stderr",
     "output_type": "stream",
     "text": [
      "100%|██████████| 67/67 [00:31<00:00,  2.12it/s]\n"
     ]
    },
    {
     "name": "stdout",
     "output_type": "stream",
     "text": [
      "Epoch 44/50:\n",
      "\t Generator loss: 2.5543e-01\n",
      "\t \t Content loss: \t\t 4.7795e-01\t factor: 5.000000e-01\n",
      "\t \t Color loss: \t\t 2.4551e-02 \t factor: 5.000000e-01\n",
      "\t \t Adversarial loss: \t 8.3549e-01 \t factor: 5.000000e-03\n",
      "\t Discriminator loss: 6.3473e-01\n"
     ]
    },
    {
     "name": "stderr",
     "output_type": "stream",
     "text": [
      "100%|██████████| 67/67 [00:31<00:00,  2.12it/s]\n"
     ]
    },
    {
     "name": "stdout",
     "output_type": "stream",
     "text": [
      "Epoch 45/50:\n",
      "\t Generator loss: 2.6113e-01\n",
      "\t \t Content loss: \t\t 4.9072e-01\t factor: 5.000000e-01\n",
      "\t \t Color loss: \t\t 2.3555e-02 \t factor: 5.000000e-01\n",
      "\t \t Adversarial loss: \t 7.9904e-01 \t factor: 5.000000e-03\n",
      "\t Discriminator loss: 6.4893e-01\n"
     ]
    },
    {
     "name": "stderr",
     "output_type": "stream",
     "text": [
      "100%|██████████| 67/67 [00:31<00:00,  2.11it/s]\n"
     ]
    },
    {
     "name": "stdout",
     "output_type": "stream",
     "text": [
      "Epoch 46/50:\n",
      "\t Generator loss: 2.6228e-01\n",
      "\t \t Content loss: \t\t 4.9336e-01\t factor: 5.000000e-01\n",
      "\t \t Color loss: \t\t 2.3375e-02 \t factor: 5.000000e-01\n",
      "\t \t Adversarial loss: \t 7.8311e-01 \t factor: 5.000000e-03\n",
      "\t Discriminator loss: 6.8655e-01\n"
     ]
    },
    {
     "name": "stderr",
     "output_type": "stream",
     "text": [
      "100%|██████████| 67/67 [00:31<00:00,  2.12it/s]\n"
     ]
    },
    {
     "name": "stdout",
     "output_type": "stream",
     "text": [
      "Epoch 47/50:\n",
      "\t Generator loss: 2.6733e-01\n",
      "\t \t Content loss: \t\t 5.0120e-01\t factor: 5.000000e-01\n",
      "\t \t Color loss: \t\t 2.3808e-02 \t factor: 5.000000e-01\n",
      "\t \t Adversarial loss: \t 9.6533e-01 \t factor: 5.000000e-03\n",
      "\t Discriminator loss: 5.5599e-01\n"
     ]
    },
    {
     "name": "stderr",
     "output_type": "stream",
     "text": [
      "100%|██████████| 67/67 [00:31<00:00,  2.12it/s]\n"
     ]
    },
    {
     "name": "stdout",
     "output_type": "stream",
     "text": [
      "Epoch 48/50:\n",
      "\t Generator loss: 2.7366e-01\n",
      "\t \t Content loss: \t\t 5.1407e-01\t factor: 5.000000e-01\n",
      "\t \t Color loss: \t\t 2.5518e-02 \t factor: 5.000000e-01\n",
      "\t \t Adversarial loss: \t 7.7210e-01 \t factor: 5.000000e-03\n",
      "\t Discriminator loss: 6.9356e-01\n"
     ]
    },
    {
     "name": "stderr",
     "output_type": "stream",
     "text": [
      "100%|██████████| 67/67 [00:31<00:00,  2.10it/s]\n"
     ]
    },
    {
     "name": "stdout",
     "output_type": "stream",
     "text": [
      "Epoch 49/50:\n",
      "\t Generator loss: 2.6347e-01\n",
      "\t \t Content loss: \t\t 4.9550e-01\t factor: 5.000000e-01\n",
      "\t \t Color loss: \t\t 2.3527e-02 \t factor: 5.000000e-01\n",
      "\t \t Adversarial loss: \t 7.9204e-01 \t factor: 5.000000e-03\n",
      "\t Discriminator loss: 6.4763e-01\n"
     ]
    },
    {
     "name": "stderr",
     "output_type": "stream",
     "text": [
      "100%|██████████| 67/67 [00:31<00:00,  2.10it/s]\n"
     ]
    },
    {
     "name": "stdout",
     "output_type": "stream",
     "text": [
      "Epoch 50/50:\n",
      "\t Generator loss: 2.5175e-01\n",
      "\t \t Content loss: \t\t 4.7362e-01\t factor: 5.000000e-01\n",
      "\t \t Color loss: \t\t 2.1413e-02 \t factor: 5.000000e-01\n",
      "\t \t Adversarial loss: \t 8.4707e-01 \t factor: 5.000000e-03\n",
      "\t Discriminator loss: 6.0355e-01\n"
     ]
    }
   ],
   "source": [
    "if torch.cuda.is_available():\n",
    "    torch.cuda.empty_cache()\n",
    "generator.to(device)\n",
    "gantrainer = GANTrainer(generator,discriminator, lr=1e-4, alpha=5e-1, eta=5e-1, lambd=5e-3)\n",
    "gantrainer.train(train_dataloader,valid_dataloader,num_epochs=350,warm_up_batches=400,device=device)"
   ]
  },
  {
   "cell_type": "code",
   "execution_count": 11,
   "metadata": {},
   "outputs": [
    {
     "name": "stderr",
     "output_type": "stream",
     "text": [
      "100%|██████████| 10/10 [04:42<00:00, 28.24s/it]\n"
     ]
    },
    {
     "name": "stdout",
     "output_type": "stream",
     "text": [
      "Test:       (L1):   0.037   (PSNR): 25.788 (SSIM): 0.800\n",
      "Bilinear:   (L1):   0.036   (PSNR): 25.813 (SSIM): 0.791\n",
      "Bicubic:    (L1):   0.033    (PSNR): 26.952  (SSIM): 0.829\n"
     ]
    }
   ],
   "source": [
    "tests_dataset = SRDDataset(\"../eval\",  tests_paths, 'cpu',  type=Dataset.VALID) #Run CPU\n",
    "tests_dataloader = torch.utils.data.dataloader.DataLoader(tests_dataset,batch_size=1,shuffle=False,num_workers=0,pin_memory=True) #Run CPU\n",
    "tester = Tester(generator)\n",
    "tester.test(tests_dataloader,model_name=\"gan_model\")"
   ]
  }
 ],
 "metadata": {
  "interpreter": {
   "hash": "b71617f8eca5023f8e0984f242d80146587091d1823d899e7b3f0c6d197d5eae"
  },
  "kernelspec": {
   "display_name": "Python 3.9.7 ('MF2022')",
   "language": "python",
   "name": "python3"
  },
  "language_info": {
   "codemirror_mode": {
    "name": "ipython",
    "version": 3
   },
   "file_extension": ".py",
   "mimetype": "text/x-python",
   "name": "python",
   "nbconvert_exporter": "python",
   "pygments_lexer": "ipython3",
   "version": "3.9.7"
  },
  "orig_nbformat": 4
 },
 "nbformat": 4,
 "nbformat_minor": 2
}
