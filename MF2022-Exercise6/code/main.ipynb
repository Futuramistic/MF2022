{
 "cells": [
  {
   "cell_type": "code",
   "execution_count": null,
   "metadata": {},
   "outputs": [],
   "source": [
    "! rm -rf ./runs/\n",
    "from dataset import SRDDataset, Dataset\n",
    "from model import BasicSRModel, BasicSRModelSkip\n",
    "from trainer import SRTrainer\n",
    "from tester import Tester\n",
    "\n",
    "import torch.utils.data\n",
    "import torch\n",
    "import torch.nn as nn\n",
    "\n",
    "import random\n",
    "from os import listdir\n",
    "from os.path import isfile, join"
   ]
  },
  {
   "cell_type": "code",
   "execution_count": null,
   "metadata": {},
   "outputs": [],
   "source": [
    "device = 'cuda' if torch.cuda.is_available() else 'cpu'\n",
    "print(f'Cuda: Version {torch.version.cuda}; Using {device} device')"
   ]
  },
  {
   "cell_type": "code",
   "execution_count": null,
   "metadata": {},
   "outputs": [],
   "source": [
    "#Prepare data\n",
    "train_images = [file for file in listdir(\"../train\") if isfile(join(\"../train\",file))]\n",
    "random.shuffle(train_images)\n",
    "train_split = 0.9\n",
    "\n",
    "train_paths =  train_images[:int(train_split*len(train_images))]\n",
    "valid_paths =  train_images[int(train_split*len(train_images)):]\n",
    "tests_paths = [file for file in listdir(\"../eval\") if isfile(join(\"../eval\",file))]\n",
    "\n",
    "train_dataset = SRDDataset(\"../train\", train_paths, device, type=Dataset.TRAIN)\n",
    "valid_dataset = SRDDataset(\"../train\", valid_paths, device, type=Dataset.VALID)\n",
    "tests_dataset = SRDDataset(\"../eval\",  tests_paths, 'cpu',  type=Dataset.VALID) #Run CPU\n",
    "\n",
    "train_dataloader = torch.utils.data.dataloader.DataLoader(train_dataset,batch_size=4,shuffle=True,num_workers=0,drop_last=True)\n",
    "valid_dataloader = torch.utils.data.dataloader.DataLoader(valid_dataset,batch_size=1,shuffle=False,num_workers=0)\n",
    "tests_dataloader = torch.utils.data.dataloader.DataLoader(tests_dataset,batch_size=1,shuffle=False,num_workers=0,pin_memory=True) #Run CPU"
   ]
  },
  {
   "cell_type": "code",
   "execution_count": null,
   "metadata": {},
   "outputs": [],
   "source": [
    "model = BasicSRModel().to(device)\n",
    "srtrainer = SRTrainer(model=model,loss_fn=nn.L1Loss(), lr=1e-4)\n",
    "srtrainer.train(train_dataloader,valid_dataloader,num_epochs=31)"
   ]
  },
  {
   "cell_type": "code",
   "execution_count": null,
   "metadata": {},
   "outputs": [],
   "source": [
    "model = BasicSRModel().to(device)\n",
    "model.load_state_dict(torch.load(\"../model/model30_0.0001\"))\n",
    "model.eval()\n",
    "tester = Tester(model)\n",
    "model.to('cpu')\n",
    "tester.test(tests_dataloader)"
   ]
  },
  {
   "cell_type": "code",
   "execution_count": null,
   "metadata": {},
   "outputs": [],
   "source": [
    "model = BasicSRModelSkip().to(device)\n",
    "srtrainer = SRTrainer(model=model,loss_fn=nn.L1Loss(), lr=1e-4)\n",
    "srtrainer.train(train_dataloader,valid_dataloader,num_epochs=31,model_name=\"skip_model\")"
   ]
  },
  {
   "cell_type": "code",
   "execution_count": null,
   "metadata": {},
   "outputs": [],
   "source": [
    "model = BasicSRModelSkip().to(device)\n",
    "model.load_state_dict(torch.load(\"../model/skip_model30_0.0001\"))\n",
    "model.eval()\n",
    "tester = Tester(model)\n",
    "model.to('cpu')\n",
    "tester.test(tests_dataloader,model_name=\"skip_model\")"
   ]
  }
 ],
 "metadata": {
  "interpreter": {
   "hash": "b71617f8eca5023f8e0984f242d80146587091d1823d899e7b3f0c6d197d5eae"
  },
  "kernelspec": {
   "display_name": "Python 3.9.7 ('MF2022')",
   "language": "python",
   "name": "python3"
  },
  "language_info": {
   "codemirror_mode": {
    "name": "ipython",
    "version": 3
   },
   "file_extension": ".py",
   "mimetype": "text/x-python",
   "name": "python",
   "nbconvert_exporter": "python",
   "pygments_lexer": "ipython3",
   "version": "3.9.7"
  },
  "orig_nbformat": 4
 },
 "nbformat": 4,
 "nbformat_minor": 2
}
